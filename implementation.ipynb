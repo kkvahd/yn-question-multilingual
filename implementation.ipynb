{
  "cells": [
    {
      "cell_type": "markdown",
      "metadata": {
        "id": "tZhs2vBg9uch"
      },
      "source": [
        "# Importing baseline English training data - circa-data.tsv & SWDA_IA_Train_data.xlsx"
      ]
    },
    {
      "cell_type": "code",
      "execution_count": null,
      "metadata": {
        "id": "pBhjFbANwvFG"
      },
      "outputs": [],
      "source": [
        "import pandas as pd"
      ]
    },
    {
      "cell_type": "code",
      "execution_count": null,
      "metadata": {
        "colab": {
          "base_uri": "https://localhost:8080/"
        },
        "id": "M09Tb21zxaap",
        "outputId": "5ac567cd-50a2-44d5-bd04-6ded635244f9"
      },
      "outputs": [
        {
          "output_type": "stream",
          "name": "stdout",
          "text": [
            "Mounted at /content/drive\n"
          ]
        }
      ],
      "source": [
        "from google.colab import drive\n",
        "drive.mount('/content/drive')"
      ]
    },
    {
      "cell_type": "code",
      "execution_count": null,
      "metadata": {
        "id": "woWg6T0QnD41"
      },
      "outputs": [],
      "source": [
        "# Enter the path to parent of the \"data\" folder\n",
        "# FILE_PATH = '/content/drive/MyDrive/GMU/NLP/CS678Project'\n",
        "FILE_PATH = '/content/drive/MyDrive/CS678'"
      ]
    },
    {
      "cell_type": "markdown",
      "metadata": {
        "id": "Ve-bg-oNx4C_"
      },
      "source": [
        "##CIRCA data"
      ]
    },
    {
      "cell_type": "code",
      "execution_count": null,
      "metadata": {
        "id": "loMKHIH9w6HV"
      },
      "outputs": [],
      "source": [
        "df_circa = pd.read_csv(f'{FILE_PATH}/data/train_dataset/circa-data.tsv', sep='\\t')"
      ]
    },
    {
      "cell_type": "code",
      "execution_count": null,
      "metadata": {
        "colab": {
          "base_uri": "https://localhost:8080/",
          "height": 431
        },
        "id": "yZfw8isNxb2C",
        "outputId": "387172b0-6006-4e69-a51e-6dcf8e04bfe2"
      },
      "outputs": [
        {
          "output_type": "execute_result",
          "data": {
            "text/plain": [
              "   id                                            context  \\\n",
              "0   0  Y has just travelled from a different city to ...   \n",
              "1   1        X wants to know about Y's food preferences.   \n",
              "2   2  Y has just told X that he/she is thinking of b...   \n",
              "3   3  X wants to know what activities Y likes to do ...   \n",
              "4   4  X and Y are childhood neighbours who unexpecte...   \n",
              "\n",
              "                                          question-X  \\\n",
              "0                                  Are you employed?   \n",
              "1                      Are you a fan of Korean food?   \n",
              "2           Are you bringing any pets into the flat?   \n",
              "3  Would you like to get some fresh air in your f...   \n",
              "4   Is your family still living in the neighborhood?   \n",
              "\n",
              "                                     canquestion-X  \\\n",
              "0                                  I am employed .   \n",
              "1                      I am a fan of Korean food .   \n",
              "2               I am bringing pets into the flat .   \n",
              "3  I would like to get fresh air in my free time .   \n",
              "4        My family is living in the neighborhood .   \n",
              "\n",
              "                                 answer-Y  \\\n",
              "0            I'm a veterinary technician.   \n",
              "1                       I wouldn't say so   \n",
              "2                   I do not own any pets   \n",
              "3  I am desperate to get out of the city.   \n",
              "4           My parents are snowbirds now.   \n",
              "\n",
              "                                          judgements  \\\n",
              "0                                Yes#Yes#Yes#Yes#Yes   \n",
              "1  Probably no#No#No#No#Probably yes / sometimes yes   \n",
              "2                                     No#No#No#No#No   \n",
              "3  Yes#Yes, subject to some conditions#Probably y...   \n",
              "4  No#In the middle, neither yes nor no#Probably ...   \n",
              "\n",
              "                       goldstandard1                      goldstandard2  \n",
              "0                                Yes                                Yes  \n",
              "1                                 No                                 No  \n",
              "2                                 No                                 No  \n",
              "3                                Yes                                Yes  \n",
              "4  In the middle, neither yes nor no  In the middle, neither yes nor no  "
            ],
            "text/html": [
              "\n",
              "  <div id=\"df-1a5f0de9-c218-4b57-b602-7707c61674cf\" class=\"colab-df-container\">\n",
              "    <div>\n",
              "<style scoped>\n",
              "    .dataframe tbody tr th:only-of-type {\n",
              "        vertical-align: middle;\n",
              "    }\n",
              "\n",
              "    .dataframe tbody tr th {\n",
              "        vertical-align: top;\n",
              "    }\n",
              "\n",
              "    .dataframe thead th {\n",
              "        text-align: right;\n",
              "    }\n",
              "</style>\n",
              "<table border=\"1\" class=\"dataframe\">\n",
              "  <thead>\n",
              "    <tr style=\"text-align: right;\">\n",
              "      <th></th>\n",
              "      <th>id</th>\n",
              "      <th>context</th>\n",
              "      <th>question-X</th>\n",
              "      <th>canquestion-X</th>\n",
              "      <th>answer-Y</th>\n",
              "      <th>judgements</th>\n",
              "      <th>goldstandard1</th>\n",
              "      <th>goldstandard2</th>\n",
              "    </tr>\n",
              "  </thead>\n",
              "  <tbody>\n",
              "    <tr>\n",
              "      <th>0</th>\n",
              "      <td>0</td>\n",
              "      <td>Y has just travelled from a different city to ...</td>\n",
              "      <td>Are you employed?</td>\n",
              "      <td>I am employed .</td>\n",
              "      <td>I'm a veterinary technician.</td>\n",
              "      <td>Yes#Yes#Yes#Yes#Yes</td>\n",
              "      <td>Yes</td>\n",
              "      <td>Yes</td>\n",
              "    </tr>\n",
              "    <tr>\n",
              "      <th>1</th>\n",
              "      <td>1</td>\n",
              "      <td>X wants to know about Y's food preferences.</td>\n",
              "      <td>Are you a fan of Korean food?</td>\n",
              "      <td>I am a fan of Korean food .</td>\n",
              "      <td>I wouldn't say so</td>\n",
              "      <td>Probably no#No#No#No#Probably yes / sometimes yes</td>\n",
              "      <td>No</td>\n",
              "      <td>No</td>\n",
              "    </tr>\n",
              "    <tr>\n",
              "      <th>2</th>\n",
              "      <td>2</td>\n",
              "      <td>Y has just told X that he/she is thinking of b...</td>\n",
              "      <td>Are you bringing any pets into the flat?</td>\n",
              "      <td>I am bringing pets into the flat .</td>\n",
              "      <td>I do not own any pets</td>\n",
              "      <td>No#No#No#No#No</td>\n",
              "      <td>No</td>\n",
              "      <td>No</td>\n",
              "    </tr>\n",
              "    <tr>\n",
              "      <th>3</th>\n",
              "      <td>3</td>\n",
              "      <td>X wants to know what activities Y likes to do ...</td>\n",
              "      <td>Would you like to get some fresh air in your f...</td>\n",
              "      <td>I would like to get fresh air in my free time .</td>\n",
              "      <td>I am desperate to get out of the city.</td>\n",
              "      <td>Yes#Yes, subject to some conditions#Probably y...</td>\n",
              "      <td>Yes</td>\n",
              "      <td>Yes</td>\n",
              "    </tr>\n",
              "    <tr>\n",
              "      <th>4</th>\n",
              "      <td>4</td>\n",
              "      <td>X and Y are childhood neighbours who unexpecte...</td>\n",
              "      <td>Is your family still living in the neighborhood?</td>\n",
              "      <td>My family is living in the neighborhood .</td>\n",
              "      <td>My parents are snowbirds now.</td>\n",
              "      <td>No#In the middle, neither yes nor no#Probably ...</td>\n",
              "      <td>In the middle, neither yes nor no</td>\n",
              "      <td>In the middle, neither yes nor no</td>\n",
              "    </tr>\n",
              "  </tbody>\n",
              "</table>\n",
              "</div>\n",
              "    <div class=\"colab-df-buttons\">\n",
              "\n",
              "  <div class=\"colab-df-container\">\n",
              "    <button class=\"colab-df-convert\" onclick=\"convertToInteractive('df-1a5f0de9-c218-4b57-b602-7707c61674cf')\"\n",
              "            title=\"Convert this dataframe to an interactive table.\"\n",
              "            style=\"display:none;\">\n",
              "\n",
              "  <svg xmlns=\"http://www.w3.org/2000/svg\" height=\"24px\" viewBox=\"0 -960 960 960\">\n",
              "    <path d=\"M120-120v-720h720v720H120Zm60-500h600v-160H180v160Zm220 220h160v-160H400v160Zm0 220h160v-160H400v160ZM180-400h160v-160H180v160Zm440 0h160v-160H620v160ZM180-180h160v-160H180v160Zm440 0h160v-160H620v160Z\"/>\n",
              "  </svg>\n",
              "    </button>\n",
              "\n",
              "  <style>\n",
              "    .colab-df-container {\n",
              "      display:flex;\n",
              "      gap: 12px;\n",
              "    }\n",
              "\n",
              "    .colab-df-convert {\n",
              "      background-color: #E8F0FE;\n",
              "      border: none;\n",
              "      border-radius: 50%;\n",
              "      cursor: pointer;\n",
              "      display: none;\n",
              "      fill: #1967D2;\n",
              "      height: 32px;\n",
              "      padding: 0 0 0 0;\n",
              "      width: 32px;\n",
              "    }\n",
              "\n",
              "    .colab-df-convert:hover {\n",
              "      background-color: #E2EBFA;\n",
              "      box-shadow: 0px 1px 2px rgba(60, 64, 67, 0.3), 0px 1px 3px 1px rgba(60, 64, 67, 0.15);\n",
              "      fill: #174EA6;\n",
              "    }\n",
              "\n",
              "    .colab-df-buttons div {\n",
              "      margin-bottom: 4px;\n",
              "    }\n",
              "\n",
              "    [theme=dark] .colab-df-convert {\n",
              "      background-color: #3B4455;\n",
              "      fill: #D2E3FC;\n",
              "    }\n",
              "\n",
              "    [theme=dark] .colab-df-convert:hover {\n",
              "      background-color: #434B5C;\n",
              "      box-shadow: 0px 1px 3px 1px rgba(0, 0, 0, 0.15);\n",
              "      filter: drop-shadow(0px 1px 2px rgba(0, 0, 0, 0.3));\n",
              "      fill: #FFFFFF;\n",
              "    }\n",
              "  </style>\n",
              "\n",
              "    <script>\n",
              "      const buttonEl =\n",
              "        document.querySelector('#df-1a5f0de9-c218-4b57-b602-7707c61674cf button.colab-df-convert');\n",
              "      buttonEl.style.display =\n",
              "        google.colab.kernel.accessAllowed ? 'block' : 'none';\n",
              "\n",
              "      async function convertToInteractive(key) {\n",
              "        const element = document.querySelector('#df-1a5f0de9-c218-4b57-b602-7707c61674cf');\n",
              "        const dataTable =\n",
              "          await google.colab.kernel.invokeFunction('convertToInteractive',\n",
              "                                                    [key], {});\n",
              "        if (!dataTable) return;\n",
              "\n",
              "        const docLinkHtml = 'Like what you see? Visit the ' +\n",
              "          '<a target=\"_blank\" href=https://colab.research.google.com/notebooks/data_table.ipynb>data table notebook</a>'\n",
              "          + ' to learn more about interactive tables.';\n",
              "        element.innerHTML = '';\n",
              "        dataTable['output_type'] = 'display_data';\n",
              "        await google.colab.output.renderOutput(dataTable, element);\n",
              "        const docLink = document.createElement('div');\n",
              "        docLink.innerHTML = docLinkHtml;\n",
              "        element.appendChild(docLink);\n",
              "      }\n",
              "    </script>\n",
              "  </div>\n",
              "\n",
              "\n",
              "<div id=\"df-1a2abcdc-aca5-443d-a70b-95b482f670a7\">\n",
              "  <button class=\"colab-df-quickchart\" onclick=\"quickchart('df-1a2abcdc-aca5-443d-a70b-95b482f670a7')\"\n",
              "            title=\"Suggest charts\"\n",
              "            style=\"display:none;\">\n",
              "\n",
              "<svg xmlns=\"http://www.w3.org/2000/svg\" height=\"24px\"viewBox=\"0 0 24 24\"\n",
              "     width=\"24px\">\n",
              "    <g>\n",
              "        <path d=\"M19 3H5c-1.1 0-2 .9-2 2v14c0 1.1.9 2 2 2h14c1.1 0 2-.9 2-2V5c0-1.1-.9-2-2-2zM9 17H7v-7h2v7zm4 0h-2V7h2v10zm4 0h-2v-4h2v4z\"/>\n",
              "    </g>\n",
              "</svg>\n",
              "  </button>\n",
              "\n",
              "<style>\n",
              "  .colab-df-quickchart {\n",
              "      --bg-color: #E8F0FE;\n",
              "      --fill-color: #1967D2;\n",
              "      --hover-bg-color: #E2EBFA;\n",
              "      --hover-fill-color: #174EA6;\n",
              "      --disabled-fill-color: #AAA;\n",
              "      --disabled-bg-color: #DDD;\n",
              "  }\n",
              "\n",
              "  [theme=dark] .colab-df-quickchart {\n",
              "      --bg-color: #3B4455;\n",
              "      --fill-color: #D2E3FC;\n",
              "      --hover-bg-color: #434B5C;\n",
              "      --hover-fill-color: #FFFFFF;\n",
              "      --disabled-bg-color: #3B4455;\n",
              "      --disabled-fill-color: #666;\n",
              "  }\n",
              "\n",
              "  .colab-df-quickchart {\n",
              "    background-color: var(--bg-color);\n",
              "    border: none;\n",
              "    border-radius: 50%;\n",
              "    cursor: pointer;\n",
              "    display: none;\n",
              "    fill: var(--fill-color);\n",
              "    height: 32px;\n",
              "    padding: 0;\n",
              "    width: 32px;\n",
              "  }\n",
              "\n",
              "  .colab-df-quickchart:hover {\n",
              "    background-color: var(--hover-bg-color);\n",
              "    box-shadow: 0 1px 2px rgba(60, 64, 67, 0.3), 0 1px 3px 1px rgba(60, 64, 67, 0.15);\n",
              "    fill: var(--button-hover-fill-color);\n",
              "  }\n",
              "\n",
              "  .colab-df-quickchart-complete:disabled,\n",
              "  .colab-df-quickchart-complete:disabled:hover {\n",
              "    background-color: var(--disabled-bg-color);\n",
              "    fill: var(--disabled-fill-color);\n",
              "    box-shadow: none;\n",
              "  }\n",
              "\n",
              "  .colab-df-spinner {\n",
              "    border: 2px solid var(--fill-color);\n",
              "    border-color: transparent;\n",
              "    border-bottom-color: var(--fill-color);\n",
              "    animation:\n",
              "      spin 1s steps(1) infinite;\n",
              "  }\n",
              "\n",
              "  @keyframes spin {\n",
              "    0% {\n",
              "      border-color: transparent;\n",
              "      border-bottom-color: var(--fill-color);\n",
              "      border-left-color: var(--fill-color);\n",
              "    }\n",
              "    20% {\n",
              "      border-color: transparent;\n",
              "      border-left-color: var(--fill-color);\n",
              "      border-top-color: var(--fill-color);\n",
              "    }\n",
              "    30% {\n",
              "      border-color: transparent;\n",
              "      border-left-color: var(--fill-color);\n",
              "      border-top-color: var(--fill-color);\n",
              "      border-right-color: var(--fill-color);\n",
              "    }\n",
              "    40% {\n",
              "      border-color: transparent;\n",
              "      border-right-color: var(--fill-color);\n",
              "      border-top-color: var(--fill-color);\n",
              "    }\n",
              "    60% {\n",
              "      border-color: transparent;\n",
              "      border-right-color: var(--fill-color);\n",
              "    }\n",
              "    80% {\n",
              "      border-color: transparent;\n",
              "      border-right-color: var(--fill-color);\n",
              "      border-bottom-color: var(--fill-color);\n",
              "    }\n",
              "    90% {\n",
              "      border-color: transparent;\n",
              "      border-bottom-color: var(--fill-color);\n",
              "    }\n",
              "  }\n",
              "</style>\n",
              "\n",
              "  <script>\n",
              "    async function quickchart(key) {\n",
              "      const quickchartButtonEl =\n",
              "        document.querySelector('#' + key + ' button');\n",
              "      quickchartButtonEl.disabled = true;  // To prevent multiple clicks.\n",
              "      quickchartButtonEl.classList.add('colab-df-spinner');\n",
              "      try {\n",
              "        const charts = await google.colab.kernel.invokeFunction(\n",
              "            'suggestCharts', [key], {});\n",
              "      } catch (error) {\n",
              "        console.error('Error during call to suggestCharts:', error);\n",
              "      }\n",
              "      quickchartButtonEl.classList.remove('colab-df-spinner');\n",
              "      quickchartButtonEl.classList.add('colab-df-quickchart-complete');\n",
              "    }\n",
              "    (() => {\n",
              "      let quickchartButtonEl =\n",
              "        document.querySelector('#df-1a2abcdc-aca5-443d-a70b-95b482f670a7 button');\n",
              "      quickchartButtonEl.style.display =\n",
              "        google.colab.kernel.accessAllowed ? 'block' : 'none';\n",
              "    })();\n",
              "  </script>\n",
              "</div>\n",
              "\n",
              "    </div>\n",
              "  </div>\n"
            ],
            "application/vnd.google.colaboratory.intrinsic+json": {
              "type": "dataframe",
              "variable_name": "df_circa",
              "summary": "{\n  \"name\": \"df_circa\",\n  \"rows\": 34268,\n  \"fields\": [\n    {\n      \"column\": \"id\",\n      \"properties\": {\n        \"dtype\": \"number\",\n        \"std\": 9892,\n        \"min\": 0,\n        \"max\": 34267,\n        \"num_unique_values\": 34268,\n        \"samples\": [\n          18387,\n          4253,\n          1337\n        ],\n        \"semantic_type\": \"\",\n        \"description\": \"\"\n      }\n    },\n    {\n      \"column\": \"context\",\n      \"properties\": {\n        \"dtype\": \"category\",\n        \"num_unique_values\": 10,\n        \"samples\": [\n          \"X and Y are colleagues who are leaving work on a Friday at the same time.\",\n          \"X wants to know about Y's food preferences.\",\n          \"X wants to know what sorts of books Y likes to read.\"\n        ],\n        \"semantic_type\": \"\",\n        \"description\": \"\"\n      }\n    },\n    {\n      \"column\": \"question-X\",\n      \"properties\": {\n        \"dtype\": \"category\",\n        \"num_unique_values\": 3345,\n        \"samples\": [\n          \"You finish school?\",\n          \"Do you go out on the weekends?\",\n          \"Will you need health insurance?\"\n        ],\n        \"semantic_type\": \"\",\n        \"description\": \"\"\n      }\n    },\n    {\n      \"column\": \"canquestion-X\",\n      \"properties\": {\n        \"dtype\": \"category\",\n        \"num_unique_values\": 3259,\n        \"samples\": [\n          \"I like spicy/hot food .\",\n          \"I like vegan food .\",\n          \"There is something I absolutely wo n't eat .\"\n        ],\n        \"semantic_type\": \"\",\n        \"description\": \"\"\n      }\n    },\n    {\n      \"column\": \"answer-Y\",\n      \"properties\": {\n        \"dtype\": \"string\",\n        \"num_unique_values\": 30323,\n        \"samples\": [\n          \"As long as my back doesn't act up.\",\n          \"Only if they're authentic.\",\n          \"It was truly smooth sailing.\"\n        ],\n        \"semantic_type\": \"\",\n        \"description\": \"\"\n      }\n    },\n    {\n      \"column\": \"judgements\",\n      \"properties\": {\n        \"dtype\": \"category\",\n        \"num_unique_values\": 3454,\n        \"samples\": [\n          \"I am not sure how X will interpret Y\\u2019s answer#No#Probably no#Probably no#Probably no\",\n          \"Yes, subject to some conditions#Yes, subject to some conditions#Yes, subject to some conditions#Probably yes / sometimes yes#Yes, subject to some conditions\",\n          \"No#Yes#Probably no#Probably no#Probably no\"\n        ],\n        \"semantic_type\": \"\",\n        \"description\": \"\"\n      }\n    },\n    {\n      \"column\": \"goldstandard1\",\n      \"properties\": {\n        \"dtype\": \"category\",\n        \"num_unique_values\": 8,\n        \"samples\": [\n          \"No\",\n          \"Yes, subject to some conditions\",\n          \"Yes\"\n        ],\n        \"semantic_type\": \"\",\n        \"description\": \"\"\n      }\n    },\n    {\n      \"column\": \"goldstandard2\",\n      \"properties\": {\n        \"dtype\": \"category\",\n        \"num_unique_values\": 5,\n        \"samples\": [\n          \"No\",\n          \"Other\",\n          \"In the middle, neither yes nor no\"\n        ],\n        \"semantic_type\": \"\",\n        \"description\": \"\"\n      }\n    }\n  ]\n}"
            }
          },
          "metadata": {},
          "execution_count": 6
        }
      ],
      "source": [
        "df_circa.head()"
      ]
    },
    {
      "cell_type": "code",
      "execution_count": null,
      "metadata": {
        "id": "yZAo8lQIxgef"
      },
      "outputs": [],
      "source": [
        "# Mapping the values in circa-data.tsv to standardised values (provided in the paper)\n",
        "circa_value_mapping = {\n",
        "    'Yes': 'yes',\n",
        "    'No': 'no',\n",
        "    'Yes, subject to some conditions': 'yes',\n",
        "    'In the middle, neither yes nor no': 'middle',\n",
        "    'Other': None,  # Set to None for now, to filter out later\n",
        "    'N/A': None  # Set to None for now, to filter out later\n",
        "}\n",
        "\n",
        "df_circa['goldstandard2'] = df_circa['goldstandard2'].map(circa_value_mapping)\n",
        "df_circa = df_circa.dropna(subset=['goldstandard2'])"
      ]
    },
    {
      "cell_type": "code",
      "execution_count": null,
      "metadata": {
        "id": "fVfmtZjOxux2"
      },
      "outputs": [],
      "source": [
        "# Creating the input column by simply adding question and answer columns (approach proposed in the paper)\n",
        "df_circa['text_input'] = df_circa['question-X'] + \" \" + df_circa['answer-Y']"
      ]
    },
    {
      "cell_type": "code",
      "execution_count": null,
      "metadata": {
        "id": "IkwJhKky1b-i"
      },
      "outputs": [],
      "source": [
        "df_circa_final = df_circa[['text_input', 'goldstandard2']]\n",
        "df_circa_final = df_circa_final.rename(columns={'goldstandard2': 'label'})"
      ]
    },
    {
      "cell_type": "code",
      "execution_count": null,
      "metadata": {
        "colab": {
          "base_uri": "https://localhost:8080/",
          "height": 206
        },
        "id": "OVn8gvU91lOq",
        "outputId": "d6a3c93e-91aa-46b9-e232-4f4d77ca9664"
      },
      "outputs": [
        {
          "output_type": "execute_result",
          "data": {
            "text/plain": [
              "                                          text_input   label\n",
              "0     Are you employed? I'm a veterinary technician.     yes\n",
              "1    Are you a fan of Korean food? I wouldn't say so      no\n",
              "2  Are you bringing any pets into the flat? I do ...      no\n",
              "3  Would you like to get some fresh air in your f...     yes\n",
              "4  Is your family still living in the neighborhoo...  middle"
            ],
            "text/html": [
              "\n",
              "  <div id=\"df-f7cc3477-12e1-45de-83fb-71748ee26db8\" class=\"colab-df-container\">\n",
              "    <div>\n",
              "<style scoped>\n",
              "    .dataframe tbody tr th:only-of-type {\n",
              "        vertical-align: middle;\n",
              "    }\n",
              "\n",
              "    .dataframe tbody tr th {\n",
              "        vertical-align: top;\n",
              "    }\n",
              "\n",
              "    .dataframe thead th {\n",
              "        text-align: right;\n",
              "    }\n",
              "</style>\n",
              "<table border=\"1\" class=\"dataframe\">\n",
              "  <thead>\n",
              "    <tr style=\"text-align: right;\">\n",
              "      <th></th>\n",
              "      <th>text_input</th>\n",
              "      <th>label</th>\n",
              "    </tr>\n",
              "  </thead>\n",
              "  <tbody>\n",
              "    <tr>\n",
              "      <th>0</th>\n",
              "      <td>Are you employed? I'm a veterinary technician.</td>\n",
              "      <td>yes</td>\n",
              "    </tr>\n",
              "    <tr>\n",
              "      <th>1</th>\n",
              "      <td>Are you a fan of Korean food? I wouldn't say so</td>\n",
              "      <td>no</td>\n",
              "    </tr>\n",
              "    <tr>\n",
              "      <th>2</th>\n",
              "      <td>Are you bringing any pets into the flat? I do ...</td>\n",
              "      <td>no</td>\n",
              "    </tr>\n",
              "    <tr>\n",
              "      <th>3</th>\n",
              "      <td>Would you like to get some fresh air in your f...</td>\n",
              "      <td>yes</td>\n",
              "    </tr>\n",
              "    <tr>\n",
              "      <th>4</th>\n",
              "      <td>Is your family still living in the neighborhoo...</td>\n",
              "      <td>middle</td>\n",
              "    </tr>\n",
              "  </tbody>\n",
              "</table>\n",
              "</div>\n",
              "    <div class=\"colab-df-buttons\">\n",
              "\n",
              "  <div class=\"colab-df-container\">\n",
              "    <button class=\"colab-df-convert\" onclick=\"convertToInteractive('df-f7cc3477-12e1-45de-83fb-71748ee26db8')\"\n",
              "            title=\"Convert this dataframe to an interactive table.\"\n",
              "            style=\"display:none;\">\n",
              "\n",
              "  <svg xmlns=\"http://www.w3.org/2000/svg\" height=\"24px\" viewBox=\"0 -960 960 960\">\n",
              "    <path d=\"M120-120v-720h720v720H120Zm60-500h600v-160H180v160Zm220 220h160v-160H400v160Zm0 220h160v-160H400v160ZM180-400h160v-160H180v160Zm440 0h160v-160H620v160ZM180-180h160v-160H180v160Zm440 0h160v-160H620v160Z\"/>\n",
              "  </svg>\n",
              "    </button>\n",
              "\n",
              "  <style>\n",
              "    .colab-df-container {\n",
              "      display:flex;\n",
              "      gap: 12px;\n",
              "    }\n",
              "\n",
              "    .colab-df-convert {\n",
              "      background-color: #E8F0FE;\n",
              "      border: none;\n",
              "      border-radius: 50%;\n",
              "      cursor: pointer;\n",
              "      display: none;\n",
              "      fill: #1967D2;\n",
              "      height: 32px;\n",
              "      padding: 0 0 0 0;\n",
              "      width: 32px;\n",
              "    }\n",
              "\n",
              "    .colab-df-convert:hover {\n",
              "      background-color: #E2EBFA;\n",
              "      box-shadow: 0px 1px 2px rgba(60, 64, 67, 0.3), 0px 1px 3px 1px rgba(60, 64, 67, 0.15);\n",
              "      fill: #174EA6;\n",
              "    }\n",
              "\n",
              "    .colab-df-buttons div {\n",
              "      margin-bottom: 4px;\n",
              "    }\n",
              "\n",
              "    [theme=dark] .colab-df-convert {\n",
              "      background-color: #3B4455;\n",
              "      fill: #D2E3FC;\n",
              "    }\n",
              "\n",
              "    [theme=dark] .colab-df-convert:hover {\n",
              "      background-color: #434B5C;\n",
              "      box-shadow: 0px 1px 3px 1px rgba(0, 0, 0, 0.15);\n",
              "      filter: drop-shadow(0px 1px 2px rgba(0, 0, 0, 0.3));\n",
              "      fill: #FFFFFF;\n",
              "    }\n",
              "  </style>\n",
              "\n",
              "    <script>\n",
              "      const buttonEl =\n",
              "        document.querySelector('#df-f7cc3477-12e1-45de-83fb-71748ee26db8 button.colab-df-convert');\n",
              "      buttonEl.style.display =\n",
              "        google.colab.kernel.accessAllowed ? 'block' : 'none';\n",
              "\n",
              "      async function convertToInteractive(key) {\n",
              "        const element = document.querySelector('#df-f7cc3477-12e1-45de-83fb-71748ee26db8');\n",
              "        const dataTable =\n",
              "          await google.colab.kernel.invokeFunction('convertToInteractive',\n",
              "                                                    [key], {});\n",
              "        if (!dataTable) return;\n",
              "\n",
              "        const docLinkHtml = 'Like what you see? Visit the ' +\n",
              "          '<a target=\"_blank\" href=https://colab.research.google.com/notebooks/data_table.ipynb>data table notebook</a>'\n",
              "          + ' to learn more about interactive tables.';\n",
              "        element.innerHTML = '';\n",
              "        dataTable['output_type'] = 'display_data';\n",
              "        await google.colab.output.renderOutput(dataTable, element);\n",
              "        const docLink = document.createElement('div');\n",
              "        docLink.innerHTML = docLinkHtml;\n",
              "        element.appendChild(docLink);\n",
              "      }\n",
              "    </script>\n",
              "  </div>\n",
              "\n",
              "\n",
              "<div id=\"df-42c66e53-c237-48ff-8d8a-4d9a41f78ed8\">\n",
              "  <button class=\"colab-df-quickchart\" onclick=\"quickchart('df-42c66e53-c237-48ff-8d8a-4d9a41f78ed8')\"\n",
              "            title=\"Suggest charts\"\n",
              "            style=\"display:none;\">\n",
              "\n",
              "<svg xmlns=\"http://www.w3.org/2000/svg\" height=\"24px\"viewBox=\"0 0 24 24\"\n",
              "     width=\"24px\">\n",
              "    <g>\n",
              "        <path d=\"M19 3H5c-1.1 0-2 .9-2 2v14c0 1.1.9 2 2 2h14c1.1 0 2-.9 2-2V5c0-1.1-.9-2-2-2zM9 17H7v-7h2v7zm4 0h-2V7h2v10zm4 0h-2v-4h2v4z\"/>\n",
              "    </g>\n",
              "</svg>\n",
              "  </button>\n",
              "\n",
              "<style>\n",
              "  .colab-df-quickchart {\n",
              "      --bg-color: #E8F0FE;\n",
              "      --fill-color: #1967D2;\n",
              "      --hover-bg-color: #E2EBFA;\n",
              "      --hover-fill-color: #174EA6;\n",
              "      --disabled-fill-color: #AAA;\n",
              "      --disabled-bg-color: #DDD;\n",
              "  }\n",
              "\n",
              "  [theme=dark] .colab-df-quickchart {\n",
              "      --bg-color: #3B4455;\n",
              "      --fill-color: #D2E3FC;\n",
              "      --hover-bg-color: #434B5C;\n",
              "      --hover-fill-color: #FFFFFF;\n",
              "      --disabled-bg-color: #3B4455;\n",
              "      --disabled-fill-color: #666;\n",
              "  }\n",
              "\n",
              "  .colab-df-quickchart {\n",
              "    background-color: var(--bg-color);\n",
              "    border: none;\n",
              "    border-radius: 50%;\n",
              "    cursor: pointer;\n",
              "    display: none;\n",
              "    fill: var(--fill-color);\n",
              "    height: 32px;\n",
              "    padding: 0;\n",
              "    width: 32px;\n",
              "  }\n",
              "\n",
              "  .colab-df-quickchart:hover {\n",
              "    background-color: var(--hover-bg-color);\n",
              "    box-shadow: 0 1px 2px rgba(60, 64, 67, 0.3), 0 1px 3px 1px rgba(60, 64, 67, 0.15);\n",
              "    fill: var(--button-hover-fill-color);\n",
              "  }\n",
              "\n",
              "  .colab-df-quickchart-complete:disabled,\n",
              "  .colab-df-quickchart-complete:disabled:hover {\n",
              "    background-color: var(--disabled-bg-color);\n",
              "    fill: var(--disabled-fill-color);\n",
              "    box-shadow: none;\n",
              "  }\n",
              "\n",
              "  .colab-df-spinner {\n",
              "    border: 2px solid var(--fill-color);\n",
              "    border-color: transparent;\n",
              "    border-bottom-color: var(--fill-color);\n",
              "    animation:\n",
              "      spin 1s steps(1) infinite;\n",
              "  }\n",
              "\n",
              "  @keyframes spin {\n",
              "    0% {\n",
              "      border-color: transparent;\n",
              "      border-bottom-color: var(--fill-color);\n",
              "      border-left-color: var(--fill-color);\n",
              "    }\n",
              "    20% {\n",
              "      border-color: transparent;\n",
              "      border-left-color: var(--fill-color);\n",
              "      border-top-color: var(--fill-color);\n",
              "    }\n",
              "    30% {\n",
              "      border-color: transparent;\n",
              "      border-left-color: var(--fill-color);\n",
              "      border-top-color: var(--fill-color);\n",
              "      border-right-color: var(--fill-color);\n",
              "    }\n",
              "    40% {\n",
              "      border-color: transparent;\n",
              "      border-right-color: var(--fill-color);\n",
              "      border-top-color: var(--fill-color);\n",
              "    }\n",
              "    60% {\n",
              "      border-color: transparent;\n",
              "      border-right-color: var(--fill-color);\n",
              "    }\n",
              "    80% {\n",
              "      border-color: transparent;\n",
              "      border-right-color: var(--fill-color);\n",
              "      border-bottom-color: var(--fill-color);\n",
              "    }\n",
              "    90% {\n",
              "      border-color: transparent;\n",
              "      border-bottom-color: var(--fill-color);\n",
              "    }\n",
              "  }\n",
              "</style>\n",
              "\n",
              "  <script>\n",
              "    async function quickchart(key) {\n",
              "      const quickchartButtonEl =\n",
              "        document.querySelector('#' + key + ' button');\n",
              "      quickchartButtonEl.disabled = true;  // To prevent multiple clicks.\n",
              "      quickchartButtonEl.classList.add('colab-df-spinner');\n",
              "      try {\n",
              "        const charts = await google.colab.kernel.invokeFunction(\n",
              "            'suggestCharts', [key], {});\n",
              "      } catch (error) {\n",
              "        console.error('Error during call to suggestCharts:', error);\n",
              "      }\n",
              "      quickchartButtonEl.classList.remove('colab-df-spinner');\n",
              "      quickchartButtonEl.classList.add('colab-df-quickchart-complete');\n",
              "    }\n",
              "    (() => {\n",
              "      let quickchartButtonEl =\n",
              "        document.querySelector('#df-42c66e53-c237-48ff-8d8a-4d9a41f78ed8 button');\n",
              "      quickchartButtonEl.style.display =\n",
              "        google.colab.kernel.accessAllowed ? 'block' : 'none';\n",
              "    })();\n",
              "  </script>\n",
              "</div>\n",
              "\n",
              "    </div>\n",
              "  </div>\n"
            ],
            "application/vnd.google.colaboratory.intrinsic+json": {
              "type": "dataframe",
              "variable_name": "df_circa_final",
              "summary": "{\n  \"name\": \"df_circa_final\",\n  \"rows\": 32993,\n  \"fields\": [\n    {\n      \"column\": \"text_input\",\n      \"properties\": {\n        \"dtype\": \"string\",\n        \"num_unique_values\": 32802,\n        \"samples\": [\n          \"Did you like the food you tried when we last ate out? I wish we'd gone to a different place.\",\n          \"Do you like salads? If I can make my own dressing.\",\n          \"Will you be participating in any sporting activities on Saturday ? I'm only seeing relatives on Sunday.\"\n        ],\n        \"semantic_type\": \"\",\n        \"description\": \"\"\n      }\n    },\n    {\n      \"column\": \"label\",\n      \"properties\": {\n        \"dtype\": \"category\",\n        \"num_unique_values\": 3,\n        \"samples\": [\n          \"yes\",\n          \"no\",\n          \"middle\"\n        ],\n        \"semantic_type\": \"\",\n        \"description\": \"\"\n      }\n    }\n  ]\n}"
            }
          },
          "metadata": {},
          "execution_count": 10
        }
      ],
      "source": [
        "# This now, is the test data for circa-data.tsv -> x = text_input, y = labe;\n",
        "df_circa_final.head()"
      ]
    },
    {
      "cell_type": "markdown",
      "metadata": {
        "id": "kFHOvtIFx-rJ"
      },
      "source": [
        "## SWDA data"
      ]
    },
    {
      "cell_type": "code",
      "execution_count": null,
      "metadata": {
        "id": "6i7Aq-6GyCPa"
      },
      "outputs": [],
      "source": [
        "df_swda = pd.read_excel(f'{FILE_PATH}/data/train_dataset/SWDA_IA_Train_data.xlsx')"
      ]
    },
    {
      "cell_type": "code",
      "execution_count": null,
      "metadata": {
        "colab": {
          "base_uri": "https://localhost:8080/",
          "height": 590
        },
        "id": "26EtPm9Rzfe2",
        "outputId": "0247501c-8e84-4f97-9cbb-3eed858f5155"
      },
      "outputs": [
        {
          "output_type": "execute_result",
          "data": {
            "text/plain": [
              "   Unnamed: 0                                      questions_raw  \\\n",
              "0           0  Um, does your work entitle, uh, anything of en...   \n",
              "1           1  Now is that place built or you're still on the...   \n",
              "2           2                 So, can you dress pretty casually?   \n",
              "3           3  Well, isn't, isn't SLEEPING WITH THE ENEMY, is...   \n",
              "4           4  Do you know who the guy was that was playing t...   \n",
              "\n",
              "                                      bold_questions  \\\n",
              "0  Um, does your work entitle, uh, anything of en...   \n",
              "1                            Now is that place built   \n",
              "2                 So, can you dress pretty casually?   \n",
              "3                    i , is it, is it a terror movie   \n",
              "4  Do you know who the guy was that was playing t...   \n",
              "\n",
              "                                              answer t1_label t2_label  \\\n",
              "0  Me, I'm in the legal department and, um, we do...      yes      yes   \n",
              "1  The Sherman facility, we are still in the, clo...       no      pno   \n",
              "2                                   Um, on occasion.     pyes      yes   \n",
              "3  It's suspenseful. I don't think it's very t , ...      pno      pno   \n",
              "4                                                Um.   middle   middle   \n",
              "\n",
              "                                         t2_sentence  \\\n",
              "0  Um, does your work entitle, uh, anything of en...   \n",
              "1  Now is that place built or you're still on the...   \n",
              "2  So, can you dress pretty casually? [SEP] Um, o...   \n",
              "3  Well, isn't, isn't SLEEPING WITH THE ENEMY, is...   \n",
              "4  Do you know who the guy was that was playing t...   \n",
              "\n",
              "                                          t2_context  \\\n",
              "0  All righty. Uh, I guess our topic today is air...   \n",
              "1  As you know, they, they're allowed to come on ...   \n",
              "2  Hi, Cynthia. What did you wear to work today? ...   \n",
              "3  Go. [SEP] You must really keep up. [SEP] I do....   \n",
              "4  Uh huh. [SEP] I was going to pick up my daught...   \n",
              "\n",
              "                           question_only_context_ann  \\\n",
              "0  Um, does your work entitle, uh, anything of en...   \n",
              "1  Now is that place built or you're still on the...   \n",
              "2  So, can you dress pretty casually? [SEP] On oc...   \n",
              "3  Well, isn't, isn't SLEEPING WITH THE ENEMY, is...   \n",
              "4  Do you know who the guy was that was playing t...   \n",
              "\n",
              "                             answer_only_context_ann  \\\n",
              "0  Me, I'm in the legal department and, um, we do...   \n",
              "1  The Sherman facility, we are still in the, clo...   \n",
              "2  Um, on occasion. [SEP] On occasion. Um, I do v...   \n",
              "3  It's suspenseful. I don't think it's very t , ...   \n",
              "4   Um. [SEP] A little piece of trivia. You know,...   \n",
              "\n",
              "                               question_only_context  \\\n",
              "0  All righty. Uh, I guess our topic today is air...   \n",
              "1  As you know, they, they're allowed to come on ...   \n",
              "2  Hi, Cynthia. What did you wear to work today? ...   \n",
              "3  Go. [SEP] You must really keep up. [SEP] I do....   \n",
              "4  Uh huh. [SEP] I was going to pick up my daught...   \n",
              "\n",
              "                                 answer_only_context  \\\n",
              "0  All righty. Uh, I guess our topic today is air...   \n",
              "1  As you know, they, they're allowed to come on ...   \n",
              "2  Hi, Cynthia. What did you wear to work today? ...   \n",
              "3  Go. [SEP] You must really keep up. [SEP] I do....   \n",
              "4  Uh huh. [SEP] I was going to pick up my daught...   \n",
              "\n",
              "                                         previous_qa  \n",
              "0  All righty. Uh, I guess our topic today is air...  \n",
              "1  As you know, they, they're allowed to come on ...  \n",
              "2  Hi, Cynthia. What did you wear to work today? ...  \n",
              "3  Go. [SEP] You must really keep up. [SEP] I do....  \n",
              "4  Uh huh. [SEP] I was going to pick up my daught...  "
            ],
            "text/html": [
              "\n",
              "  <div id=\"df-eeb8773c-f6bf-4b13-a515-a16fadaea6e1\" class=\"colab-df-container\">\n",
              "    <div>\n",
              "<style scoped>\n",
              "    .dataframe tbody tr th:only-of-type {\n",
              "        vertical-align: middle;\n",
              "    }\n",
              "\n",
              "    .dataframe tbody tr th {\n",
              "        vertical-align: top;\n",
              "    }\n",
              "\n",
              "    .dataframe thead th {\n",
              "        text-align: right;\n",
              "    }\n",
              "</style>\n",
              "<table border=\"1\" class=\"dataframe\">\n",
              "  <thead>\n",
              "    <tr style=\"text-align: right;\">\n",
              "      <th></th>\n",
              "      <th>Unnamed: 0</th>\n",
              "      <th>questions_raw</th>\n",
              "      <th>bold_questions</th>\n",
              "      <th>answer</th>\n",
              "      <th>t1_label</th>\n",
              "      <th>t2_label</th>\n",
              "      <th>t2_sentence</th>\n",
              "      <th>t2_context</th>\n",
              "      <th>question_only_context_ann</th>\n",
              "      <th>answer_only_context_ann</th>\n",
              "      <th>question_only_context</th>\n",
              "      <th>answer_only_context</th>\n",
              "      <th>previous_qa</th>\n",
              "    </tr>\n",
              "  </thead>\n",
              "  <tbody>\n",
              "    <tr>\n",
              "      <th>0</th>\n",
              "      <td>0</td>\n",
              "      <td>Um, does your work entitle, uh, anything of en...</td>\n",
              "      <td>Um, does your work entitle, uh, anything of en...</td>\n",
              "      <td>Me, I'm in the legal department and, um, we do...</td>\n",
              "      <td>yes</td>\n",
              "      <td>yes</td>\n",
              "      <td>Um, does your work entitle, uh, anything of en...</td>\n",
              "      <td>All righty. Uh, I guess our topic today is air...</td>\n",
              "      <td>Um, does your work entitle, uh, anything of en...</td>\n",
              "      <td>Me, I'm in the legal department and, um, we do...</td>\n",
              "      <td>All righty. Uh, I guess our topic today is air...</td>\n",
              "      <td>All righty. Uh, I guess our topic today is air...</td>\n",
              "      <td>All righty. Uh, I guess our topic today is air...</td>\n",
              "    </tr>\n",
              "    <tr>\n",
              "      <th>1</th>\n",
              "      <td>1</td>\n",
              "      <td>Now is that place built or you're still on the...</td>\n",
              "      <td>Now is that place built</td>\n",
              "      <td>The Sherman facility, we are still in the, clo...</td>\n",
              "      <td>no</td>\n",
              "      <td>pno</td>\n",
              "      <td>Now is that place built or you're still on the...</td>\n",
              "      <td>As you know, they, they're allowed to come on ...</td>\n",
              "      <td>Now is that place built or you're still on the...</td>\n",
              "      <td>The Sherman facility, we are still in the, clo...</td>\n",
              "      <td>As you know, they, they're allowed to come on ...</td>\n",
              "      <td>As you know, they, they're allowed to come on ...</td>\n",
              "      <td>As you know, they, they're allowed to come on ...</td>\n",
              "    </tr>\n",
              "    <tr>\n",
              "      <th>2</th>\n",
              "      <td>2</td>\n",
              "      <td>So, can you dress pretty casually?</td>\n",
              "      <td>So, can you dress pretty casually?</td>\n",
              "      <td>Um, on occasion.</td>\n",
              "      <td>pyes</td>\n",
              "      <td>yes</td>\n",
              "      <td>So, can you dress pretty casually? [SEP] Um, o...</td>\n",
              "      <td>Hi, Cynthia. What did you wear to work today? ...</td>\n",
              "      <td>So, can you dress pretty casually? [SEP] On oc...</td>\n",
              "      <td>Um, on occasion. [SEP] On occasion. Um, I do v...</td>\n",
              "      <td>Hi, Cynthia. What did you wear to work today? ...</td>\n",
              "      <td>Hi, Cynthia. What did you wear to work today? ...</td>\n",
              "      <td>Hi, Cynthia. What did you wear to work today? ...</td>\n",
              "    </tr>\n",
              "    <tr>\n",
              "      <th>3</th>\n",
              "      <td>3</td>\n",
              "      <td>Well, isn't, isn't SLEEPING WITH THE ENEMY, is...</td>\n",
              "      <td>i , is it, is it a terror movie</td>\n",
              "      <td>It's suspenseful. I don't think it's very t , ...</td>\n",
              "      <td>pno</td>\n",
              "      <td>pno</td>\n",
              "      <td>Well, isn't, isn't SLEEPING WITH THE ENEMY, is...</td>\n",
              "      <td>Go. [SEP] You must really keep up. [SEP] I do....</td>\n",
              "      <td>Well, isn't, isn't SLEEPING WITH THE ENEMY, is...</td>\n",
              "      <td>It's suspenseful. I don't think it's very t , ...</td>\n",
              "      <td>Go. [SEP] You must really keep up. [SEP] I do....</td>\n",
              "      <td>Go. [SEP] You must really keep up. [SEP] I do....</td>\n",
              "      <td>Go. [SEP] You must really keep up. [SEP] I do....</td>\n",
              "    </tr>\n",
              "    <tr>\n",
              "      <th>4</th>\n",
              "      <td>4</td>\n",
              "      <td>Do you know who the guy was that was playing t...</td>\n",
              "      <td>Do you know who the guy was that was playing t...</td>\n",
              "      <td>Um.</td>\n",
              "      <td>middle</td>\n",
              "      <td>middle</td>\n",
              "      <td>Do you know who the guy was that was playing t...</td>\n",
              "      <td>Uh huh. [SEP] I was going to pick up my daught...</td>\n",
              "      <td>Do you know who the guy was that was playing t...</td>\n",
              "      <td>Um. [SEP] A little piece of trivia. You know,...</td>\n",
              "      <td>Uh huh. [SEP] I was going to pick up my daught...</td>\n",
              "      <td>Uh huh. [SEP] I was going to pick up my daught...</td>\n",
              "      <td>Uh huh. [SEP] I was going to pick up my daught...</td>\n",
              "    </tr>\n",
              "  </tbody>\n",
              "</table>\n",
              "</div>\n",
              "    <div class=\"colab-df-buttons\">\n",
              "\n",
              "  <div class=\"colab-df-container\">\n",
              "    <button class=\"colab-df-convert\" onclick=\"convertToInteractive('df-eeb8773c-f6bf-4b13-a515-a16fadaea6e1')\"\n",
              "            title=\"Convert this dataframe to an interactive table.\"\n",
              "            style=\"display:none;\">\n",
              "\n",
              "  <svg xmlns=\"http://www.w3.org/2000/svg\" height=\"24px\" viewBox=\"0 -960 960 960\">\n",
              "    <path d=\"M120-120v-720h720v720H120Zm60-500h600v-160H180v160Zm220 220h160v-160H400v160Zm0 220h160v-160H400v160ZM180-400h160v-160H180v160Zm440 0h160v-160H620v160ZM180-180h160v-160H180v160Zm440 0h160v-160H620v160Z\"/>\n",
              "  </svg>\n",
              "    </button>\n",
              "\n",
              "  <style>\n",
              "    .colab-df-container {\n",
              "      display:flex;\n",
              "      gap: 12px;\n",
              "    }\n",
              "\n",
              "    .colab-df-convert {\n",
              "      background-color: #E8F0FE;\n",
              "      border: none;\n",
              "      border-radius: 50%;\n",
              "      cursor: pointer;\n",
              "      display: none;\n",
              "      fill: #1967D2;\n",
              "      height: 32px;\n",
              "      padding: 0 0 0 0;\n",
              "      width: 32px;\n",
              "    }\n",
              "\n",
              "    .colab-df-convert:hover {\n",
              "      background-color: #E2EBFA;\n",
              "      box-shadow: 0px 1px 2px rgba(60, 64, 67, 0.3), 0px 1px 3px 1px rgba(60, 64, 67, 0.15);\n",
              "      fill: #174EA6;\n",
              "    }\n",
              "\n",
              "    .colab-df-buttons div {\n",
              "      margin-bottom: 4px;\n",
              "    }\n",
              "\n",
              "    [theme=dark] .colab-df-convert {\n",
              "      background-color: #3B4455;\n",
              "      fill: #D2E3FC;\n",
              "    }\n",
              "\n",
              "    [theme=dark] .colab-df-convert:hover {\n",
              "      background-color: #434B5C;\n",
              "      box-shadow: 0px 1px 3px 1px rgba(0, 0, 0, 0.15);\n",
              "      filter: drop-shadow(0px 1px 2px rgba(0, 0, 0, 0.3));\n",
              "      fill: #FFFFFF;\n",
              "    }\n",
              "  </style>\n",
              "\n",
              "    <script>\n",
              "      const buttonEl =\n",
              "        document.querySelector('#df-eeb8773c-f6bf-4b13-a515-a16fadaea6e1 button.colab-df-convert');\n",
              "      buttonEl.style.display =\n",
              "        google.colab.kernel.accessAllowed ? 'block' : 'none';\n",
              "\n",
              "      async function convertToInteractive(key) {\n",
              "        const element = document.querySelector('#df-eeb8773c-f6bf-4b13-a515-a16fadaea6e1');\n",
              "        const dataTable =\n",
              "          await google.colab.kernel.invokeFunction('convertToInteractive',\n",
              "                                                    [key], {});\n",
              "        if (!dataTable) return;\n",
              "\n",
              "        const docLinkHtml = 'Like what you see? Visit the ' +\n",
              "          '<a target=\"_blank\" href=https://colab.research.google.com/notebooks/data_table.ipynb>data table notebook</a>'\n",
              "          + ' to learn more about interactive tables.';\n",
              "        element.innerHTML = '';\n",
              "        dataTable['output_type'] = 'display_data';\n",
              "        await google.colab.output.renderOutput(dataTable, element);\n",
              "        const docLink = document.createElement('div');\n",
              "        docLink.innerHTML = docLinkHtml;\n",
              "        element.appendChild(docLink);\n",
              "      }\n",
              "    </script>\n",
              "  </div>\n",
              "\n",
              "\n",
              "<div id=\"df-2f2368f2-00da-4075-a721-1bae8c52e3d7\">\n",
              "  <button class=\"colab-df-quickchart\" onclick=\"quickchart('df-2f2368f2-00da-4075-a721-1bae8c52e3d7')\"\n",
              "            title=\"Suggest charts\"\n",
              "            style=\"display:none;\">\n",
              "\n",
              "<svg xmlns=\"http://www.w3.org/2000/svg\" height=\"24px\"viewBox=\"0 0 24 24\"\n",
              "     width=\"24px\">\n",
              "    <g>\n",
              "        <path d=\"M19 3H5c-1.1 0-2 .9-2 2v14c0 1.1.9 2 2 2h14c1.1 0 2-.9 2-2V5c0-1.1-.9-2-2-2zM9 17H7v-7h2v7zm4 0h-2V7h2v10zm4 0h-2v-4h2v4z\"/>\n",
              "    </g>\n",
              "</svg>\n",
              "  </button>\n",
              "\n",
              "<style>\n",
              "  .colab-df-quickchart {\n",
              "      --bg-color: #E8F0FE;\n",
              "      --fill-color: #1967D2;\n",
              "      --hover-bg-color: #E2EBFA;\n",
              "      --hover-fill-color: #174EA6;\n",
              "      --disabled-fill-color: #AAA;\n",
              "      --disabled-bg-color: #DDD;\n",
              "  }\n",
              "\n",
              "  [theme=dark] .colab-df-quickchart {\n",
              "      --bg-color: #3B4455;\n",
              "      --fill-color: #D2E3FC;\n",
              "      --hover-bg-color: #434B5C;\n",
              "      --hover-fill-color: #FFFFFF;\n",
              "      --disabled-bg-color: #3B4455;\n",
              "      --disabled-fill-color: #666;\n",
              "  }\n",
              "\n",
              "  .colab-df-quickchart {\n",
              "    background-color: var(--bg-color);\n",
              "    border: none;\n",
              "    border-radius: 50%;\n",
              "    cursor: pointer;\n",
              "    display: none;\n",
              "    fill: var(--fill-color);\n",
              "    height: 32px;\n",
              "    padding: 0;\n",
              "    width: 32px;\n",
              "  }\n",
              "\n",
              "  .colab-df-quickchart:hover {\n",
              "    background-color: var(--hover-bg-color);\n",
              "    box-shadow: 0 1px 2px rgba(60, 64, 67, 0.3), 0 1px 3px 1px rgba(60, 64, 67, 0.15);\n",
              "    fill: var(--button-hover-fill-color);\n",
              "  }\n",
              "\n",
              "  .colab-df-quickchart-complete:disabled,\n",
              "  .colab-df-quickchart-complete:disabled:hover {\n",
              "    background-color: var(--disabled-bg-color);\n",
              "    fill: var(--disabled-fill-color);\n",
              "    box-shadow: none;\n",
              "  }\n",
              "\n",
              "  .colab-df-spinner {\n",
              "    border: 2px solid var(--fill-color);\n",
              "    border-color: transparent;\n",
              "    border-bottom-color: var(--fill-color);\n",
              "    animation:\n",
              "      spin 1s steps(1) infinite;\n",
              "  }\n",
              "\n",
              "  @keyframes spin {\n",
              "    0% {\n",
              "      border-color: transparent;\n",
              "      border-bottom-color: var(--fill-color);\n",
              "      border-left-color: var(--fill-color);\n",
              "    }\n",
              "    20% {\n",
              "      border-color: transparent;\n",
              "      border-left-color: var(--fill-color);\n",
              "      border-top-color: var(--fill-color);\n",
              "    }\n",
              "    30% {\n",
              "      border-color: transparent;\n",
              "      border-left-color: var(--fill-color);\n",
              "      border-top-color: var(--fill-color);\n",
              "      border-right-color: var(--fill-color);\n",
              "    }\n",
              "    40% {\n",
              "      border-color: transparent;\n",
              "      border-right-color: var(--fill-color);\n",
              "      border-top-color: var(--fill-color);\n",
              "    }\n",
              "    60% {\n",
              "      border-color: transparent;\n",
              "      border-right-color: var(--fill-color);\n",
              "    }\n",
              "    80% {\n",
              "      border-color: transparent;\n",
              "      border-right-color: var(--fill-color);\n",
              "      border-bottom-color: var(--fill-color);\n",
              "    }\n",
              "    90% {\n",
              "      border-color: transparent;\n",
              "      border-bottom-color: var(--fill-color);\n",
              "    }\n",
              "  }\n",
              "</style>\n",
              "\n",
              "  <script>\n",
              "    async function quickchart(key) {\n",
              "      const quickchartButtonEl =\n",
              "        document.querySelector('#' + key + ' button');\n",
              "      quickchartButtonEl.disabled = true;  // To prevent multiple clicks.\n",
              "      quickchartButtonEl.classList.add('colab-df-spinner');\n",
              "      try {\n",
              "        const charts = await google.colab.kernel.invokeFunction(\n",
              "            'suggestCharts', [key], {});\n",
              "      } catch (error) {\n",
              "        console.error('Error during call to suggestCharts:', error);\n",
              "      }\n",
              "      quickchartButtonEl.classList.remove('colab-df-spinner');\n",
              "      quickchartButtonEl.classList.add('colab-df-quickchart-complete');\n",
              "    }\n",
              "    (() => {\n",
              "      let quickchartButtonEl =\n",
              "        document.querySelector('#df-2f2368f2-00da-4075-a721-1bae8c52e3d7 button');\n",
              "      quickchartButtonEl.style.display =\n",
              "        google.colab.kernel.accessAllowed ? 'block' : 'none';\n",
              "    })();\n",
              "  </script>\n",
              "</div>\n",
              "\n",
              "    </div>\n",
              "  </div>\n"
            ],
            "application/vnd.google.colaboratory.intrinsic+json": {
              "type": "dataframe",
              "variable_name": "df_swda",
              "summary": "{\n  \"name\": \"df_swda\",\n  \"rows\": 1526,\n  \"fields\": [\n    {\n      \"column\": \"Unnamed: 0\",\n      \"properties\": {\n        \"dtype\": \"number\",\n        \"std\": 440,\n        \"min\": 0,\n        \"max\": 1525,\n        \"num_unique_values\": 1526,\n        \"samples\": [\n          1439,\n          76,\n          1010\n        ],\n        \"semantic_type\": \"\",\n        \"description\": \"\"\n      }\n    },\n    {\n      \"column\": \"questions_raw\",\n      \"properties\": {\n        \"dtype\": \"string\",\n        \"num_unique_values\": 1407,\n        \"samples\": [\n          \"Huh. He , do you use that facility a lot?\",\n          \"So anyway, um, anything else about the area, about, um, you know, can you compare yourself to any thing around there.\",\n          \"Uh, at any rate do you have color preferences or what would be the features that you would be looking for?\"\n        ],\n        \"semantic_type\": \"\",\n        \"description\": \"\"\n      }\n    },\n    {\n      \"column\": \"bold_questions\",\n      \"properties\": {\n        \"dtype\": \"string\",\n        \"num_unique_values\": 1483,\n        \"samples\": [\n          \"do you go see a lot of musicals?\",\n          \"And, uh, well, of course, that's getting away from taxes isn't it,\",\n          \"Do they car pool in?\"\n        ],\n        \"semantic_type\": \"\",\n        \"description\": \"\"\n      }\n    },\n    {\n      \"column\": \"answer\",\n      \"properties\": {\n        \"dtype\": \"string\",\n        \"num_unique_values\": 1366,\n        \"samples\": [\n          \"Well, oh, from a woman's point of view and it was very, uh, chauvinistic as far as women go. Uh, it was, it was entertaining, but, yeah, I don't think the general audience would, would go for it.\",\n          \"I think it worked out very, very well. Because what he learned to do by the time he was\",\n          \"I'm not sure, um, what exactly is wrong with her. Up until nineteen eighty two, uh, actually, I'm sorry, not until, yeah, I guess it was around eighty two, eighty three, I found out I had a grandmother.\"\n        ],\n        \"semantic_type\": \"\",\n        \"description\": \"\"\n      }\n    },\n    {\n      \"column\": \"t1_label\",\n      \"properties\": {\n        \"dtype\": \"category\",\n        \"num_unique_values\": 5,\n        \"samples\": [\n          \"no\",\n          \"middle\",\n          \"pyes\"\n        ],\n        \"semantic_type\": \"\",\n        \"description\": \"\"\n      }\n    },\n    {\n      \"column\": \"t2_label\",\n      \"properties\": {\n        \"dtype\": \"category\",\n        \"num_unique_values\": 5,\n        \"samples\": [\n          \"pno\",\n          \"no\",\n          \"middle\"\n        ],\n        \"semantic_type\": \"\",\n        \"description\": \"\"\n      }\n    },\n    {\n      \"column\": \"t2_sentence\",\n      \"properties\": {\n        \"dtype\": \"string\",\n        \"num_unique_values\": 1466,\n        \"samples\": [\n          \"Is it the s , is it, uh, less in Collin County than it is in Dallas County? [SEP] or. I guess maybe if I was going to buy a car or something,\",\n          \"uh, from Oklahoma City and apparently channel eight was way down and now they have turned it all around and done a pretty remarkable job and then they've been some people move around and, uh, John Chriswell is, anyway, the, I, I don't know, do you, do you, do you seem to, can you tell much difference between the local radio, T V stations? [SEP] Well, I really think so. I noticed on channel eight that there's all of the, uh, anchors, are seem to be like white Anglo Saxon protestant type people and they all seem to be, you know, fairly similar and I kind of prefer a, you know, some females, I don't recall that they have any female anchors and I like different, I like the anchors to be different kinds of people.\",\n          \"Do you like specials? [SEP] Well, last night, for example, I really would have liked to have watched UNSOLVED MYSTERIES. Those are fascinating to me. [SEP] If I have the opportunity, I watch it. Unfortunately, I was with someone else who was flipping channels.\"\n        ],\n        \"semantic_type\": \"\",\n        \"description\": \"\"\n      }\n    },\n    {\n      \"column\": \"t2_context\",\n      \"properties\": {\n        \"dtype\": \"string\",\n        \"num_unique_values\": 1424,\n        \"samples\": [\n          \"and so, I went to Hawaii and then to Australia [SEP] Uh huh. [SEP] and Japan and China, [SEP] Did you go on the Barrier Re , did you see the Great Barrier Reef and, and go snorkeling? [SEP] I, I, actually I didn't go diving. [SEP] Uh huh. [SEP] I, I'm a diver and so,\",\n          \"I've had a lot of good service out of that car, but, uh, uh, I finally gave it to my son and he drove it literally into the ground, you know. [SEP] Yeah. [SEP] He was out at Tech and he, he finished it off. [SEP] I'm, I guess you're right the, the diesel has almost fallen into unpopular status. I don't know exactly why. One of the reasons is I, I'm beginning to wonder is, where do you get gas at. I su , I don't know if it's still, uh, limited like it was, I don't notice it, probably because I don , [SEP] What, the availability? [SEP] Huh? [SEP] You mean the diesel availability?\",\n          \"you go to cold, cool places, that, well, I go to cool places during the Summer if I can anyway. [SEP] Right. That is the best time to go. Yeah. An , and usually it has been when we have gone, it has been nice. It has been hot, but it is, it is hot to me in the wintertime down there. [SEP] Oh, sure. I mean , [SEP] You know. But it is nice, it is a, it is really a nice area. [SEP] I, I had a friend from England visit once at Christmas, and we could not get her out of the what she called the back garden. [SEP] Oh, really? [SEP] Because she wanted to go back with a sunburn.\"\n        ],\n        \"semantic_type\": \"\",\n        \"description\": \"\"\n      }\n    },\n    {\n      \"column\": \"question_only_context_ann\",\n      \"properties\": {\n        \"dtype\": \"string\",\n        \"num_unique_values\": 1460,\n        \"samples\": [\n          \"so, don't worry about it. Just let him enjoy himself. So you think that you want to move away from the big city, uh? [SEP] Yeah. So you're just the opposite from me. You want to go back to that, uh,\",\n          \"And I have the ability to listen to them and then translate that into something that nonengineers can understand. [SEP] Well, that must be helpful. [SEP] That could be very helpful. [SEP] a lot of fun, at the moment.\",\n          \"Uh, well, no, it's, it's, uh, not dry at all. It, it's humid. [SEP] Well, where is it, is it Hous , wasn't it Houston's humid? [SEP] Houston is really humid. No,\"\n        ],\n        \"semantic_type\": \"\",\n        \"description\": \"\"\n      }\n    },\n    {\n      \"column\": \"answer_only_context_ann\",\n      \"properties\": {\n        \"dtype\": \"string\",\n        \"num_unique_values\": 1449,\n        \"samples\": [\n          \"Her, her parents live by the public transportation. [SEP]  Well, sometimes but I tell you I'd sure like to be able to get on a bus or something and get to work, but if I did it, it would take me an hour and fifteen minutes. I would have to get on one and drive, or walk to a bu , you know, there's one terminal close to us and then they'd drive me to the main terminal here, [SEP] Right.\",\n          \"Oh, at least once a week. We're, we're retired now. When we working out we ate out more than that.\",\n          \"They, they made like, uh, small personal computers. [SEP] Yeah. Small P C s. they're out of Korea right? [SEP] I don't know. I don't know. But what they do is, what they did, I don't know, is buy all the parts that I B M would throw away.\"\n        ],\n        \"semantic_type\": \"\",\n        \"description\": \"\"\n      }\n    },\n    {\n      \"column\": \"question_only_context\",\n      \"properties\": {\n        \"dtype\": \"string\",\n        \"num_unique_values\": 1424,\n        \"samples\": [\n          \"and so, I went to Hawaii and then to Australia [SEP] Uh huh. [SEP] and Japan and China, [SEP] Did you go on the Barrier Re , did you see the Great Barrier Reef and, and go snorkeling? [SEP] Uh huh. [SEP] I, I'm a diver and so,\",\n          \"I've had a lot of good service out of that car, but, uh, uh, I finally gave it to my son and he drove it literally into the ground, you know. [SEP] Yeah. [SEP] He was out at Tech and he, he finished it off. [SEP] I'm, I guess you're right the, the diesel has almost fallen into unpopular status. I don't know exactly why. One of the reasons is I, I'm beginning to wonder is, where do you get gas at. I su , I don't know if it's still, uh, limited like it was, I don't notice it, probably because I don , [SEP] Huh? [SEP] You mean the diesel availability?\",\n          \"you go to cold, cool places, that, well, I go to cool places during the Summer if I can anyway. [SEP] Right. That is the best time to go. Yeah. An , and usually it has been when we have gone, it has been nice. It has been hot, but it is, it is hot to me in the wintertime down there. [SEP] Oh, sure. I mean , [SEP] You know. But it is nice, it is a, it is really a nice area. [SEP] Oh, really? [SEP] Because she wanted to go back with a sunburn.\"\n        ],\n        \"semantic_type\": \"\",\n        \"description\": \"\"\n      }\n    },\n    {\n      \"column\": \"answer_only_context\",\n      \"properties\": {\n        \"dtype\": \"string\",\n        \"num_unique_values\": 1424,\n        \"samples\": [\n          \"and so, I went to Hawaii and then to Australia [SEP] Uh huh. [SEP] and Japan and China, [SEP] I, I, actually I didn't go diving. [SEP] Uh huh. [SEP] I, I'm a diver and so,\",\n          \"I've had a lot of good service out of that car, but, uh, uh, I finally gave it to my son and he drove it literally into the ground, you know. [SEP] Yeah. [SEP] He was out at Tech and he, he finished it off. [SEP] What, the availability? [SEP] Huh? [SEP] You mean the diesel availability?\",\n          \"you go to cold, cool places, that, well, I go to cool places during the Summer if I can anyway. [SEP] Right. That is the best time to go. Yeah. An , and usually it has been when we have gone, it has been nice. It has been hot, but it is, it is hot to me in the wintertime down there. [SEP] Oh, sure. I mean , [SEP] I, I had a friend from England visit once at Christmas, and we could not get her out of the what she called the back garden. [SEP] Oh, really? [SEP] Because she wanted to go back with a sunburn.\"\n        ],\n        \"semantic_type\": \"\",\n        \"description\": \"\"\n      }\n    },\n    {\n      \"column\": \"previous_qa\",\n      \"properties\": {\n        \"dtype\": \"string\",\n        \"num_unique_values\": 1424,\n        \"samples\": [\n          \"and so, I went to Hawaii and then to Australia [SEP] Uh huh. [SEP] and Japan and China, [SEP] Did you go on the Barrier Re , did you see the Great Barrier Reef and, and go snorkeling? [SEP] I, I, actually I didn't go diving.\",\n          \"I've had a lot of good service out of that car, but, uh, uh, I finally gave it to my son and he drove it literally into the ground, you know. [SEP] Yeah. [SEP] He was out at Tech and he, he finished it off. [SEP] I'm, I guess you're right the, the diesel has almost fallen into unpopular status. I don't know exactly why. One of the reasons is I, I'm beginning to wonder is, where do you get gas at. I su , I don't know if it's still, uh, limited like it was, I don't notice it, probably because I don , [SEP] What, the availability?\",\n          \"you go to cold, cool places, that, well, I go to cool places during the Summer if I can anyway. [SEP] Right. That is the best time to go. Yeah. An , and usually it has been when we have gone, it has been nice. It has been hot, but it is, it is hot to me in the wintertime down there. [SEP] Oh, sure. I mean , [SEP] You know. But it is nice, it is a, it is really a nice area. [SEP] I, I had a friend from England visit once at Christmas, and we could not get her out of the what she called the back garden.\"\n        ],\n        \"semantic_type\": \"\",\n        \"description\": \"\"\n      }\n    }\n  ]\n}"
            }
          },
          "metadata": {},
          "execution_count": 12
        }
      ],
      "source": [
        "df_swda.head()"
      ]
    },
    {
      "cell_type": "code",
      "execution_count": null,
      "metadata": {
        "colab": {
          "base_uri": "https://localhost:8080/"
        },
        "id": "MqGhCwPlzjOP",
        "outputId": "b5a6d62a-4633-481a-ca22-9ba8e022a241"
      },
      "outputs": [
        {
          "output_type": "execute_result",
          "data": {
            "text/plain": [
              "array(['yes', 'no', 'pyes', 'pno', 'middle'], dtype=object)"
            ]
          },
          "metadata": {},
          "execution_count": 13
        }
      ],
      "source": [
        "df_swda['t1_label'].unique()"
      ]
    },
    {
      "cell_type": "code",
      "execution_count": null,
      "metadata": {
        "colab": {
          "base_uri": "https://localhost:8080/"
        },
        "id": "bGdEBeEbzmPn",
        "outputId": "02b3e640-c3e7-4adb-8e84-aa7b93145000"
      },
      "outputs": [
        {
          "output_type": "execute_result",
          "data": {
            "text/plain": [
              "array(['yes', 'pno', 'middle', 'pyes', 'no'], dtype=object)"
            ]
          },
          "metadata": {},
          "execution_count": 14
        }
      ],
      "source": [
        "df_swda['t2_label'].unique()"
      ]
    },
    {
      "cell_type": "code",
      "execution_count": null,
      "metadata": {
        "id": "o8-K1INuz2Hg"
      },
      "outputs": [],
      "source": [
        "# Mapping the values in SWDA_IA_Train_data.xlsx to standardised values (provided in the paper)\n",
        "swda_value_mapping = {\n",
        "    'yes': 'yes',\n",
        "    'no': 'no',\n",
        "    'pyes': 'yes',\n",
        "    'pno': 'no',\n",
        "    'middle': 'middle'\n",
        "}\n",
        "\n",
        "df_swda['t2_label'] = df_swda['t2_label'].map(swda_value_mapping)\n",
        "# df_swda = df_swda.dropna(subset=['t2_label'])"
      ]
    },
    {
      "cell_type": "markdown",
      "source": [
        "Similar to circa, we combien question and answer to create the input column"
      ],
      "metadata": {
        "id": "m5uq9IHFcfLE"
      }
    },
    {
      "cell_type": "code",
      "execution_count": null,
      "metadata": {
        "id": "e-ckCrXt0SW1"
      },
      "outputs": [],
      "source": [
        "df_swda['text_input'] = df_swda['questions_raw'] + \" \" + df_swda['answer']"
      ]
    },
    {
      "cell_type": "code",
      "execution_count": null,
      "metadata": {
        "id": "fDOevZE90chs"
      },
      "outputs": [],
      "source": [
        "df_swda_final = df_swda[['text_input', 't2_label']]\n",
        "\n",
        "df_swda_final = df_swda_final.rename(columns={'t2_label': 'label'})"
      ]
    },
    {
      "cell_type": "code",
      "execution_count": null,
      "metadata": {
        "colab": {
          "base_uri": "https://localhost:8080/",
          "height": 206
        },
        "id": "68mY2Bu_00Xq",
        "outputId": "b865eb4f-7be0-4216-8a62-23eb7b545882"
      },
      "outputs": [
        {
          "output_type": "execute_result",
          "data": {
            "text/plain": [
              "                                          text_input   label\n",
              "0  Um, does your work entitle, uh, anything of en...     yes\n",
              "1  Now is that place built or you're still on the...      no\n",
              "2  So, can you dress pretty casually? Um, on occa...     yes\n",
              "3  Well, isn't, isn't SLEEPING WITH THE ENEMY, is...      no\n",
              "4  Do you know who the guy was that was playing t...  middle"
            ],
            "text/html": [
              "\n",
              "  <div id=\"df-6f8d8273-97f4-4f43-bff6-ded85a0347ec\" class=\"colab-df-container\">\n",
              "    <div>\n",
              "<style scoped>\n",
              "    .dataframe tbody tr th:only-of-type {\n",
              "        vertical-align: middle;\n",
              "    }\n",
              "\n",
              "    .dataframe tbody tr th {\n",
              "        vertical-align: top;\n",
              "    }\n",
              "\n",
              "    .dataframe thead th {\n",
              "        text-align: right;\n",
              "    }\n",
              "</style>\n",
              "<table border=\"1\" class=\"dataframe\">\n",
              "  <thead>\n",
              "    <tr style=\"text-align: right;\">\n",
              "      <th></th>\n",
              "      <th>text_input</th>\n",
              "      <th>label</th>\n",
              "    </tr>\n",
              "  </thead>\n",
              "  <tbody>\n",
              "    <tr>\n",
              "      <th>0</th>\n",
              "      <td>Um, does your work entitle, uh, anything of en...</td>\n",
              "      <td>yes</td>\n",
              "    </tr>\n",
              "    <tr>\n",
              "      <th>1</th>\n",
              "      <td>Now is that place built or you're still on the...</td>\n",
              "      <td>no</td>\n",
              "    </tr>\n",
              "    <tr>\n",
              "      <th>2</th>\n",
              "      <td>So, can you dress pretty casually? Um, on occa...</td>\n",
              "      <td>yes</td>\n",
              "    </tr>\n",
              "    <tr>\n",
              "      <th>3</th>\n",
              "      <td>Well, isn't, isn't SLEEPING WITH THE ENEMY, is...</td>\n",
              "      <td>no</td>\n",
              "    </tr>\n",
              "    <tr>\n",
              "      <th>4</th>\n",
              "      <td>Do you know who the guy was that was playing t...</td>\n",
              "      <td>middle</td>\n",
              "    </tr>\n",
              "  </tbody>\n",
              "</table>\n",
              "</div>\n",
              "    <div class=\"colab-df-buttons\">\n",
              "\n",
              "  <div class=\"colab-df-container\">\n",
              "    <button class=\"colab-df-convert\" onclick=\"convertToInteractive('df-6f8d8273-97f4-4f43-bff6-ded85a0347ec')\"\n",
              "            title=\"Convert this dataframe to an interactive table.\"\n",
              "            style=\"display:none;\">\n",
              "\n",
              "  <svg xmlns=\"http://www.w3.org/2000/svg\" height=\"24px\" viewBox=\"0 -960 960 960\">\n",
              "    <path d=\"M120-120v-720h720v720H120Zm60-500h600v-160H180v160Zm220 220h160v-160H400v160Zm0 220h160v-160H400v160ZM180-400h160v-160H180v160Zm440 0h160v-160H620v160ZM180-180h160v-160H180v160Zm440 0h160v-160H620v160Z\"/>\n",
              "  </svg>\n",
              "    </button>\n",
              "\n",
              "  <style>\n",
              "    .colab-df-container {\n",
              "      display:flex;\n",
              "      gap: 12px;\n",
              "    }\n",
              "\n",
              "    .colab-df-convert {\n",
              "      background-color: #E8F0FE;\n",
              "      border: none;\n",
              "      border-radius: 50%;\n",
              "      cursor: pointer;\n",
              "      display: none;\n",
              "      fill: #1967D2;\n",
              "      height: 32px;\n",
              "      padding: 0 0 0 0;\n",
              "      width: 32px;\n",
              "    }\n",
              "\n",
              "    .colab-df-convert:hover {\n",
              "      background-color: #E2EBFA;\n",
              "      box-shadow: 0px 1px 2px rgba(60, 64, 67, 0.3), 0px 1px 3px 1px rgba(60, 64, 67, 0.15);\n",
              "      fill: #174EA6;\n",
              "    }\n",
              "\n",
              "    .colab-df-buttons div {\n",
              "      margin-bottom: 4px;\n",
              "    }\n",
              "\n",
              "    [theme=dark] .colab-df-convert {\n",
              "      background-color: #3B4455;\n",
              "      fill: #D2E3FC;\n",
              "    }\n",
              "\n",
              "    [theme=dark] .colab-df-convert:hover {\n",
              "      background-color: #434B5C;\n",
              "      box-shadow: 0px 1px 3px 1px rgba(0, 0, 0, 0.15);\n",
              "      filter: drop-shadow(0px 1px 2px rgba(0, 0, 0, 0.3));\n",
              "      fill: #FFFFFF;\n",
              "    }\n",
              "  </style>\n",
              "\n",
              "    <script>\n",
              "      const buttonEl =\n",
              "        document.querySelector('#df-6f8d8273-97f4-4f43-bff6-ded85a0347ec button.colab-df-convert');\n",
              "      buttonEl.style.display =\n",
              "        google.colab.kernel.accessAllowed ? 'block' : 'none';\n",
              "\n",
              "      async function convertToInteractive(key) {\n",
              "        const element = document.querySelector('#df-6f8d8273-97f4-4f43-bff6-ded85a0347ec');\n",
              "        const dataTable =\n",
              "          await google.colab.kernel.invokeFunction('convertToInteractive',\n",
              "                                                    [key], {});\n",
              "        if (!dataTable) return;\n",
              "\n",
              "        const docLinkHtml = 'Like what you see? Visit the ' +\n",
              "          '<a target=\"_blank\" href=https://colab.research.google.com/notebooks/data_table.ipynb>data table notebook</a>'\n",
              "          + ' to learn more about interactive tables.';\n",
              "        element.innerHTML = '';\n",
              "        dataTable['output_type'] = 'display_data';\n",
              "        await google.colab.output.renderOutput(dataTable, element);\n",
              "        const docLink = document.createElement('div');\n",
              "        docLink.innerHTML = docLinkHtml;\n",
              "        element.appendChild(docLink);\n",
              "      }\n",
              "    </script>\n",
              "  </div>\n",
              "\n",
              "\n",
              "<div id=\"df-bf480a4c-25fb-4c99-8c5b-79b0ffd8bcd5\">\n",
              "  <button class=\"colab-df-quickchart\" onclick=\"quickchart('df-bf480a4c-25fb-4c99-8c5b-79b0ffd8bcd5')\"\n",
              "            title=\"Suggest charts\"\n",
              "            style=\"display:none;\">\n",
              "\n",
              "<svg xmlns=\"http://www.w3.org/2000/svg\" height=\"24px\"viewBox=\"0 0 24 24\"\n",
              "     width=\"24px\">\n",
              "    <g>\n",
              "        <path d=\"M19 3H5c-1.1 0-2 .9-2 2v14c0 1.1.9 2 2 2h14c1.1 0 2-.9 2-2V5c0-1.1-.9-2-2-2zM9 17H7v-7h2v7zm4 0h-2V7h2v10zm4 0h-2v-4h2v4z\"/>\n",
              "    </g>\n",
              "</svg>\n",
              "  </button>\n",
              "\n",
              "<style>\n",
              "  .colab-df-quickchart {\n",
              "      --bg-color: #E8F0FE;\n",
              "      --fill-color: #1967D2;\n",
              "      --hover-bg-color: #E2EBFA;\n",
              "      --hover-fill-color: #174EA6;\n",
              "      --disabled-fill-color: #AAA;\n",
              "      --disabled-bg-color: #DDD;\n",
              "  }\n",
              "\n",
              "  [theme=dark] .colab-df-quickchart {\n",
              "      --bg-color: #3B4455;\n",
              "      --fill-color: #D2E3FC;\n",
              "      --hover-bg-color: #434B5C;\n",
              "      --hover-fill-color: #FFFFFF;\n",
              "      --disabled-bg-color: #3B4455;\n",
              "      --disabled-fill-color: #666;\n",
              "  }\n",
              "\n",
              "  .colab-df-quickchart {\n",
              "    background-color: var(--bg-color);\n",
              "    border: none;\n",
              "    border-radius: 50%;\n",
              "    cursor: pointer;\n",
              "    display: none;\n",
              "    fill: var(--fill-color);\n",
              "    height: 32px;\n",
              "    padding: 0;\n",
              "    width: 32px;\n",
              "  }\n",
              "\n",
              "  .colab-df-quickchart:hover {\n",
              "    background-color: var(--hover-bg-color);\n",
              "    box-shadow: 0 1px 2px rgba(60, 64, 67, 0.3), 0 1px 3px 1px rgba(60, 64, 67, 0.15);\n",
              "    fill: var(--button-hover-fill-color);\n",
              "  }\n",
              "\n",
              "  .colab-df-quickchart-complete:disabled,\n",
              "  .colab-df-quickchart-complete:disabled:hover {\n",
              "    background-color: var(--disabled-bg-color);\n",
              "    fill: var(--disabled-fill-color);\n",
              "    box-shadow: none;\n",
              "  }\n",
              "\n",
              "  .colab-df-spinner {\n",
              "    border: 2px solid var(--fill-color);\n",
              "    border-color: transparent;\n",
              "    border-bottom-color: var(--fill-color);\n",
              "    animation:\n",
              "      spin 1s steps(1) infinite;\n",
              "  }\n",
              "\n",
              "  @keyframes spin {\n",
              "    0% {\n",
              "      border-color: transparent;\n",
              "      border-bottom-color: var(--fill-color);\n",
              "      border-left-color: var(--fill-color);\n",
              "    }\n",
              "    20% {\n",
              "      border-color: transparent;\n",
              "      border-left-color: var(--fill-color);\n",
              "      border-top-color: var(--fill-color);\n",
              "    }\n",
              "    30% {\n",
              "      border-color: transparent;\n",
              "      border-left-color: var(--fill-color);\n",
              "      border-top-color: var(--fill-color);\n",
              "      border-right-color: var(--fill-color);\n",
              "    }\n",
              "    40% {\n",
              "      border-color: transparent;\n",
              "      border-right-color: var(--fill-color);\n",
              "      border-top-color: var(--fill-color);\n",
              "    }\n",
              "    60% {\n",
              "      border-color: transparent;\n",
              "      border-right-color: var(--fill-color);\n",
              "    }\n",
              "    80% {\n",
              "      border-color: transparent;\n",
              "      border-right-color: var(--fill-color);\n",
              "      border-bottom-color: var(--fill-color);\n",
              "    }\n",
              "    90% {\n",
              "      border-color: transparent;\n",
              "      border-bottom-color: var(--fill-color);\n",
              "    }\n",
              "  }\n",
              "</style>\n",
              "\n",
              "  <script>\n",
              "    async function quickchart(key) {\n",
              "      const quickchartButtonEl =\n",
              "        document.querySelector('#' + key + ' button');\n",
              "      quickchartButtonEl.disabled = true;  // To prevent multiple clicks.\n",
              "      quickchartButtonEl.classList.add('colab-df-spinner');\n",
              "      try {\n",
              "        const charts = await google.colab.kernel.invokeFunction(\n",
              "            'suggestCharts', [key], {});\n",
              "      } catch (error) {\n",
              "        console.error('Error during call to suggestCharts:', error);\n",
              "      }\n",
              "      quickchartButtonEl.classList.remove('colab-df-spinner');\n",
              "      quickchartButtonEl.classList.add('colab-df-quickchart-complete');\n",
              "    }\n",
              "    (() => {\n",
              "      let quickchartButtonEl =\n",
              "        document.querySelector('#df-bf480a4c-25fb-4c99-8c5b-79b0ffd8bcd5 button');\n",
              "      quickchartButtonEl.style.display =\n",
              "        google.colab.kernel.accessAllowed ? 'block' : 'none';\n",
              "    })();\n",
              "  </script>\n",
              "</div>\n",
              "\n",
              "    </div>\n",
              "  </div>\n"
            ],
            "application/vnd.google.colaboratory.intrinsic+json": {
              "type": "dataframe",
              "variable_name": "df_swda_final",
              "summary": "{\n  \"name\": \"df_swda_final\",\n  \"rows\": 1526,\n  \"fields\": [\n    {\n      \"column\": \"text_input\",\n      \"properties\": {\n        \"dtype\": \"string\",\n        \"num_unique_values\": 1424,\n        \"samples\": [\n          \"Did you go on the Barrier Re , did you see the Great Barrier Reef and, and go snorkeling? I, I, actually I didn't go diving.\",\n          \"I'm, I guess you're right the, the diesel has almost fallen into unpopular status. I don't know exactly why. One of the reasons is I, I'm beginning to wonder is, where do you get gas at. I su , I don't know if it's still, uh, limited like it was, I don't notice it, probably because I don , What, the availability?\",\n          \"You know. But it is nice, it is a, it is really a nice area. I, I had a friend from England visit once at Christmas, and we could not get her out of the what she called the back garden.\"\n        ],\n        \"semantic_type\": \"\",\n        \"description\": \"\"\n      }\n    },\n    {\n      \"column\": \"label\",\n      \"properties\": {\n        \"dtype\": \"category\",\n        \"num_unique_values\": 3,\n        \"samples\": [\n          \"yes\",\n          \"no\",\n          \"middle\"\n        ],\n        \"semantic_type\": \"\",\n        \"description\": \"\"\n      }\n    }\n  ]\n}"
            }
          },
          "metadata": {},
          "execution_count": 18
        }
      ],
      "source": [
        "df_swda_final.head()"
      ]
    },
    {
      "cell_type": "markdown",
      "metadata": {
        "id": "ZRgOeNAt1tsi"
      },
      "source": [
        "Now, I have two dataframes -> df_circa_final and df_swda_final"
      ]
    },
    {
      "cell_type": "code",
      "execution_count": null,
      "metadata": {
        "colab": {
          "base_uri": "https://localhost:8080/",
          "height": 206
        },
        "id": "JCAESkzy1yei",
        "outputId": "e31f6eae-dff7-4316-d91e-1b194bde5adb"
      },
      "outputs": [
        {
          "output_type": "execute_result",
          "data": {
            "text/plain": [
              "                                          text_input   label\n",
              "0  Um, does your work entitle, uh, anything of en...     yes\n",
              "1  Now is that place built or you're still on the...      no\n",
              "2  So, can you dress pretty casually? Um, on occa...     yes\n",
              "3  Well, isn't, isn't SLEEPING WITH THE ENEMY, is...      no\n",
              "4  Do you know who the guy was that was playing t...  middle"
            ],
            "text/html": [
              "\n",
              "  <div id=\"df-8d2bd3e3-99b7-484c-bf76-ed96e8775e06\" class=\"colab-df-container\">\n",
              "    <div>\n",
              "<style scoped>\n",
              "    .dataframe tbody tr th:only-of-type {\n",
              "        vertical-align: middle;\n",
              "    }\n",
              "\n",
              "    .dataframe tbody tr th {\n",
              "        vertical-align: top;\n",
              "    }\n",
              "\n",
              "    .dataframe thead th {\n",
              "        text-align: right;\n",
              "    }\n",
              "</style>\n",
              "<table border=\"1\" class=\"dataframe\">\n",
              "  <thead>\n",
              "    <tr style=\"text-align: right;\">\n",
              "      <th></th>\n",
              "      <th>text_input</th>\n",
              "      <th>label</th>\n",
              "    </tr>\n",
              "  </thead>\n",
              "  <tbody>\n",
              "    <tr>\n",
              "      <th>0</th>\n",
              "      <td>Um, does your work entitle, uh, anything of en...</td>\n",
              "      <td>yes</td>\n",
              "    </tr>\n",
              "    <tr>\n",
              "      <th>1</th>\n",
              "      <td>Now is that place built or you're still on the...</td>\n",
              "      <td>no</td>\n",
              "    </tr>\n",
              "    <tr>\n",
              "      <th>2</th>\n",
              "      <td>So, can you dress pretty casually? Um, on occa...</td>\n",
              "      <td>yes</td>\n",
              "    </tr>\n",
              "    <tr>\n",
              "      <th>3</th>\n",
              "      <td>Well, isn't, isn't SLEEPING WITH THE ENEMY, is...</td>\n",
              "      <td>no</td>\n",
              "    </tr>\n",
              "    <tr>\n",
              "      <th>4</th>\n",
              "      <td>Do you know who the guy was that was playing t...</td>\n",
              "      <td>middle</td>\n",
              "    </tr>\n",
              "  </tbody>\n",
              "</table>\n",
              "</div>\n",
              "    <div class=\"colab-df-buttons\">\n",
              "\n",
              "  <div class=\"colab-df-container\">\n",
              "    <button class=\"colab-df-convert\" onclick=\"convertToInteractive('df-8d2bd3e3-99b7-484c-bf76-ed96e8775e06')\"\n",
              "            title=\"Convert this dataframe to an interactive table.\"\n",
              "            style=\"display:none;\">\n",
              "\n",
              "  <svg xmlns=\"http://www.w3.org/2000/svg\" height=\"24px\" viewBox=\"0 -960 960 960\">\n",
              "    <path d=\"M120-120v-720h720v720H120Zm60-500h600v-160H180v160Zm220 220h160v-160H400v160Zm0 220h160v-160H400v160ZM180-400h160v-160H180v160Zm440 0h160v-160H620v160ZM180-180h160v-160H180v160Zm440 0h160v-160H620v160Z\"/>\n",
              "  </svg>\n",
              "    </button>\n",
              "\n",
              "  <style>\n",
              "    .colab-df-container {\n",
              "      display:flex;\n",
              "      gap: 12px;\n",
              "    }\n",
              "\n",
              "    .colab-df-convert {\n",
              "      background-color: #E8F0FE;\n",
              "      border: none;\n",
              "      border-radius: 50%;\n",
              "      cursor: pointer;\n",
              "      display: none;\n",
              "      fill: #1967D2;\n",
              "      height: 32px;\n",
              "      padding: 0 0 0 0;\n",
              "      width: 32px;\n",
              "    }\n",
              "\n",
              "    .colab-df-convert:hover {\n",
              "      background-color: #E2EBFA;\n",
              "      box-shadow: 0px 1px 2px rgba(60, 64, 67, 0.3), 0px 1px 3px 1px rgba(60, 64, 67, 0.15);\n",
              "      fill: #174EA6;\n",
              "    }\n",
              "\n",
              "    .colab-df-buttons div {\n",
              "      margin-bottom: 4px;\n",
              "    }\n",
              "\n",
              "    [theme=dark] .colab-df-convert {\n",
              "      background-color: #3B4455;\n",
              "      fill: #D2E3FC;\n",
              "    }\n",
              "\n",
              "    [theme=dark] .colab-df-convert:hover {\n",
              "      background-color: #434B5C;\n",
              "      box-shadow: 0px 1px 3px 1px rgba(0, 0, 0, 0.15);\n",
              "      filter: drop-shadow(0px 1px 2px rgba(0, 0, 0, 0.3));\n",
              "      fill: #FFFFFF;\n",
              "    }\n",
              "  </style>\n",
              "\n",
              "    <script>\n",
              "      const buttonEl =\n",
              "        document.querySelector('#df-8d2bd3e3-99b7-484c-bf76-ed96e8775e06 button.colab-df-convert');\n",
              "      buttonEl.style.display =\n",
              "        google.colab.kernel.accessAllowed ? 'block' : 'none';\n",
              "\n",
              "      async function convertToInteractive(key) {\n",
              "        const element = document.querySelector('#df-8d2bd3e3-99b7-484c-bf76-ed96e8775e06');\n",
              "        const dataTable =\n",
              "          await google.colab.kernel.invokeFunction('convertToInteractive',\n",
              "                                                    [key], {});\n",
              "        if (!dataTable) return;\n",
              "\n",
              "        const docLinkHtml = 'Like what you see? Visit the ' +\n",
              "          '<a target=\"_blank\" href=https://colab.research.google.com/notebooks/data_table.ipynb>data table notebook</a>'\n",
              "          + ' to learn more about interactive tables.';\n",
              "        element.innerHTML = '';\n",
              "        dataTable['output_type'] = 'display_data';\n",
              "        await google.colab.output.renderOutput(dataTable, element);\n",
              "        const docLink = document.createElement('div');\n",
              "        docLink.innerHTML = docLinkHtml;\n",
              "        element.appendChild(docLink);\n",
              "      }\n",
              "    </script>\n",
              "  </div>\n",
              "\n",
              "\n",
              "<div id=\"df-4e484fc2-dee6-436e-af8a-b8f93f5aac88\">\n",
              "  <button class=\"colab-df-quickchart\" onclick=\"quickchart('df-4e484fc2-dee6-436e-af8a-b8f93f5aac88')\"\n",
              "            title=\"Suggest charts\"\n",
              "            style=\"display:none;\">\n",
              "\n",
              "<svg xmlns=\"http://www.w3.org/2000/svg\" height=\"24px\"viewBox=\"0 0 24 24\"\n",
              "     width=\"24px\">\n",
              "    <g>\n",
              "        <path d=\"M19 3H5c-1.1 0-2 .9-2 2v14c0 1.1.9 2 2 2h14c1.1 0 2-.9 2-2V5c0-1.1-.9-2-2-2zM9 17H7v-7h2v7zm4 0h-2V7h2v10zm4 0h-2v-4h2v4z\"/>\n",
              "    </g>\n",
              "</svg>\n",
              "  </button>\n",
              "\n",
              "<style>\n",
              "  .colab-df-quickchart {\n",
              "      --bg-color: #E8F0FE;\n",
              "      --fill-color: #1967D2;\n",
              "      --hover-bg-color: #E2EBFA;\n",
              "      --hover-fill-color: #174EA6;\n",
              "      --disabled-fill-color: #AAA;\n",
              "      --disabled-bg-color: #DDD;\n",
              "  }\n",
              "\n",
              "  [theme=dark] .colab-df-quickchart {\n",
              "      --bg-color: #3B4455;\n",
              "      --fill-color: #D2E3FC;\n",
              "      --hover-bg-color: #434B5C;\n",
              "      --hover-fill-color: #FFFFFF;\n",
              "      --disabled-bg-color: #3B4455;\n",
              "      --disabled-fill-color: #666;\n",
              "  }\n",
              "\n",
              "  .colab-df-quickchart {\n",
              "    background-color: var(--bg-color);\n",
              "    border: none;\n",
              "    border-radius: 50%;\n",
              "    cursor: pointer;\n",
              "    display: none;\n",
              "    fill: var(--fill-color);\n",
              "    height: 32px;\n",
              "    padding: 0;\n",
              "    width: 32px;\n",
              "  }\n",
              "\n",
              "  .colab-df-quickchart:hover {\n",
              "    background-color: var(--hover-bg-color);\n",
              "    box-shadow: 0 1px 2px rgba(60, 64, 67, 0.3), 0 1px 3px 1px rgba(60, 64, 67, 0.15);\n",
              "    fill: var(--button-hover-fill-color);\n",
              "  }\n",
              "\n",
              "  .colab-df-quickchart-complete:disabled,\n",
              "  .colab-df-quickchart-complete:disabled:hover {\n",
              "    background-color: var(--disabled-bg-color);\n",
              "    fill: var(--disabled-fill-color);\n",
              "    box-shadow: none;\n",
              "  }\n",
              "\n",
              "  .colab-df-spinner {\n",
              "    border: 2px solid var(--fill-color);\n",
              "    border-color: transparent;\n",
              "    border-bottom-color: var(--fill-color);\n",
              "    animation:\n",
              "      spin 1s steps(1) infinite;\n",
              "  }\n",
              "\n",
              "  @keyframes spin {\n",
              "    0% {\n",
              "      border-color: transparent;\n",
              "      border-bottom-color: var(--fill-color);\n",
              "      border-left-color: var(--fill-color);\n",
              "    }\n",
              "    20% {\n",
              "      border-color: transparent;\n",
              "      border-left-color: var(--fill-color);\n",
              "      border-top-color: var(--fill-color);\n",
              "    }\n",
              "    30% {\n",
              "      border-color: transparent;\n",
              "      border-left-color: var(--fill-color);\n",
              "      border-top-color: var(--fill-color);\n",
              "      border-right-color: var(--fill-color);\n",
              "    }\n",
              "    40% {\n",
              "      border-color: transparent;\n",
              "      border-right-color: var(--fill-color);\n",
              "      border-top-color: var(--fill-color);\n",
              "    }\n",
              "    60% {\n",
              "      border-color: transparent;\n",
              "      border-right-color: var(--fill-color);\n",
              "    }\n",
              "    80% {\n",
              "      border-color: transparent;\n",
              "      border-right-color: var(--fill-color);\n",
              "      border-bottom-color: var(--fill-color);\n",
              "    }\n",
              "    90% {\n",
              "      border-color: transparent;\n",
              "      border-bottom-color: var(--fill-color);\n",
              "    }\n",
              "  }\n",
              "</style>\n",
              "\n",
              "  <script>\n",
              "    async function quickchart(key) {\n",
              "      const quickchartButtonEl =\n",
              "        document.querySelector('#' + key + ' button');\n",
              "      quickchartButtonEl.disabled = true;  // To prevent multiple clicks.\n",
              "      quickchartButtonEl.classList.add('colab-df-spinner');\n",
              "      try {\n",
              "        const charts = await google.colab.kernel.invokeFunction(\n",
              "            'suggestCharts', [key], {});\n",
              "      } catch (error) {\n",
              "        console.error('Error during call to suggestCharts:', error);\n",
              "      }\n",
              "      quickchartButtonEl.classList.remove('colab-df-spinner');\n",
              "      quickchartButtonEl.classList.add('colab-df-quickchart-complete');\n",
              "    }\n",
              "    (() => {\n",
              "      let quickchartButtonEl =\n",
              "        document.querySelector('#df-4e484fc2-dee6-436e-af8a-b8f93f5aac88 button');\n",
              "      quickchartButtonEl.style.display =\n",
              "        google.colab.kernel.accessAllowed ? 'block' : 'none';\n",
              "    })();\n",
              "  </script>\n",
              "</div>\n",
              "\n",
              "    </div>\n",
              "  </div>\n"
            ],
            "application/vnd.google.colaboratory.intrinsic+json": {
              "type": "dataframe",
              "variable_name": "df_swda_final",
              "summary": "{\n  \"name\": \"df_swda_final\",\n  \"rows\": 1526,\n  \"fields\": [\n    {\n      \"column\": \"text_input\",\n      \"properties\": {\n        \"dtype\": \"string\",\n        \"num_unique_values\": 1424,\n        \"samples\": [\n          \"Did you go on the Barrier Re , did you see the Great Barrier Reef and, and go snorkeling? I, I, actually I didn't go diving.\",\n          \"I'm, I guess you're right the, the diesel has almost fallen into unpopular status. I don't know exactly why. One of the reasons is I, I'm beginning to wonder is, where do you get gas at. I su , I don't know if it's still, uh, limited like it was, I don't notice it, probably because I don , What, the availability?\",\n          \"You know. But it is nice, it is a, it is really a nice area. I, I had a friend from England visit once at Christmas, and we could not get her out of the what she called the back garden.\"\n        ],\n        \"semantic_type\": \"\",\n        \"description\": \"\"\n      }\n    },\n    {\n      \"column\": \"label\",\n      \"properties\": {\n        \"dtype\": \"category\",\n        \"num_unique_values\": 3,\n        \"samples\": [\n          \"yes\",\n          \"no\",\n          \"middle\"\n        ],\n        \"semantic_type\": \"\",\n        \"description\": \"\"\n      }\n    }\n  ]\n}"
            }
          },
          "metadata": {},
          "execution_count": 18
        }
      ],
      "source": [
        "df_swda_final.head()"
      ]
    },
    {
      "cell_type": "markdown",
      "source": [
        "## Creating the final english dataset"
      ],
      "metadata": {
        "id": "X8wMV4OX2Td0"
      }
    },
    {
      "cell_type": "code",
      "execution_count": null,
      "metadata": {
        "id": "u1QMxpFqDv-L"
      },
      "outputs": [],
      "source": [
        "df_english = pd.concat([df_circa_final, df_swda_final], axis = 0)"
      ]
    },
    {
      "cell_type": "code",
      "execution_count": null,
      "metadata": {
        "colab": {
          "base_uri": "https://localhost:8080/",
          "height": 206
        },
        "id": "5LYGclFudzO1",
        "outputId": "3f0c4388-5f13-4763-b21b-aaa1130c4a57"
      },
      "outputs": [
        {
          "output_type": "execute_result",
          "data": {
            "text/plain": [
              "                                          text_input   label\n",
              "0     Are you employed? I'm a veterinary technician.     yes\n",
              "1    Are you a fan of Korean food? I wouldn't say so      no\n",
              "2  Are you bringing any pets into the flat? I do ...      no\n",
              "3  Would you like to get some fresh air in your f...     yes\n",
              "4  Is your family still living in the neighborhoo...  middle"
            ],
            "text/html": [
              "\n",
              "  <div id=\"df-784ccbb0-882a-46f7-a313-25ceac3114a1\" class=\"colab-df-container\">\n",
              "    <div>\n",
              "<style scoped>\n",
              "    .dataframe tbody tr th:only-of-type {\n",
              "        vertical-align: middle;\n",
              "    }\n",
              "\n",
              "    .dataframe tbody tr th {\n",
              "        vertical-align: top;\n",
              "    }\n",
              "\n",
              "    .dataframe thead th {\n",
              "        text-align: right;\n",
              "    }\n",
              "</style>\n",
              "<table border=\"1\" class=\"dataframe\">\n",
              "  <thead>\n",
              "    <tr style=\"text-align: right;\">\n",
              "      <th></th>\n",
              "      <th>text_input</th>\n",
              "      <th>label</th>\n",
              "    </tr>\n",
              "  </thead>\n",
              "  <tbody>\n",
              "    <tr>\n",
              "      <th>0</th>\n",
              "      <td>Are you employed? I'm a veterinary technician.</td>\n",
              "      <td>yes</td>\n",
              "    </tr>\n",
              "    <tr>\n",
              "      <th>1</th>\n",
              "      <td>Are you a fan of Korean food? I wouldn't say so</td>\n",
              "      <td>no</td>\n",
              "    </tr>\n",
              "    <tr>\n",
              "      <th>2</th>\n",
              "      <td>Are you bringing any pets into the flat? I do ...</td>\n",
              "      <td>no</td>\n",
              "    </tr>\n",
              "    <tr>\n",
              "      <th>3</th>\n",
              "      <td>Would you like to get some fresh air in your f...</td>\n",
              "      <td>yes</td>\n",
              "    </tr>\n",
              "    <tr>\n",
              "      <th>4</th>\n",
              "      <td>Is your family still living in the neighborhoo...</td>\n",
              "      <td>middle</td>\n",
              "    </tr>\n",
              "  </tbody>\n",
              "</table>\n",
              "</div>\n",
              "    <div class=\"colab-df-buttons\">\n",
              "\n",
              "  <div class=\"colab-df-container\">\n",
              "    <button class=\"colab-df-convert\" onclick=\"convertToInteractive('df-784ccbb0-882a-46f7-a313-25ceac3114a1')\"\n",
              "            title=\"Convert this dataframe to an interactive table.\"\n",
              "            style=\"display:none;\">\n",
              "\n",
              "  <svg xmlns=\"http://www.w3.org/2000/svg\" height=\"24px\" viewBox=\"0 -960 960 960\">\n",
              "    <path d=\"M120-120v-720h720v720H120Zm60-500h600v-160H180v160Zm220 220h160v-160H400v160Zm0 220h160v-160H400v160ZM180-400h160v-160H180v160Zm440 0h160v-160H620v160ZM180-180h160v-160H180v160Zm440 0h160v-160H620v160Z\"/>\n",
              "  </svg>\n",
              "    </button>\n",
              "\n",
              "  <style>\n",
              "    .colab-df-container {\n",
              "      display:flex;\n",
              "      gap: 12px;\n",
              "    }\n",
              "\n",
              "    .colab-df-convert {\n",
              "      background-color: #E8F0FE;\n",
              "      border: none;\n",
              "      border-radius: 50%;\n",
              "      cursor: pointer;\n",
              "      display: none;\n",
              "      fill: #1967D2;\n",
              "      height: 32px;\n",
              "      padding: 0 0 0 0;\n",
              "      width: 32px;\n",
              "    }\n",
              "\n",
              "    .colab-df-convert:hover {\n",
              "      background-color: #E2EBFA;\n",
              "      box-shadow: 0px 1px 2px rgba(60, 64, 67, 0.3), 0px 1px 3px 1px rgba(60, 64, 67, 0.15);\n",
              "      fill: #174EA6;\n",
              "    }\n",
              "\n",
              "    .colab-df-buttons div {\n",
              "      margin-bottom: 4px;\n",
              "    }\n",
              "\n",
              "    [theme=dark] .colab-df-convert {\n",
              "      background-color: #3B4455;\n",
              "      fill: #D2E3FC;\n",
              "    }\n",
              "\n",
              "    [theme=dark] .colab-df-convert:hover {\n",
              "      background-color: #434B5C;\n",
              "      box-shadow: 0px 1px 3px 1px rgba(0, 0, 0, 0.15);\n",
              "      filter: drop-shadow(0px 1px 2px rgba(0, 0, 0, 0.3));\n",
              "      fill: #FFFFFF;\n",
              "    }\n",
              "  </style>\n",
              "\n",
              "    <script>\n",
              "      const buttonEl =\n",
              "        document.querySelector('#df-784ccbb0-882a-46f7-a313-25ceac3114a1 button.colab-df-convert');\n",
              "      buttonEl.style.display =\n",
              "        google.colab.kernel.accessAllowed ? 'block' : 'none';\n",
              "\n",
              "      async function convertToInteractive(key) {\n",
              "        const element = document.querySelector('#df-784ccbb0-882a-46f7-a313-25ceac3114a1');\n",
              "        const dataTable =\n",
              "          await google.colab.kernel.invokeFunction('convertToInteractive',\n",
              "                                                    [key], {});\n",
              "        if (!dataTable) return;\n",
              "\n",
              "        const docLinkHtml = 'Like what you see? Visit the ' +\n",
              "          '<a target=\"_blank\" href=https://colab.research.google.com/notebooks/data_table.ipynb>data table notebook</a>'\n",
              "          + ' to learn more about interactive tables.';\n",
              "        element.innerHTML = '';\n",
              "        dataTable['output_type'] = 'display_data';\n",
              "        await google.colab.output.renderOutput(dataTable, element);\n",
              "        const docLink = document.createElement('div');\n",
              "        docLink.innerHTML = docLinkHtml;\n",
              "        element.appendChild(docLink);\n",
              "      }\n",
              "    </script>\n",
              "  </div>\n",
              "\n",
              "\n",
              "<div id=\"df-cad712df-44a7-42e9-9d0d-0b5464fcb032\">\n",
              "  <button class=\"colab-df-quickchart\" onclick=\"quickchart('df-cad712df-44a7-42e9-9d0d-0b5464fcb032')\"\n",
              "            title=\"Suggest charts\"\n",
              "            style=\"display:none;\">\n",
              "\n",
              "<svg xmlns=\"http://www.w3.org/2000/svg\" height=\"24px\"viewBox=\"0 0 24 24\"\n",
              "     width=\"24px\">\n",
              "    <g>\n",
              "        <path d=\"M19 3H5c-1.1 0-2 .9-2 2v14c0 1.1.9 2 2 2h14c1.1 0 2-.9 2-2V5c0-1.1-.9-2-2-2zM9 17H7v-7h2v7zm4 0h-2V7h2v10zm4 0h-2v-4h2v4z\"/>\n",
              "    </g>\n",
              "</svg>\n",
              "  </button>\n",
              "\n",
              "<style>\n",
              "  .colab-df-quickchart {\n",
              "      --bg-color: #E8F0FE;\n",
              "      --fill-color: #1967D2;\n",
              "      --hover-bg-color: #E2EBFA;\n",
              "      --hover-fill-color: #174EA6;\n",
              "      --disabled-fill-color: #AAA;\n",
              "      --disabled-bg-color: #DDD;\n",
              "  }\n",
              "\n",
              "  [theme=dark] .colab-df-quickchart {\n",
              "      --bg-color: #3B4455;\n",
              "      --fill-color: #D2E3FC;\n",
              "      --hover-bg-color: #434B5C;\n",
              "      --hover-fill-color: #FFFFFF;\n",
              "      --disabled-bg-color: #3B4455;\n",
              "      --disabled-fill-color: #666;\n",
              "  }\n",
              "\n",
              "  .colab-df-quickchart {\n",
              "    background-color: var(--bg-color);\n",
              "    border: none;\n",
              "    border-radius: 50%;\n",
              "    cursor: pointer;\n",
              "    display: none;\n",
              "    fill: var(--fill-color);\n",
              "    height: 32px;\n",
              "    padding: 0;\n",
              "    width: 32px;\n",
              "  }\n",
              "\n",
              "  .colab-df-quickchart:hover {\n",
              "    background-color: var(--hover-bg-color);\n",
              "    box-shadow: 0 1px 2px rgba(60, 64, 67, 0.3), 0 1px 3px 1px rgba(60, 64, 67, 0.15);\n",
              "    fill: var(--button-hover-fill-color);\n",
              "  }\n",
              "\n",
              "  .colab-df-quickchart-complete:disabled,\n",
              "  .colab-df-quickchart-complete:disabled:hover {\n",
              "    background-color: var(--disabled-bg-color);\n",
              "    fill: var(--disabled-fill-color);\n",
              "    box-shadow: none;\n",
              "  }\n",
              "\n",
              "  .colab-df-spinner {\n",
              "    border: 2px solid var(--fill-color);\n",
              "    border-color: transparent;\n",
              "    border-bottom-color: var(--fill-color);\n",
              "    animation:\n",
              "      spin 1s steps(1) infinite;\n",
              "  }\n",
              "\n",
              "  @keyframes spin {\n",
              "    0% {\n",
              "      border-color: transparent;\n",
              "      border-bottom-color: var(--fill-color);\n",
              "      border-left-color: var(--fill-color);\n",
              "    }\n",
              "    20% {\n",
              "      border-color: transparent;\n",
              "      border-left-color: var(--fill-color);\n",
              "      border-top-color: var(--fill-color);\n",
              "    }\n",
              "    30% {\n",
              "      border-color: transparent;\n",
              "      border-left-color: var(--fill-color);\n",
              "      border-top-color: var(--fill-color);\n",
              "      border-right-color: var(--fill-color);\n",
              "    }\n",
              "    40% {\n",
              "      border-color: transparent;\n",
              "      border-right-color: var(--fill-color);\n",
              "      border-top-color: var(--fill-color);\n",
              "    }\n",
              "    60% {\n",
              "      border-color: transparent;\n",
              "      border-right-color: var(--fill-color);\n",
              "    }\n",
              "    80% {\n",
              "      border-color: transparent;\n",
              "      border-right-color: var(--fill-color);\n",
              "      border-bottom-color: var(--fill-color);\n",
              "    }\n",
              "    90% {\n",
              "      border-color: transparent;\n",
              "      border-bottom-color: var(--fill-color);\n",
              "    }\n",
              "  }\n",
              "</style>\n",
              "\n",
              "  <script>\n",
              "    async function quickchart(key) {\n",
              "      const quickchartButtonEl =\n",
              "        document.querySelector('#' + key + ' button');\n",
              "      quickchartButtonEl.disabled = true;  // To prevent multiple clicks.\n",
              "      quickchartButtonEl.classList.add('colab-df-spinner');\n",
              "      try {\n",
              "        const charts = await google.colab.kernel.invokeFunction(\n",
              "            'suggestCharts', [key], {});\n",
              "      } catch (error) {\n",
              "        console.error('Error during call to suggestCharts:', error);\n",
              "      }\n",
              "      quickchartButtonEl.classList.remove('colab-df-spinner');\n",
              "      quickchartButtonEl.classList.add('colab-df-quickchart-complete');\n",
              "    }\n",
              "    (() => {\n",
              "      let quickchartButtonEl =\n",
              "        document.querySelector('#df-cad712df-44a7-42e9-9d0d-0b5464fcb032 button');\n",
              "      quickchartButtonEl.style.display =\n",
              "        google.colab.kernel.accessAllowed ? 'block' : 'none';\n",
              "    })();\n",
              "  </script>\n",
              "</div>\n",
              "\n",
              "    </div>\n",
              "  </div>\n"
            ],
            "application/vnd.google.colaboratory.intrinsic+json": {
              "type": "dataframe",
              "variable_name": "df_english",
              "summary": "{\n  \"name\": \"df_english\",\n  \"rows\": 34519,\n  \"fields\": [\n    {\n      \"column\": \"text_input\",\n      \"properties\": {\n        \"dtype\": \"string\",\n        \"num_unique_values\": 34226,\n        \"samples\": [\n          \"Are you interest in current science fiction books? I always enjoy some books based on space and fantasy.\",\n          \"Does rock interest you at all? I love bands like Aerosmith, The Clash, and The Talking Heads!\",\n          \"Do you like Chinese food? I like spring rolls.\"\n        ],\n        \"semantic_type\": \"\",\n        \"description\": \"\"\n      }\n    },\n    {\n      \"column\": \"label\",\n      \"properties\": {\n        \"dtype\": \"category\",\n        \"num_unique_values\": 3,\n        \"samples\": [\n          \"yes\",\n          \"no\",\n          \"middle\"\n        ],\n        \"semantic_type\": \"\",\n        \"description\": \"\"\n      }\n    }\n  ]\n}"
            }
          },
          "metadata": {},
          "execution_count": 20
        }
      ],
      "source": [
        "df_english.head()"
      ]
    },
    {
      "cell_type": "markdown",
      "metadata": {
        "id": "wQGTNOfDA9nb"
      },
      "source": [
        "## Setting up the model, training, and testing procedures"
      ]
    },
    {
      "cell_type": "code",
      "execution_count": null,
      "metadata": {
        "colab": {
          "base_uri": "https://localhost:8080/"
        },
        "id": "l1nV_KBIR_af",
        "outputId": "db3fe8e2-76db-4e60-e099-ac1ae3b9d3fa"
      },
      "outputs": [
        {
          "output_type": "stream",
          "name": "stdout",
          "text": [
            "Found device: Tesla T4, n_gpu: 1\n"
          ]
        }
      ],
      "source": [
        "import torch\n",
        "torch.cuda.empty_cache()\n",
        "\n",
        "# Confirm that the GPU is detected\n",
        "\n",
        "assert torch.cuda.is_available()\n",
        "\n",
        "# Get the GPU device name.\n",
        "device_name = torch.cuda.get_device_name()\n",
        "n_gpu = torch.cuda.device_count()\n",
        "print(f\"Found device: {device_name}, n_gpu: {n_gpu}\")\n",
        "device = torch.device(\"cuda\")"
      ]
    },
    {
      "cell_type": "code",
      "execution_count": null,
      "metadata": {
        "id": "c6_WsSmzOvTk"
      },
      "outputs": [],
      "source": [
        "import random\n",
        "import numpy as np\n",
        "import torch\n",
        "\n",
        "def seed_everything(seed=42):\n",
        "    random.seed(seed)\n",
        "    np.random.seed(seed)\n",
        "    torch.manual_seed(seed)\n",
        "    torch.cuda.manual_seed(seed)\n",
        "    torch.cuda.manual_seed_all(seed)\n",
        "    torch.backends.cudnn.benchmark = False\n",
        "    torch.backends.cudnn.deterministic = True\n",
        "\n",
        "seed_everything()"
      ]
    },
    {
      "cell_type": "code",
      "execution_count": null,
      "metadata": {
        "id": "Sht6FDhuPXlT"
      },
      "outputs": [],
      "source": [
        "# Mapping various labels across all the datasets to standardized 0, 1, and 2 (for multiclass classification)\n",
        "label_mapping = {'yes': 0, 'no': 1, 'middle': 2, 0: 0, 1: 1, 2: 2}"
      ]
    },
    {
      "cell_type": "code",
      "execution_count": null,
      "metadata": {
        "id": "TMc3VqM2cxfY"
      },
      "outputs": [],
      "source": [
        "# A function the simply creates inputs for our model - Utlizes the XLMRobertaTokenizer present in helpers.py\n",
        "from helpers import tokenize_and_format, flat_accuracy\n",
        "import pandas as pd\n",
        "import numpy as np\n",
        "\n",
        "def create_tensors_and_text(df, shuffle=False):\n",
        "  # returns input_ids, attention_masks, labels\n",
        "  seed_everything()\n",
        "\n",
        "\n",
        "  if shuffle:\n",
        "    df = df.sample(frac=1).reset_index(drop=True)\n",
        "\n",
        "  texts = df.text_input.values\n",
        "  labels = df.label.values\n",
        "\n",
        "  input_ids, attention_masks = tokenize_and_format(texts)\n",
        "\n",
        "  label_list = []\n",
        "  for l in labels:\n",
        "    label_array = np.zeros(len(set(labels)))\n",
        "    # label_array[int(l)-1] = 1\n",
        "    label_array[int(label_mapping[l])] = 1\n",
        "    label_list.append(label_array)\n",
        "\n",
        "  # Convert the lists into tensors.\n",
        "  input_ids = torch.cat(input_ids, dim=0)\n",
        "  attention_masks = torch.cat(attention_masks, dim=0)\n",
        "  labels = torch.tensor(np.array(label_list))\n",
        "\n",
        "  # Print sentence 0, now as a list of IDs.\n",
        "  print('Original: ', texts[0])\n",
        "  print('Token IDs:', input_ids[0])\n",
        "\n",
        "  return input_ids, attention_masks, labels"
      ]
    },
    {
      "cell_type": "code",
      "execution_count": null,
      "metadata": {
        "colab": {
          "base_uri": "https://localhost:8080/",
          "height": 418,
          "referenced_widgets": [
            "0b2b1fc7f7b549c1a3a3e82dd9bb2476",
            "bcebb9d9bc0d47cc8c8d7c68a0eaf6f6",
            "ba7daf4c50204d139907fe08c2161683",
            "4ce9eba2dde945b29900339eb8413e15",
            "5c6947280c5148f6b2b013e008dbe0a4",
            "e43a7dec328a40c4a78db588a0c252d2",
            "319ab054db724c3999716fdfbeb7cdbb",
            "53a26e9116ad4c85a729e7d12e164cd0",
            "2eb19e0e54524104b1e160a87d59f439",
            "edbd87210219494d8d66043998c4b2bd",
            "b81af0067b0448aaaea9288cb3dc9f75",
            "c274b7e86ed54619ac1ce35879a0f818",
            "f1dc148c87454bbbb6b6d430f8ff010d",
            "6447a19267824848ba5ed2c3881e89fd",
            "c9f99f3d6b3d4754a56394617e7b1335",
            "5b296b8b446d4829863b119a0a3f41fc",
            "0af9b7bb5fbe4f99a4fe9401cb036120",
            "26bf123d75764c61be5390bfe179950a",
            "bb36895625b940d5b4416e61c1b63466",
            "6f8574ad7d1d4b6ab8596ea1fe202204",
            "26200599c4204483b00eabc13c5e9086",
            "8d91c1da1cf949cd961069f31202eb67",
            "677b7201bf964651bfa2bf0e11779da3",
            "087fb7fe1bd04262a6c08b8a1702df0e",
            "f0f653260ecb4b46a2301997e2ea169c",
            "b7828da524d94ac9835bd49047090d95",
            "307d85dde5454c71b2886d3133b98824",
            "73933082f3c84ce2851408caf3dbd00f",
            "7be310bed669403d8724449579b933dd",
            "28653291e71e4971a2c56ffc9c60d721",
            "5bcd6cc14c724f4e9b5dfa14ce1c758c",
            "46cd1a841a5b4410b515dc907f762a05",
            "25936faae8dc43f1a99fa91ab369c03c",
            "299a816709894283bf03a828dfcd4252",
            "e55c5041669641d0b32911d4f4734f9d",
            "da12135042d244a797dcfc84cef88a99",
            "4f919fdd2d2d41478172acc76d7449e3",
            "151f35ed8e5747239042f39e7db20272",
            "c1b40b2ca6284018a4cde283de06e74c",
            "798df5e607b64c4f9384d175c2cf83ed",
            "6f9e42c0cbda4fc099e955d426206f64",
            "9ee652e12ea4404299b8bfb6a0705cdd",
            "517bfff1a49744b4b84b517bb781ead6",
            "1c8889525ead4ffe85034e2930e55c5d"
          ]
        },
        "id": "hOEYw5WXRNDv",
        "outputId": "3241733d-8da9-405e-9470-5f1a2f80d688"
      },
      "outputs": [
        {
          "output_type": "stream",
          "name": "stderr",
          "text": [
            "/usr/local/lib/python3.10/dist-packages/huggingface_hub/utils/_token.py:88: UserWarning: \n",
            "The secret `HF_TOKEN` does not exist in your Colab secrets.\n",
            "To authenticate with the Hugging Face Hub, create a token in your settings tab (https://huggingface.co/settings/tokens), set it as secret in your Google Colab and restart your session.\n",
            "You will be able to reuse this secret in all of your notebooks.\n",
            "Please note that authentication is recommended but still optional to access public models or datasets.\n",
            "  warnings.warn(\n"
          ]
        },
        {
          "output_type": "display_data",
          "data": {
            "text/plain": [
              "tokenizer_config.json:   0%|          | 0.00/25.0 [00:00<?, ?B/s]"
            ],
            "application/vnd.jupyter.widget-view+json": {
              "version_major": 2,
              "version_minor": 0,
              "model_id": "0b2b1fc7f7b549c1a3a3e82dd9bb2476"
            }
          },
          "metadata": {}
        },
        {
          "output_type": "display_data",
          "data": {
            "text/plain": [
              "sentencepiece.bpe.model:   0%|          | 0.00/5.07M [00:00<?, ?B/s]"
            ],
            "application/vnd.jupyter.widget-view+json": {
              "version_major": 2,
              "version_minor": 0,
              "model_id": "c274b7e86ed54619ac1ce35879a0f818"
            }
          },
          "metadata": {}
        },
        {
          "output_type": "display_data",
          "data": {
            "text/plain": [
              "tokenizer.json:   0%|          | 0.00/9.10M [00:00<?, ?B/s]"
            ],
            "application/vnd.jupyter.widget-view+json": {
              "version_major": 2,
              "version_minor": 0,
              "model_id": "677b7201bf964651bfa2bf0e11779da3"
            }
          },
          "metadata": {}
        },
        {
          "output_type": "display_data",
          "data": {
            "text/plain": [
              "config.json:   0%|          | 0.00/615 [00:00<?, ?B/s]"
            ],
            "application/vnd.jupyter.widget-view+json": {
              "version_major": 2,
              "version_minor": 0,
              "model_id": "299a816709894283bf03a828dfcd4252"
            }
          },
          "metadata": {}
        },
        {
          "output_type": "stream",
          "name": "stdout",
          "text": [
            "Original:  Have you given many presentations? I've given a few.\n",
            "Token IDs: tensor([    0, 31901,   398, 34475,  5941, 92252,     7,    32,    87,    25,\n",
            "          272, 34475,    10, 10846,     5,     2,     1,     1,     1,     1,\n",
            "            1,     1,     1,     1,     1,     1,     1,     1,     1,     1,\n",
            "            1,     1,     1,     1,     1,     1,     1,     1,     1,     1,\n",
            "            1,     1,     1,     1,     1,     1,     1,     1,     1,     1,\n",
            "            1,     1,     1,     1,     1,     1,     1,     1,     1,     1,\n",
            "            1,     1,     1,     1])\n"
          ]
        }
      ],
      "source": [
        "# Receive the appropriate tensors and split them into train, val, and test sets\n",
        "english_input_ids, english_attention_masks, english_labels = create_tensors_and_text(df_english, True)\n",
        "english_texts = df_english.text_input.values\n",
        "\n",
        "seed_everything()\n",
        "\n",
        "total = len(df_english)\n",
        "\n",
        "num_train = int(total * .8)\n",
        "num_val = total - num_train\n",
        "\n",
        "english_train_set = [(english_input_ids[i], english_attention_masks[i], english_labels[i]) for i in range(num_train)]\n",
        "english_val_set = [(english_input_ids[i], english_attention_masks[i], english_labels[i]) for i in range(num_train, num_val+num_train)]\n",
        "\n",
        "english_train_text = [english_texts[i] for i in range(num_train)]\n",
        "english_val_text = [english_labels[i] for i in range(num_train, num_val+num_train)]"
      ]
    },
    {
      "cell_type": "markdown",
      "source": [
        "<h2>Declaring the model and an optimizer as proposed in the paper</h2>"
      ],
      "metadata": {
        "id": "mCLQr5E54CQu"
      }
    },
    {
      "cell_type": "code",
      "execution_count": null,
      "metadata": {
        "id": "qHsc7e2HRWBI",
        "colab": {
          "base_uri": "https://localhost:8080/",
          "height": 902,
          "referenced_widgets": [
            "62a56b2304af452e8040ba41cb132991",
            "1e54e5a5afd44586b5eec41636936397",
            "bf767bc16f9b431eb2cc90358e150f75",
            "72dc8705e1df4ff9a483de37a069880d",
            "528f2166e0fa4539b0e850bc4bdd92cc",
            "1b16d46956b74ed9a5e44c476a131dbe",
            "db0da3f0949f40f9916ab3cee8fad6cf",
            "19e17cb56578470c95b5efddb3f47d78",
            "cf97150590e547419b79b5022c1e2201",
            "78ed6e0e329342daaa2e369875c2089f",
            "1bb1967c15994d2a9663628eadbd0f0c"
          ]
        },
        "outputId": "bc7daf86-a0f8-41e6-f690-c2f6dab596ac"
      },
      "outputs": [
        {
          "output_type": "display_data",
          "data": {
            "text/plain": [
              "model.safetensors:   0%|          | 0.00/1.12G [00:00<?, ?B/s]"
            ],
            "application/vnd.jupyter.widget-view+json": {
              "version_major": 2,
              "version_minor": 0,
              "model_id": "62a56b2304af452e8040ba41cb132991"
            }
          },
          "metadata": {}
        },
        {
          "output_type": "stream",
          "name": "stderr",
          "text": [
            "Some weights of XLMRobertaForSequenceClassification were not initialized from the model checkpoint at xlm-roberta-base and are newly initialized: ['classifier.dense.bias', 'classifier.dense.weight', 'classifier.out_proj.bias', 'classifier.out_proj.weight']\n",
            "You should probably TRAIN this model on a down-stream task to be able to use it for predictions and inference.\n"
          ]
        },
        {
          "output_type": "execute_result",
          "data": {
            "text/plain": [
              "XLMRobertaForSequenceClassification(\n",
              "  (roberta): XLMRobertaModel(\n",
              "    (embeddings): XLMRobertaEmbeddings(\n",
              "      (word_embeddings): Embedding(250002, 768, padding_idx=1)\n",
              "      (position_embeddings): Embedding(514, 768, padding_idx=1)\n",
              "      (token_type_embeddings): Embedding(1, 768)\n",
              "      (LayerNorm): LayerNorm((768,), eps=1e-05, elementwise_affine=True)\n",
              "      (dropout): Dropout(p=0.1, inplace=False)\n",
              "    )\n",
              "    (encoder): XLMRobertaEncoder(\n",
              "      (layer): ModuleList(\n",
              "        (0-11): 12 x XLMRobertaLayer(\n",
              "          (attention): XLMRobertaAttention(\n",
              "            (self): XLMRobertaSelfAttention(\n",
              "              (query): Linear(in_features=768, out_features=768, bias=True)\n",
              "              (key): Linear(in_features=768, out_features=768, bias=True)\n",
              "              (value): Linear(in_features=768, out_features=768, bias=True)\n",
              "              (dropout): Dropout(p=0.1, inplace=False)\n",
              "            )\n",
              "            (output): XLMRobertaSelfOutput(\n",
              "              (dense): Linear(in_features=768, out_features=768, bias=True)\n",
              "              (LayerNorm): LayerNorm((768,), eps=1e-05, elementwise_affine=True)\n",
              "              (dropout): Dropout(p=0.1, inplace=False)\n",
              "            )\n",
              "          )\n",
              "          (intermediate): XLMRobertaIntermediate(\n",
              "            (dense): Linear(in_features=768, out_features=3072, bias=True)\n",
              "            (intermediate_act_fn): GELUActivation()\n",
              "          )\n",
              "          (output): XLMRobertaOutput(\n",
              "            (dense): Linear(in_features=3072, out_features=768, bias=True)\n",
              "            (LayerNorm): LayerNorm((768,), eps=1e-05, elementwise_affine=True)\n",
              "            (dropout): Dropout(p=0.1, inplace=False)\n",
              "          )\n",
              "        )\n",
              "      )\n",
              "    )\n",
              "  )\n",
              "  (classifier): XLMRobertaClassificationHead(\n",
              "    (dense): Linear(in_features=768, out_features=768, bias=True)\n",
              "    (dropout): Dropout(p=0.1, inplace=False)\n",
              "    (out_proj): Linear(in_features=768, out_features=3, bias=True)\n",
              "  )\n",
              ")"
            ]
          },
          "metadata": {},
          "execution_count": 26
        }
      ],
      "source": [
        "from transformers import XLMRobertaForSequenceClassification, Trainer, TrainingArguments\n",
        "\n",
        "model = XLMRobertaForSequenceClassification.from_pretrained('xlm-roberta-base', num_labels=3)\n",
        "model.cuda()"
      ]
    },
    {
      "cell_type": "code",
      "execution_count": null,
      "metadata": {
        "id": "ppcG2H5MRjmU"
      },
      "outputs": [],
      "source": [
        "from torch.optim import AdamW\n",
        "\n",
        "batch_size = 8\n",
        "optimizer = torch.optim.AdamW(model.parameters(), lr=9e-5)\n",
        "epochs = 3\n",
        "\n",
        "# 0.0003"
      ]
    },
    {
      "cell_type": "code",
      "source": [
        "# function to get validation f1 score - returns f1_score, validation_accuracy\n",
        "from sklearn.metrics import f1_score\n",
        "def get_validation_performance(val_set):\n",
        "    # Put the model in evaluation mode\n",
        "    model.eval()\n",
        "\n",
        "    # Tracking variables\n",
        "    total_eval_accuracy = 0\n",
        "    total_eval_loss = 0\n",
        "\n",
        "    num_batches = int(len(val_set)/batch_size) + 1\n",
        "\n",
        "    total_correct = 0\n",
        "    # These lists will store all the predictions and true labels across batches\n",
        "    all_predictions = []\n",
        "    all_labels = []\n",
        "\n",
        "    for i in range(num_batches):\n",
        "\n",
        "      end_index = min(batch_size * (i+1), len(val_set))\n",
        "\n",
        "      batch = val_set[i*batch_size:end_index]\n",
        "\n",
        "      if len(batch) == 0: continue\n",
        "\n",
        "      input_id_tensors = torch.stack([data[0] for data in batch])\n",
        "      input_mask_tensors = torch.stack([data[1] for data in batch])\n",
        "      label_tensors = torch.stack([data[2] for data in batch])\n",
        "\n",
        "      # Move tensors to the GPU\n",
        "      b_input_ids = input_id_tensors.to(device)\n",
        "      b_input_mask = input_mask_tensors.to(device)\n",
        "      b_labels = label_tensors.to(device)\n",
        "\n",
        "      # Tell pytorch not to bother with constructing the compute graph during\n",
        "      # the forward pass, since this is only needed for backprop (training).\n",
        "      with torch.no_grad():\n",
        "\n",
        "        # Forward pass, calculate logit predictions.\n",
        "        # Note: this line of code might need to change depending on the model\n",
        "        # the current line will work for bert-base-uncased\n",
        "        # please refer to huggingface documentation for other models\n",
        "        outputs = model(b_input_ids,\n",
        "                                token_type_ids=None,\n",
        "                                attention_mask=b_input_mask,\n",
        "                                labels=b_labels)\n",
        "        loss = outputs.loss\n",
        "        logits = outputs.logits\n",
        "\n",
        "        # Accumulate the validation loss.\n",
        "        total_eval_loss += loss.item()\n",
        "\n",
        "        # Move logits and labels to CPU\n",
        "        logits = (logits).detach().cpu().numpy()\n",
        "        label_ids = b_labels.to('cpu').numpy()\n",
        "\n",
        "\n",
        "        # Calculate the number of correctly labeled examples in batch\n",
        "        pred_flat = np.argmax(logits, axis=1).flatten()\n",
        "        labels_flat = np.argmax(label_ids, axis=1).flatten()\n",
        "\n",
        "        all_predictions.extend(pred_flat)\n",
        "        all_labels.extend(labels_flat)\n",
        "\n",
        "        num_correct = np.sum(pred_flat == labels_flat)\n",
        "        total_correct += num_correct\n",
        "\n",
        "    # Report the final accuracy for this validation run.\n",
        "    print(\"Num of correct predictions =\", total_correct)\n",
        "    avg_val_accuracy = total_correct / len(val_set)\n",
        "    f1 = f1_score(all_labels, all_predictions, average='weighted')\n",
        "    return f1,avg_val_accuracy"
      ],
      "metadata": {
        "id": "6x6oGuJHML4h"
      },
      "execution_count": null,
      "outputs": []
    },
    {
      "cell_type": "code",
      "execution_count": null,
      "metadata": {
        "id": "x_hyDaKDRzMI"
      },
      "outputs": [],
      "source": [
        "# Function the run training loops while optimizing AdamW (gradient descent)\n",
        "\n",
        "import random\n",
        "\n",
        "def run_training_loops(train_set, val_set, epochs):\n",
        "  # training loop\n",
        "  val_acc = 0\n",
        "  # For each epoch...\n",
        "  for epoch_i in range(0, epochs):\n",
        "      # Perform one full pass over the training set.\n",
        "\n",
        "      print(\"\")\n",
        "      print('======== Epoch {:} / {:} ========'.format(epoch_i + 1, epochs))\n",
        "      print('Training...')\n",
        "\n",
        "      # Reset the total loss for this epoch.\n",
        "      total_train_loss = 0\n",
        "\n",
        "      # Put the model into training mode.\n",
        "      model.train()\n",
        "\n",
        "      # For each batch of training data...\n",
        "      num_batches = int(len(train_set)/batch_size) + 1\n",
        "\n",
        "      for i in range(num_batches):\n",
        "        end_index = min(batch_size * (i+1), len(train_set))\n",
        "\n",
        "        batch = train_set[i*batch_size:end_index]\n",
        "\n",
        "        if len(batch) == 0: continue\n",
        "\n",
        "        input_id_tensors = torch.stack([data[0] for data in batch])\n",
        "        input_mask_tensors = torch.stack([data[1] for data in batch])\n",
        "        label_tensors = torch.stack([data[2] for data in batch])\n",
        "\n",
        "        # Move tensors to the GPU\n",
        "        b_input_ids = input_id_tensors.to(device)\n",
        "        b_input_mask = input_mask_tensors.to(device)\n",
        "        b_labels = label_tensors.to(device)\n",
        "\n",
        "        optimizer.zero_grad()\n",
        "\n",
        "        # Perform a forward pass (evaluate the model on this training batch).\n",
        "        # this line of code might need to change depending on the model\n",
        "        outputs = model(b_input_ids, token_type_ids=None, attention_mask=b_input_mask, labels=b_labels)\n",
        "\n",
        "        loss = outputs.loss\n",
        "        logits = outputs.logits\n",
        "\n",
        "        total_train_loss += loss.item()\n",
        "\n",
        "        # Perform a backward pass to calculate the gradients.\n",
        "        loss.backward()\n",
        "\n",
        "        # Update parameters and take a step using the computed gradient.\n",
        "        optimizer.step()\n",
        "\n",
        "      # ========================================\n",
        "      #               Validation\n",
        "      # ========================================\n",
        "      # After the completion of each training epoch, measure our performance on\n",
        "      # our validation set. Implement this function in the cell above.\n",
        "      print(f\"Total loss: {total_train_loss}\")\n",
        "      f1,val_acc = get_validation_performance(val_set)\n",
        "      print(f\"Validation accuracy: {val_acc}\")\n",
        "\n",
        "  print(\"\")\n",
        "  print(\"Training complete!\")\n",
        "  return val_acc\n",
        "\n",
        "  # TODO: SAVE YOUR MODEL HERE... (Refer PyTorch documentation for how to save models)\n",
        "  # torch.save(model.state_dict(), './saved_model_fixed_labels')\n"
      ]
    },
    {
      "cell_type": "code",
      "execution_count": null,
      "metadata": {
        "colab": {
          "base_uri": "https://localhost:8080/"
        },
        "id": "UN0m--E-e6FO",
        "outputId": "ca00f735-cd9f-49f5-daa6-78df1b6b2c56"
      },
      "outputs": [
        {
          "output_type": "stream",
          "name": "stdout",
          "text": [
            "\n",
            "======== Epoch 1 / 10 ========\n",
            "Training...\n",
            "Total loss: 1734.727546289857\n",
            "Num of correct predictions = 4000\n",
            "Validation accuracy: 0.5793742757821553\n",
            "\n",
            "======== Epoch 2 / 10 ========\n",
            "Training...\n",
            "Total loss: 1726.075642042318\n",
            "Num of correct predictions = 4000\n",
            "Validation accuracy: 0.5793742757821553\n",
            "\n",
            "======== Epoch 3 / 10 ========\n",
            "Training...\n",
            "Total loss: 1724.13373949106\n",
            "Num of correct predictions = 4000\n",
            "Validation accuracy: 0.5793742757821553\n",
            "\n",
            "======== Epoch 4 / 10 ========\n",
            "Training...\n",
            "Total loss: 1722.4679240511957\n",
            "Num of correct predictions = 4000\n",
            "Validation accuracy: 0.5793742757821553\n",
            "\n",
            "======== Epoch 5 / 10 ========\n",
            "Training...\n",
            "Total loss: 1723.8866549355246\n",
            "Num of correct predictions = 4000\n",
            "Validation accuracy: 0.5793742757821553\n",
            "\n",
            "======== Epoch 6 / 10 ========\n",
            "Training...\n",
            "Total loss: 1721.624768517972\n",
            "Num of correct predictions = 4000\n",
            "Validation accuracy: 0.5793742757821553\n",
            "\n",
            "======== Epoch 7 / 10 ========\n",
            "Training...\n",
            "Total loss: 1721.3446002745309\n",
            "Num of correct predictions = 4000\n",
            "Validation accuracy: 0.5793742757821553\n",
            "\n",
            "======== Epoch 8 / 10 ========\n",
            "Training...\n",
            "Total loss: 1721.0757352967553\n",
            "Num of correct predictions = 4000\n",
            "Validation accuracy: 0.5793742757821553\n",
            "\n",
            "======== Epoch 9 / 10 ========\n",
            "Training...\n",
            "Total loss: 1720.187768515273\n",
            "Num of correct predictions = 4000\n",
            "Validation accuracy: 0.5793742757821553\n",
            "\n",
            "======== Epoch 10 / 10 ========\n",
            "Training...\n",
            "Total loss: 1720.49191284508\n",
            "Num of correct predictions = 4000\n",
            "Validation accuracy: 0.5793742757821553\n",
            "\n",
            "Training complete!\n"
          ]
        },
        {
          "output_type": "execute_result",
          "data": {
            "text/plain": [
              "0.5793742757821553"
            ]
          },
          "metadata": {},
          "execution_count": 46
        }
      ],
      "source": [
        "run_training_loops(english_train_set, english_val_set, 10)"
      ]
    },
    {
      "cell_type": "code",
      "source": [
        "torch.save(model.state_dict(), './english_model')"
      ],
      "metadata": {
        "id": "4zeSjyMEn-CO"
      },
      "execution_count": null,
      "outputs": []
    },
    {
      "cell_type": "code",
      "execution_count": null,
      "metadata": {
        "id": "rZ_YGHoTaOk7"
      },
      "outputs": [],
      "source": [
        "# Function that takes a dataframe, and outputs a modified version of it\n",
        "# The version that will be used for training, validation, and testing purposes\n",
        "def create_file(df):\n",
        "  def map_labels(label):\n",
        "      label = label.lower()\n",
        "      if label in ['y', 'py', 'yes']:\n",
        "          return 0\n",
        "      elif label in ['n', 'pn', 'no']:\n",
        "          return 1\n",
        "      elif label in ['uk', 'middle', 'unk', 'unkwn', 'm', 'maybe']:\n",
        "          return 2\n",
        "\n",
        "  df['label'] = df['label'].apply(map_labels)\n",
        "  df['text_input'] = df['question'] + \" \" + df['answer']\n",
        "  df = df[['text_input', 'label']]\n",
        "  df = df.dropna()\n",
        "  return df"
      ]
    },
    {
      "cell_type": "markdown",
      "source": [
        "#  Recreating Experiment 5.1 Cross-Lingual Learning from English\n",
        "The results of the said experiment being performed below are included in Section 3.3 Results under Table 1 Results (F1) obtained with XLM-RoBERTa when trained with Circa and SWDA-IA in the project report."
      ],
      "metadata": {
        "id": "XKd4Qa0D43Ws"
      }
    },
    {
      "cell_type": "markdown",
      "source": [
        "## Hindi"
      ],
      "metadata": {
        "id": "atAzGNbg5Nvu"
      }
    },
    {
      "cell_type": "code",
      "execution_count": null,
      "metadata": {
        "id": "q1e1y5iKZsz4"
      },
      "outputs": [],
      "source": [
        "df_hindi = pd.read_csv(f'{FILE_PATH}/data/test_dataset/hindi_test_dataset.csv')\n",
        "df_hindi = create_file(df_hindi)"
      ]
    },
    {
      "cell_type": "code",
      "execution_count": null,
      "metadata": {
        "colab": {
          "base_uri": "https://localhost:8080/",
          "height": 206
        },
        "id": "pY8bKYbVaF8N",
        "outputId": "bd057782-2ab4-4417-cfc0-8b0294946f8e"
      },
      "outputs": [
        {
          "data": {
            "application/vnd.google.colaboratory.intrinsic+json": {
              "summary": "{\n  \"name\": \"df_hindi\",\n  \"rows\": 240,\n  \"fields\": [\n    {\n      \"column\": \"text_input\",\n      \"properties\": {\n        \"dtype\": \"string\",\n        \"num_unique_values\": 240,\n        \"samples\": [\n          \"\\u0938\\u094d\\u092e\\u0943\\u0924\\u093f \\u0908\\u0930\\u093e\\u0928\\u0940, \\u0915\\u094d\\u092f\\u093e \\u0906\\u092a \\u0915\\u0941\\u091b \\u0915\\u0939\\u0947\\u0902\\u0917\\u0940 \\u092e\\u0941\\u0938\\u094d\\u0932\\u093f\\u092e \\u092e\\u0939\\u093f\\u0932\\u093e\\u0913\\u0902 \\u0915\\u0940 \\u0928\\u0940\\u0932\\u093e\\u092e\\u0940 \\u0935\\u093e\\u0932\\u0947 \\u092a\\u094d\\u0930\\u0915\\u0930\\u0923 \\u092e\\u0947\\u0902? \\u0938\\u092c\\u0915\\u093e \\u0938\\u093e\\u0925 \\u0938\\u092c\\u0915\\u093e \\u0935\\u093f\\u0915\\u093e\\u0938 \\u092e\\u093e\\u0908\\u0928\\u0938 \\u0938\\u0930\\u0915\\u093e\\u0930 \\u0938\\u0947 \\u0938\\u0935\\u093e\\u0932 \\u092a\\u0942\\u091b\\u0928\\u0947 \\u0935\\u093e\\u0932\\u0947\\u0964\",\n          \"\\u092f\\u0939 \\u0939\\u094b \\u0938\\u0915\\u0924\\u093e \\u0939\\u0948 \\u0915\\u093f \\u0909\\u0924\\u094d\\u0924\\u0930\\u093e\\u0916\\u0902\\u0921 \\u0915\\u0940 \\u0936\\u093f\\u0915\\u094d\\u0937\\u093f\\u0915\\u093e \\u0915\\u094b \\u0905\\u0928\\u0941\\u092a\\u0938\\u094d\\u0925\\u093f\\u0924\\u093f \\u0915\\u0947 \\u0915\\u093e\\u0930\\u0923 \\u092a\\u0939\\u0932\\u0947 \\u092d\\u0940 \\u0926\\u094b \\u092c\\u093e\\u0930 \\u0928\\u093f\\u0932\\u0902\\u092c\\u093f\\u0924 \\u0915\\u093f\\u092f\\u093e \\u0917\\u092f\\u093e \\u0939\\u094b\\u0964 \\u0932\\u0947\\u0915\\u093f\\u0928 \\u0909\\u0928\\u0938\\u0947 \\u0926\\u0941\\u0930\\u094d\\u0935\\u094d\\u092f\\u0935\\u0939\\u093e\\u0930 \\u0915\\u0930\\u0924\\u0947 \\u0938\\u092e\\u092f \\u0915\\u094d\\u092f\\u093e \\u092e\\u0941\\u0916\\u094d\\u092f\\u092e\\u0902\\u0924\\u094d\\u0930\\u0940 \\u0915\\u094b \\u0907\\u0938\\u0915\\u0940 \\u091c\\u093e\\u0928\\u0915\\u093e\\u0930\\u0940 \\u0925\\u0940? \\u092c\\u0921\\u093c\\u0947 \\u092d\\u0907\\u092f\\u093e,\\n\\u092a\\u0942\\u0930\\u094d\\u0923 \\u0930\\u0941\\u092a \\u0938\\u0947 \\u0938\\u0939\\u092e\\u0924\\n\\u0938\\u093e\\u0926\\u0930,\",\n          \"\\u0915\\u094d\\u092f\\u093e \\u0906\\u092a \\u0938\\u092c \\u0924\\u0948\\u092f\\u093e\\u0930 \\u0939\\u0948\\u0902 \\u0932\\u0949\\u0915\\u0921\\u093e\\u0909\\u0928 \\u0915\\u0940 \\u0905\\u0935\\u0927\\u093f \\u092c\\u0922\\u093c\\u093e\\u0928\\u0947 \\u0915\\u094b \\u0932\\u0947\\u0915\\u0930? \\u0915\\u094d\\u092f\\u093e \\u0906\\u092a \\u0938\\u092d\\u0940 \\u0928\\u094d\\u092f\\u0942\\u091c\\u093c \\u090f\\u0902\\u0915\\u0930 \\u0924\\u0948\\u092f\\u093e\\u0930 \\u0939\\u0948\\u0902 \\u0932\\u0949\\u0915\\u0921\\u093e\\u0909\\u0928 \\u0915\\u0940 \\u0905\\u0935\\u0927\\u093f \\u092c\\u0922\\u093c\\u093e\\u0928\\u0947 \\u0915\\u094b \\u0932\\u0947\\u0915\\u0930\\n\\u0939\\u093f\\u0902\\u0926\\u0942-\\u092e\\u0941\\u0938\\u094d\\u0932\\u093f\\u092e \\u0915\\u0930\\u0928\\u0947 \\u0915\\u0947 \\u0932\\u093f\\u090f\"\n        ],\n        \"semantic_type\": \"\",\n        \"description\": \"\"\n      }\n    },\n    {\n      \"column\": \"label\",\n      \"properties\": {\n        \"dtype\": \"number\",\n        \"std\": 0,\n        \"min\": 0,\n        \"max\": 2,\n        \"num_unique_values\": 3,\n        \"samples\": [\n          0,\n          1,\n          2\n        ],\n        \"semantic_type\": \"\",\n        \"description\": \"\"\n      }\n    }\n  ]\n}",
              "type": "dataframe",
              "variable_name": "df_hindi"
            },
            "text/html": [
              "\n",
              "  <div id=\"df-1968a7cb-4ce3-4055-a294-bdce44c0294f\" class=\"colab-df-container\">\n",
              "    <div>\n",
              "<style scoped>\n",
              "    .dataframe tbody tr th:only-of-type {\n",
              "        vertical-align: middle;\n",
              "    }\n",
              "\n",
              "    .dataframe tbody tr th {\n",
              "        vertical-align: top;\n",
              "    }\n",
              "\n",
              "    .dataframe thead th {\n",
              "        text-align: right;\n",
              "    }\n",
              "</style>\n",
              "<table border=\"1\" class=\"dataframe\">\n",
              "  <thead>\n",
              "    <tr style=\"text-align: right;\">\n",
              "      <th></th>\n",
              "      <th>text_input</th>\n",
              "      <th>label</th>\n",
              "    </tr>\n",
              "  </thead>\n",
              "  <tbody>\n",
              "    <tr>\n",
              "      <th>0</th>\n",
              "      <td>सलमान_खान की अगली फ़िल्म \"कभी ईद कभी दिवाली” आ...</td>\n",
              "      <td>0</td>\n",
              "    </tr>\n",
              "    <tr>\n",
              "      <th>1</th>\n",
              "      <td>क्या आप सब तैयार हैं लॉकडाउन की अवधि बढ़ाने को...</td>\n",
              "      <td>1</td>\n",
              "    </tr>\n",
              "    <tr>\n",
              "      <th>2</th>\n",
              "      <td>सिंघु बॉर्डर पर एक युवक का पहले हाथ काटा गया फ...</td>\n",
              "      <td>1</td>\n",
              "    </tr>\n",
              "    <tr>\n",
              "      <th>3</th>\n",
              "      <td>सरकार को \"आरक्षण\" ही खत्म कर देना चाहिए क्या आ...</td>\n",
              "      <td>1</td>\n",
              "    </tr>\n",
              "    <tr>\n",
              "      <th>4</th>\n",
              "      <td>सुप्रीम कोर्ट ने नियम को ताक पर रखकर दो लोगों ...</td>\n",
              "      <td>1</td>\n",
              "    </tr>\n",
              "  </tbody>\n",
              "</table>\n",
              "</div>\n",
              "    <div class=\"colab-df-buttons\">\n",
              "\n",
              "  <div class=\"colab-df-container\">\n",
              "    <button class=\"colab-df-convert\" onclick=\"convertToInteractive('df-1968a7cb-4ce3-4055-a294-bdce44c0294f')\"\n",
              "            title=\"Convert this dataframe to an interactive table.\"\n",
              "            style=\"display:none;\">\n",
              "\n",
              "  <svg xmlns=\"http://www.w3.org/2000/svg\" height=\"24px\" viewBox=\"0 -960 960 960\">\n",
              "    <path d=\"M120-120v-720h720v720H120Zm60-500h600v-160H180v160Zm220 220h160v-160H400v160Zm0 220h160v-160H400v160ZM180-400h160v-160H180v160Zm440 0h160v-160H620v160ZM180-180h160v-160H180v160Zm440 0h160v-160H620v160Z\"/>\n",
              "  </svg>\n",
              "    </button>\n",
              "\n",
              "  <style>\n",
              "    .colab-df-container {\n",
              "      display:flex;\n",
              "      gap: 12px;\n",
              "    }\n",
              "\n",
              "    .colab-df-convert {\n",
              "      background-color: #E8F0FE;\n",
              "      border: none;\n",
              "      border-radius: 50%;\n",
              "      cursor: pointer;\n",
              "      display: none;\n",
              "      fill: #1967D2;\n",
              "      height: 32px;\n",
              "      padding: 0 0 0 0;\n",
              "      width: 32px;\n",
              "    }\n",
              "\n",
              "    .colab-df-convert:hover {\n",
              "      background-color: #E2EBFA;\n",
              "      box-shadow: 0px 1px 2px rgba(60, 64, 67, 0.3), 0px 1px 3px 1px rgba(60, 64, 67, 0.15);\n",
              "      fill: #174EA6;\n",
              "    }\n",
              "\n",
              "    .colab-df-buttons div {\n",
              "      margin-bottom: 4px;\n",
              "    }\n",
              "\n",
              "    [theme=dark] .colab-df-convert {\n",
              "      background-color: #3B4455;\n",
              "      fill: #D2E3FC;\n",
              "    }\n",
              "\n",
              "    [theme=dark] .colab-df-convert:hover {\n",
              "      background-color: #434B5C;\n",
              "      box-shadow: 0px 1px 3px 1px rgba(0, 0, 0, 0.15);\n",
              "      filter: drop-shadow(0px 1px 2px rgba(0, 0, 0, 0.3));\n",
              "      fill: #FFFFFF;\n",
              "    }\n",
              "  </style>\n",
              "\n",
              "    <script>\n",
              "      const buttonEl =\n",
              "        document.querySelector('#df-1968a7cb-4ce3-4055-a294-bdce44c0294f button.colab-df-convert');\n",
              "      buttonEl.style.display =\n",
              "        google.colab.kernel.accessAllowed ? 'block' : 'none';\n",
              "\n",
              "      async function convertToInteractive(key) {\n",
              "        const element = document.querySelector('#df-1968a7cb-4ce3-4055-a294-bdce44c0294f');\n",
              "        const dataTable =\n",
              "          await google.colab.kernel.invokeFunction('convertToInteractive',\n",
              "                                                    [key], {});\n",
              "        if (!dataTable) return;\n",
              "\n",
              "        const docLinkHtml = 'Like what you see? Visit the ' +\n",
              "          '<a target=\"_blank\" href=https://colab.research.google.com/notebooks/data_table.ipynb>data table notebook</a>'\n",
              "          + ' to learn more about interactive tables.';\n",
              "        element.innerHTML = '';\n",
              "        dataTable['output_type'] = 'display_data';\n",
              "        await google.colab.output.renderOutput(dataTable, element);\n",
              "        const docLink = document.createElement('div');\n",
              "        docLink.innerHTML = docLinkHtml;\n",
              "        element.appendChild(docLink);\n",
              "      }\n",
              "    </script>\n",
              "  </div>\n",
              "\n",
              "\n",
              "<div id=\"df-78b492dc-1f01-4ca4-9259-eef94b7bf8f2\">\n",
              "  <button class=\"colab-df-quickchart\" onclick=\"quickchart('df-78b492dc-1f01-4ca4-9259-eef94b7bf8f2')\"\n",
              "            title=\"Suggest charts\"\n",
              "            style=\"display:none;\">\n",
              "\n",
              "<svg xmlns=\"http://www.w3.org/2000/svg\" height=\"24px\"viewBox=\"0 0 24 24\"\n",
              "     width=\"24px\">\n",
              "    <g>\n",
              "        <path d=\"M19 3H5c-1.1 0-2 .9-2 2v14c0 1.1.9 2 2 2h14c1.1 0 2-.9 2-2V5c0-1.1-.9-2-2-2zM9 17H7v-7h2v7zm4 0h-2V7h2v10zm4 0h-2v-4h2v4z\"/>\n",
              "    </g>\n",
              "</svg>\n",
              "  </button>\n",
              "\n",
              "<style>\n",
              "  .colab-df-quickchart {\n",
              "      --bg-color: #E8F0FE;\n",
              "      --fill-color: #1967D2;\n",
              "      --hover-bg-color: #E2EBFA;\n",
              "      --hover-fill-color: #174EA6;\n",
              "      --disabled-fill-color: #AAA;\n",
              "      --disabled-bg-color: #DDD;\n",
              "  }\n",
              "\n",
              "  [theme=dark] .colab-df-quickchart {\n",
              "      --bg-color: #3B4455;\n",
              "      --fill-color: #D2E3FC;\n",
              "      --hover-bg-color: #434B5C;\n",
              "      --hover-fill-color: #FFFFFF;\n",
              "      --disabled-bg-color: #3B4455;\n",
              "      --disabled-fill-color: #666;\n",
              "  }\n",
              "\n",
              "  .colab-df-quickchart {\n",
              "    background-color: var(--bg-color);\n",
              "    border: none;\n",
              "    border-radius: 50%;\n",
              "    cursor: pointer;\n",
              "    display: none;\n",
              "    fill: var(--fill-color);\n",
              "    height: 32px;\n",
              "    padding: 0;\n",
              "    width: 32px;\n",
              "  }\n",
              "\n",
              "  .colab-df-quickchart:hover {\n",
              "    background-color: var(--hover-bg-color);\n",
              "    box-shadow: 0 1px 2px rgba(60, 64, 67, 0.3), 0 1px 3px 1px rgba(60, 64, 67, 0.15);\n",
              "    fill: var(--button-hover-fill-color);\n",
              "  }\n",
              "\n",
              "  .colab-df-quickchart-complete:disabled,\n",
              "  .colab-df-quickchart-complete:disabled:hover {\n",
              "    background-color: var(--disabled-bg-color);\n",
              "    fill: var(--disabled-fill-color);\n",
              "    box-shadow: none;\n",
              "  }\n",
              "\n",
              "  .colab-df-spinner {\n",
              "    border: 2px solid var(--fill-color);\n",
              "    border-color: transparent;\n",
              "    border-bottom-color: var(--fill-color);\n",
              "    animation:\n",
              "      spin 1s steps(1) infinite;\n",
              "  }\n",
              "\n",
              "  @keyframes spin {\n",
              "    0% {\n",
              "      border-color: transparent;\n",
              "      border-bottom-color: var(--fill-color);\n",
              "      border-left-color: var(--fill-color);\n",
              "    }\n",
              "    20% {\n",
              "      border-color: transparent;\n",
              "      border-left-color: var(--fill-color);\n",
              "      border-top-color: var(--fill-color);\n",
              "    }\n",
              "    30% {\n",
              "      border-color: transparent;\n",
              "      border-left-color: var(--fill-color);\n",
              "      border-top-color: var(--fill-color);\n",
              "      border-right-color: var(--fill-color);\n",
              "    }\n",
              "    40% {\n",
              "      border-color: transparent;\n",
              "      border-right-color: var(--fill-color);\n",
              "      border-top-color: var(--fill-color);\n",
              "    }\n",
              "    60% {\n",
              "      border-color: transparent;\n",
              "      border-right-color: var(--fill-color);\n",
              "    }\n",
              "    80% {\n",
              "      border-color: transparent;\n",
              "      border-right-color: var(--fill-color);\n",
              "      border-bottom-color: var(--fill-color);\n",
              "    }\n",
              "    90% {\n",
              "      border-color: transparent;\n",
              "      border-bottom-color: var(--fill-color);\n",
              "    }\n",
              "  }\n",
              "</style>\n",
              "\n",
              "  <script>\n",
              "    async function quickchart(key) {\n",
              "      const quickchartButtonEl =\n",
              "        document.querySelector('#' + key + ' button');\n",
              "      quickchartButtonEl.disabled = true;  // To prevent multiple clicks.\n",
              "      quickchartButtonEl.classList.add('colab-df-spinner');\n",
              "      try {\n",
              "        const charts = await google.colab.kernel.invokeFunction(\n",
              "            'suggestCharts', [key], {});\n",
              "      } catch (error) {\n",
              "        console.error('Error during call to suggestCharts:', error);\n",
              "      }\n",
              "      quickchartButtonEl.classList.remove('colab-df-spinner');\n",
              "      quickchartButtonEl.classList.add('colab-df-quickchart-complete');\n",
              "    }\n",
              "    (() => {\n",
              "      let quickchartButtonEl =\n",
              "        document.querySelector('#df-78b492dc-1f01-4ca4-9259-eef94b7bf8f2 button');\n",
              "      quickchartButtonEl.style.display =\n",
              "        google.colab.kernel.accessAllowed ? 'block' : 'none';\n",
              "    })();\n",
              "  </script>\n",
              "</div>\n",
              "\n",
              "    </div>\n",
              "  </div>\n"
            ],
            "text/plain": [
              "                                          text_input  label\n",
              "0  सलमान_खान की अगली फ़िल्म \"कभी ईद कभी दिवाली” आ...      0\n",
              "1  क्या आप सब तैयार हैं लॉकडाउन की अवधि बढ़ाने को...      1\n",
              "2  सिंघु बॉर्डर पर एक युवक का पहले हाथ काटा गया फ...      1\n",
              "3  सरकार को \"आरक्षण\" ही खत्म कर देना चाहिए क्या आ...      1\n",
              "4  सुप्रीम कोर्ट ने नियम को ताक पर रखकर दो लोगों ...      1"
            ]
          },
          "execution_count": 39,
          "metadata": {},
          "output_type": "execute_result"
        }
      ],
      "source": [
        "df_hindi.head()"
      ]
    },
    {
      "cell_type": "code",
      "execution_count": null,
      "metadata": {
        "colab": {
          "base_uri": "https://localhost:8080/"
        },
        "id": "j4VBLE62gVu7",
        "outputId": "90af17f6-0560-4aab-854c-6c65884736cf"
      },
      "outputs": [
        {
          "output_type": "stream",
          "name": "stdout",
          "text": [
            "Original:  सलमान_खान की अगली फ़िल्म \"कभी ईद कभी दिवाली” आ रही है, क्या आप बहिष्कार करेंगे? सुशांत सिंह राजपूत के साथ सलमान ने जो किया उससे पूरे बिहार नाराज़ है\n",
            "Token IDs: tensor([     0,  66464,    454,  14983,    998,    471,  77884,   2416, 187529,\n",
            "            44,   1223,  50308,  17139,   3044,  28656,  14177,   3097,   2416,\n",
            "            63,   2220,   8906,    460,      4,   6004,   4322, 148640,  24269,\n",
            "          7186,  58898,     32,   5224,   4037,  23649,  15652,  11990,  51886,\n",
            "           996,    287,   3765,  66464,   1142,   4993,   4029, 137524,  94173,\n",
            "         55423, 159026,  18600,    460,      2,      1,      1,      1,      1,\n",
            "             1,      1,      1,      1,      1,      1,      1,      1,      1,\n",
            "             1])\n"
          ]
        }
      ],
      "source": [
        "hindi_input_ids, hindi_attention_masks, hindi_labels = create_tensors_and_text(df_hindi, False)\n",
        "hindi_texts = df_hindi.text_input.values\n",
        "\n",
        "seed_everything()\n",
        "\n",
        "total = len(df_hindi)\n",
        "\n",
        "hindi_test_set = [(hindi_input_ids[i], hindi_attention_masks[i], hindi_labels[i]) for i in range(total)]\n",
        "\n",
        "hindi_test_text = [hindi_labels[i] for i in range(total)]"
      ]
    },
    {
      "cell_type": "code",
      "execution_count": null,
      "metadata": {
        "colab": {
          "base_uri": "https://localhost:8080/"
        },
        "id": "UZCeT5d5ZpC6",
        "outputId": "712e3f74-b0e8-4ba1-a45f-d570baf1df9b"
      },
      "outputs": [
        {
          "output_type": "stream",
          "name": "stdout",
          "text": [
            "Num of correct predictions = 107\n"
          ]
        },
        {
          "output_type": "execute_result",
          "data": {
            "text/plain": [
              "0.27495196926032667"
            ]
          },
          "metadata": {},
          "execution_count": 55
        }
      ],
      "source": [
        "seed_everything()\n",
        "get_validation_performance(hindi_test_set)[0]"
      ]
    },
    {
      "cell_type": "markdown",
      "source": [
        "## Korean"
      ],
      "metadata": {
        "id": "etSP9aQ75QsU"
      }
    },
    {
      "cell_type": "code",
      "execution_count": null,
      "metadata": {
        "colab": {
          "base_uri": "https://localhost:8080/"
        },
        "id": "2JwFKWHAiPPS",
        "outputId": "d9455da9-80e4-44e6-d0e2-52a6174fa5ca"
      },
      "outputs": [
        {
          "output_type": "stream",
          "name": "stdout",
          "text": [
            "Original:  메뉴판 어딨어요? 여기 있어요? 여기 있습니다\n",
            "Token IDs: tensor([     0, 125543,  19641,  14327, 249084,  38736,     32,  81205, 106597,\n",
            "            32,  81205,   3292,      2,      1,      1,      1,      1,      1,\n",
            "             1,      1,      1,      1,      1,      1,      1,      1,      1,\n",
            "             1,      1,      1,      1,      1,      1,      1,      1,      1,\n",
            "             1,      1,      1,      1,      1,      1,      1,      1,      1,\n",
            "             1,      1,      1,      1,      1,      1,      1,      1,      1,\n",
            "             1,      1,      1,      1,      1,      1,      1,      1,      1,\n",
            "             1])\n",
            "Num of correct predictions = 128\n"
          ]
        },
        {
          "output_type": "execute_result",
          "data": {
            "text/plain": [
              "0.37101449275362325"
            ]
          },
          "metadata": {},
          "execution_count": 26
        }
      ],
      "source": [
        "# Korean\n",
        "\n",
        "df_korean = pd.read_csv(f'{FILE_PATH}/data/test_dataset/korean_test_dataset.csv')\n",
        "df_korean = create_file(df_korean)\n",
        "\n",
        "korean_input_ids, korean_attention_masks, korean_labels = create_tensors_and_text(df_korean, False)\n",
        "korean_texts = df_korean.text_input.values\n",
        "\n",
        "seed_everything()\n",
        "\n",
        "total = len(df_korean)\n",
        "\n",
        "korean_test_set = [(korean_input_ids[i], korean_attention_masks[i], korean_labels[i]) for i in range(total)]\n",
        "\n",
        "korean_test_text = [korean_labels[i] for i in range(total)]\n",
        "\n",
        "seed_everything()\n",
        "get_validation_performance(korean_test_set)[0]"
      ]
    },
    {
      "cell_type": "markdown",
      "source": [
        "## Chinese"
      ],
      "metadata": {
        "id": "y3mJxEd85Sya"
      }
    },
    {
      "cell_type": "code",
      "execution_count": null,
      "metadata": {
        "colab": {
          "base_uri": "https://localhost:8080/"
        },
        "id": "K8xDqHtGi0yR",
        "outputId": "d6eb3238-5301-4ad6-aff4-ca6c7772f7b8"
      },
      "outputs": [
        {
          "name": "stdout",
          "output_type": "stream",
          "text": [
            "Original:  车里没有矿泉水瓶吗？ 还是用罐头瓶吧\n",
            "Token IDs: tensor([     0,      6,   3715,   2008,   3029,  54391,  41318,   1553,  32696,\n",
            "          9131,     32,      6,   5169,   1173, 112110,   3878,  32696,   4502,\n",
            "             2,      1,      1,      1,      1,      1,      1,      1,      1,\n",
            "             1,      1,      1,      1,      1,      1,      1,      1,      1,\n",
            "             1,      1,      1,      1,      1,      1,      1,      1,      1,\n",
            "             1,      1,      1,      1,      1,      1,      1,      1,      1,\n",
            "             1,      1,      1,      1,      1,      1,      1,      1,      1,\n",
            "             1])\n",
            "Num of correct predictions = 183\n"
          ]
        },
        {
          "data": {
            "text/plain": [
              "0.38125"
            ]
          },
          "execution_count": 51,
          "metadata": {},
          "output_type": "execute_result"
        }
      ],
      "source": [
        "# chinese\n",
        "\n",
        "df_chinese = pd.read_csv(f'{FILE_PATH}/data/test_dataset/chinese_test_dataset.csv')\n",
        "df_chinese = create_file(df_chinese)\n",
        "\n",
        "chinese_input_ids, chinese_attention_masks, chinese_labels = create_tensors_and_text(df_chinese, False)\n",
        "chinese_texts = df_chinese.text_input.values\n",
        "\n",
        "seed_everything()\n",
        "\n",
        "total = len(df_chinese)\n",
        "\n",
        "chinese_test_set = [(chinese_input_ids[i], chinese_attention_masks[i], chinese_labels[i]) for i in range(total)]\n",
        "\n",
        "chinese_test_text = [chinese_labels[i] for i in range(total)]\n",
        "\n",
        "seed_everything()\n",
        "get_validation_performance(chinese_test_set)[0]"
      ]
    },
    {
      "cell_type": "markdown",
      "source": [
        "## Bangla"
      ],
      "metadata": {
        "id": "JPOQXqDL5U1S"
      }
    },
    {
      "cell_type": "code",
      "execution_count": null,
      "metadata": {
        "colab": {
          "base_uri": "https://localhost:8080/"
        },
        "id": "R-xo8TJtpa_W",
        "outputId": "20f4cc3a-0933-4d44-9fb5-b8b4cdb1bf5f"
      },
      "outputs": [
        {
          "name": "stdout",
          "output_type": "stream",
          "text": [
            "Original:  তোর কাছে কি ভাংতি টাকা আছে? আমার কাছে শুধু একটা ১০০০ হাজার টাকার নোট আছে ।\n",
            "Token IDs: tensor([     0,  44201,    999,  72237,  14403,  43875,  17031,  15541,  41315,\n",
            "         33338,     32,  29388,  72237, 124805,  71896,      6, 231013,  54112,\n",
            "        180638,      6,  32568,   5780,  33338,    207,      2,      1,      1,\n",
            "             1,      1,      1,      1,      1,      1,      1,      1,      1,\n",
            "             1,      1,      1,      1,      1,      1,      1,      1,      1,\n",
            "             1,      1,      1,      1,      1,      1,      1,      1,      1,\n",
            "             1,      1,      1,      1,      1,      1,      1,      1,      1,\n",
            "             1])\n",
            "Num of correct predictions = 80\n"
          ]
        },
        {
          "data": {
            "text/plain": [
              "0.3333333333333333"
            ]
          },
          "execution_count": 53,
          "metadata": {},
          "output_type": "execute_result"
        }
      ],
      "source": [
        "# bangla\n",
        "\n",
        "df_bangla = pd.read_csv(f'{FILE_PATH}/data/test_dataset/bangla_test_dataset.csv')\n",
        "df_bangla = create_file(df_bangla)\n",
        "\n",
        "bangla_input_ids, bangla_attention_masks, bangla_labels = create_tensors_and_text(df_bangla, False)\n",
        "bangla_texts = df_bangla.text_input.values\n",
        "\n",
        "seed_everything()\n",
        "\n",
        "total = len(df_bangla)\n",
        "\n",
        "bangla_test_set = [(bangla_input_ids[i], bangla_attention_masks[i], bangla_labels[i]) for i in range(total)]\n",
        "\n",
        "bangla_test_text = [bangla_labels[i] for i in range(total)]\n",
        "\n",
        "seed_everything()\n",
        "get_validation_performance(bangla_test_set)[0]"
      ]
    },
    {
      "cell_type": "markdown",
      "source": [
        "## Turkish"
      ],
      "metadata": {
        "id": "C2mJR0Ly5WgR"
      }
    },
    {
      "cell_type": "code",
      "execution_count": null,
      "metadata": {
        "colab": {
          "base_uri": "https://localhost:8080/"
        },
        "id": "bPSAtybUpnv9",
        "outputId": "9113020a-917a-44de-8b2b-218a1c1448b7"
      },
      "outputs": [
        {
          "name": "stdout",
          "output_type": "stream",
          "text": [
            "Original:  aranızda kuzey güney dizisini izleyen var mı? hem tv de çıktığı tarihte hem de nette 2 defa izledim\n",
            "Token IDs: tensor([     0,   5689,  64628, 188982, 200498, 200277,     93,    445,  39970,\n",
            "           285,  22685,     32,   2360,   5044,      8, 172334,  44989,     67,\n",
            "          2360,      8,      6,  60765,    116,  75295,  35151,   5771,      2,\n",
            "             1,      1,      1,      1,      1,      1,      1,      1,      1,\n",
            "             1,      1,      1,      1,      1,      1,      1,      1,      1,\n",
            "             1,      1,      1,      1,      1,      1,      1,      1,      1,\n",
            "             1,      1,      1,      1,      1,      1,      1,      1,      1,\n",
            "             1])\n",
            "Num of correct predictions = 212\n"
          ]
        },
        {
          "data": {
            "text/plain": [
              "0.44166666666666665"
            ]
          },
          "execution_count": 54,
          "metadata": {},
          "output_type": "execute_result"
        }
      ],
      "source": [
        "# turkish\n",
        "\n",
        "df_turkish = pd.read_csv(f'{FILE_PATH}/data/test_dataset/turkish_test_dataset.csv')\n",
        "df_turkish = create_file(df_turkish)\n",
        "\n",
        "turkish_input_ids, turkish_attention_masks, turkish_labels = create_tensors_and_text(df_turkish, False)\n",
        "turkish_texts = df_turkish.text_input.values\n",
        "\n",
        "seed_everything()\n",
        "\n",
        "total = len(df_turkish)\n",
        "\n",
        "turkish_test_set = [(turkish_input_ids[i], turkish_attention_masks[i], turkish_labels[i]) for i in range(total)]\n",
        "\n",
        "turkish_test_text = [turkish_labels[i] for i in range(total)]\n",
        "\n",
        "seed_everything()\n",
        "get_validation_performance(turkish_test_set)[0]"
      ]
    },
    {
      "cell_type": "markdown",
      "source": [
        "## Spanish"
      ],
      "metadata": {
        "id": "jZF8gB745YOC"
      }
    },
    {
      "cell_type": "code",
      "execution_count": null,
      "metadata": {
        "colab": {
          "base_uri": "https://localhost:8080/"
        },
        "id": "DSJKq9uJpt3n",
        "outputId": "6cf5e9ce-5722-4fef-f68a-3f56439e0611"
      },
      "outputs": [
        {
          "name": "stdout",
          "output_type": "stream",
          "text": [
            "Original:  0  . \u0015\u0015 ya? \u0015\u0015 ya. \u0015\u0015\n",
            "Token IDs: tensor([  0, 757,   6,   5, 151,  32, 151,   5,   2,   1,   1,   1,   1,   1,\n",
            "          1,   1,   1,   1,   1,   1,   1,   1,   1,   1,   1,   1,   1,   1,\n",
            "          1,   1,   1,   1,   1,   1,   1,   1,   1,   1,   1,   1,   1,   1,\n",
            "          1,   1,   1,   1,   1,   1,   1,   1,   1,   1,   1,   1,   1,   1,\n",
            "          1,   1,   1,   1,   1,   1,   1,   1])\n",
            "Num of correct predictions = 122\n"
          ]
        },
        {
          "data": {
            "text/plain": [
              "0.5258620689655172"
            ]
          },
          "execution_count": 55,
          "metadata": {},
          "output_type": "execute_result"
        }
      ],
      "source": [
        "# spanish\n",
        "\n",
        "df_spanish = pd.read_csv(f'{FILE_PATH}/data/test_dataset/spanish_test_dataset.csv')\n",
        "df_spanish = create_file(df_spanish)\n",
        "\n",
        "spanish_input_ids, spanish_attention_masks, spanish_labels = create_tensors_and_text(df_spanish, False)\n",
        "spanish_texts = df_spanish.text_input.values\n",
        "\n",
        "seed_everything()\n",
        "\n",
        "total = len(df_spanish)\n",
        "\n",
        "spanish_test_set = [(spanish_input_ids[i], spanish_attention_masks[i], spanish_labels[i]) for i in range(total)]\n",
        "\n",
        "spanish_test_text = [spanish_labels[i] for i in range(total)]\n",
        "\n",
        "seed_everything()\n",
        "get_validation_performance(spanish_test_set)[0]"
      ]
    },
    {
      "cell_type": "markdown",
      "source": [
        "## Nepali"
      ],
      "metadata": {
        "id": "pLGbLqu75aZH"
      }
    },
    {
      "cell_type": "code",
      "execution_count": null,
      "metadata": {
        "colab": {
          "base_uri": "https://localhost:8080/"
        },
        "id": "NzguWzteqgPR",
        "outputId": "845cc697-05c7-4405-99b5-e7e22894f1a5"
      },
      "outputs": [
        {
          "name": "stdout",
          "output_type": "stream",
          "text": [
            "Original:  आगामी दिनमा यी दुई नेताबीच सहज सहकार्य होला ? नीतिमा आधारित भएर राष्ट्रको नेतृत्व गर्नुपर्छ भन्ने एमालेको दृष्टिकोण नै सहकार्यलाई सफल पार्ने आधार हो । एमाले राष्ट्रिय राजनीतिको ध्रुवीकरण, विकास समृद्धिलाई केन्द्रमा राखेर बहस गर्दै आएको पार्टी हो । माओवादी पंक्तिभित्र चाहिँ कांग्रेससँगको सहकार्य दीर्घकालीन हितका लागि र वामपन्थी मुद्दाका लागि उचित रहेन भन्ने महसुस गरेको देखिन्छ । त्यस अर्थमा आउने दिनमा सहकार्य कसिलो बन्ने नीतिगत आधार विद्यमान छन् । अर्कोतिर मुलुकमा जति धेरै अस्थिरता भयो, गठबन्धनमा भएका नयाँ पार्टी उति नै असफल हुने खतरा छ । त्यसैले उनीहरूले जे मौका पाएका छन्, काम गरेर देखाउनुपर्ने बाध्यता छ । यद्यपि नेपालमा अस्थिरता चाहने शक्तिहरू हाबी छन्, त्यसबाट जोगिनुपर्छ । अहिलेको गठबन्धन सफल/असफल हुनुमा दलहरूको आफ्नो स्वार्थ पनि निर्भर रहन्छ ।\n",
            "Token IDs: tensor([     0,  52678, 135384,  31849,  12869,  15579,  36548,  55905, 128809,\n",
            "         60246,    705,  30111,    411, 115380,  62199,  20823,    356,  52598,\n",
            "        116897,  12907,  33490,    356, 211322,   6425, 128809,   1385,  42921,\n",
            "        194570,  31218,   1253,    207,  33490,  19618,  52845,    356, 229640,\n",
            "         28265,      4,   9623,  95885,   1385,  26199,    411, 148008, 152623,\n",
            "         11890,  24640,  11247,   1253,    207,  37807, 240787,  48675,      6,\n",
            "        181527,  12042,   9142,    356, 128809, 156773, 114225,  97592,    656,\n",
            "             2])\n",
            "Num of correct predictions = 112\n"
          ]
        },
        {
          "data": {
            "text/plain": [
              "0.4666666666666667"
            ]
          },
          "execution_count": 56,
          "metadata": {},
          "output_type": "execute_result"
        }
      ],
      "source": [
        "# nepali\n",
        "\n",
        "df_nepali = pd.read_csv(f'{FILE_PATH}/data/test_dataset/nepali_test_dataset.csv')\n",
        "df_nepali = create_file(df_nepali)\n",
        "\n",
        "nepali_input_ids, nepali_attention_masks, nepali_labels = create_tensors_and_text(df_nepali, False)\n",
        "nepali_texts = df_nepali.text_input.values\n",
        "\n",
        "seed_everything()\n",
        "\n",
        "total = len(df_nepali)\n",
        "\n",
        "nepali_test_set = [(nepali_input_ids[i], nepali_attention_masks[i], nepali_labels[i]) for i in range(total)]\n",
        "\n",
        "nepali_test_text = [nepali_labels[i] for i in range(total)]\n",
        "\n",
        "seed_everything()\n",
        "get_validation_performance(nepali_test_set)[0]"
      ]
    },
    {
      "cell_type": "markdown",
      "source": [
        "## Persian"
      ],
      "metadata": {
        "id": "dweOqIh95cq_"
      }
    },
    {
      "cell_type": "code",
      "execution_count": null,
      "metadata": {
        "colab": {
          "base_uri": "https://localhost:8080/"
        },
        "id": "SH04OAdKqlvo",
        "outputId": "ae098042-89b6-4676-c218-78825cca91de"
      },
      "outputs": [
        {
          "name": "stdout",
          "output_type": "stream",
          "text": [
            "Original:  حالت خوبه ؟   خوبم ، تو خوبی ؟ \n",
            "Token IDs: tensor([    0, 16413, 14109,   176,  9446, 14109,   376,   725,  1241, 35256,\n",
            "         9446,     2,     1,     1,     1,     1,     1,     1,     1,     1,\n",
            "            1,     1,     1,     1,     1,     1,     1,     1,     1,     1,\n",
            "            1,     1,     1,     1,     1,     1,     1,     1,     1,     1,\n",
            "            1,     1,     1,     1,     1,     1,     1,     1,     1,     1,\n",
            "            1,     1,     1,     1,     1,     1,     1,     1,     1,     1,\n",
            "            1,     1,     1,     1])\n",
            "Num of correct predictions = 110\n"
          ]
        },
        {
          "data": {
            "text/plain": [
              "0.4583333333333333"
            ]
          },
          "execution_count": 57,
          "metadata": {},
          "output_type": "execute_result"
        }
      ],
      "source": [
        "# persian\n",
        "\n",
        "df_persian = pd.read_csv(f'{FILE_PATH}/data/test_dataset/persian_test_dataset.csv')\n",
        "df_persian = create_file(df_persian)\n",
        "\n",
        "persian_input_ids, persian_attention_masks, persian_labels = create_tensors_and_text(df_persian, False)\n",
        "persian_texts = df_persian.text_input.values\n",
        "\n",
        "seed_everything()\n",
        "\n",
        "total = len(df_persian)\n",
        "\n",
        "persian_test_set = [(persian_input_ids[i], persian_attention_masks[i], persian_labels[i]) for i in range(total)]\n",
        "\n",
        "persian_test_text = [persian_labels[i] for i in range(total)]\n",
        "\n",
        "seed_everything()\n",
        "get_validation_performance(persian_test_set)[0]"
      ]
    },
    {
      "cell_type": "markdown",
      "metadata": {
        "id": "fzuViKDP_21P"
      },
      "source": [
        "# Experiment 5.2 Fine-Tuning with the New Language"
      ]
    },
    {
      "cell_type": "markdown",
      "source": [
        "The results of the said experiment being performed below are included in Section 3.3 Results under Table 2 Results obtained in multiple languages with\n",
        "XLM-RoBERTa, trained blending with English corpora in the project report."
      ],
      "metadata": {
        "id": "VDvoeCNVfrk-"
      }
    },
    {
      "cell_type": "markdown",
      "source": [
        "## Setting up the model, optimizer and training function"
      ],
      "metadata": {
        "id": "FL1P51EP5_Ws"
      }
    },
    {
      "cell_type": "markdown",
      "source": [
        "<h3>The training strategy</h3>\n",
        "<p>Concatenate English data with the other language, at every epoch, take some of the other language's row off (determined by alpha).</p>\n",
        "\n",
        "<p>You will notice the parameters as \"train_set_english\" and the other language as \"train_set_other_language\" which is the other language data set to be concatenated. This function works for every language. Just pass in the appropriate parameter (train set)</p>\n",
        "\n",
        "<p>This is what the process looks like (for every language)<p>\n",
        "<ol>\n",
        "<li>Import the test, train, and validation files</li>\n",
        "<li>Create tensors and split the data into train, test, and val</li>\n",
        "<li>Call run_training_loops_new_strategy()</li>\n",
        "</ol>"
      ],
      "metadata": {
        "id": "TLVxjHt06nlQ"
      }
    },
    {
      "cell_type": "code",
      "execution_count": null,
      "metadata": {
        "colab": {
          "base_uri": "https://localhost:8080/",
          "height": 902,
          "referenced_widgets": [
            "292da2e0afa24d1a8dda96baf76c349e",
            "d470e418f0224ac8930dcda097de6b0a",
            "2bfe4455f8f4434ca54c3215c2459dc0",
            "c38742f9750847ea85c6dad82ddf7289",
            "c56cc2292cac47eea334b729ecd691a1",
            "0e9f9fe702c0408f9d5977cead054fe6",
            "67add741620548d2ac259d1ad259467d",
            "1217e8e4943f431a91c86a0133a5ce58",
            "38cca25dab624da5b0de11c65e484115",
            "ae34f386b36f4747866892f08e1a8765",
            "fd47deedc28d4dae982a237a378ffa2d"
          ]
        },
        "id": "sXlfW0FHvLZi",
        "outputId": "f29d3b89-9d3d-420f-ab4b-f2947374da0c"
      },
      "outputs": [
        {
          "output_type": "display_data",
          "data": {
            "text/plain": [
              "model.safetensors:   0%|          | 0.00/1.12G [00:00<?, ?B/s]"
            ],
            "application/vnd.jupyter.widget-view+json": {
              "version_major": 2,
              "version_minor": 0,
              "model_id": "292da2e0afa24d1a8dda96baf76c349e"
            }
          },
          "metadata": {}
        },
        {
          "output_type": "stream",
          "name": "stderr",
          "text": [
            "Some weights of XLMRobertaForSequenceClassification were not initialized from the model checkpoint at xlm-roberta-base and are newly initialized: ['classifier.dense.bias', 'classifier.dense.weight', 'classifier.out_proj.bias', 'classifier.out_proj.weight']\n",
            "You should probably TRAIN this model on a down-stream task to be able to use it for predictions and inference.\n"
          ]
        },
        {
          "output_type": "execute_result",
          "data": {
            "text/plain": [
              "XLMRobertaForSequenceClassification(\n",
              "  (roberta): XLMRobertaModel(\n",
              "    (embeddings): XLMRobertaEmbeddings(\n",
              "      (word_embeddings): Embedding(250002, 768, padding_idx=1)\n",
              "      (position_embeddings): Embedding(514, 768, padding_idx=1)\n",
              "      (token_type_embeddings): Embedding(1, 768)\n",
              "      (LayerNorm): LayerNorm((768,), eps=1e-05, elementwise_affine=True)\n",
              "      (dropout): Dropout(p=0.1, inplace=False)\n",
              "    )\n",
              "    (encoder): XLMRobertaEncoder(\n",
              "      (layer): ModuleList(\n",
              "        (0-11): 12 x XLMRobertaLayer(\n",
              "          (attention): XLMRobertaAttention(\n",
              "            (self): XLMRobertaSelfAttention(\n",
              "              (query): Linear(in_features=768, out_features=768, bias=True)\n",
              "              (key): Linear(in_features=768, out_features=768, bias=True)\n",
              "              (value): Linear(in_features=768, out_features=768, bias=True)\n",
              "              (dropout): Dropout(p=0.1, inplace=False)\n",
              "            )\n",
              "            (output): XLMRobertaSelfOutput(\n",
              "              (dense): Linear(in_features=768, out_features=768, bias=True)\n",
              "              (LayerNorm): LayerNorm((768,), eps=1e-05, elementwise_affine=True)\n",
              "              (dropout): Dropout(p=0.1, inplace=False)\n",
              "            )\n",
              "          )\n",
              "          (intermediate): XLMRobertaIntermediate(\n",
              "            (dense): Linear(in_features=768, out_features=3072, bias=True)\n",
              "            (intermediate_act_fn): GELUActivation()\n",
              "          )\n",
              "          (output): XLMRobertaOutput(\n",
              "            (dense): Linear(in_features=3072, out_features=768, bias=True)\n",
              "            (LayerNorm): LayerNorm((768,), eps=1e-05, elementwise_affine=True)\n",
              "            (dropout): Dropout(p=0.1, inplace=False)\n",
              "          )\n",
              "        )\n",
              "      )\n",
              "    )\n",
              "  )\n",
              "  (classifier): XLMRobertaClassificationHead(\n",
              "    (dense): Linear(in_features=768, out_features=768, bias=True)\n",
              "    (dropout): Dropout(p=0.1, inplace=False)\n",
              "    (out_proj): Linear(in_features=768, out_features=3, bias=True)\n",
              "  )\n",
              ")"
            ]
          },
          "metadata": {},
          "execution_count": 36
        }
      ],
      "source": [
        "from transformers import XLMRobertaForSequenceClassification, Trainer, TrainingArguments\n",
        "\n",
        "model = XLMRobertaForSequenceClassification.from_pretrained('xlm-roberta-base', num_labels=3)\n",
        "model.cuda()"
      ]
    },
    {
      "cell_type": "code",
      "execution_count": null,
      "metadata": {
        "id": "ZDqCHq67uPuv"
      },
      "outputs": [],
      "source": [
        "from torch.optim import AdamW\n",
        "\n",
        "batch_size = 16\n",
        "optimizer = torch.optim.AdamW(model.parameters(), lr=2e-5, weight_decay=1e-2)\n",
        "epochs = 30\n",
        "\n",
        "# 0.0003"
      ]
    },
    {
      "cell_type": "code",
      "execution_count": null,
      "metadata": {
        "id": "Aerfgf65_2Id"
      },
      "outputs": [],
      "source": [
        "import random\n",
        "import torch\n",
        "\n",
        "def run_training_loops_new_strategy(train_set_english, train_set_other_language, val_set, epochs, alpha):\n",
        "    # Assuming train_set_english and train_set_other_language are lists of tuples (input_id, attention_mask, label)\n",
        "    # and alpha is the reduction factor for the other_language dataset size after each epoch.\n",
        "\n",
        "    val_acc = 0  # Initialize validation accuracy\n",
        "\n",
        "    for epoch_i in range(epochs):\n",
        "        print(f\"\\n======== Epoch {epoch_i + 1} / {epochs} ========\")\n",
        "        print(\"Training...\")\n",
        "\n",
        "        # Concatenate English data with a subset of other_language data\n",
        "        # Reduce the other_language dataset by alpha after each epoch\n",
        "        other_language_data_size = int(len(train_set_other_language) * (alpha ** epoch_i))\n",
        "        current_train_set = train_set_english + random.sample(train_set_other_language, other_language_data_size)\n",
        "\n",
        "        total_train_loss = 0  # Reset total loss for this epoch\n",
        "\n",
        "        model.train()  # Put the model into training mode\n",
        "\n",
        "        num_batches = len(current_train_set) // batch_size + (len(current_train_set) % batch_size != 0)\n",
        "\n",
        "        for i in range(num_batches):\n",
        "            batch = current_train_set[i * batch_size:(i + 1) * batch_size]\n",
        "            if not batch:\n",
        "                continue\n",
        "\n",
        "            b_input_ids, b_input_mask, b_labels = zip(*batch)  # Unpack batch data\n",
        "\n",
        "            # Convert lists to tensors and move them to the device (GPU/CPU)\n",
        "            b_input_ids = torch.stack(b_input_ids).to(device)\n",
        "            b_input_mask = torch.stack(b_input_mask).to(device)\n",
        "            b_labels = torch.stack(b_labels).to(device)\n",
        "\n",
        "            optimizer.zero_grad()\n",
        "\n",
        "            outputs = model(b_input_ids, token_type_ids=None, attention_mask=b_input_mask, labels=b_labels)\n",
        "            loss = outputs.loss\n",
        "            total_train_loss += loss.item()\n",
        "\n",
        "            loss.backward()  # Calculate gradients\n",
        "            optimizer.step()  # Update parameters\n",
        "\n",
        "        print(f\"Total loss: {total_train_loss}\")\n",
        "        f1,val_acc = get_validation_performance(val_set)  # Evaluate on validation set\n",
        "        print(f\"Validation accuracy: {val_acc}\")\n",
        "\n",
        "    print(\"\\nTraining complete!\")\n",
        "    return val_acc\n",
        "\n",
        "# Note: You would need to define `get_validation_performance`, `batch_size`, `model`, `optimizer`, and ensure that `device` is set correctly (e.g., to 'cuda' or 'cpu').\n",
        "# Also, ensure that your model, optimizer, and data are correctly transferred to the GPU if you're using one.\n",
        "\n",
        "# Lastly, saving the model after training is completed is essential for later use or further training.\n",
        "# The placeholder for saving the model is already in your script, so don't forget to use it with your model's and training's specifics.\n"
      ]
    },
    {
      "cell_type": "markdown",
      "metadata": {
        "id": "qNQIzareaz11"
      },
      "source": [
        "## Hindi dataset"
      ]
    },
    {
      "cell_type": "code",
      "execution_count": null,
      "metadata": {
        "id": "SA87GguxA05T"
      },
      "outputs": [],
      "source": [
        "df_hindi_test = pd.read_csv(f'{FILE_PATH}/data/test_dataset/hindi_test_dataset.csv')\n",
        "df_hindi_test = create_file(df_hindi_test)\n",
        "\n",
        "df_hindi_val = pd.read_csv(f'{FILE_PATH}/data/test_dataset/hindi_dev_dataset.csv')\n",
        "df_hindi_val = create_file(df_hindi_val)\n",
        "\n",
        "df_hindi_train_yes = pd.read_excel(f'{FILE_PATH}/data/train_dataset/hindi_yes_answer.xlsx')\n",
        "df_hindi_train_yes = create_file(df_hindi_train_yes)\n",
        "\n",
        "df_hindi_train_no = pd.read_excel(f'{FILE_PATH}/data/train_dataset/hindi_no_answer.xlsx')\n",
        "df_hindi_train_no = create_file(df_hindi_train_no)\n",
        "\n",
        "df_hindi_train = pd.concat([df_hindi_train_yes, df_hindi_train_no])"
      ]
    },
    {
      "cell_type": "code",
      "execution_count": null,
      "metadata": {
        "id": "VqRcF8hiDI-y"
      },
      "outputs": [],
      "source": [
        "df_hindi_combined = pd.concat([df_hindi_test, df_hindi_val, df_hindi_train])"
      ]
    },
    {
      "cell_type": "code",
      "execution_count": null,
      "metadata": {
        "colab": {
          "base_uri": "https://localhost:8080/",
          "height": 274,
          "referenced_widgets": [
            "2e0dd5d8f0114533bcb53d7cb6937c39",
            "638c4eadb8df4e79936513481ea771c4",
            "a7d565fe05b14f0a8fabbac1ae54cc0b",
            "8af1d003e45549a1bef1d32d2e597b4d",
            "dec23dda1d1b4af1a135b5691f46d218",
            "67f975fab2a24c269d4504af6dd7f7ca",
            "98b78b51be194dba99915c0015d1d86d",
            "aba525bc26ac4948a1bfbd830b0e8180",
            "f2771cb7b0db4b778e603a3486c3c14b",
            "bc5e08fa82704fe3ac808c1ac668ca6e",
            "3e2fda0732974d6eaaf5c88f3509f08f",
            "77f63d7e4c604424b08735fca7759177",
            "ac89aa42702645d180475e8bd2ae9049",
            "44201cda3d164c2d94a889b9e1e9da1d",
            "9800ce759164447dac26f489611342f4",
            "196ce8f01f0a4025be396aa63eaa14e9",
            "57ea1d9a6ee64e63bb5e14c9f6f58354",
            "8928cc93de2b4a68b67b41bb1f3f6e45",
            "2abb1df74a704a5ca22dd46f8f8b81b2",
            "0d14458faf8640c19a0cd7ff874c6729",
            "a7bcb9511311472988bf78194f8516eb",
            "4787f95d03f5418296b4e93bae4d097b",
            "369d8ee9f45f4bb9aaa841b13552389f",
            "e1c924ebe9e64407b2c826a15a3999b8",
            "faf4ff9d3d5d4c1abae63f09cef7b2ef",
            "530d57464d1048fdb51dd98279741894",
            "a079a307a6654ba8916ad0b39b95fb21",
            "eb28da13420f4dcb84aef9340367984c",
            "f77346dc6f404cf9b430e20901961cd3",
            "cb665994565e4cd7945afdae841b20e2",
            "7d2176e3f17d4dfaa5608de7dcf601a4",
            "4d346cf196a94485ab2de6296ea2d7d2",
            "02c062adb170438c8160d509a438ad60"
          ]
        },
        "id": "WwU79ivCA05U",
        "outputId": "649c7ca6-c061-4dd1-b102-83d3b3acca94"
      },
      "outputs": [
        {
          "data": {
            "application/vnd.jupyter.widget-view+json": {
              "model_id": "2e0dd5d8f0114533bcb53d7cb6937c39",
              "version_major": 2,
              "version_minor": 0
            },
            "text/plain": [
              "tokenizer_config.json:   0%|          | 0.00/25.0 [00:00<?, ?B/s]"
            ]
          },
          "metadata": {},
          "output_type": "display_data"
        },
        {
          "data": {
            "application/vnd.jupyter.widget-view+json": {
              "model_id": "77f63d7e4c604424b08735fca7759177",
              "version_major": 2,
              "version_minor": 0
            },
            "text/plain": [
              "sentencepiece.bpe.model:   0%|          | 0.00/5.07M [00:00<?, ?B/s]"
            ]
          },
          "metadata": {},
          "output_type": "display_data"
        },
        {
          "data": {
            "application/vnd.jupyter.widget-view+json": {
              "model_id": "369d8ee9f45f4bb9aaa841b13552389f",
              "version_major": 2,
              "version_minor": 0
            },
            "text/plain": [
              "tokenizer.json:   0%|          | 0.00/9.10M [00:00<?, ?B/s]"
            ]
          },
          "metadata": {},
          "output_type": "display_data"
        },
        {
          "name": "stdout",
          "output_type": "stream",
          "text": [
            "Original:  सलमान_खान की अगली फ़िल्म \"कभी ईद कभी दिवाली” आ रही है, क्या आप बहिष्कार करेंगे? सुशांत सिंह राजपूत के साथ सलमान ने जो किया उससे पूरे बिहार नाराज़ है\n",
            "Token IDs: tensor([     0,  66464,    454,  14983,    998,    471,  77884,   2416, 187529,\n",
            "            44,   1223,  50308,  17139,   3044,  28656,  14177,   3097,   2416,\n",
            "            63,   2220,   8906,    460,      4,   6004,   4322, 148640,  24269,\n",
            "          7186,  58898,     32,   5224,   4037,  23649,  15652,  11990,  51886,\n",
            "           996,    287,   3765,  66464,   1142,   4993,   4029, 137524,  94173,\n",
            "         55423, 159026,  18600,    460,      2,      1,      1,      1,      1,\n",
            "             1,      1,      1,      1,      1,      1,      1,      1,      1,\n",
            "             1])\n"
          ]
        }
      ],
      "source": [
        "hindi_input_ids, hindi_attention_masks, hindi_labels = create_tensors_and_text(df_hindi_combined, False)\n",
        "hindi_texts = df_hindi_combined.text_input.values\n",
        "\n",
        "seed_everything()\n",
        "\n",
        "len_test = len(df_hindi_test)\n",
        "len_val = len(df_hindi_val)\n",
        "len_train = len(df_hindi_train)\n",
        "\n",
        "hindi_test_set = [(hindi_input_ids[i], hindi_attention_masks[i], hindi_labels[i]) for i in range(len_test)]\n",
        "hindi_test_text = [hindi_labels[i] for i in range(len_test)]\n",
        "\n",
        "hindi_val_set = [(hindi_input_ids[i], hindi_attention_masks[i], hindi_labels[i]) for i in range(len_test,len_test + len_val)]\n",
        "hindi_val_text = [hindi_labels[i] for i in range(len_test,len_test + len_val)]\n",
        "\n",
        "hindi_train_set = [(hindi_input_ids[i], hindi_attention_masks[i], hindi_labels[i]) for i in range(len_test + len_val, len(df_hindi_combined))]\n",
        "hindi_train_text = [hindi_labels[i] for i in range(len_test + len_val, len(df_hindi_combined))]"
      ]
    },
    {
      "cell_type": "code",
      "execution_count": null,
      "metadata": {
        "colab": {
          "base_uri": "https://localhost:8080/"
        },
        "id": "LGfk6HNqEZ9N",
        "outputId": "4f0d60c8-501f-4758-de9c-3e8df24e3032"
      },
      "outputs": [
        {
          "data": {
            "text/plain": [
              "27615"
            ]
          },
          "execution_count": 40,
          "metadata": {},
          "output_type": "execute_result"
        }
      ],
      "source": [
        "len(english_train_set)"
      ]
    },
    {
      "cell_type": "code",
      "execution_count": null,
      "metadata": {
        "colab": {
          "base_uri": "https://localhost:8080/"
        },
        "id": "sCTAYZlaEcwr",
        "outputId": "d92a6c94-ad23-4fbb-a460-787b3ea85c70"
      },
      "outputs": [
        {
          "data": {
            "text/plain": [
              "3109"
            ]
          },
          "execution_count": 41,
          "metadata": {},
          "output_type": "execute_result"
        }
      ],
      "source": [
        "len(hindi_train_set)"
      ]
    },
    {
      "cell_type": "code",
      "execution_count": null,
      "metadata": {
        "colab": {
          "base_uri": "https://localhost:8080/"
        },
        "id": "33VAh_CjvbV3",
        "outputId": "b147f4f3-9c5a-49a8-b8ca-3de2a1805bb9"
      },
      "outputs": [
        {
          "name": "stdout",
          "output_type": "stream",
          "text": [
            "\n",
            "======== Epoch 1 / 3 ========\n",
            "Training...\n",
            "Total loss: 181.37047568043076\n",
            "Num of correct predictions = 31\n",
            "Validation accuracy: 0.5166666666666667\n",
            "\n",
            "======== Epoch 2 / 3 ========\n",
            "Training...\n",
            "Total loss: 144.1907755964037\n",
            "Num of correct predictions = 27\n",
            "Validation accuracy: 0.45\n",
            "\n",
            "======== Epoch 3 / 3 ========\n",
            "Training...\n",
            "Total loss: 122.72355320895407\n",
            "Num of correct predictions = 25\n",
            "Validation accuracy: 0.4166666666666667\n",
            "\n",
            "Training complete!\n"
          ]
        },
        {
          "data": {
            "text/plain": [
              "0.4166666666666667"
            ]
          },
          "execution_count": 45,
          "metadata": {},
          "output_type": "execute_result"
        }
      ],
      "source": [
        "batch_size = 16\n",
        "optimizer = torch.optim.AdamW(model.parameters(), lr=2e-5, weight_decay=1e-2)\n",
        "epochs = 3\n",
        "\n",
        "# def run_training_loops_new_strategy(train_set_english, train_set_hindi, val_set, epochs, alpha, batch_size, optimizer)\n",
        "run_training_loops_new_strategy(english_train_set, hindi_train_set, hindi_val_set, epochs=epochs, alpha=0.2)"
      ]
    },
    {
      "cell_type": "code",
      "execution_count": null,
      "metadata": {
        "colab": {
          "base_uri": "https://localhost:8080/"
        },
        "id": "Q_dUVFEdEBop",
        "outputId": "2c6587ec-6b78-4bf2-addf-100ffdfb5a64"
      },
      "outputs": [
        {
          "name": "stdout",
          "output_type": "stream",
          "text": [
            "\n",
            "======== Epoch 1 / 1 ========\n",
            "Training...\n",
            "Total loss: 1889.765476214655\n",
            "Num of correct predictions = 27\n",
            "Validation accuracy: 0.45\n",
            "\n",
            "Training complete!\n"
          ]
        },
        {
          "data": {
            "text/plain": [
              "0.45"
            ]
          },
          "execution_count": 60,
          "metadata": {},
          "output_type": "execute_result"
        }
      ],
      "source": [
        "# run_training_loops_new_strategy(english_train_set, hindi_train_set, hindi_val_set, epochs=1, alpha=0.87)"
      ]
    },
    {
      "cell_type": "code",
      "execution_count": null,
      "metadata": {
        "colab": {
          "base_uri": "https://localhost:8080/"
        },
        "id": "kqvKIfKZH0rI",
        "outputId": "95cf5672-ecbd-4606-9435-5469e48a108a"
      },
      "outputs": [
        {
          "name": "stdout",
          "output_type": "stream",
          "text": [
            "Num of correct predictions = 138\n"
          ]
        },
        {
          "data": {
            "text/plain": [
              "0.575"
            ]
          },
          "execution_count": 46,
          "metadata": {},
          "output_type": "execute_result"
        }
      ],
      "source": [
        "seed_everything()\n",
        "get_validation_performance(hindi_test_set)[0]"
      ]
    },
    {
      "cell_type": "markdown",
      "metadata": {
        "id": "yA2kKjEBGeab"
      },
      "source": [
        "## Korean dataset"
      ]
    },
    {
      "cell_type": "code",
      "execution_count": null,
      "metadata": {
        "id": "jtZPgfBJG_0A"
      },
      "outputs": [],
      "source": [
        "df_korean_test = pd.read_csv(f'{FILE_PATH}/data/test_dataset/korean_test_dataset.csv')\n",
        "df_korean_test = create_file(df_korean_test)\n",
        "\n",
        "df_korean_val = pd.read_csv(f'{FILE_PATH}/data/test_dataset/korean_dev_dataset.csv')\n",
        "df_korean_val = create_file(df_korean_val)\n",
        "\n",
        "df_korean_train_yes = pd.read_csv(f'{FILE_PATH}/data/train_dataset/korean_yes_answer.csv')\n",
        "df_korean_train_yes['label'] = 'y'\n",
        "df_korean_train_yes = create_file(df_korean_train_yes)\n",
        "\n",
        "df_korean_train_no = pd.read_csv(f'{FILE_PATH}/data/train_dataset/korean_no_answer.csv')\n",
        "df_korean_train_no['label'] = 'n'\n",
        "df_korean_train_no = create_file(df_korean_train_no)\n",
        "\n",
        "df_korean_train = pd.concat([df_korean_train_yes, df_korean_train_no])"
      ]
    },
    {
      "cell_type": "code",
      "execution_count": null,
      "metadata": {
        "id": "Yernid5_G_kh"
      },
      "outputs": [],
      "source": [
        "df_korean_combined = pd.concat([df_korean_test, df_korean_val, df_korean_train])"
      ]
    },
    {
      "cell_type": "code",
      "execution_count": null,
      "metadata": {
        "colab": {
          "base_uri": "https://localhost:8080/"
        },
        "id": "oWhxC_puHX-i",
        "outputId": "f4b7ffe7-b377-44e2-9b8b-1213fa48868f"
      },
      "outputs": [
        {
          "name": "stdout",
          "output_type": "stream",
          "text": [
            "Original:  메뉴판 어딨어요? 여기 있어요? 여기 있습니다\n",
            "Token IDs: tensor([     0, 125543,  19641,  14327, 249084,  38736,     32,  81205, 106597,\n",
            "            32,  81205,   3292,      2,      1,      1,      1,      1,      1,\n",
            "             1,      1,      1,      1,      1,      1,      1,      1,      1,\n",
            "             1,      1,      1,      1,      1,      1,      1,      1,      1,\n",
            "             1,      1,      1,      1,      1,      1,      1,      1,      1,\n",
            "             1,      1,      1,      1,      1,      1,      1,      1,      1,\n",
            "             1,      1,      1,      1,      1,      1,      1,      1,      1,\n",
            "             1])\n"
          ]
        }
      ],
      "source": [
        "korean_input_ids, korean_attention_masks, korean_labels = create_tensors_and_text(df_korean_combined, False)\n",
        "korean_texts = df_korean_combined.text_input.values\n",
        "\n",
        "seed_everything()\n",
        "\n",
        "len_test = len(df_korean_test)\n",
        "len_val = len(df_korean_val)\n",
        "len_train = len(df_korean_train)\n",
        "\n",
        "korean_test_set = [(korean_input_ids[i], korean_attention_masks[i], korean_labels[i]) for i in range(len_test)]\n",
        "korean_test_text = [korean_labels[i] for i in range(len_test)]\n",
        "\n",
        "korean_val_set = [(korean_input_ids[i], korean_attention_masks[i], korean_labels[i]) for i in range(len_test,len_test + len_val)]\n",
        "korean_val_text = [korean_labels[i] for i in range(len_test,len_test + len_val)]\n",
        "\n",
        "korean_train_set = [(korean_input_ids[i], korean_attention_masks[i], korean_labels[i]) for i in range(len_test + len_val, len(df_korean_combined))]\n",
        "korean_train_text = [korean_labels[i] for i in range(len_test + len_val, len(df_korean_combined))]"
      ]
    },
    {
      "cell_type": "code",
      "execution_count": null,
      "metadata": {
        "colab": {
          "base_uri": "https://localhost:8080/"
        },
        "id": "EaxK6GPgHbEA",
        "outputId": "92239c49-36e0-4afa-999d-9392706db09c"
      },
      "outputs": [
        {
          "data": {
            "text/plain": [
              "12976"
            ]
          },
          "execution_count": 79,
          "metadata": {},
          "output_type": "execute_result"
        }
      ],
      "source": [
        "len(korean_train_set)"
      ]
    },
    {
      "cell_type": "code",
      "execution_count": null,
      "metadata": {
        "colab": {
          "base_uri": "https://localhost:8080/"
        },
        "id": "xgJPDX37HhH7",
        "outputId": "c27100e1-4f9d-427b-8619-7964ea2cc86e"
      },
      "outputs": [
        {
          "name": "stdout",
          "output_type": "stream",
          "text": [
            "\n",
            "======== Epoch 1 / 10 ========\n",
            "Training...\n",
            "Total loss: 25.69853690263812\n",
            "Num of correct predictions = 35\n",
            "Validation accuracy: 0.5833333333333334\n",
            "\n",
            "======== Epoch 2 / 10 ========\n",
            "Training...\n",
            "Total loss: 40.002282642032206\n",
            "Num of correct predictions = 35\n",
            "Validation accuracy: 0.5833333333333334\n",
            "\n",
            "======== Epoch 3 / 10 ========\n",
            "Training...\n",
            "Total loss: 31.30157711639985\n",
            "Num of correct predictions = 34\n",
            "Validation accuracy: 0.5666666666666667\n",
            "\n",
            "======== Epoch 4 / 10 ========\n",
            "Training...\n",
            "Total loss: 32.53980284890922\n",
            "Num of correct predictions = 34\n",
            "Validation accuracy: 0.5666666666666667\n",
            "\n",
            "======== Epoch 5 / 10 ========\n",
            "Training...\n",
            "Total loss: 28.879399408485508\n",
            "Num of correct predictions = 34\n",
            "Validation accuracy: 0.5666666666666667\n",
            "\n",
            "======== Epoch 6 / 10 ========\n",
            "Training...\n",
            "Total loss: 31.398360648803443\n",
            "Num of correct predictions = 33\n",
            "Validation accuracy: 0.55\n",
            "\n",
            "======== Epoch 7 / 10 ========\n",
            "Training...\n",
            "Total loss: 28.603533135156106\n",
            "Num of correct predictions = 33\n",
            "Validation accuracy: 0.55\n",
            "\n",
            "======== Epoch 8 / 10 ========\n",
            "Training...\n",
            "Total loss: 29.234060353032948\n",
            "Num of correct predictions = 33\n",
            "Validation accuracy: 0.55\n",
            "\n",
            "======== Epoch 9 / 10 ========\n",
            "Training...\n",
            "Total loss: 27.403638965502825\n",
            "Num of correct predictions = 34\n",
            "Validation accuracy: 0.5666666666666667\n",
            "\n",
            "======== Epoch 10 / 10 ========\n",
            "Training...\n",
            "Total loss: 25.974500396452978\n",
            "Num of correct predictions = 35\n",
            "Validation accuracy: 0.5833333333333334\n",
            "\n",
            "Training complete!\n"
          ]
        },
        {
          "data": {
            "text/plain": [
              "0.5833333333333334"
            ]
          },
          "execution_count": 83,
          "metadata": {},
          "output_type": "execute_result"
        }
      ],
      "source": [
        "batch_size = 16\n",
        "optimizer = torch.optim.AdamW(model.parameters(), lr=2e-5, weight_decay=1e-2)\n",
        "epochs = 10\n",
        "\n",
        "run_training_loops_new_strategy(english_train_set, korean_train_set, korean_val_set, epochs=epochs, alpha=0.5)"
      ]
    },
    {
      "cell_type": "code",
      "execution_count": null,
      "metadata": {
        "colab": {
          "base_uri": "https://localhost:8080/"
        },
        "id": "kFRJERYuHm2u",
        "outputId": "510c8cb5-fbd6-4c6f-933a-5e102b4e3822"
      },
      "outputs": [
        {
          "name": "stdout",
          "output_type": "stream",
          "text": [
            "Num of correct predictions = 153\n"
          ]
        },
        {
          "data": {
            "text/plain": [
              "0.6375"
            ]
          },
          "execution_count": 84,
          "metadata": {},
          "output_type": "execute_result"
        }
      ],
      "source": [
        "seed_everything()\n",
        "get_validation_performance(korean_test_set)[0]"
      ]
    },
    {
      "cell_type": "markdown",
      "metadata": {
        "id": "WofIqzpNG1m4"
      },
      "source": [
        "## Chinese dataset"
      ]
    },
    {
      "cell_type": "code",
      "execution_count": null,
      "metadata": {
        "id": "Ol7Afg7MHBoO"
      },
      "outputs": [],
      "source": [
        "df_chinese_test = pd.read_csv(f'{FILE_PATH}/data/test_dataset/chinese_test_dataset.csv')\n",
        "df_chinese_test = create_file(df_chinese_test)\n",
        "\n",
        "df_chinese_val = pd.read_csv(f'{FILE_PATH}/data/test_dataset/chinese_dev_dataset.csv')\n",
        "df_chinese_val = create_file(df_chinese_val)\n",
        "\n",
        "df_chinese_train_yes = pd.read_csv(f'{FILE_PATH}/data/train_dataset/chinese_naturalconv_yes_answer.csv')\n",
        "# df_chinese_train_yes = pd.read_csv(f'{FILE_PATH}/data/train_dataset/chinese_lccc_yes_answer.csv')\n",
        "df_chinese_train_yes['label'] = 'y'\n",
        "df_chinese_train_yes = create_file(df_chinese_train_yes)\n",
        "\n",
        "df_chinese_train_no = pd.read_csv(f'{FILE_PATH}/data/train_dataset/chinese_naturalconv_no_answer.csv')\n",
        "# df_chinese_train_no = pd.read_csv(f'{FILE_PATH}/data/train_dataset/chinese_lccc_no_answer.csv')\n",
        "df_chinese_train_no['label'] = 'n'\n",
        "df_chinese_train_no = create_file(df_chinese_train_no)\n",
        "\n",
        "df_chinese_train = pd.concat([df_chinese_train_yes, df_chinese_train_no])"
      ]
    },
    {
      "cell_type": "code",
      "execution_count": null,
      "metadata": {
        "id": "WgPYC96bHBY1"
      },
      "outputs": [],
      "source": [
        "df_chinese_combined = pd.concat([df_chinese_test, df_chinese_val, df_chinese_train])"
      ]
    },
    {
      "cell_type": "code",
      "execution_count": null,
      "metadata": {
        "colab": {
          "base_uri": "https://localhost:8080/"
        },
        "id": "YiEWkGecHQdD",
        "outputId": "788d09d3-88a6-4d48-fe43-bc3842923f5d"
      },
      "outputs": [
        {
          "name": "stdout",
          "output_type": "stream",
          "text": [
            "Original:  车里没有矿泉水瓶吗？ 还是用罐头瓶吧\n",
            "Token IDs: tensor([     0,      6,   3715,   2008,   3029,  54391,  41318,   1553,  32696,\n",
            "          9131,     32,      6,   5169,   1173, 112110,   3878,  32696,   4502,\n",
            "             2,      1,      1,      1,      1,      1,      1,      1,      1,\n",
            "             1,      1,      1,      1,      1,      1,      1,      1,      1,\n",
            "             1,      1,      1,      1,      1,      1,      1,      1,      1,\n",
            "             1,      1,      1,      1,      1,      1,      1,      1,      1,\n",
            "             1,      1,      1,      1,      1,      1,      1,      1,      1,\n",
            "             1])\n"
          ]
        }
      ],
      "source": [
        "chinese_input_ids, chinese_attention_masks, chinese_labels = create_tensors_and_text(df_chinese_combined, False)\n",
        "chinese_texts = df_chinese_combined.text_input.values\n",
        "\n",
        "seed_everything()\n",
        "\n",
        "len_test = len(df_chinese_test)\n",
        "len_val = len(df_chinese_val)\n",
        "len_train = len(df_chinese_train)\n",
        "\n",
        "chinese_test_set = [(chinese_input_ids[i], chinese_attention_masks[i], chinese_labels[i]) for i in range(len_test)]\n",
        "chinese_test_text = [chinese_labels[i] for i in range(len_test)]\n",
        "\n",
        "chinese_val_set = [(chinese_input_ids[i], chinese_attention_masks[i], chinese_labels[i]) for i in range(len_test,len_test + len_val)]\n",
        "chinese_val_text = [chinese_labels[i] for i in range(len_test,len_test + len_val)]\n",
        "\n",
        "chinese_train_set = [(chinese_input_ids[i], chinese_attention_masks[i], chinese_labels[i]) for i in range(len_test + len_val, len(df_chinese_combined))]\n",
        "chinese_train_text = [chinese_labels[i] for i in range(len_test + len_val, len(df_chinese_combined))]"
      ]
    },
    {
      "cell_type": "code",
      "execution_count": null,
      "metadata": {
        "colab": {
          "base_uri": "https://localhost:8080/"
        },
        "id": "mxlL8F-AHcRa",
        "outputId": "b5e7139a-3977-440c-cf79-d9207592907b"
      },
      "outputs": [
        {
          "data": {
            "text/plain": [
              "14149"
            ]
          },
          "execution_count": 58,
          "metadata": {},
          "output_type": "execute_result"
        }
      ],
      "source": [
        "len(chinese_train_set)"
      ]
    },
    {
      "cell_type": "code",
      "execution_count": null,
      "metadata": {
        "colab": {
          "base_uri": "https://localhost:8080/"
        },
        "id": "jMDMz8TOHiNV",
        "outputId": "9765f157-109f-43ed-ae5a-07287a75b683"
      },
      "outputs": [
        {
          "name": "stdout",
          "output_type": "stream",
          "text": [
            "\n",
            "======== Epoch 1 / 3 ========\n",
            "Training...\n",
            "Total loss: 112.70377651064602\n",
            "Num of correct predictions = 59\n",
            "Validation accuracy: 0.49166666666666664\n",
            "\n",
            "======== Epoch 2 / 3 ========\n",
            "Training...\n",
            "Total loss: 518.1375118648485\n",
            "Num of correct predictions = 48\n",
            "Validation accuracy: 0.4\n",
            "\n",
            "======== Epoch 3 / 3 ========\n",
            "Training...\n",
            "Total loss: 876.5354199947589\n",
            "Num of correct predictions = 63\n",
            "Validation accuracy: 0.525\n",
            "\n",
            "Training complete!\n"
          ]
        },
        {
          "data": {
            "text/plain": [
              "0.525"
            ]
          },
          "execution_count": 59,
          "metadata": {},
          "output_type": "execute_result"
        }
      ],
      "source": [
        "batch_size = 16\n",
        "optimizer = torch.optim.AdamW(model.parameters(), lr=2e-5, weight_decay=1e-2)\n",
        "epochs = 3\n",
        "\n",
        "run_training_loops_new_strategy(english_train_set, chinese_train_set, chinese_val_set, epochs=epochs, alpha=0.2)\n",
        "\n",
        "# run_training_loops_new_strategy(english_train_set, chinese_train_set, chinese_val_set, epochs=2, alpha=1)"
      ]
    },
    {
      "cell_type": "code",
      "execution_count": null,
      "metadata": {
        "colab": {
          "base_uri": "https://localhost:8080/"
        },
        "id": "KNf3z2OZHn5A",
        "outputId": "d3160804-96c9-4e2e-91a9-96b94786928e"
      },
      "outputs": [
        {
          "name": "stdout",
          "output_type": "stream",
          "text": [
            "Num of correct predictions = 217\n"
          ]
        },
        {
          "data": {
            "text/plain": [
              "0.45208333333333334"
            ]
          },
          "execution_count": 60,
          "metadata": {},
          "output_type": "execute_result"
        }
      ],
      "source": [
        "seed_everything()\n",
        "get_validation_performance(chinese_test_set)[0]"
      ]
    },
    {
      "cell_type": "markdown",
      "metadata": {
        "id": "guwNSmHCG2yx"
      },
      "source": [
        "## Turkish dataset"
      ]
    },
    {
      "cell_type": "code",
      "execution_count": null,
      "metadata": {
        "id": "galcIfCqHD6W"
      },
      "outputs": [],
      "source": [
        "df_turkish_test = pd.read_csv(f'{FILE_PATH}/data/test_dataset/turkish_test_dataset.csv')\n",
        "df_turkish_test = create_file(df_turkish_test)\n",
        "\n",
        "df_turkish_val = pd.read_csv(f'{FILE_PATH}/data/test_dataset/turkish_dev_dataset.csv')\n",
        "df_turkish_val = create_file(df_turkish_val)\n",
        "\n",
        "df_turkish_train_yes = pd.read_csv(f'{FILE_PATH}/data/train_dataset/turkish_cqa_yes_answer.csv')\n",
        "# df_turkish_train_yes = pd.read_csv(f'{FILE_PATH}/data/train_dataset/turkish_faq_yes_answer.csv')\n",
        "df_turkish_train_yes = create_file(df_turkish_train_yes)\n",
        "\n",
        "df_turkish_train_no = pd.read_csv(f'{FILE_PATH}/data/train_dataset/turkish_cqa_no_answer.csv')\n",
        "# df_turkish_train_no = pd.read_csv(f'{FILE_PATH}/data/train_dataset/turkish_faq_no_answer.csv')\n",
        "df_turkish_train_no = create_file(df_turkish_train_no)\n",
        "\n",
        "df_turkish_train = pd.concat([df_turkish_train_yes, df_turkish_train_no])"
      ]
    },
    {
      "cell_type": "code",
      "execution_count": null,
      "metadata": {
        "id": "WBA8ywY7HDs2"
      },
      "outputs": [],
      "source": [
        "df_turkish_combined = pd.concat([df_turkish_test, df_turkish_val, df_turkish_train])"
      ]
    },
    {
      "cell_type": "code",
      "execution_count": null,
      "metadata": {
        "colab": {
          "base_uri": "https://localhost:8080/"
        },
        "id": "cmRyCpEcHSJz",
        "outputId": "7d3f20bc-7e10-4791-b618-f741708f56a5"
      },
      "outputs": [
        {
          "name": "stdout",
          "output_type": "stream",
          "text": [
            "Original:  aranızda kuzey güney dizisini izleyen var mı? hem tv de çıktığı tarihte hem de nette 2 defa izledim\n",
            "Token IDs: tensor([     0,   5689,  64628, 188982, 200498, 200277,     93,    445,  39970,\n",
            "           285,  22685,     32,   2360,   5044,      8, 172334,  44989,     67,\n",
            "          2360,      8,      6,  60765,    116,  75295,  35151,   5771,      2,\n",
            "             1,      1,      1,      1,      1,      1,      1,      1,      1,\n",
            "             1,      1,      1,      1,      1,      1,      1,      1,      1,\n",
            "             1,      1,      1,      1,      1,      1,      1,      1,      1,\n",
            "             1,      1,      1,      1,      1,      1,      1,      1,      1,\n",
            "             1])\n"
          ]
        }
      ],
      "source": [
        "turkish_input_ids, turkish_attention_masks, turkish_labels = create_tensors_and_text(df_turkish_combined, False)\n",
        "turkish_texts = df_turkish_combined.text_input.values\n",
        "\n",
        "seed_everything()\n",
        "\n",
        "len_test = len(df_turkish_test)\n",
        "len_val = len(df_turkish_val)\n",
        "len_train = len(df_turkish_train)\n",
        "\n",
        "turkish_test_set = [(turkish_input_ids[i], turkish_attention_masks[i], turkish_labels[i]) for i in range(len_test)]\n",
        "turkish_test_text = [turkish_labels[i] for i in range(len_test)]\n",
        "\n",
        "turkish_val_set = [(turkish_input_ids[i], turkish_attention_masks[i], turkish_labels[i]) for i in range(len_test,len_test + len_val)]\n",
        "turkish_val_text = [turkish_labels[i] for i in range(len_test,len_test + len_val)]\n",
        "\n",
        "turkish_train_set = [(turkish_input_ids[i], turkish_attention_masks[i], turkish_labels[i]) for i in range(len_test + len_val, len(df_turkish_combined))]\n",
        "turkish_train_text = [turkish_labels[i] for i in range(len_test + len_val, len(df_turkish_combined))]"
      ]
    },
    {
      "cell_type": "code",
      "execution_count": null,
      "metadata": {
        "colab": {
          "base_uri": "https://localhost:8080/"
        },
        "id": "eTVaN3MaHdVl",
        "outputId": "e378efd2-845b-4b61-c758-e4266c53ca5b"
      },
      "outputs": [
        {
          "data": {
            "text/plain": [
              "1151"
            ]
          },
          "execution_count": 64,
          "metadata": {},
          "output_type": "execute_result"
        }
      ],
      "source": [
        "len(turkish_train_set)"
      ]
    },
    {
      "cell_type": "code",
      "execution_count": null,
      "metadata": {
        "colab": {
          "base_uri": "https://localhost:8080/"
        },
        "id": "wwRWzx1kHjH0",
        "outputId": "b2b65af7-0cb8-4118-fc97-1424220c2119"
      },
      "outputs": [
        {
          "name": "stdout",
          "output_type": "stream",
          "text": [
            "\n",
            "======== Epoch 1 / 3 ========\n",
            "Training...\n",
            "Total loss: 175.04329930289313\n",
            "Num of correct predictions = 64\n",
            "Validation accuracy: 0.5333333333333333\n",
            "\n",
            "======== Epoch 2 / 3 ========\n",
            "Training...\n",
            "Total loss: 74.53455455227572\n",
            "Num of correct predictions = 61\n",
            "Validation accuracy: 0.5083333333333333\n",
            "\n",
            "======== Epoch 3 / 3 ========\n",
            "Training...\n",
            "Total loss: 57.91615285112768\n",
            "Num of correct predictions = 67\n",
            "Validation accuracy: 0.5583333333333333\n",
            "\n",
            "Training complete!\n"
          ]
        },
        {
          "data": {
            "text/plain": [
              "0.5583333333333333"
            ]
          },
          "execution_count": 65,
          "metadata": {},
          "output_type": "execute_result"
        }
      ],
      "source": [
        "batch_size = 16\n",
        "optimizer = torch.optim.AdamW(model.parameters(), lr=2e-5, weight_decay=1e-2)\n",
        "epochs = 3\n",
        "\n",
        "run_training_loops_new_strategy(english_train_set, turkish_train_set, turkish_val_set, epochs=epochs, alpha=0.2)"
      ]
    },
    {
      "cell_type": "code",
      "execution_count": null,
      "metadata": {
        "colab": {
          "base_uri": "https://localhost:8080/"
        },
        "id": "KG6iKtUGHozy",
        "outputId": "3bf6b67b-bbe2-4d4f-d505-dc4048882fc9"
      },
      "outputs": [
        {
          "name": "stdout",
          "output_type": "stream",
          "text": [
            "Num of correct predictions = 273\n"
          ]
        },
        {
          "data": {
            "text/plain": [
              "0.56875"
            ]
          },
          "execution_count": 68,
          "metadata": {},
          "output_type": "execute_result"
        }
      ],
      "source": [
        "seed_everything()\n",
        "get_validation_performance(turkish_test_set)[0]"
      ]
    },
    {
      "cell_type": "markdown",
      "metadata": {
        "id": "-3MFeSTGG5vW"
      },
      "source": [
        "## Spanish dataset"
      ]
    },
    {
      "cell_type": "code",
      "execution_count": null,
      "metadata": {
        "id": "Wu_TaMgUHC6H"
      },
      "outputs": [],
      "source": [
        "df_spanish_test = pd.read_csv(f'{FILE_PATH}/data/test_dataset/spanish_test_dataset.csv')\n",
        "df_spanish_test = create_file(df_spanish_test)\n",
        "\n",
        "df_spanish_val = pd.read_csv(f'{FILE_PATH}/data/test_dataset/spanish_dev_dataset.csv')\n",
        "df_spanish_val = create_file(df_spanish_val)\n",
        "\n",
        "df_spanish_train_yes = pd.read_excel(f'{FILE_PATH}/data/train_dataset/spanish_callfriend_yes_answer.xlsx')\n",
        "# df_spanish_train_yes = pd.read_csv(f'{FILE_PATH}/data/train_dataset/spanish_yes_answer.csv')\n",
        "df_spanish_train_yes['label'] = 'y'\n",
        "df_spanish_train_yes = create_file(df_spanish_train_yes)\n",
        "\n",
        "df_spanish_train_no = pd.read_excel(f'{FILE_PATH}/data/train_dataset/spanish_callfriend_no_answer.xlsx')\n",
        "# df_spanish_train_no = pd.read_csv(f'{FILE_PATH}/data/train_dataset/spanish_no_answer.csv')\n",
        "df_spanish_train_no['label'] = 'n'\n",
        "df_spanish_train_no = create_file(df_spanish_train_no)\n",
        "\n",
        "df_spanish_train = pd.concat([df_spanish_train_yes, df_spanish_train_no])"
      ]
    },
    {
      "cell_type": "code",
      "execution_count": null,
      "metadata": {
        "id": "NlzLV7pjHC0H"
      },
      "outputs": [],
      "source": [
        "df_spanish_combined = pd.concat([df_spanish_test, df_spanish_val, df_spanish_train])"
      ]
    },
    {
      "cell_type": "code",
      "execution_count": null,
      "metadata": {
        "colab": {
          "base_uri": "https://localhost:8080/"
        },
        "id": "QPldobnBHS4P",
        "outputId": "68d48dc6-2180-44c6-a0ea-70e02a9d3c22"
      },
      "outputs": [
        {
          "name": "stdout",
          "output_type": "stream",
          "text": [
            "Original:  0  . \u0015\u0015 ya? \u0015\u0015 ya. \u0015\u0015\n",
            "Token IDs: tensor([  0, 757,   6,   5, 151,  32, 151,   5,   2,   1,   1,   1,   1,   1,\n",
            "          1,   1,   1,   1,   1,   1,   1,   1,   1,   1,   1,   1,   1,   1,\n",
            "          1,   1,   1,   1,   1,   1,   1,   1,   1,   1,   1,   1,   1,   1,\n",
            "          1,   1,   1,   1,   1,   1,   1,   1,   1,   1,   1,   1,   1,   1,\n",
            "          1,   1,   1,   1,   1,   1,   1,   1])\n"
          ]
        }
      ],
      "source": [
        "spanish_input_ids, spanish_attention_masks, spanish_labels = create_tensors_and_text(df_spanish_combined, False)\n",
        "spanish_texts = df_spanish_combined.text_input.values\n",
        "\n",
        "seed_everything()\n",
        "\n",
        "len_test = len(df_spanish_test)\n",
        "len_val = len(df_spanish_val)\n",
        "len_train = len(df_spanish_train)\n",
        "\n",
        "spanish_test_set = [(spanish_input_ids[i], spanish_attention_masks[i], spanish_labels[i]) for i in range(len_test)]\n",
        "spanish_test_text = [spanish_labels[i] for i in range(len_test)]\n",
        "\n",
        "spanish_val_set = [(spanish_input_ids[i], spanish_attention_masks[i], spanish_labels[i]) for i in range(len_test,len_test + len_val)]\n",
        "spanish_val_text = [spanish_labels[i] for i in range(len_test,len_test + len_val)]\n",
        "\n",
        "spanish_train_set = [(spanish_input_ids[i], spanish_attention_masks[i], spanish_labels[i]) for i in range(len_test + len_val, len(df_spanish_combined))]\n",
        "spanish_train_text = [spanish_labels[i] for i in range(len_test + len_val, len(df_spanish_combined))]"
      ]
    },
    {
      "cell_type": "code",
      "execution_count": null,
      "metadata": {
        "colab": {
          "base_uri": "https://localhost:8080/"
        },
        "id": "evYr_xwOHeQy",
        "outputId": "13d93fa7-f41d-432d-b311-087164fca6e2"
      },
      "outputs": [
        {
          "data": {
            "text/plain": [
              "1489"
            ]
          },
          "execution_count": 72,
          "metadata": {},
          "output_type": "execute_result"
        }
      ],
      "source": [
        "len(spanish_train_set)"
      ]
    },
    {
      "cell_type": "code",
      "execution_count": null,
      "metadata": {
        "colab": {
          "base_uri": "https://localhost:8080/"
        },
        "id": "S8XFIfWEHkD6",
        "outputId": "6f33b4c6-1efd-4205-f923-8e10b25a6146"
      },
      "outputs": [
        {
          "name": "stdout",
          "output_type": "stream",
          "text": [
            "\n",
            "======== Epoch 1 / 3 ========\n",
            "Training...\n",
            "Total loss: 42.51343219147446\n",
            "Num of correct predictions = 37\n",
            "Validation accuracy: 0.6491228070175439\n",
            "\n",
            "======== Epoch 2 / 3 ========\n",
            "Training...\n",
            "Total loss: 60.19803619013666\n",
            "Num of correct predictions = 31\n",
            "Validation accuracy: 0.543859649122807\n",
            "\n",
            "======== Epoch 3 / 3 ========\n",
            "Training...\n",
            "Total loss: 48.38954486707098\n",
            "Num of correct predictions = 31\n",
            "Validation accuracy: 0.543859649122807\n",
            "\n",
            "Training complete!\n"
          ]
        },
        {
          "data": {
            "text/plain": [
              "0.543859649122807"
            ]
          },
          "execution_count": 73,
          "metadata": {},
          "output_type": "execute_result"
        }
      ],
      "source": [
        "batch_size = 16\n",
        "optimizer = torch.optim.AdamW(model.parameters(), lr=2e-5, weight_decay=1e-2)\n",
        "epochs = 3\n",
        "\n",
        "run_training_loops_new_strategy(english_train_set, spanish_train_set, spanish_val_set, epochs=epochs, alpha=0.2)"
      ]
    },
    {
      "cell_type": "code",
      "execution_count": null,
      "metadata": {
        "colab": {
          "base_uri": "https://localhost:8080/"
        },
        "id": "6HOqrd8CHpyc",
        "outputId": "28bb0391-45dd-40b8-cb2e-71ffdb59d865"
      },
      "outputs": [
        {
          "name": "stdout",
          "output_type": "stream",
          "text": [
            "Num of correct predictions = 108\n"
          ]
        },
        {
          "data": {
            "text/plain": [
              "0.46551724137931033"
            ]
          },
          "execution_count": 75,
          "metadata": {},
          "output_type": "execute_result"
        }
      ],
      "source": [
        "seed_everything()\n",
        "get_validation_performance(spanish_test_set)[0]"
      ]
    },
    {
      "cell_type": "markdown",
      "metadata": {
        "id": "A9isoZg_Jq64"
      },
      "source": [
        "# Experiment 5.3 Fine-Tuning with Several Languages"
      ]
    },
    {
      "cell_type": "markdown",
      "source": [
        "<h3>The training strategy</h3>\n",
        "<h2>This is very similar to experiment 5.2 but we combine multiple languages in an attempt to get better performances</h2>\n",
        "\n",
        "<p>Concatenate English data with the other languages (the combinations that the paper proposed), at every epoch, take some of the other language's row off (determined by alpha).</p>\n",
        "\n",
        "<p>You will notice the parameters as \"train_set_english\" and the other language as \"train_set_other_language\" which is the other language data set to be concatenated. This function works for every language. Just pass in the appropriate parameter (train set)</p>\n",
        "\n",
        "<p>This is what the process looks like (for every language)<p>\n",
        "<ol>\n",
        "<li>Import the test, train, and validation files for the language</li>\n",
        "<li>Import only the train data for every language that will be in the blend</li>\n",
        "<li>Create a \"super train\" (we coined this by ourselves) dataset by combine test dataframe from the main language and the other languages in the blend</li>\n",
        "<li>Create the final dataframe by combining the main language's test, val, and the super train files</li>\n",
        "<li>Create tensors and split the data into train, test, and val</li>\n",
        "<li>Call run_training_loops_new_strategy()</li>\n",
        "</ol>"
      ],
      "metadata": {
        "id": "57TrAGuq9APx"
      }
    },
    {
      "cell_type": "markdown",
      "source": [
        "The results of the said experiment being performed below are included in Section 3.3 Results under Table 3 Results obtained with XLM-RoBERTa, trained blending with English corpora and the instances obtained with distant supervision in other languages. Here ∆ F1 represents the improvement of F1 score from Table 1 in the project report."
      ],
      "metadata": {
        "id": "Oa_PMUf4qsDv"
      }
    },
    {
      "cell_type": "markdown",
      "source": [
        "##Data Loading"
      ],
      "metadata": {
        "id": "DBJISiQiqYrO"
      }
    },
    {
      "cell_type": "markdown",
      "source": [
        "Load all the datasets to reduce redundency."
      ],
      "metadata": {
        "id": "HO1Aw4_fmgHf"
      }
    },
    {
      "cell_type": "markdown",
      "source": [
        "Hindi datasets."
      ],
      "metadata": {
        "id": "BbDfplgkmu4m"
      }
    },
    {
      "cell_type": "code",
      "source": [
        "df_hindi_test = pd.read_csv(f'{FILE_PATH}/data/test_dataset/hindi_test_dataset.csv')\n",
        "df_hindi_test = create_file(df_hindi_test)\n",
        "\n",
        "df_hindi_val = pd.read_csv(f'{FILE_PATH}/data/test_dataset/hindi_dev_dataset.csv')\n",
        "df_hindi_val = create_file(df_hindi_val)"
      ],
      "metadata": {
        "id": "GT2vSJPamnkF"
      },
      "execution_count": null,
      "outputs": []
    },
    {
      "cell_type": "code",
      "source": [
        "df_hindi_train_yes = pd.read_excel(f'{FILE_PATH}/data/train_dataset/hindi_yes_answer.xlsx')\n",
        "df_hindi_train_yes = create_file(df_hindi_train_yes)\n",
        "\n",
        "df_hindi_train_no = pd.read_excel(f'{FILE_PATH}/data/train_dataset/hindi_no_answer.xlsx')\n",
        "df_hindi_train_no = create_file(df_hindi_train_no)\n",
        "\n",
        "df_hindi_train = pd.concat([df_hindi_train_yes, df_hindi_train_no])"
      ],
      "metadata": {
        "id": "r8O0peOOmtWF"
      },
      "execution_count": null,
      "outputs": []
    },
    {
      "cell_type": "markdown",
      "source": [
        "Chinese datasets."
      ],
      "metadata": {
        "id": "6Yl_Y0DUmxmY"
      }
    },
    {
      "cell_type": "code",
      "source": [
        "df_chinese_test = pd.read_csv(f'{FILE_PATH}/data/test_dataset/chinese_test_dataset.csv')\n",
        "df_chinese_test = create_file(df_chinese_test)\n",
        "\n",
        "df_chinese_val = pd.read_csv(f'{FILE_PATH}/data/test_dataset/chinese_dev_dataset.csv')\n",
        "df_chinese_val = create_file(df_chinese_val)"
      ],
      "metadata": {
        "id": "-1OvSPVsniFp"
      },
      "execution_count": null,
      "outputs": []
    },
    {
      "cell_type": "code",
      "source": [
        "df_chinese_train_yes = pd.read_csv(f'{FILE_PATH}/data/train_dataset/chinese_naturalconv_yes_answer.csv')\n",
        "# df_chinese_train_yes = pd.read_csv(f'{FILE_PATH}/data/train_dataset/chinese_lccc_yes_answer.csv')\n",
        "df_chinese_train_yes['label'] = 'y'\n",
        "df_chinese_train_yes = create_file(df_chinese_train_yes)\n",
        "\n",
        "df_chinese_train_no = pd.read_csv(f'{FILE_PATH}/data/train_dataset/chinese_naturalconv_no_answer.csv')\n",
        "# df_chinese_train_no = pd.read_csv(f'{FILE_PATH}/data/train_dataset/chinese_lccc_no_answer.csv')\n",
        "df_chinese_train_no['label'] = 'n'\n",
        "df_chinese_train_no = create_file(df_chinese_train_no)\n",
        "\n",
        "df_chinese_train = pd.concat([df_chinese_train_yes, df_chinese_train_no])"
      ],
      "metadata": {
        "id": "NGgqbJkHnkAv"
      },
      "execution_count": null,
      "outputs": []
    },
    {
      "cell_type": "markdown",
      "source": [
        "Korean datasets."
      ],
      "metadata": {
        "id": "EG_0WQ85m1Nv"
      }
    },
    {
      "cell_type": "code",
      "source": [
        "df_korean_test = pd.read_csv(f'{FILE_PATH}/data/test_dataset/korean_test_dataset.csv')\n",
        "df_korean_test = create_file(df_korean_test)\n",
        "\n",
        "df_korean_val = pd.read_csv(f'{FILE_PATH}/data/test_dataset/korean_dev_dataset.csv')\n",
        "df_korean_val = create_file(df_korean_val)"
      ],
      "metadata": {
        "id": "TrxEsC1inuZI"
      },
      "execution_count": null,
      "outputs": []
    },
    {
      "cell_type": "code",
      "source": [
        "df_korean_train_yes = pd.read_csv(f'{FILE_PATH}/data/train_dataset/korean_yes_answer.csv')\n",
        "df_korean_train_yes['label'] = 'y'\n",
        "df_korean_train_yes = create_file(df_korean_train_yes)\n",
        "\n",
        "df_korean_train_no = pd.read_csv(f'{FILE_PATH}/data/train_dataset/korean_no_answer.csv')\n",
        "df_korean_train_no['label'] = 'n'\n",
        "df_korean_train_no = create_file(df_korean_train_no)\n",
        "\n",
        "df_korean_train = pd.concat([df_korean_train_yes, df_korean_train_no])"
      ],
      "metadata": {
        "id": "vHkG9r3jnp8_"
      },
      "execution_count": null,
      "outputs": []
    },
    {
      "cell_type": "markdown",
      "source": [
        "Spanish datasets."
      ],
      "metadata": {
        "id": "w9BVzRIbm3F6"
      }
    },
    {
      "cell_type": "code",
      "source": [
        "df_spanish_test = pd.read_csv(f'{FILE_PATH}/data/test_dataset/spanish_test_dataset.csv')\n",
        "df_spanish_test = create_file(df_spanish_test)\n",
        "\n",
        "df_spanish_val = pd.read_csv(f'{FILE_PATH}/data/test_dataset/spanish_dev_dataset.csv')\n",
        "df_spanish_val = create_file(df_spanish_val)"
      ],
      "metadata": {
        "id": "mDe-fedlnwtN"
      },
      "execution_count": null,
      "outputs": []
    },
    {
      "cell_type": "code",
      "source": [
        "df_spanish_train_yes = pd.read_csv(f'{FILE_PATH}/data/train_dataset/spanish_yes_answer.csv')\n",
        "df_spanish_train_yes['label'] = 'y'\n",
        "df_spanish_train_yes = create_file(df_spanish_train_yes)\n",
        "\n",
        "df_spanish_train_no = pd.read_csv(f'{FILE_PATH}/data/train_dataset/spanish_no_answer.csv')\n",
        "df_spanish_train_no['label'] = 'n'\n",
        "df_spanish_train_no = create_file(df_spanish_train_no)\n",
        "\n",
        "df_spanish_train = pd.concat([df_spanish_train_yes, df_spanish_train_no])"
      ],
      "metadata": {
        "id": "v9107rHvnwfs"
      },
      "execution_count": null,
      "outputs": []
    },
    {
      "cell_type": "markdown",
      "source": [
        "Turkish datasets."
      ],
      "metadata": {
        "id": "-qVB1Alvm42c"
      }
    },
    {
      "cell_type": "code",
      "source": [
        "df_turkish_test = pd.read_csv(f'{FILE_PATH}/data/test_dataset/turkish_test_dataset.csv')\n",
        "df_turkish_test = create_file(df_turkish_test)\n",
        "\n",
        "df_turkish_val = pd.read_csv(f'{FILE_PATH}/data/test_dataset/turkish_dev_dataset.csv')\n",
        "df_turkish_val = create_file(df_turkish_val)"
      ],
      "metadata": {
        "id": "93JWo-l4nxxm"
      },
      "execution_count": null,
      "outputs": []
    },
    {
      "cell_type": "code",
      "source": [
        "df_turkish_train_yes = pd.read_csv(f'{FILE_PATH}/data/train_dataset/turkish_cqa_yes_answer.csv')\n",
        "# df_turkish_train_yes = pd.read_csv(f'{FILE_PATH}/data/train_dataset/turkish_faq_yes_answer.csv')\n",
        "df_turkish_train_yes = create_file(df_turkish_train_yes)\n",
        "\n",
        "df_turkish_train_no = pd.read_csv(f'{FILE_PATH}/data/train_dataset/turkish_cqa_no_answer.csv')\n",
        "# df_turkish_train_no = pd.read_csv(f'{FILE_PATH}/data/train_dataset/turkish_faq_no_answer.csv')\n",
        "df_turkish_train_no = create_file(df_turkish_train_no)\n",
        "\n",
        "df_turkish_train = pd.concat([df_turkish_train_yes, df_turkish_train_no])"
      ],
      "metadata": {
        "id": "4s0OCRwYnxls"
      },
      "execution_count": null,
      "outputs": []
    },
    {
      "cell_type": "markdown",
      "source": [
        "We have 3 other languages : Nepali, Bangla and Persian datasets for which we do not have training data but just test and dev data. The training is based upon the other languages' training data."
      ],
      "metadata": {
        "id": "_RrxMCTKm7Gl"
      }
    },
    {
      "cell_type": "markdown",
      "source": [
        "Nepali dataset."
      ],
      "metadata": {
        "id": "jChRuH_unXHP"
      }
    },
    {
      "cell_type": "code",
      "source": [
        "df_nepali_test = pd.read_csv(f'{FILE_PATH}/data/test_dataset/nepali_test_dataset.csv')\n",
        "df_nepali_test = create_file(df_nepali_test)\n",
        "\n",
        "df_nepali_val = pd.read_csv(f'{FILE_PATH}/data/test_dataset/nepali_dev_dataset.csv')\n",
        "df_nepali_val = create_file(df_nepali_val)"
      ],
      "metadata": {
        "id": "puwFEo4zoRPc"
      },
      "execution_count": null,
      "outputs": []
    },
    {
      "cell_type": "markdown",
      "source": [
        "Bangla dataset."
      ],
      "metadata": {
        "id": "KcKMPeojnYtA"
      }
    },
    {
      "cell_type": "code",
      "source": [
        "df_bangla_test = pd.read_csv(f'{FILE_PATH}/data/test_dataset/bangla_test_dataset.csv')\n",
        "df_bangla_test = create_file(df_bangla_test)\n",
        "\n",
        "df_bangla_val = pd.read_csv(f'{FILE_PATH}/data/test_dataset/bangla_dev_dataset.csv')\n",
        "df_bangla_val = create_file(df_bangla_val)"
      ],
      "metadata": {
        "id": "6-WP40m9oR96"
      },
      "execution_count": null,
      "outputs": []
    },
    {
      "cell_type": "markdown",
      "source": [
        "Persian dataset."
      ],
      "metadata": {
        "id": "a6N3_zSQnaWV"
      }
    },
    {
      "cell_type": "code",
      "source": [
        "df_persian_test = pd.read_csv(f'{FILE_PATH}/data/test_dataset/persian_test_dataset.csv')\n",
        "df_persian_test = create_file(df_persian_test)\n",
        "\n",
        "df_persian_val = pd.read_csv(f'{FILE_PATH}/data/test_dataset/persian_dev_dataset.csv')\n",
        "df_persian_val = create_file(df_persian_val)"
      ],
      "metadata": {
        "id": "KsTK7q4DoS45"
      },
      "execution_count": null,
      "outputs": []
    },
    {
      "cell_type": "markdown",
      "metadata": {
        "id": "jnQAC2bBxNaH"
      },
      "source": [
        "##Hindi dataset"
      ]
    },
    {
      "cell_type": "markdown",
      "source": [
        "For Hindi dataset we need -> Hindi, Chinese and Spanish datasets."
      ],
      "metadata": {
        "id": "RzxTu_oah25l"
      }
    },
    {
      "cell_type": "code",
      "execution_count": null,
      "metadata": {
        "id": "GD4nZrobLz2O"
      },
      "outputs": [],
      "source": [
        "# Combination of the main language's train data (hindi) and the other languages in the blend (chinese & spanish)\n",
        "df_hindi_super_train = pd.concat([df_hindi_train, df_chinese_train, df_spanish_train])"
      ]
    },
    {
      "cell_type": "code",
      "execution_count": null,
      "metadata": {
        "id": "6gwuAV1fMH_L"
      },
      "outputs": [],
      "source": [
        "df_hindi_combined = pd.concat([df_hindi_test, df_hindi_val, df_hindi_super_train])"
      ]
    },
    {
      "cell_type": "code",
      "execution_count": null,
      "metadata": {
        "colab": {
          "base_uri": "https://localhost:8080/"
        },
        "id": "UFCQNk4tMKhy",
        "outputId": "3436f06b-ddff-44f4-ef42-1398dab43aa3"
      },
      "outputs": [
        {
          "output_type": "stream",
          "name": "stdout",
          "text": [
            "Original:  सलमान_खान की अगली फ़िल्म \"कभी ईद कभी दिवाली” आ रही है, क्या आप बहिष्कार करेंगे? सुशांत सिंह राजपूत के साथ सलमान ने जो किया उससे पूरे बिहार नाराज़ है\n",
            "Token IDs: tensor([     0,  66464,    454,  14983,    998,    471,  77884,   2416, 187529,\n",
            "            44,   1223,  50308,  17139,   3044,  28656,  14177,   3097,   2416,\n",
            "            63,   2220,   8906,    460,      4,   6004,   4322, 148640,  24269,\n",
            "          7186,  58898,     32,   5224,   4037,  23649,  15652,  11990,  51886,\n",
            "           996,    287,   3765,  66464,   1142,   4993,   4029, 137524,  94173,\n",
            "         55423, 159026,  18600,    460,      2,      1,      1,      1,      1,\n",
            "             1,      1,      1,      1,      1,      1,      1,      1,      1,\n",
            "             1])\n"
          ]
        }
      ],
      "source": [
        "hindi_input_ids, hindi_attention_masks, hindi_labels = create_tensors_and_text(df_hindi_combined, False)\n",
        "hindi_texts = df_hindi_combined.text_input.values\n",
        "\n",
        "seed_everything()\n",
        "\n",
        "len_test = len(df_hindi_test)\n",
        "len_val = len(df_hindi_val)\n",
        "len_train = len(df_hindi_super_train)\n",
        "\n",
        "hindi_test_set = [(hindi_input_ids[i], hindi_attention_masks[i], hindi_labels[i]) for i in range(len_test)]\n",
        "hindi_test_text = [hindi_labels[i] for i in range(len_test)]\n",
        "\n",
        "hindi_val_set = [(hindi_input_ids[i], hindi_attention_masks[i], hindi_labels[i]) for i in range(len_test,len_test + len_val)]\n",
        "hindi_val_text = [hindi_labels[i] for i in range(len_test,len_test + len_val)]\n",
        "\n",
        "hindi_train_set = [(hindi_input_ids[i], hindi_attention_masks[i], hindi_labels[i]) for i in range(len_test + len_val, len(df_hindi_combined))]\n",
        "hindi_train_text = [hindi_labels[i] for i in range(len_test + len_val, len(df_hindi_combined))]"
      ]
    },
    {
      "cell_type": "code",
      "execution_count": null,
      "metadata": {
        "colab": {
          "base_uri": "https://localhost:8080/"
        },
        "id": "OUHwys-HMUH6",
        "outputId": "1bf47369-6536-43ff-d760-2db254ac060d"
      },
      "outputs": [
        {
          "output_type": "stream",
          "name": "stdout",
          "text": [
            "\n",
            "======== Epoch 1 / 5 ========\n",
            "Training...\n",
            "Total loss: 361.57763996455265\n",
            "Num of correct predictions = 29\n",
            "Validation accuracy: 0.48333333333333334\n",
            "\n",
            "======== Epoch 2 / 5 ========\n",
            "Training...\n",
            "Total loss: 352.7912227455605\n",
            "Num of correct predictions = 27\n",
            "Validation accuracy: 0.45\n",
            "\n",
            "======== Epoch 3 / 5 ========\n",
            "Training...\n",
            "Total loss: 262.8711757663221\n",
            "Num of correct predictions = 32\n",
            "Validation accuracy: 0.5333333333333333\n",
            "\n",
            "======== Epoch 4 / 5 ========\n",
            "Training...\n",
            "Total loss: 204.97749650253144\n",
            "Num of correct predictions = 30\n",
            "Validation accuracy: 0.5\n",
            "\n",
            "======== Epoch 5 / 5 ========\n",
            "Training...\n",
            "Total loss: 168.91853373050793\n",
            "Num of correct predictions = 28\n",
            "Validation accuracy: 0.4666666666666667\n",
            "\n",
            "Training complete!\n"
          ]
        },
        {
          "output_type": "execute_result",
          "data": {
            "text/plain": [
              "0.4666666666666667"
            ]
          },
          "metadata": {},
          "execution_count": 55
        }
      ],
      "source": [
        "batch_size = 16\n",
        "optimizer = torch.optim.AdamW(model.parameters(), lr=2e-5, weight_decay=1e-2)\n",
        "epochs = 5\n",
        "run_training_loops_new_strategy(english_train_set, hindi_train_set, hindi_val_set, epochs=epochs, alpha=0.67)"
      ]
    },
    {
      "cell_type": "code",
      "source": [
        "# saving the model here to load it later on and perform error analysis.\n",
        "torch.save(model, '/content/Hindi_Model_Multilingual_Trained.pt')"
      ],
      "metadata": {
        "id": "xS9sn_pL6aXz"
      },
      "execution_count": null,
      "outputs": []
    },
    {
      "cell_type": "code",
      "execution_count": null,
      "metadata": {
        "colab": {
          "base_uri": "https://localhost:8080/"
        },
        "id": "kyORfm0CjlgD",
        "outputId": "de008132-2768-4f0c-941e-22933f1fda4c"
      },
      "outputs": [
        {
          "output_type": "stream",
          "name": "stdout",
          "text": [
            "Num of correct predictions = 123\n"
          ]
        },
        {
          "output_type": "execute_result",
          "data": {
            "text/plain": [
              "0.5125"
            ]
          },
          "metadata": {},
          "execution_count": 57
        }
      ],
      "source": [
        "seed_everything()\n",
        "get_validation_performance(hindi_test_set)[0]"
      ]
    },
    {
      "cell_type": "markdown",
      "metadata": {
        "id": "B5QgYki8xbQl"
      },
      "source": [
        "## Korean dataset"
      ]
    },
    {
      "cell_type": "markdown",
      "metadata": {
        "id": "apR98fVEx6Yj"
      },
      "source": [
        "For Korean dataset we need -> Korean and Turkish datasets."
      ]
    },
    {
      "cell_type": "code",
      "execution_count": null,
      "metadata": {
        "id": "REOMRxMUyMln"
      },
      "outputs": [],
      "source": [
        "df_korean_super_train = pd.concat([df_korean_train, df_turkish_train])"
      ]
    },
    {
      "cell_type": "code",
      "execution_count": null,
      "metadata": {
        "id": "4j9puCMMy7ws"
      },
      "outputs": [],
      "source": [
        "df_korean_combined = pd.concat([df_korean_test, df_korean_val, df_korean_super_train])"
      ]
    },
    {
      "cell_type": "code",
      "execution_count": null,
      "metadata": {
        "colab": {
          "base_uri": "https://localhost:8080/"
        },
        "id": "avwo3IoOy0Lr",
        "outputId": "191812ed-bdc8-41f1-ff8f-1cfd3604ad4c"
      },
      "outputs": [
        {
          "output_type": "stream",
          "name": "stdout",
          "text": [
            "Original:  메뉴판 어딨어요? 여기 있어요? 여기 있습니다\n",
            "Token IDs: tensor([     0, 125543,  19641,  14327, 249084,  38736,     32,  81205, 106597,\n",
            "            32,  81205,   3292,      2,      1,      1,      1,      1,      1,\n",
            "             1,      1,      1,      1,      1,      1,      1,      1,      1,\n",
            "             1,      1,      1,      1,      1,      1,      1,      1,      1,\n",
            "             1,      1,      1,      1,      1,      1,      1,      1,      1,\n",
            "             1,      1,      1,      1,      1,      1,      1,      1,      1,\n",
            "             1,      1,      1,      1,      1,      1,      1,      1,      1,\n",
            "             1])\n"
          ]
        }
      ],
      "source": [
        "korean_input_ids, korean_attention_masks, korean_labels = create_tensors_and_text(df_korean_combined, False)\n",
        "korean_texts = df_korean_combined.text_input.values\n",
        "\n",
        "seed_everything()\n",
        "\n",
        "len_test = len(df_korean_test)\n",
        "len_val = len(df_korean_val)\n",
        "len_train = len(df_korean_super_train)\n",
        "\n",
        "korean_test_set = [(korean_input_ids[i], korean_attention_masks[i], korean_labels[i]) for i in range(len_test)]\n",
        "korean_test_text = [korean_labels[i] for i in range(len_test)]\n",
        "\n",
        "korean_val_set = [(korean_input_ids[i], korean_attention_masks[i], korean_labels[i]) for i in range(len_test,len_test + len_val)]\n",
        "korean_val_text = [korean_labels[i] for i in range(len_test,len_test + len_val)]\n",
        "\n",
        "korean_train_set = [(korean_input_ids[i], korean_attention_masks[i], korean_labels[i]) for i in range(len_test + len_val, len(df_korean_combined))]\n",
        "korean_train_text = [korean_labels[i] for i in range(len_test + len_val, len(df_korean_combined))]"
      ]
    },
    {
      "cell_type": "code",
      "execution_count": null,
      "metadata": {
        "id": "55VCh854yi-D"
      },
      "outputs": [],
      "source": [
        "batch_size = 16\n",
        "optimizer = torch.optim.AdamW(model.parameters(), lr=2e-5, weight_decay=1e-2)\n",
        "epochs = 25\n",
        "\n",
        "run_training_loops_new_strategy(english_train_set, korean_train_set, korean_val_set, epochs=epochs, alpha=0.64)"
      ]
    },
    {
      "cell_type": "code",
      "execution_count": null,
      "metadata": {
        "colab": {
          "base_uri": "https://localhost:8080/"
        },
        "id": "_qF44ykNAZpK",
        "outputId": "b76e06fa-ca60-4176-fe5e-b9745c9df957"
      },
      "outputs": [
        {
          "metadata": {
            "tags": null
          },
          "name": "stdout",
          "output_type": "stream",
          "text": [
            "Num of correct predictions = 143\n"
          ]
        },
        {
          "data": {
            "text/plain": [
              "0.5958333333333333"
            ]
          },
          "execution_count": 78,
          "metadata": {},
          "output_type": "execute_result"
        }
      ],
      "source": [
        "seed_everything()\n",
        "get_validation_performance(korean_test_set)[0]"
      ]
    },
    {
      "cell_type": "markdown",
      "metadata": {
        "id": "uuIqXSMGaDcs"
      },
      "source": [
        "## Chinese dataset"
      ]
    },
    {
      "cell_type": "markdown",
      "metadata": {
        "id": "37bxrYrMaDct"
      },
      "source": [
        "For Chinese dataset we need -> Chinese, Spanish and Korean datasets."
      ]
    },
    {
      "cell_type": "code",
      "execution_count": null,
      "metadata": {
        "id": "l9Nx5WzVaDcu"
      },
      "outputs": [],
      "source": [
        "df_chinese_super_train = pd.concat([df_chinese_train, df_korean_train, df_turkish_train])"
      ]
    },
    {
      "cell_type": "code",
      "execution_count": null,
      "metadata": {
        "id": "t3t2n5KmaDcu"
      },
      "outputs": [],
      "source": [
        "df_chinese_combined = pd.concat([df_chinese_test, df_chinese_val, df_chinese_super_train])"
      ]
    },
    {
      "cell_type": "code",
      "execution_count": null,
      "metadata": {
        "colab": {
          "base_uri": "https://localhost:8080/"
        },
        "id": "56D2iQU4aDcu",
        "outputId": "e0cac41e-5346-430b-820f-b01ab6ca35fe"
      },
      "outputs": [
        {
          "name": "stdout",
          "output_type": "stream",
          "text": [
            "Original:  车里没有矿泉水瓶吗？ 还是用罐头瓶吧\n",
            "Token IDs: tensor([     0,      6,   3715,   2008,   3029,  54391,  41318,   1553,  32696,\n",
            "          9131,     32,      6,   5169,   1173, 112110,   3878,  32696,   4502,\n",
            "             2,      1,      1,      1,      1,      1,      1,      1,      1,\n",
            "             1,      1,      1,      1,      1,      1,      1,      1,      1,\n",
            "             1,      1,      1,      1,      1,      1,      1,      1,      1,\n",
            "             1,      1,      1,      1,      1,      1,      1,      1,      1,\n",
            "             1,      1,      1,      1,      1,      1,      1,      1,      1,\n",
            "             1])\n"
          ]
        }
      ],
      "source": [
        "chinese_input_ids, chinese_attention_masks, chinese_labels = create_tensors_and_text(df_chinese_combined, False)\n",
        "chinese_texts = df_chinese_combined.text_input.values\n",
        "\n",
        "seed_everything()\n",
        "\n",
        "len_test = len(df_chinese_test)\n",
        "len_val = len(df_chinese_val)\n",
        "len_train = len(df_chinese_super_train)\n",
        "\n",
        "chinese_test_set = [(chinese_input_ids[i], chinese_attention_masks[i], chinese_labels[i]) for i in range(len_test)]\n",
        "chinese_test_text = [chinese_labels[i] for i in range(len_test)]\n",
        "\n",
        "chinese_val_set = [(chinese_input_ids[i], chinese_attention_masks[i], chinese_labels[i]) for i in range(len_test,len_test + len_val)]\n",
        "chinese_val_text = [chinese_labels[i] for i in range(len_test,len_test + len_val)]\n",
        "\n",
        "chinese_train_set = [(chinese_input_ids[i], chinese_attention_masks[i], chinese_labels[i]) for i in range(len_test + len_val, len(df_chinese_combined))]\n",
        "chinese_train_text = [chinese_labels[i] for i in range(len_test + len_val, len(df_chinese_combined))]"
      ]
    },
    {
      "cell_type": "code",
      "execution_count": null,
      "metadata": {
        "colab": {
          "background_save": true,
          "base_uri": "https://localhost:8080/"
        },
        "id": "NIeGkOI1aDcv",
        "outputId": "d568f6af-a69b-420c-c4bd-eae0f2ceb426"
      },
      "outputs": [
        {
          "name": "stdout",
          "output_type": "stream",
          "text": [
            "\n",
            "======== Epoch 1 / 25 ========\n",
            "Training...\n",
            "Total loss: 103.64562666188831\n",
            "Num of correct predictions = 58\n",
            "Validation accuracy: 0.48333333333333334\n",
            "\n",
            "======== Epoch 2 / 25 ========\n",
            "Training...\n",
            "Total loss: 53.316098420970434\n",
            "Num of correct predictions = 59\n",
            "Validation accuracy: 0.49166666666666664\n",
            "\n",
            "======== Epoch 3 / 25 ========\n",
            "Training...\n",
            "Total loss: 37.170655059971345\n",
            "Num of correct predictions = 62\n",
            "Validation accuracy: 0.5166666666666667\n",
            "\n",
            "======== Epoch 4 / 25 ========\n",
            "Training...\n",
            "Total loss: 29.684278900371115\n",
            "Num of correct predictions = 61\n",
            "Validation accuracy: 0.5083333333333333\n",
            "\n",
            "======== Epoch 5 / 25 ========\n",
            "Training...\n",
            "Total loss: 26.66295084469034\n",
            "Num of correct predictions = 63\n",
            "Validation accuracy: 0.525\n",
            "\n",
            "======== Epoch 6 / 25 ========\n",
            "Training...\n",
            "Total loss: 25.191720256980684\n",
            "Num of correct predictions = 66\n",
            "Validation accuracy: 0.55\n",
            "\n",
            "======== Epoch 7 / 25 ========\n",
            "Training...\n",
            "Total loss: 24.627305466827973\n",
            "Num of correct predictions = 62\n",
            "Validation accuracy: 0.5166666666666667\n",
            "\n",
            "======== Epoch 8 / 25 ========\n",
            "Training...\n",
            "Total loss: 25.095899946897614\n",
            "Num of correct predictions = 63\n",
            "Validation accuracy: 0.525\n",
            "\n",
            "======== Epoch 9 / 25 ========\n",
            "Training...\n",
            "Total loss: 22.152517607287795\n",
            "Num of correct predictions = 65\n",
            "Validation accuracy: 0.5416666666666666\n",
            "\n",
            "======== Epoch 10 / 25 ========\n",
            "Training...\n",
            "Total loss: 27.37968628281796\n",
            "Num of correct predictions = 65\n",
            "Validation accuracy: 0.5416666666666666\n",
            "\n",
            "======== Epoch 11 / 25 ========\n",
            "Training...\n",
            "Total loss: 24.955387578777838\n",
            "Num of correct predictions = 59\n",
            "Validation accuracy: 0.49166666666666664\n",
            "\n",
            "======== Epoch 12 / 25 ========\n",
            "Training...\n",
            "Total loss: 19.498487053253186\n",
            "Num of correct predictions = 62\n",
            "Validation accuracy: 0.5166666666666667\n",
            "\n",
            "======== Epoch 13 / 25 ========\n",
            "Training...\n",
            "Total loss: 21.256532659997585\n",
            "Num of correct predictions = 63\n",
            "Validation accuracy: 0.525\n",
            "\n",
            "======== Epoch 14 / 25 ========\n",
            "Training...\n",
            "Total loss: 27.02031930595622\n",
            "Num of correct predictions = 65\n",
            "Validation accuracy: 0.5416666666666666\n",
            "\n",
            "======== Epoch 15 / 25 ========\n",
            "Training...\n",
            "Total loss: 24.42109209124383\n",
            "Num of correct predictions = 61\n",
            "Validation accuracy: 0.5083333333333333\n",
            "\n",
            "======== Epoch 16 / 25 ========\n",
            "Training...\n",
            "Total loss: 26.166729868167295\n",
            "Num of correct predictions = 67\n",
            "Validation accuracy: 0.5583333333333333\n",
            "\n",
            "======== Epoch 17 / 25 ========\n",
            "Training...\n",
            "Total loss: 20.676989424583006\n",
            "Num of correct predictions = 67\n",
            "Validation accuracy: 0.5583333333333333\n",
            "\n",
            "======== Epoch 18 / 25 ========\n",
            "Training...\n",
            "Total loss: 21.490147463313317\n",
            "Num of correct predictions = 62\n",
            "Validation accuracy: 0.5166666666666667\n",
            "\n",
            "======== Epoch 19 / 25 ========\n",
            "Training...\n",
            "Total loss: 23.45246036434939\n",
            "Num of correct predictions = 67\n",
            "Validation accuracy: 0.5583333333333333\n",
            "\n",
            "======== Epoch 20 / 25 ========\n",
            "Training...\n",
            "Total loss: 21.055259059254357\n",
            "Num of correct predictions = 63\n",
            "Validation accuracy: 0.525\n",
            "\n",
            "======== Epoch 21 / 25 ========\n",
            "Training...\n",
            "Total loss: 19.589316277820018\n",
            "Num of correct predictions = 59\n",
            "Validation accuracy: 0.49166666666666664\n",
            "\n",
            "======== Epoch 22 / 25 ========\n",
            "Training...\n",
            "Total loss: 20.273536884130685\n",
            "Num of correct predictions = 65\n",
            "Validation accuracy: 0.5416666666666666\n",
            "\n",
            "======== Epoch 23 / 25 ========\n",
            "Training...\n",
            "Total loss: 20.31525679982091\n",
            "Num of correct predictions = 65\n",
            "Validation accuracy: 0.5416666666666666\n",
            "\n",
            "======== Epoch 24 / 25 ========\n",
            "Training...\n",
            "Total loss: 19.85354659866257\n",
            "Num of correct predictions = 67\n",
            "Validation accuracy: 0.5583333333333333\n",
            "\n",
            "======== Epoch 25 / 25 ========\n",
            "Training...\n",
            "Total loss: 20.166502519795557\n",
            "Num of correct predictions = 61\n",
            "Validation accuracy: 0.5083333333333333\n",
            "\n",
            "Training complete!\n"
          ]
        },
        {
          "data": {
            "text/plain": [
              "0.5083333333333333"
            ]
          },
          "execution_count": 58,
          "metadata": {},
          "output_type": "execute_result"
        }
      ],
      "source": [
        "batch_size = 16\n",
        "optimizer = torch.optim.AdamW(model.parameters(), lr=2e-5, weight_decay=1e-2)\n",
        "epochs = 25\n",
        "\n",
        "run_training_loops_new_strategy(english_train_set, chinese_train_set, chinese_val_set, epochs=epochs, alpha=0.2)"
      ]
    },
    {
      "cell_type": "code",
      "execution_count": null,
      "metadata": {
        "colab": {
          "base_uri": "https://localhost:8080/"
        },
        "id": "g2DavZ7uaDcv",
        "outputId": "e27982d4-1ce9-4522-838c-8e9ebfb5bddd"
      },
      "outputs": [
        {
          "output_type": "stream",
          "name": "stdout",
          "text": [
            "Num of correct predictions = 254\n"
          ]
        },
        {
          "output_type": "execute_result",
          "data": {
            "text/plain": [
              "0.5291666666666667"
            ]
          },
          "metadata": {},
          "execution_count": 67
        }
      ],
      "source": [
        "seed_everything()\n",
        "get_validation_performance(chinese_test_set)[0]"
      ]
    },
    {
      "cell_type": "markdown",
      "metadata": {
        "id": "BqIt5zYonuAX"
      },
      "source": [
        "## Bangla dataset"
      ]
    },
    {
      "cell_type": "markdown",
      "metadata": {
        "id": "BZUSyiw0nuAf"
      },
      "source": [
        "For Bangla dataset we need -> Hindi dataset."
      ]
    },
    {
      "cell_type": "markdown",
      "metadata": {
        "id": "y0MrD5XsoJPb"
      },
      "source": [
        "Since, there is not bangla train set. I will combine English and Hindi for training and then, will use bangla test set"
      ]
    },
    {
      "cell_type": "code",
      "execution_count": null,
      "metadata": {
        "id": "22U-2R3opf5k"
      },
      "outputs": [],
      "source": [
        "df_bangla_super_train = pd.concat([df_hindi_train])"
      ]
    },
    {
      "cell_type": "code",
      "execution_count": null,
      "metadata": {
        "id": "FvPcX8YGph1f"
      },
      "outputs": [],
      "source": [
        "df_bangla_combined = pd.concat([df_bangla_test, df_bangla_val, df_bangla_super_train])"
      ]
    },
    {
      "cell_type": "code",
      "execution_count": null,
      "metadata": {
        "colab": {
          "base_uri": "https://localhost:8080/",
          "height": 276,
          "referenced_widgets": [
            "baf6ecde11534009be07826ae2bf937a",
            "0362d569965d4687bb9124a023711909",
            "b1f485d71bb940ac9349e5b4496e9567",
            "697c810b486142048e6fd7879b55e4ec",
            "dc6cf56d538b40aca801fef2916f1d3d",
            "87d04a1fa57646c5a35153e88032f56d",
            "450b002e9be34823ab5380ea7cf825f0",
            "6034820a4d92474dbf33df8a218edbb8",
            "ada6a0646d0d415eb383b5f0e9d44d1c",
            "e2085766312c4280b23882d604cf0b60",
            "e5bf6e9dd2b74edfb9d970e99310da74",
            "df8bbd0ec9194f39a8d91f43cd2572d1",
            "823a6bacc89c4cd28fa67348074e5f6e",
            "e50cf44e1d174bc8b3f9c3d4796d7d14",
            "508808ac9b2143d38d2382835642b769",
            "d73d29e762024f4d9c2358025be83868",
            "862f5b39c78e4513a61afe6544046318",
            "71aa8c91265e456aa9af8cdd25251442",
            "f2788a6e8f074f719f7d78df59c50f8a",
            "9c874fedff5b45198898a50e2d8d8bf3",
            "4031ad7882b240e290bbd9ed460164d0",
            "12449b95a66844f1b1c9b4819ed74662",
            "5a5b584763a64741b5ca0e91d1890f34",
            "204afa8e848e4f568bed46ef6f879034",
            "2339b326dc274c4e9b5d26f544e4a28e",
            "bce78b571edd4a12a6819daa3c3e86de",
            "f4dcbde9b2374e878b4ebc1d87331d8a",
            "9ce03792e8eb4b8b8e09f55a8c392f73",
            "261a63d86cd14b4a8a37095b52d9cf28",
            "4d1a4841163345d086bdfc2c4ed50c72",
            "c675f76af25040e98b246e2791810116",
            "9fe776ae208a4e089b9ead0d9f1e61b3",
            "fde72d7e9f494558b8fdcced824b5dca"
          ]
        },
        "id": "F5jGziKfpuAD",
        "outputId": "8b0792df-2662-4443-e641-21c35a5a8da3"
      },
      "outputs": [
        {
          "data": {
            "application/vnd.jupyter.widget-view+json": {
              "model_id": "baf6ecde11534009be07826ae2bf937a",
              "version_major": 2,
              "version_minor": 0
            },
            "text/plain": [
              "tokenizer_config.json:   0%|          | 0.00/25.0 [00:00<?, ?B/s]"
            ]
          },
          "metadata": {},
          "output_type": "display_data"
        },
        {
          "data": {
            "application/vnd.jupyter.widget-view+json": {
              "model_id": "df8bbd0ec9194f39a8d91f43cd2572d1",
              "version_major": 2,
              "version_minor": 0
            },
            "text/plain": [
              "sentencepiece.bpe.model:   0%|          | 0.00/5.07M [00:00<?, ?B/s]"
            ]
          },
          "metadata": {},
          "output_type": "display_data"
        },
        {
          "data": {
            "application/vnd.jupyter.widget-view+json": {
              "model_id": "5a5b584763a64741b5ca0e91d1890f34",
              "version_major": 2,
              "version_minor": 0
            },
            "text/plain": [
              "tokenizer.json:   0%|          | 0.00/9.10M [00:00<?, ?B/s]"
            ]
          },
          "metadata": {},
          "output_type": "display_data"
        },
        {
          "name": "stdout",
          "output_type": "stream",
          "text": [
            "Original:  তোর কাছে কি ভাংতি টাকা আছে? আমার কাছে শুধু একটা ১০০০ হাজার টাকার নোট আছে ।\n",
            "Token IDs: tensor([     0,  44201,    999,  72237,  14403,  43875,  17031,  15541,  41315,\n",
            "         33338,     32,  29388,  72237, 124805,  71896,      6, 231013,  54112,\n",
            "        180638,      6,  32568,   5780,  33338,    207,      2,      1,      1,\n",
            "             1,      1,      1,      1,      1,      1,      1,      1,      1,\n",
            "             1,      1,      1,      1,      1,      1,      1,      1,      1,\n",
            "             1,      1,      1,      1,      1,      1,      1,      1,      1,\n",
            "             1,      1,      1,      1,      1,      1,      1,      1,      1,\n",
            "             1])\n"
          ]
        }
      ],
      "source": [
        "bangla_input_ids, bangla_attention_masks, bangla_labels = create_tensors_and_text(df_bangla_combined, False)\n",
        "bangla_texts = df_bangla_combined.text_input.values\n",
        "\n",
        "seed_everything()\n",
        "\n",
        "len_test = len(df_bangla_test)\n",
        "len_val = len(df_bangla_val)\n",
        "len_train = len(df_bangla_super_train)\n",
        "\n",
        "bangla_test_set = [(bangla_input_ids[i], bangla_attention_masks[i], bangla_labels[i]) for i in range(len_test)]\n",
        "bangla_test_text = [bangla_labels[i] for i in range(len_test)]\n",
        "\n",
        "bangla_val_set = [(bangla_input_ids[i], bangla_attention_masks[i], bangla_labels[i]) for i in range(len_test,len_test + len_val)]\n",
        "bangla_val_text = [bangla_labels[i] for i in range(len_test,len_test + len_val)]\n",
        "\n",
        "bangla_train_set = [(bangla_input_ids[i], bangla_attention_masks[i], bangla_labels[i]) for i in range(len_test + len_val, len(df_bangla_combined))]\n",
        "bangla_train_text = [bangla_labels[i] for i in range(len_test + len_val, len(df_bangla_combined))]"
      ]
    },
    {
      "cell_type": "code",
      "execution_count": null,
      "metadata": {
        "colab": {
          "base_uri": "https://localhost:8080/"
        },
        "id": "bS-60rAknuAg",
        "outputId": "a29a8f43-784b-4348-e0c4-a1ed5645af77"
      },
      "outputs": [
        {
          "name": "stdout",
          "output_type": "stream",
          "text": [
            "\n",
            "======== Epoch 1 / 25 ========\n",
            "Training...\n",
            "Total loss: 587.022454061878\n",
            "Num of correct predictions = 29\n",
            "Validation accuracy: 0.48333333333333334\n",
            "\n",
            "======== Epoch 2 / 25 ========\n",
            "Training...\n",
            "Total loss: 386.24423463869215\n",
            "Num of correct predictions = 24\n",
            "Validation accuracy: 0.4\n",
            "\n",
            "======== Epoch 3 / 25 ========\n",
            "Training...\n",
            "Total loss: 289.02587341716554\n",
            "Num of correct predictions = 33\n",
            "Validation accuracy: 0.55\n",
            "\n",
            "======== Epoch 4 / 25 ========\n",
            "Training...\n",
            "Total loss: 228.36348422144883\n",
            "Num of correct predictions = 31\n",
            "Validation accuracy: 0.5166666666666667\n",
            "\n",
            "======== Epoch 5 / 25 ========\n",
            "Training...\n",
            "Total loss: 183.04814971157592\n",
            "Num of correct predictions = 34\n",
            "Validation accuracy: 0.5666666666666667\n",
            "\n",
            "======== Epoch 6 / 25 ========\n",
            "Training...\n",
            "Total loss: 150.22640512233423\n",
            "Num of correct predictions = 28\n",
            "Validation accuracy: 0.4666666666666667\n",
            "\n",
            "======== Epoch 7 / 25 ========\n",
            "Training...\n",
            "Total loss: 135.49781604843204\n",
            "Num of correct predictions = 26\n",
            "Validation accuracy: 0.43333333333333335\n",
            "\n",
            "======== Epoch 8 / 25 ========\n",
            "Training...\n",
            "Total loss: 110.41489584697437\n",
            "Num of correct predictions = 33\n",
            "Validation accuracy: 0.55\n",
            "\n",
            "======== Epoch 9 / 25 ========\n",
            "Training...\n",
            "Total loss: 99.81217155568478\n",
            "Num of correct predictions = 28\n",
            "Validation accuracy: 0.4666666666666667\n",
            "\n",
            "======== Epoch 10 / 25 ========\n",
            "Training...\n",
            "Total loss: 87.95292857145685\n",
            "Num of correct predictions = 29\n",
            "Validation accuracy: 0.48333333333333334\n",
            "\n",
            "======== Epoch 11 / 25 ========\n",
            "Training...\n",
            "Total loss: 78.71918073040221\n",
            "Num of correct predictions = 31\n",
            "Validation accuracy: 0.5166666666666667\n",
            "\n",
            "======== Epoch 12 / 25 ========\n",
            "Training...\n",
            "Total loss: 70.46569853589475\n",
            "Num of correct predictions = 31\n",
            "Validation accuracy: 0.5166666666666667\n",
            "\n",
            "======== Epoch 13 / 25 ========\n",
            "Training...\n",
            "Total loss: 62.019822026923606\n",
            "Num of correct predictions = 33\n",
            "Validation accuracy: 0.55\n",
            "\n",
            "======== Epoch 14 / 25 ========\n",
            "Training...\n",
            "Total loss: 57.99181361214453\n",
            "Num of correct predictions = 30\n",
            "Validation accuracy: 0.5\n",
            "\n",
            "======== Epoch 15 / 25 ========\n",
            "Training...\n",
            "Total loss: 54.795632543001176\n",
            "Num of correct predictions = 28\n",
            "Validation accuracy: 0.4666666666666667\n",
            "\n",
            "======== Epoch 16 / 25 ========\n",
            "Training...\n",
            "Total loss: 51.86254446180485\n",
            "Num of correct predictions = 28\n",
            "Validation accuracy: 0.4666666666666667\n",
            "\n",
            "======== Epoch 17 / 25 ========\n",
            "Training...\n",
            "Total loss: 48.487795249216774\n",
            "Num of correct predictions = 25\n",
            "Validation accuracy: 0.4166666666666667\n",
            "\n",
            "======== Epoch 18 / 25 ========\n",
            "Training...\n",
            "Total loss: 44.362686251767165\n",
            "Num of correct predictions = 29\n",
            "Validation accuracy: 0.48333333333333334\n",
            "\n",
            "======== Epoch 19 / 25 ========\n",
            "Training...\n",
            "Total loss: 40.62410693521562\n",
            "Num of correct predictions = 24\n",
            "Validation accuracy: 0.4\n",
            "\n",
            "======== Epoch 20 / 25 ========\n",
            "Training...\n",
            "Total loss: 42.495631274704245\n",
            "Num of correct predictions = 28\n",
            "Validation accuracy: 0.4666666666666667\n",
            "\n",
            "======== Epoch 21 / 25 ========\n",
            "Training...\n",
            "Total loss: 35.8209156849189\n",
            "Num of correct predictions = 30\n",
            "Validation accuracy: 0.5\n",
            "\n",
            "======== Epoch 22 / 25 ========\n",
            "Training...\n",
            "Total loss: 35.89537818534883\n",
            "Num of correct predictions = 31\n",
            "Validation accuracy: 0.5166666666666667\n",
            "\n",
            "======== Epoch 23 / 25 ========\n",
            "Training...\n",
            "Total loss: 35.43770967027007\n",
            "Num of correct predictions = 27\n",
            "Validation accuracy: 0.45\n",
            "\n",
            "======== Epoch 24 / 25 ========\n",
            "Training...\n",
            "Total loss: 28.704371964638845\n",
            "Num of correct predictions = 30\n",
            "Validation accuracy: 0.5\n",
            "\n",
            "======== Epoch 25 / 25 ========\n",
            "Training...\n",
            "Total loss: 33.91509500434116\n",
            "Num of correct predictions = 31\n",
            "Validation accuracy: 0.5166666666666667\n",
            "\n",
            "Training complete!\n"
          ]
        },
        {
          "data": {
            "text/plain": [
              "0.5166666666666667"
            ]
          },
          "execution_count": 37,
          "metadata": {},
          "output_type": "execute_result"
        }
      ],
      "source": [
        "batch_size = 16\n",
        "optimizer = torch.optim.AdamW(model.parameters(), lr=2e-5, weight_decay=1e-2)\n",
        "epochs = 25\n",
        "\n",
        "run_training_loops_new_strategy(english_train_set,bangla_train_set, bangla_val_set, epochs=epochs, alpha=0.64)"
      ]
    },
    {
      "cell_type": "code",
      "execution_count": null,
      "metadata": {
        "colab": {
          "base_uri": "https://localhost:8080/"
        },
        "id": "p4kzL-YvnuAg",
        "outputId": "d7829617-d7f0-47f8-a583-2c34fde0f100"
      },
      "outputs": [
        {
          "output_type": "stream",
          "name": "stdout",
          "text": [
            "Num of correct predictions = 111\n"
          ]
        },
        {
          "output_type": "execute_result",
          "data": {
            "text/plain": [
              "0.4625"
            ]
          },
          "metadata": {},
          "execution_count": 66
        }
      ],
      "source": [
        "seed_everything()\n",
        "get_validation_performance(bangla_test_set)[0]"
      ]
    },
    {
      "cell_type": "markdown",
      "source": [
        "## Persian dataset"
      ],
      "metadata": {
        "id": "19mSSAoCktBu"
      }
    },
    {
      "cell_type": "markdown",
      "metadata": {
        "id": "1uYULitCljsd"
      },
      "source": [
        "For Persian dataset we need -> Hindi datasets."
      ]
    },
    {
      "cell_type": "markdown",
      "source": [
        "Since, there is not persian train set. I will combine English and Hindi for training and then, will use persian test set"
      ],
      "metadata": {
        "id": "tY9yb9GKp0g0"
      }
    },
    {
      "cell_type": "code",
      "execution_count": null,
      "metadata": {
        "id": "ta6BKP_QBwLy"
      },
      "outputs": [],
      "source": [
        "df_persian_super_train = pd.concat([df_hindi_train])"
      ]
    },
    {
      "cell_type": "code",
      "execution_count": null,
      "metadata": {
        "id": "sXdC6hScByZr"
      },
      "outputs": [],
      "source": [
        "df_persian_combined = pd.concat([df_persian_test, df_persian_val, df_persian_super_train])"
      ]
    },
    {
      "cell_type": "code",
      "execution_count": null,
      "metadata": {
        "colab": {
          "base_uri": "https://localhost:8080/"
        },
        "id": "HScMcLsxB0CH",
        "outputId": "67ba3b55-df7f-493f-ac66-e3c5daab3c6c"
      },
      "outputs": [
        {
          "name": "stdout",
          "output_type": "stream",
          "text": [
            "Original:  حالت خوبه ؟   خوبم ، تو خوبی ؟ \n",
            "Token IDs: tensor([    0, 16413, 14109,   176,  9446, 14109,   376,   725,  1241, 35256,\n",
            "         9446,     2,     1,     1,     1,     1,     1,     1,     1,     1,\n",
            "            1,     1,     1,     1,     1,     1,     1,     1,     1,     1,\n",
            "            1,     1,     1,     1,     1,     1,     1,     1,     1,     1,\n",
            "            1,     1,     1,     1,     1,     1,     1,     1,     1,     1,\n",
            "            1,     1,     1,     1,     1,     1,     1,     1,     1,     1,\n",
            "            1,     1,     1,     1])\n"
          ]
        }
      ],
      "source": [
        "persian_input_ids, persian_attention_masks, persian_labels = create_tensors_and_text(df_persian_combined, False)\n",
        "persian_texts = df_persian_combined.text_input.values\n",
        "\n",
        "seed_everything()\n",
        "\n",
        "len_test = len(df_persian_test)\n",
        "len_val = len(df_persian_val)\n",
        "len_train = len(df_persian_super_train)\n",
        "\n",
        "persian_test_set = [(persian_input_ids[i], persian_attention_masks[i], persian_labels[i]) for i in range(len_test)]\n",
        "persian_test_text = [persian_labels[i] for i in range(len_test)]\n",
        "\n",
        "persian_val_set = [(persian_input_ids[i], persian_attention_masks[i], persian_labels[i]) for i in range(len_test,len_test + len_val)]\n",
        "persian_val_text = [persian_labels[i] for i in range(len_test,len_test + len_val)]\n",
        "\n",
        "persian_train_set = [(persian_input_ids[i], persian_attention_masks[i], persian_labels[i]) for i in range(len_test + len_val, len(df_persian_combined))]\n",
        "persian_train_text = [persian_labels[i] for i in range(len_test + len_val, len(df_persian_combined))]"
      ]
    },
    {
      "cell_type": "code",
      "execution_count": null,
      "metadata": {
        "colab": {
          "base_uri": "https://localhost:8080/"
        },
        "id": "atxXyA9oB6lF",
        "outputId": "65e0b1a6-21c2-418c-953c-cc1ab68a6451"
      },
      "outputs": [
        {
          "name": "stdout",
          "output_type": "stream",
          "text": [
            "\n",
            "======== Epoch 1 / 10 ========\n",
            "Training...\n",
            "Total loss: 53.429103709644494\n",
            "Num of correct predictions = 39\n",
            "Validation accuracy: 0.65\n",
            "\n",
            "======== Epoch 2 / 10 ========\n",
            "Training...\n",
            "Total loss: 38.663944343035006\n",
            "Num of correct predictions = 37\n",
            "Validation accuracy: 0.6166666666666667\n",
            "\n",
            "======== Epoch 3 / 10 ========\n",
            "Training...\n",
            "Total loss: 42.48524064657548\n",
            "Num of correct predictions = 38\n",
            "Validation accuracy: 0.6333333333333333\n",
            "\n",
            "======== Epoch 4 / 10 ========\n",
            "Training...\n",
            "Total loss: 38.326521454414554\n",
            "Num of correct predictions = 39\n",
            "Validation accuracy: 0.65\n",
            "\n",
            "======== Epoch 5 / 10 ========\n",
            "Training...\n",
            "Total loss: 35.523444881323435\n",
            "Num of correct predictions = 42\n",
            "Validation accuracy: 0.7\n",
            "\n",
            "======== Epoch 6 / 10 ========\n",
            "Training...\n",
            "Total loss: 39.92976979193665\n",
            "Num of correct predictions = 40\n",
            "Validation accuracy: 0.6666666666666666\n",
            "\n",
            "======== Epoch 7 / 10 ========\n",
            "Training...\n",
            "Total loss: 37.698879680871386\n",
            "Num of correct predictions = 39\n",
            "Validation accuracy: 0.65\n",
            "\n",
            "======== Epoch 8 / 10 ========\n",
            "Training...\n",
            "Total loss: 35.388608249705015\n",
            "Num of correct predictions = 42\n",
            "Validation accuracy: 0.7\n",
            "\n",
            "======== Epoch 9 / 10 ========\n",
            "Training...\n",
            "Total loss: 31.61654863325338\n",
            "Num of correct predictions = 38\n",
            "Validation accuracy: 0.6333333333333333\n",
            "\n",
            "======== Epoch 10 / 10 ========\n",
            "Training...\n",
            "Total loss: 33.443961502208424\n",
            "Num of correct predictions = 37\n",
            "Validation accuracy: 0.6166666666666667\n",
            "\n",
            "Training complete!\n"
          ]
        },
        {
          "data": {
            "text/plain": [
              "0.6166666666666667"
            ]
          },
          "execution_count": 36,
          "metadata": {},
          "output_type": "execute_result"
        }
      ],
      "source": [
        "batch_size = 16\n",
        "optimizer = torch.optim.AdamW(model.parameters(), lr=2e-5, weight_decay=1e-2)\n",
        "epochs = 10\n",
        "\n",
        "run_training_loops_new_strategy(english_train_set, persian_train_set, persian_val_set, epochs=epochs, alpha=0.2)"
      ]
    },
    {
      "cell_type": "code",
      "execution_count": null,
      "metadata": {
        "colab": {
          "base_uri": "https://localhost:8080/"
        },
        "id": "tt7fThIrB8dH",
        "outputId": "58818bf4-d9f0-486f-da6c-e4cd7b0e09c7"
      },
      "outputs": [
        {
          "name": "stdout",
          "output_type": "stream",
          "text": [
            "Num of correct predictions = 122\n"
          ]
        },
        {
          "data": {
            "text/plain": [
              "0.5083333333333333"
            ]
          },
          "execution_count": 38,
          "metadata": {},
          "output_type": "execute_result"
        }
      ],
      "source": [
        "seed_everything()\n",
        "get_validation_performance(persian_test_set)[0]"
      ]
    },
    {
      "cell_type": "markdown",
      "source": [
        "## Nepali dataset"
      ],
      "metadata": {
        "id": "Ak4EmId-kwfm"
      }
    },
    {
      "cell_type": "markdown",
      "metadata": {
        "id": "GkbHOtR9BhUr"
      },
      "source": [
        "For Nepali dataset we need -> Turkish and Hindi datasets."
      ]
    },
    {
      "cell_type": "markdown",
      "source": [
        "Since, there is not nepali train set. I will combine English. Turkish and Hindi for training and then, will use nepali test set"
      ],
      "metadata": {
        "id": "7PGjgEJip6z-"
      }
    },
    {
      "cell_type": "code",
      "execution_count": null,
      "metadata": {
        "id": "ClVDcHAkBkyi"
      },
      "outputs": [],
      "source": [
        "df_nepali_super_train = pd.concat([df_hindi_train, df_turkish_train])"
      ]
    },
    {
      "cell_type": "code",
      "execution_count": null,
      "metadata": {
        "id": "9gfBF1tTBml6"
      },
      "outputs": [],
      "source": [
        "df_nepali_combined = pd.concat([df_nepali_test, df_nepali_val, df_nepali_super_train])"
      ]
    },
    {
      "cell_type": "code",
      "execution_count": null,
      "metadata": {
        "colab": {
          "base_uri": "https://localhost:8080/"
        },
        "id": "ZhH7gKJrBpHk",
        "outputId": "2c2970aa-828b-4fa0-b5f2-30803da4d4ac"
      },
      "outputs": [
        {
          "name": "stdout",
          "output_type": "stream",
          "text": [
            "Original:  आगामी दिनमा यी दुई नेताबीच सहज सहकार्य होला ? नीतिमा आधारित भएर राष्ट्रको नेतृत्व गर्नुपर्छ भन्ने एमालेको दृष्टिकोण नै सहकार्यलाई सफल पार्ने आधार हो । एमाले राष्ट्रिय राजनीतिको ध्रुवीकरण, विकास समृद्धिलाई केन्द्रमा राखेर बहस गर्दै आएको पार्टी हो । माओवादी पंक्तिभित्र चाहिँ कांग्रेससँगको सहकार्य दीर्घकालीन हितका लागि र वामपन्थी मुद्दाका लागि उचित रहेन भन्ने महसुस गरेको देखिन्छ । त्यस अर्थमा आउने दिनमा सहकार्य कसिलो बन्ने नीतिगत आधार विद्यमान छन् । अर्कोतिर मुलुकमा जति धेरै अस्थिरता भयो, गठबन्धनमा भएका नयाँ पार्टी उति नै असफल हुने खतरा छ । त्यसैले उनीहरूले जे मौका पाएका छन्, काम गरेर देखाउनुपर्ने बाध्यता छ । यद्यपि नेपालमा अस्थिरता चाहने शक्तिहरू हाबी छन्, त्यसबाट जोगिनुपर्छ । अहिलेको गठबन्धन सफल/असफल हुनुमा दलहरूको आफ्नो स्वार्थ पनि निर्भर रहन्छ ।\n",
            "Token IDs: tensor([     0,  52678, 135384,  31849,  12869,  15579,  36548,  55905, 128809,\n",
            "         60246,    705,  30111,    411, 115380,  62199,  20823,    356,  52598,\n",
            "        116897,  12907,  33490,    356, 211322,   6425, 128809,   1385,  42921,\n",
            "        194570,  31218,   1253,    207,  33490,  19618,  52845,    356, 229640,\n",
            "         28265,      4,   9623,  95885,   1385,  26199,    411, 148008, 152623,\n",
            "         11890,  24640,  11247,   1253,    207,  37807, 240787,  48675,      6,\n",
            "        181527,  12042,   9142,    356, 128809, 156773, 114225,  97592,    656,\n",
            "             2])\n"
          ]
        }
      ],
      "source": [
        "nepali_input_ids, nepali_attention_masks, nepali_labels = create_tensors_and_text(df_nepali_combined, False)\n",
        "nepali_texts = df_nepali_combined.text_input.values\n",
        "\n",
        "seed_everything()\n",
        "\n",
        "len_test = len(df_nepali_test)\n",
        "len_val = len(df_nepali_val)\n",
        "len_train = len(df_nepali_super_train)\n",
        "\n",
        "nepali_test_set = [(nepali_input_ids[i], nepali_attention_masks[i], nepali_labels[i]) for i in range(len_test)]\n",
        "nepali_test_text = [nepali_labels[i] for i in range(len_test)]\n",
        "\n",
        "nepali_val_set = [(nepali_input_ids[i], nepali_attention_masks[i], nepali_labels[i]) for i in range(len_test,len_test + len_val)]\n",
        "nepali_val_text = [nepali_labels[i] for i in range(len_test,len_test + len_val)]\n",
        "\n",
        "nepali_train_set = [(nepali_input_ids[i], nepali_attention_masks[i], nepali_labels[i]) for i in range(len_test + len_val, len(df_nepali_combined))]\n",
        "nepali_train_text = [nepali_labels[i] for i in range(len_test + len_val, len(df_nepali_combined))]"
      ]
    },
    {
      "cell_type": "code",
      "execution_count": null,
      "metadata": {
        "colab": {
          "base_uri": "https://localhost:8080/"
        },
        "id": "HGvXvoxdBx5b",
        "outputId": "cd4b08a3-e313-41de-db4e-3ff17293e1b4"
      },
      "outputs": [
        {
          "name": "stdout",
          "output_type": "stream",
          "text": [
            "\n",
            "======== Epoch 1 / 25 ========\n",
            "Training...\n",
            "Total loss: 588.102017108683\n",
            "Num of correct predictions = 26\n",
            "Validation accuracy: 0.43333333333333335\n",
            "\n",
            "======== Epoch 2 / 25 ========\n",
            "Training...\n",
            "Total loss: 389.11598932663\n",
            "Num of correct predictions = 27\n",
            "Validation accuracy: 0.45\n",
            "\n",
            "======== Epoch 3 / 25 ========\n",
            "Training...\n",
            "Total loss: 295.88590534237744\n",
            "Num of correct predictions = 24\n",
            "Validation accuracy: 0.4\n",
            "\n",
            "======== Epoch 4 / 25 ========\n",
            "Training...\n",
            "Total loss: 234.3314543347841\n",
            "Num of correct predictions = 29\n",
            "Validation accuracy: 0.48333333333333334\n",
            "\n",
            "======== Epoch 5 / 25 ========\n",
            "Training...\n",
            "Total loss: 191.4307588478034\n",
            "Num of correct predictions = 33\n",
            "Validation accuracy: 0.55\n",
            "\n",
            "======== Epoch 6 / 25 ========\n",
            "Training...\n",
            "Total loss: 160.72098674454216\n",
            "Num of correct predictions = 31\n",
            "Validation accuracy: 0.5166666666666667\n",
            "\n",
            "======== Epoch 7 / 25 ========\n",
            "Training...\n",
            "Total loss: 133.28350013097773\n",
            "Num of correct predictions = 29\n",
            "Validation accuracy: 0.48333333333333334\n",
            "\n",
            "======== Epoch 8 / 25 ========\n",
            "Training...\n",
            "Total loss: 121.2699937974871\n",
            "Num of correct predictions = 33\n",
            "Validation accuracy: 0.55\n",
            "\n",
            "======== Epoch 9 / 25 ========\n",
            "Training...\n",
            "Total loss: 101.3440505265374\n",
            "Num of correct predictions = 32\n",
            "Validation accuracy: 0.5333333333333333\n",
            "\n",
            "======== Epoch 10 / 25 ========\n",
            "Training...\n",
            "Total loss: 89.77013816042394\n",
            "Num of correct predictions = 32\n",
            "Validation accuracy: 0.5333333333333333\n",
            "\n",
            "======== Epoch 11 / 25 ========\n",
            "Training...\n",
            "Total loss: 80.12078966712943\n",
            "Num of correct predictions = 31\n",
            "Validation accuracy: 0.5166666666666667\n",
            "\n",
            "======== Epoch 12 / 25 ========\n",
            "Training...\n",
            "Total loss: 67.96100118232965\n",
            "Num of correct predictions = 32\n",
            "Validation accuracy: 0.5333333333333333\n",
            "\n",
            "======== Epoch 13 / 25 ========\n",
            "Training...\n",
            "Total loss: 65.84658914347663\n",
            "Num of correct predictions = 27\n",
            "Validation accuracy: 0.45\n",
            "\n",
            "======== Epoch 14 / 25 ========\n",
            "Training...\n",
            "Total loss: 58.865781024032245\n",
            "Num of correct predictions = 35\n",
            "Validation accuracy: 0.5833333333333334\n",
            "\n",
            "======== Epoch 15 / 25 ========\n",
            "Training...\n",
            "Total loss: 55.966847076961116\n",
            "Num of correct predictions = 37\n",
            "Validation accuracy: 0.6166666666666667\n",
            "\n",
            "======== Epoch 16 / 25 ========\n",
            "Training...\n",
            "Total loss: 48.507844265197654\n",
            "Num of correct predictions = 33\n",
            "Validation accuracy: 0.55\n",
            "\n",
            "======== Epoch 17 / 25 ========\n",
            "Training...\n",
            "Total loss: 48.768318763898975\n",
            "Num of correct predictions = 33\n",
            "Validation accuracy: 0.55\n",
            "\n",
            "======== Epoch 18 / 25 ========\n",
            "Training...\n",
            "Total loss: 45.56269293475656\n",
            "Num of correct predictions = 32\n",
            "Validation accuracy: 0.5333333333333333\n",
            "\n",
            "======== Epoch 19 / 25 ========\n",
            "Training...\n",
            "Total loss: 39.33707930397389\n",
            "Num of correct predictions = 34\n",
            "Validation accuracy: 0.5666666666666667\n",
            "\n",
            "======== Epoch 20 / 25 ========\n",
            "Training...\n",
            "Total loss: 44.915841683729916\n",
            "Num of correct predictions = 35\n",
            "Validation accuracy: 0.5833333333333334\n",
            "\n",
            "======== Epoch 21 / 25 ========\n",
            "Training...\n",
            "Total loss: 37.65642542093687\n",
            "Num of correct predictions = 30\n",
            "Validation accuracy: 0.5\n",
            "\n",
            "======== Epoch 22 / 25 ========\n",
            "Training...\n",
            "Total loss: 41.17684062224539\n",
            "Num of correct predictions = 31\n",
            "Validation accuracy: 0.5166666666666667\n",
            "\n",
            "======== Epoch 23 / 25 ========\n",
            "Training...\n",
            "Total loss: 36.07747695219929\n",
            "Num of correct predictions = 31\n",
            "Validation accuracy: 0.5166666666666667\n",
            "\n",
            "======== Epoch 24 / 25 ========\n",
            "Training...\n",
            "Total loss: 32.89817837176401\n",
            "Num of correct predictions = 30\n",
            "Validation accuracy: 0.5\n",
            "\n",
            "======== Epoch 25 / 25 ========\n",
            "Training...\n",
            "Total loss: 35.01844443841553\n",
            "Num of correct predictions = 35\n",
            "Validation accuracy: 0.5833333333333334\n",
            "\n",
            "Training complete!\n"
          ]
        },
        {
          "data": {
            "text/plain": [
              "0.5833333333333334"
            ]
          },
          "execution_count": 50,
          "metadata": {},
          "output_type": "execute_result"
        }
      ],
      "source": [
        "batch_size = 16\n",
        "optimizer = torch.optim.AdamW(model.parameters(), lr=2e-5, weight_decay=1e-2)\n",
        "epochs = 25\n",
        "run_training_loops_new_strategy(english_train_set, nepali_train_set, nepali_val_set, epochs=epochs, alpha=0.61)"
      ]
    },
    {
      "cell_type": "code",
      "execution_count": null,
      "metadata": {
        "colab": {
          "base_uri": "https://localhost:8080/"
        },
        "id": "zO_6WCeABzwp",
        "outputId": "b6484343-4191-4f19-d49f-f3704c1bed54"
      },
      "outputs": [
        {
          "name": "stdout",
          "output_type": "stream",
          "text": [
            "Num of correct predictions = 139\n"
          ]
        },
        {
          "data": {
            "text/plain": [
              "0.5791666666666667"
            ]
          },
          "execution_count": 51,
          "metadata": {},
          "output_type": "execute_result"
        }
      ],
      "source": [
        "seed_everything()\n",
        "get_validation_performance(nepali_test_set)[0]"
      ]
    },
    {
      "cell_type": "markdown",
      "metadata": {
        "id": "ckwgzIbkdYyD"
      },
      "source": [
        "## Turkish dataset"
      ]
    },
    {
      "cell_type": "markdown",
      "source": [
        "For Turkish dataset we need -> Turkish and Chinese datasets."
      ],
      "metadata": {
        "id": "q0lo-45jjJHW"
      }
    },
    {
      "cell_type": "code",
      "execution_count": null,
      "metadata": {
        "id": "IkK4BcIkd0k3"
      },
      "outputs": [],
      "source": [
        "df_turkish_super_train = pd.concat([df_turkish_train, df_chinese_train])"
      ]
    },
    {
      "cell_type": "code",
      "execution_count": null,
      "metadata": {
        "id": "QLi7T1-vd2gu"
      },
      "outputs": [],
      "source": [
        "df_turkish_combined = pd.concat([df_turkish_test, df_turkish_val, df_turkish_super_train])"
      ]
    },
    {
      "cell_type": "code",
      "execution_count": null,
      "metadata": {
        "colab": {
          "base_uri": "https://localhost:8080/"
        },
        "id": "gt9dLBDWd4q1",
        "outputId": "cf9ea322-514b-4106-b595-da260ece1465"
      },
      "outputs": [
        {
          "output_type": "stream",
          "name": "stdout",
          "text": [
            "Original:  aranızda kuzey güney dizisini izleyen var mı? hem tv de çıktığı tarihte hem de nette 2 defa izledim\n",
            "Token IDs: tensor([     0,   5689,  64628, 188982, 200498, 200277,     93,    445,  39970,\n",
            "           285,  22685,     32,   2360,   5044,      8, 172334,  44989,     67,\n",
            "          2360,      8,      6,  60765,    116,  75295,  35151,   5771,      2,\n",
            "             1,      1,      1,      1,      1,      1,      1,      1,      1,\n",
            "             1,      1,      1,      1,      1,      1,      1,      1,      1,\n",
            "             1,      1,      1,      1,      1,      1,      1,      1,      1,\n",
            "             1,      1,      1,      1,      1,      1,      1,      1,      1,\n",
            "             1])\n"
          ]
        }
      ],
      "source": [
        "turkish_input_ids, turkish_attention_masks, turkish_labels = create_tensors_and_text(df_turkish_combined, False)\n",
        "turkish_texts = df_turkish_combined.text_input.values\n",
        "\n",
        "seed_everything()\n",
        "\n",
        "len_test = len(df_turkish_test)\n",
        "len_val = len(df_turkish_val)\n",
        "len_train = len(df_turkish_super_train)\n",
        "\n",
        "turkish_test_set = [(turkish_input_ids[i], turkish_attention_masks[i], turkish_labels[i]) for i in range(len_test)]\n",
        "turkish_test_text = [turkish_labels[i] for i in range(len_test)]\n",
        "\n",
        "turkish_val_set = [(turkish_input_ids[i], turkish_attention_masks[i], turkish_labels[i]) for i in range(len_test,len_test + len_val)]\n",
        "turkish_val_text = [turkish_labels[i] for i in range(len_test,len_test + len_val)]\n",
        "\n",
        "turkish_train_set = [(turkish_input_ids[i], turkish_attention_masks[i], turkish_labels[i]) for i in range(len_test + len_val, len(df_turkish_combined))]\n",
        "turkish_train_text = [turkish_labels[i] for i in range(len_test + len_val, len(df_turkish_combined))]"
      ]
    },
    {
      "cell_type": "code",
      "execution_count": null,
      "metadata": {
        "id": "9ZimlLCod7Pv",
        "colab": {
          "base_uri": "https://localhost:8080/"
        },
        "outputId": "bdb26320-533b-4693-b13e-20dedbc0f103"
      },
      "outputs": [
        {
          "output_type": "stream",
          "name": "stdout",
          "text": [
            "\n",
            "======== Epoch 1 / 20 ========\n",
            "Training...\n",
            "Total loss: 124.27516296582523\n",
            "Num of correct predictions = 56\n",
            "Validation accuracy: 0.4666666666666667\n",
            "\n",
            "======== Epoch 2 / 20 ========\n",
            "Training...\n",
            "Total loss: 133.25510459604348\n",
            "Num of correct predictions = 63\n",
            "Validation accuracy: 0.525\n",
            "\n",
            "======== Epoch 3 / 20 ========\n",
            "Training...\n",
            "Total loss: 106.25060577456615\n",
            "Num of correct predictions = 63\n",
            "Validation accuracy: 0.525\n",
            "\n",
            "======== Epoch 4 / 20 ========\n",
            "Training...\n",
            "Total loss: 90.47116821540452\n",
            "Num of correct predictions = 64\n",
            "Validation accuracy: 0.5333333333333333\n",
            "\n",
            "======== Epoch 5 / 20 ========\n",
            "Training...\n",
            "Total loss: 75.24398756322205\n",
            "Num of correct predictions = 64\n",
            "Validation accuracy: 0.5333333333333333\n",
            "\n",
            "======== Epoch 6 / 20 ========\n",
            "Training...\n",
            "Total loss: 72.1461847522395\n",
            "Num of correct predictions = 63\n",
            "Validation accuracy: 0.525\n",
            "\n",
            "======== Epoch 7 / 20 ========\n",
            "Training...\n",
            "Total loss: 58.84952722091317\n",
            "Num of correct predictions = 68\n",
            "Validation accuracy: 0.5666666666666667\n",
            "\n",
            "======== Epoch 8 / 20 ========\n",
            "Training...\n",
            "Total loss: 55.96604901031336\n",
            "Num of correct predictions = 62\n",
            "Validation accuracy: 0.5166666666666667\n",
            "\n",
            "======== Epoch 9 / 20 ========\n",
            "Training...\n",
            "Total loss: 51.737285710584636\n",
            "Num of correct predictions = 66\n",
            "Validation accuracy: 0.55\n",
            "\n",
            "======== Epoch 10 / 20 ========\n",
            "Training...\n",
            "Total loss: 47.217848661594275\n",
            "Num of correct predictions = 60\n",
            "Validation accuracy: 0.5\n",
            "\n",
            "======== Epoch 11 / 20 ========\n",
            "Training...\n",
            "Total loss: 43.01026300164821\n",
            "Num of correct predictions = 61\n",
            "Validation accuracy: 0.5083333333333333\n",
            "\n",
            "======== Epoch 12 / 20 ========\n",
            "Training...\n",
            "Total loss: 47.27537072288214\n",
            "Num of correct predictions = 62\n",
            "Validation accuracy: 0.5166666666666667\n",
            "\n",
            "======== Epoch 13 / 20 ========\n",
            "Training...\n",
            "Total loss: 40.2010660647444\n",
            "Num of correct predictions = 59\n",
            "Validation accuracy: 0.49166666666666664\n",
            "\n",
            "======== Epoch 14 / 20 ========\n",
            "Training...\n",
            "Total loss: 38.503981554700474\n",
            "Num of correct predictions = 62\n",
            "Validation accuracy: 0.5166666666666667\n",
            "\n",
            "======== Epoch 15 / 20 ========\n",
            "Training...\n",
            "Total loss: 36.20520250753309\n",
            "Num of correct predictions = 58\n",
            "Validation accuracy: 0.48333333333333334\n",
            "\n",
            "======== Epoch 16 / 20 ========\n",
            "Training...\n",
            "Total loss: 36.870927260486\n",
            "Num of correct predictions = 56\n",
            "Validation accuracy: 0.4666666666666667\n",
            "\n",
            "======== Epoch 17 / 20 ========\n",
            "Training...\n",
            "Total loss: 36.11323912489097\n",
            "Num of correct predictions = 58\n",
            "Validation accuracy: 0.48333333333333334\n",
            "\n",
            "======== Epoch 18 / 20 ========\n",
            "Training...\n",
            "Total loss: 30.04719147220775\n",
            "Num of correct predictions = 64\n",
            "Validation accuracy: 0.5333333333333333\n",
            "\n",
            "======== Epoch 19 / 20 ========\n",
            "Training...\n",
            "Total loss: 32.75092470155176\n",
            "Num of correct predictions = 63\n",
            "Validation accuracy: 0.525\n",
            "\n",
            "======== Epoch 20 / 20 ========\n",
            "Training...\n",
            "Total loss: 29.528301433913178\n",
            "Num of correct predictions = 57\n",
            "Validation accuracy: 0.475\n",
            "\n",
            "Training complete!\n"
          ]
        },
        {
          "output_type": "execute_result",
          "data": {
            "text/plain": [
              "0.475"
            ]
          },
          "metadata": {},
          "execution_count": 63
        }
      ],
      "source": [
        "batch_size = 16\n",
        "optimizer = torch.optim.AdamW(model.parameters(), lr=2e-5, weight_decay=1e-2)\n",
        "epochs = 20\n",
        "run_training_loops_new_strategy(english_train_set, turkish_train_set, turkish_val_set, epochs=epochs, alpha=0.51)"
      ]
    },
    {
      "cell_type": "code",
      "execution_count": null,
      "metadata": {
        "id": "XT4wbuiKd9n4",
        "colab": {
          "base_uri": "https://localhost:8080/"
        },
        "outputId": "beb681d4-ff28-4d4c-a337-cceb1dc45142"
      },
      "outputs": [
        {
          "output_type": "stream",
          "name": "stdout",
          "text": [
            "Num of correct predictions = 250\n"
          ]
        },
        {
          "output_type": "execute_result",
          "data": {
            "text/plain": [
              "0.5208333333333334"
            ]
          },
          "metadata": {},
          "execution_count": 64
        }
      ],
      "source": [
        "seed_everything()\n",
        "get_validation_performance(turkish_test_set)[0]"
      ]
    },
    {
      "cell_type": "markdown",
      "source": [
        "## Spanish dataset"
      ],
      "metadata": {
        "id": "lmng-FYpAN1d"
      }
    },
    {
      "cell_type": "markdown",
      "source": [
        "For Spanish dataset we need -> Spanish, Chinese, Hindi and Korean datasets."
      ],
      "metadata": {
        "id": "P0jQA8H6XqKj"
      }
    },
    {
      "cell_type": "code",
      "source": [
        "df_spanish_super_train = pd.concat([df_spanish_train,df_chinese_train, df_hindi_train,df_korean_train  ])"
      ],
      "metadata": {
        "id": "A-1tDYHaYNBQ"
      },
      "execution_count": null,
      "outputs": []
    },
    {
      "cell_type": "code",
      "source": [
        "df_spanish_combined = pd.concat([df_spanish_test, df_spanish_val, df_spanish_super_train])"
      ],
      "metadata": {
        "id": "ZDgAw6ToYY-w"
      },
      "execution_count": null,
      "outputs": []
    },
    {
      "cell_type": "code",
      "source": [
        "spanish_input_ids, spanish_attention_masks, spanish_labels = create_tensors_and_text(df_spanish_combined, False)\n",
        "spanish_texts = df_spanish_combined.text_input.values\n",
        "\n",
        "seed_everything()\n",
        "\n",
        "len_test = len(df_spanish_test)\n",
        "len_val = len(df_spanish_val)\n",
        "len_train = len(df_spanish_super_train)\n",
        "\n",
        "spanish_test_set = [(spanish_input_ids[i], spanish_attention_masks[i], spanish_labels[i]) for i in range(len_test)]\n",
        "spanish_test_text = [spanish_labels[i] for i in range(len_test)]\n",
        "\n",
        "spanish_val_set = [(spanish_input_ids[i], spanish_attention_masks[i], spanish_labels[i]) for i in range(len_test,len_test + len_val)]\n",
        "spanish_val_text = [spanish_labels[i] for i in range(len_test,len_test + len_val)]\n",
        "\n",
        "spanish_train_set = [(spanish_input_ids[i], spanish_attention_masks[i], spanish_labels[i]) for i in range(len_test + len_val, len(df_spanish_combined))]\n",
        "spanish_train_text = [spanish_labels[i] for i in range(len_test + len_val, len(df_spanish_combined))]"
      ],
      "metadata": {
        "colab": {
          "base_uri": "https://localhost:8080/"
        },
        "id": "44HweC8dYbs9",
        "outputId": "fae0c354-d288-4716-c8de-c771c082ed87"
      },
      "execution_count": null,
      "outputs": [
        {
          "output_type": "stream",
          "name": "stdout",
          "text": [
            "Original:  0  . \u0015\u0015 ya? \u0015\u0015 ya. \u0015\u0015\n",
            "Token IDs: tensor([  0, 757,   6,   5, 151,  32, 151,   5,   2,   1,   1,   1,   1,   1,\n",
            "          1,   1,   1,   1,   1,   1,   1,   1,   1,   1,   1,   1,   1,   1,\n",
            "          1,   1,   1,   1,   1,   1,   1,   1,   1,   1,   1,   1,   1,   1,\n",
            "          1,   1,   1,   1,   1,   1,   1,   1,   1,   1,   1,   1,   1,   1,\n",
            "          1,   1,   1,   1,   1,   1,   1,   1])\n"
          ]
        }
      ]
    },
    {
      "cell_type": "code",
      "source": [
        "batch_size = 16\n",
        "optimizer = torch.optim.AdamW(model.parameters(), lr=2e-5, weight_decay=1e-2)\n",
        "epochs = 27\n",
        "run_training_loops_new_strategy(english_train_set, turkish_train_set, turkish_val_set, epochs=epochs, alpha=0.54)"
      ],
      "metadata": {
        "colab": {
          "base_uri": "https://localhost:8080/"
        },
        "id": "krDic5MgYi0r",
        "outputId": "30a5a122-2bb2-4370-8fbe-0b403ba363eb"
      },
      "execution_count": null,
      "outputs": [
        {
          "output_type": "stream",
          "name": "stdout",
          "text": [
            "\n",
            "======== Epoch 1 / 27 ========\n",
            "Training...\n",
            "Total loss: 40.38546849954097\n",
            "Num of correct predictions = 57\n",
            "Validation accuracy: 0.475\n",
            "\n",
            "======== Epoch 2 / 27 ========\n",
            "Training...\n",
            "Total loss: 38.243395681156244\n",
            "Num of correct predictions = 59\n",
            "Validation accuracy: 0.49166666666666664\n",
            "\n",
            "======== Epoch 3 / 27 ========\n",
            "Training...\n",
            "Total loss: 37.72029743057373\n",
            "Num of correct predictions = 56\n",
            "Validation accuracy: 0.4666666666666667\n",
            "\n",
            "======== Epoch 4 / 27 ========\n",
            "Training...\n",
            "Total loss: 35.211290495351925\n",
            "Num of correct predictions = 66\n",
            "Validation accuracy: 0.55\n",
            "\n",
            "======== Epoch 5 / 27 ========\n",
            "Training...\n",
            "Total loss: 27.6181228435936\n",
            "Num of correct predictions = 62\n",
            "Validation accuracy: 0.5166666666666667\n",
            "\n",
            "======== Epoch 6 / 27 ========\n",
            "Training...\n",
            "Total loss: 27.026045199436975\n",
            "Num of correct predictions = 62\n",
            "Validation accuracy: 0.5166666666666667\n",
            "\n",
            "======== Epoch 7 / 27 ========\n",
            "Training...\n",
            "Total loss: 23.619983545629193\n",
            "Num of correct predictions = 64\n",
            "Validation accuracy: 0.5333333333333333\n",
            "\n",
            "======== Epoch 8 / 27 ========\n",
            "Training...\n",
            "Total loss: 23.960416128629408\n",
            "Num of correct predictions = 60\n",
            "Validation accuracy: 0.5\n",
            "\n",
            "======== Epoch 9 / 27 ========\n",
            "Training...\n",
            "Total loss: 23.63083461521494\n",
            "Num of correct predictions = 59\n",
            "Validation accuracy: 0.49166666666666664\n",
            "\n",
            "======== Epoch 10 / 27 ========\n",
            "Training...\n",
            "Total loss: 24.474907567709657\n",
            "Num of correct predictions = 63\n",
            "Validation accuracy: 0.525\n",
            "\n",
            "======== Epoch 11 / 27 ========\n",
            "Training...\n",
            "Total loss: 21.995318614099293\n",
            "Num of correct predictions = 59\n",
            "Validation accuracy: 0.49166666666666664\n",
            "\n",
            "======== Epoch 12 / 27 ========\n",
            "Training...\n",
            "Total loss: 24.68361242627816\n",
            "Num of correct predictions = 61\n",
            "Validation accuracy: 0.5083333333333333\n",
            "\n",
            "======== Epoch 13 / 27 ========\n",
            "Training...\n",
            "Total loss: 19.78081856000516\n",
            "Num of correct predictions = 61\n",
            "Validation accuracy: 0.5083333333333333\n",
            "\n",
            "======== Epoch 14 / 27 ========\n",
            "Training...\n",
            "Total loss: 24.567032128524477\n",
            "Num of correct predictions = 62\n",
            "Validation accuracy: 0.5166666666666667\n",
            "\n",
            "======== Epoch 15 / 27 ========\n",
            "Training...\n",
            "Total loss: 21.129214092838406\n",
            "Num of correct predictions = 59\n",
            "Validation accuracy: 0.49166666666666664\n",
            "\n",
            "======== Epoch 16 / 27 ========\n",
            "Training...\n",
            "Total loss: 20.801040545574462\n",
            "Num of correct predictions = 56\n",
            "Validation accuracy: 0.4666666666666667\n",
            "\n",
            "======== Epoch 17 / 27 ========\n",
            "Training...\n",
            "Total loss: 18.008578161452494\n",
            "Num of correct predictions = 60\n",
            "Validation accuracy: 0.5\n",
            "\n",
            "======== Epoch 18 / 27 ========\n",
            "Training...\n",
            "Total loss: 21.687567560154125\n",
            "Num of correct predictions = 61\n",
            "Validation accuracy: 0.5083333333333333\n",
            "\n",
            "======== Epoch 19 / 27 ========\n",
            "Training...\n",
            "Total loss: 18.524286609322218\n",
            "Num of correct predictions = 61\n",
            "Validation accuracy: 0.5083333333333333\n",
            "\n",
            "======== Epoch 20 / 27 ========\n",
            "Training...\n",
            "Total loss: 19.351604559465258\n",
            "Num of correct predictions = 61\n",
            "Validation accuracy: 0.5083333333333333\n",
            "\n",
            "======== Epoch 21 / 27 ========\n",
            "Training...\n",
            "Total loss: 22.249209855362153\n",
            "Num of correct predictions = 60\n",
            "Validation accuracy: 0.5\n",
            "\n",
            "======== Epoch 22 / 27 ========\n",
            "Training...\n",
            "Total loss: 18.222335138223674\n",
            "Num of correct predictions = 59\n",
            "Validation accuracy: 0.49166666666666664\n",
            "\n",
            "======== Epoch 23 / 27 ========\n",
            "Training...\n",
            "Total loss: 18.933264473730407\n",
            "Num of correct predictions = 64\n",
            "Validation accuracy: 0.5333333333333333\n",
            "\n",
            "======== Epoch 24 / 27 ========\n",
            "Training...\n",
            "Total loss: 17.744890697901948\n",
            "Num of correct predictions = 62\n",
            "Validation accuracy: 0.5166666666666667\n",
            "\n",
            "======== Epoch 25 / 27 ========\n",
            "Training...\n",
            "Total loss: 17.966255106790623\n",
            "Num of correct predictions = 61\n",
            "Validation accuracy: 0.5083333333333333\n",
            "\n",
            "======== Epoch 26 / 27 ========\n",
            "Training...\n",
            "Total loss: 17.37564858095029\n",
            "Num of correct predictions = 59\n",
            "Validation accuracy: 0.49166666666666664\n",
            "\n",
            "======== Epoch 27 / 27 ========\n",
            "Training...\n",
            "Total loss: 17.962975182985378\n",
            "Num of correct predictions = 62\n",
            "Validation accuracy: 0.5166666666666667\n",
            "\n",
            "Training complete!\n"
          ]
        },
        {
          "output_type": "execute_result",
          "data": {
            "text/plain": [
              "0.5166666666666667"
            ]
          },
          "metadata": {},
          "execution_count": 94
        }
      ]
    },
    {
      "cell_type": "code",
      "source": [
        "seed_everything()\n",
        "get_validation_performance(spanish_test_set)[0]"
      ],
      "metadata": {
        "colab": {
          "base_uri": "https://localhost:8080/"
        },
        "id": "b_LlssjcYiaB",
        "outputId": "21a3f504-4d7a-4491-f3c1-d7f412649b8e"
      },
      "execution_count": null,
      "outputs": [
        {
          "output_type": "stream",
          "name": "stdout",
          "text": [
            "Num of correct predictions = 118\n"
          ]
        },
        {
          "output_type": "execute_result",
          "data": {
            "text/plain": [
              "0.5086206896551724"
            ]
          },
          "metadata": {},
          "execution_count": 95
        }
      ]
    },
    {
      "cell_type": "markdown",
      "source": [
        "# Error analysis"
      ],
      "metadata": {
        "id": "eCz4uRd1__C_"
      }
    },
    {
      "cell_type": "markdown",
      "source": [
        "Error Analysis - Let's perform on hindi since we know the language.\n",
        "We have included detailed summary of our findings of the error analysis in the report in section 3.6 Error Analysis"
      ],
      "metadata": {
        "id": "iTh1_Vwu5wHL"
      }
    },
    {
      "cell_type": "markdown",
      "source": [
        "HINDI - Model saved and loaded."
      ],
      "metadata": {
        "id": "yFDh5gOP6wSX"
      }
    },
    {
      "cell_type": "code",
      "source": [
        "from transformers import XLMRobertaTokenizer\n",
        "\n",
        "seed_everything()\n",
        "torch.cuda.empty_cache()\n",
        "\n",
        "# loading the model we saved earlier from experiment 5.3 with Hindi dataset\n",
        "model = torch.load('/content/Hindi_Model_Multilingual_Trained.pt')\n",
        "model.eval()\n",
        "\n",
        "val_set = hindi_test_set\n",
        "\n",
        "# Tracking variables\n",
        "total_eval_accuracy = 0\n",
        "total_eval_loss = 0\n",
        "\n",
        "num_batches = int(len(val_set)/batch_size) + 1\n",
        "tokenizer = XLMRobertaTokenizer.from_pretrained('xlm-roberta-base')\n",
        "\n",
        "total_correct = 0\n",
        "incorrect_predictions = []  # List to store incorrect predictions\n",
        "\n",
        "for i in range(num_batches):\n",
        "\n",
        "  end_index = min(batch_size * (i+1), len(val_set))\n",
        "  batch = val_set[i*batch_size:end_index]\n",
        "\n",
        "  if len(batch) == 0: continue\n",
        "\n",
        "  input_id_tensors = torch.stack([data[0] for data in batch])\n",
        "  input_mask_tensors = torch.stack([data[1] for data in batch])\n",
        "  label_tensors = torch.stack([data[2] for data in batch])\n",
        "\n",
        "  # Move tensors to the GPU\n",
        "  b_input_ids = input_id_tensors.to(device)\n",
        "  b_input_mask = input_mask_tensors.to(device)\n",
        "  b_labels = label_tensors.to(device)\n",
        "\n",
        "  # Tell pytorch not to bother with constructing the compute graph\n",
        "  # during the forward pass\n",
        "  with torch.no_grad():\n",
        "    # Forward pass, calculate logit predictions.\n",
        "    outputs = model(b_input_ids,\n",
        "                      token_type_ids=None,\n",
        "                      attention_mask=b_input_mask,\n",
        "                      labels=b_labels)\n",
        "    # loss = outputs.loss\n",
        "    logits = outputs.logits\n",
        "\n",
        "    # Accumulate the validation loss.\n",
        "    # total_eval_loss += loss.item()\n",
        "\n",
        "    # Move logits and labels to CPU\n",
        "    logits = (logits).detach().cpu().numpy()\n",
        "    label_ids = b_labels.to('cpu').numpy()\n",
        "\n",
        "    # Calculate the number of correctly labeled examples in batch\n",
        "    pred_flat = np.argmax(logits, axis=1).flatten()\n",
        "    labels_flat = np.argmax(label_ids, axis=1).flatten()\n",
        "\n",
        "    # num_correct = np.sum(pred_flat == labels_flat)\n",
        "    # total_correct += num_correct\n",
        "\n",
        "    # Analyze incorrect predictions\n",
        "    incorrect_indices = np.where(pred_flat != labels_flat)[0]\n",
        "    for idx in incorrect_indices:\n",
        "      # Access corresponding data and predicted label\n",
        "      incorrect_data = batch[idx]\n",
        "      question=tokenizer.decode(incorrect_data[0], skip_special_tokens=True)\n",
        "      # Split data into question and answer\n",
        "      index = question.find(\"?\")\n",
        "      if index != -1:\n",
        "        answer = question[index+1:]\n",
        "        question= question[:index+1]\n",
        "      else:\n",
        "        answer=\" \"\n",
        "      predicted_label = label_mapping[pred_flat[idx]]\n",
        "      true_label = label_mapping[labels_flat[idx]]\n",
        "\n",
        "      # Append data to incorrect predictions list\n",
        "      incorrect_predictions.append((question, answer, predicted_label, true_label))\n",
        "\n",
        "\n",
        "\n",
        "# printing the data\n",
        "for question,answer, predicted_label, true_label in incorrect_predictions[:20]:\n",
        "  if predicted_label == 0 : predicted_label = \"Yes\"\n",
        "  elif predicted_label == 1 : predicted_label = \"No\"\n",
        "  elif predicted_label == 2 : predicted_label = \"Middle\"\n",
        "\n",
        "  if true_label == 0 : true_label = \"Yes\"\n",
        "  elif true_label == 1 : true_label = \"No\"\n",
        "  elif true_label == 2 : true_label = \"Middle\"\n",
        "\n",
        "  print(f\"Data: {question}\")\n",
        "  print(f\"Answer: {answer}\")\n",
        "  print(f\"Incorrect prediction: Predicted: {predicted_label}, True: {true_label}\")\n",
        "  print(\"-------------------------------------------------------------------------------\")\n",
        "\n"
      ],
      "metadata": {
        "colab": {
          "base_uri": "https://localhost:8080/"
        },
        "id": "SDlpkCD35tRA",
        "outputId": "ba3f6d5b-fa7a-4dd6-9b2a-594e3011cafc"
      },
      "execution_count": null,
      "outputs": [
        {
          "output_type": "stream",
          "name": "stdout",
          "text": [
            "Data: क्या आप सब तैयार हैं लॉकडाउन की अवधि बढ़ाने को लेकर?\n",
            "Answer:  ये सवाल काश उससे पूछा होता जो Twitter Facebook की दुनियाँ से कौसों दूर हैं!\n",
            "Incorrect prediction: Predicted: Middle, True: No\n",
            "-------------------------------------------------------------------------------\n",
            "Data: सरकार को \"आरक्षण\" ही खत्म कर देना चाहिए क्या आप सहमत है?\n",
            "Answer:  तुम रोज क्यों 5 रूपए ट्वीट के लिए अपनी बेजज्ती करवाते हो ।\n",
            "Incorrect prediction: Predicted: Yes, True: No\n",
            "-------------------------------------------------------------------------------\n",
            "Data: मुझे किसी ने बताया है कि BHU कुलपति जी Fiji में जब थे तब उन पर sexual harassment का प्रकरण चला था और उन्हें दोषी पाया गया था। क्या यह सच है?\n",
            "Answer:  चचा हर चीज़ अपने ठरकपन से जोड़ के देख लेते हैं।😝\n",
            "Incorrect prediction: Predicted: Yes, True: No\n",
            "-------------------------------------------------------------------------------\n",
            "Data: यह हो सकता है कि उत्तराखंड की शिक्षिका को अनुपस्थिति के कारण पहले भी दो बार निलंबित किया गया हो। लेकिन उनसे दुर्व्यवहार करते समय क्या मुख्यमंत्री को इसकी जानकारी थी?\n",
            "Answer:  बड़े भइया, पूर्ण रुप से सहमत सादर,\n",
            "Incorrect prediction: Predicted: Yes, True: Middle\n",
            "-------------------------------------------------------------------------------\n",
            "Data: क्या आप भी मेरी तरह मानते है कि भक्त जाहिल होते है?\n",
            "Answer:  अब आप ये मान लीजिए कि आप एक मानसिक तौर पर विक्षिप्त है।\n",
            "Incorrect prediction: Predicted: Yes, True: No\n",
            "-------------------------------------------------------------------------------\n",
            "Data: उमा भारती जी को आमंत्रित नही किया तो कहा कि राम भाजपा की बपौती नही है। क्या आप इतने भोली थीं की समझी नही कि बाबरी मस्जिद गिराने & वोट तक आपका उपयोग किया जाएगा।पिछड़ों का धर्म सेवा करना वो आपने किया और क्या चाहिए?\n",
            "Answer: \n",
            "Incorrect prediction: Predicted: No, True: Middle\n",
            "-------------------------------------------------------------------------------\n",
            "Data: प्रधानमंत्री जी अगर हम आपको गुलदस्ते की जगह किताब दे तो क्या आप हमें अच्छे दिन दे देंगे?\n",
            "Answer:  अरे कालिए काले कुत्ते इस से अच्छे दिन तुझे और क्या चाहिए, की तू pm से सवाल पूछ रहा है।\n",
            "Incorrect prediction: Predicted: Yes, True: No\n",
            "-------------------------------------------------------------------------------\n",
            "Data: क्या हम टैक्स देना बंद कर दे?\n",
            "Answer:  सांस लेना भले बंद कर दो, पर टैक्स तो देना ही पड़ेगा वरना मोदी सरकार मन की बात पे पैसे कैसे उड़ाएंगे..\n",
            "Incorrect prediction: Predicted: Yes, True: No\n",
            "-------------------------------------------------------------------------------\n",
            "Data: उमा भारती जी को आमंत्रित नही किया तो कहा कि राम भाजपा की बपौती नही है। क्या आप इतने भोली थीं की समझी नही कि बाबरी मस्जिद गिराने & वोट तक आपका उपयोग किया जाएगा।पिछड़ों का धर्म सेवा करना वो आपने किया और क्या चाहिए?\n",
            "Answer: \n",
            "Incorrect prediction: Predicted: No, True: Middle\n",
            "-------------------------------------------------------------------------------\n",
            "Data: क्या हम टैक्स देना बंद कर दे?\n",
            "Answer:  में तो कर दूंगा कमाई बंद तो टैक्स कहा से दूंगा\n",
            "Incorrect prediction: Predicted: Yes, True: No\n",
            "-------------------------------------------------------------------------------\n",
            "Data: स्मृति ईरानी, क्या आप कुछ कहेंगी मुस्लिम महिलाओं की नीलामी वाले प्रकरण में?\n",
            "Answer:  सबका साथ सबका विकास माईनस सरकार से सवाल पूछने वाले।\n",
            "Incorrect prediction: Predicted: Yes, True: No\n",
            "-------------------------------------------------------------------------------\n",
            "Data: क्या हम टैक्स देना बंद कर दे?\n",
            "Answer:  अगर हमने ऐसा कर दिया तो सिस्टम का अंत हो जायेगा!!\n",
            "Incorrect prediction: Predicted: Yes, True: No\n",
            "-------------------------------------------------------------------------------\n",
            "Data: सरकार को \"आरक्षण\" ही खत्म कर देना चाहिए क्या आप सहमत है?\n",
            "Answer:  खत्म तो उससे पहले जातिवाद को भी कर देना चाहिए।\n",
            "Incorrect prediction: Predicted: Yes, True: No\n",
            "-------------------------------------------------------------------------------\n",
            "Data: क्या हम इसलिए पढ़ रहे हैं ताकि भविष्य में कोई भी हमारे पैसों से बनी चीजों को आग लगाकर मज़े करे?\n",
            "Answer:  ये सब हमारे देश के नेताओ के ग़लत फ़ेसले से हो रहा!!!\n",
            "Incorrect prediction: Predicted: Yes, True: No\n",
            "-------------------------------------------------------------------------------\n",
            "Data: सरकार को \"आरक्षण\" ही खत्म कर देना चाहिए क्या आप सहमत है?\n",
            "Answer:  कोई अशिक्षित ही इस बात से सहमत हो सकता है!\n",
            "Incorrect prediction: Predicted: Yes, True: No\n",
            "-------------------------------------------------------------------------------\n",
            "Data: आरक्षण ने हिन्दू धर्म में जातिवाद को बढ़ावा दिया है क्या आप सहमत है?\n",
            "Answer:  भेदभाव और असमानता का कारण ब्रह्मण वाद है इससे तो सभी लोग सहमत होगे\n",
            "Incorrect prediction: Predicted: Yes, True: No\n",
            "-------------------------------------------------------------------------------\n",
            "Data: सरकार को \"आरक्षण\" ही खत्म कर देना चाहिए क्या आप सहमत है?\n",
            "Answer:  जाती बाद छुआछुत खत्म करो आरक्षण तुम्हारे मुंह पर मार देंगे\n",
            "Incorrect prediction: Predicted: Yes, True: No\n",
            "-------------------------------------------------------------------------------\n",
            "Data: क्या यह मॉंग अनुचित है?\n",
            "Answer:  शर्म करो चच्चा, बुढ़ापे में शादी करके दो पाप किये 1-किसी युवा से उसकी होनेवाली बीबी छीनली! 2- बुढ़ापे के कारण उसको संतुष्ट नहीँ कर पाया!\n",
            "Incorrect prediction: Predicted: No, True: Yes\n",
            "-------------------------------------------------------------------------------\n",
            "Data: इस बारे में भी सोचें- क्या हम विकलांग के जगह दिव्यांग शब्द का प्रयोग कर सकते हैं?\n",
            "Answer:  सर एक बात बोल रहा हु।आज किशनगंज (बिहार ) ट्रक और बुलोरो में टक्कर हुआ जिसमे 7 बच्चो की मौत हो गयी।इससे हमको बहुत दुख\n",
            "Incorrect prediction: Predicted: Yes, True: Middle\n",
            "-------------------------------------------------------------------------------\n",
            "Data: क्या आप भी मेरी तरह मानते है कि भक्त जाहिल होते है?\n",
            "Answer:  तुम जितनी गाली दोगे, हम उतना ऊपर बड़ेंगे..... जय श्री राम\n",
            "Incorrect prediction: Predicted: Yes, True: No\n",
            "-------------------------------------------------------------------------------\n"
          ]
        }
      ]
    },
    {
      "cell_type": "markdown",
      "source": [],
      "metadata": {
        "id": "FrU0GtS1Nze0"
      }
    },
    {
      "cell_type": "markdown",
      "source": [
        "# Part 2"
      ],
      "metadata": {
        "id": "VnwVij7_N27T"
      }
    },
    {
      "cell_type": "markdown",
      "source": [
        "<h1>Part - 2</h1>"
      ],
      "metadata": {
        "id": "DvKmG17dotLl"
      }
    },
    {
      "cell_type": "code",
      "source": [
        "from google.colab import drive\n",
        "drive.mount('/content/drive')"
      ],
      "metadata": {
        "id": "PJBCjkpvpYws",
        "colab": {
          "base_uri": "https://localhost:8080/"
        },
        "outputId": "386957c4-6635-43f8-d29f-14b005ce7e12"
      },
      "execution_count": null,
      "outputs": [
        {
          "output_type": "stream",
          "name": "stdout",
          "text": [
            "Drive already mounted at /content/drive; to attempt to forcibly remount, call drive.mount(\"/content/drive\", force_remount=True).\n"
          ]
        }
      ]
    },
    {
      "cell_type": "code",
      "source": [
        "# FILE_PATH = './drive/MyDrive/GMU/NLP/CS678Project/data/part2'"
      ],
      "metadata": {
        "id": "LQdOpqjZpZSQ"
      },
      "execution_count": null,
      "outputs": []
    },
    {
      "cell_type": "markdown",
      "source": [
        "## Test data annotation & agreement scores"
      ],
      "metadata": {
        "id": "0CbL_JNDNGl3"
      }
    },
    {
      "cell_type": "code",
      "execution_count": null,
      "metadata": {
        "colab": {
          "base_uri": "https://localhost:8080/"
        },
        "id": "_whSPkgdor0G",
        "outputId": "3b75f3d3-5f65-4643-ce67-cbc2bc8e4961"
      },
      "outputs": [
        {
          "output_type": "stream",
          "name": "stdout",
          "text": [
            "--- Raw agreement between annotator1 and annotator2 ---\n",
            "0.7939814814814815\n",
            "--- Cohen's kappa score between annotator1 and annotator2 ---\n",
            "0.6560386473429951\n"
          ]
        }
      ],
      "source": [
        "### WRITE CODE TO LOAD ANNOTATIONS AND\n",
        "### COMPUTE AGREEMENT + COHEN'S KAPPA HERE!\n",
        "import pandas as pd\n",
        "from sklearn.metrics import cohen_kappa_score\n",
        "\n",
        "def raw_agreement(annotator1_df, annotator2_df):\n",
        "    # TODO: Implement this function\n",
        "    same = 0\n",
        "    for i in range(len(annotator1_df)):\n",
        "      if annotator1_df[i] == annotator2_df[i]:\n",
        "        same += 1\n",
        "    return same / len(annotator1_df)\n",
        "\n",
        "def kohens_cappa(annotator1_df, annotator2_df):\n",
        "    # TODO: Implement this function\n",
        "    return cohen_kappa_score(annotator1_df, annotator2_df)\n",
        "    return None\n",
        "\n",
        "# TODO: load your data correctly\n",
        "annotator1_df = pd.read_csv(f'{FILE_PATH}/data/test_dataset/Test_Noel.csv')['label']\n",
        "annotator2_df = pd.read_csv(f'{FILE_PATH}/data/test_dataset/Test_Karthik.csv')['label']\n",
        "\n",
        "print(\"--- Raw agreement between annotator1 and annotator2 ---\")\n",
        "print(raw_agreement(annotator1_df, annotator2_df))\n",
        "\n",
        "print(\"--- Cohen's kappa score between annotator1 and annotator2 ---\")\n",
        "print(kohens_cappa(annotator1_df, annotator2_df))"
      ]
    },
    {
      "cell_type": "markdown",
      "source": [
        "## Recreating Experiment 5.1 Cross-Lingual Learning from English"
      ],
      "metadata": {
        "id": "bqFZtEgUOB6W"
      }
    },
    {
      "cell_type": "markdown",
      "source": [
        "### Italian Dataset"
      ],
      "metadata": {
        "id": "TQtUI-K8QfGJ"
      }
    },
    {
      "cell_type": "code",
      "execution_count": null,
      "metadata": {
        "id": "cNtRFurJQfGJ"
      },
      "outputs": [],
      "source": [
        "df_italian = pd.read_csv(f'{FILE_PATH}/data/test_dataset/italian_test_dataset.csv')\n",
        "df_italian = create_file(df_italian)"
      ]
    },
    {
      "cell_type": "code",
      "source": [
        "df_italian['label'].unique()"
      ],
      "metadata": {
        "colab": {
          "base_uri": "https://localhost:8080/"
        },
        "id": "AOh-Kkiipnfl",
        "outputId": "28e54006-6169-479f-b69e-7182914ae5bd"
      },
      "execution_count": null,
      "outputs": [
        {
          "output_type": "execute_result",
          "data": {
            "text/plain": [
              "array([1, 0, 2])"
            ]
          },
          "metadata": {},
          "execution_count": 33
        }
      ]
    },
    {
      "cell_type": "code",
      "execution_count": null,
      "metadata": {
        "colab": {
          "base_uri": "https://localhost:8080/",
          "height": 206
        },
        "outputId": "85b66f98-733b-4909-b083-d74716d42112",
        "id": "bUSx8ohmQfGJ"
      },
      "outputs": [
        {
          "output_type": "execute_result",
          "data": {
            "text/plain": [
              "                                          text_input  label\n",
              "0  Devo avvisare il mio attuale fornitore e annul...      1\n",
              "1  Edison Luce Leggera - Se ho già pagato il cano...      0\n",
              "2  C'è la possibilità di pagare con carta di cred...      0\n",
              "3  Ho già saldato le mie posizioni aperte con il ...      1\n",
              "4  Ho presentato richiesta di rimborso del canone...      0"
            ],
            "text/html": [
              "\n",
              "  <div id=\"df-6c8c8b51-1311-4efe-a01a-789cd416b9c3\" class=\"colab-df-container\">\n",
              "    <div>\n",
              "<style scoped>\n",
              "    .dataframe tbody tr th:only-of-type {\n",
              "        vertical-align: middle;\n",
              "    }\n",
              "\n",
              "    .dataframe tbody tr th {\n",
              "        vertical-align: top;\n",
              "    }\n",
              "\n",
              "    .dataframe thead th {\n",
              "        text-align: right;\n",
              "    }\n",
              "</style>\n",
              "<table border=\"1\" class=\"dataframe\">\n",
              "  <thead>\n",
              "    <tr style=\"text-align: right;\">\n",
              "      <th></th>\n",
              "      <th>text_input</th>\n",
              "      <th>label</th>\n",
              "    </tr>\n",
              "  </thead>\n",
              "  <tbody>\n",
              "    <tr>\n",
              "      <th>0</th>\n",
              "      <td>Devo avvisare il mio attuale fornitore e annul...</td>\n",
              "      <td>1</td>\n",
              "    </tr>\n",
              "    <tr>\n",
              "      <th>1</th>\n",
              "      <td>Edison Luce Leggera - Se ho già pagato il cano...</td>\n",
              "      <td>0</td>\n",
              "    </tr>\n",
              "    <tr>\n",
              "      <th>2</th>\n",
              "      <td>C'è la possibilità di pagare con carta di cred...</td>\n",
              "      <td>0</td>\n",
              "    </tr>\n",
              "    <tr>\n",
              "      <th>3</th>\n",
              "      <td>Ho già saldato le mie posizioni aperte con il ...</td>\n",
              "      <td>1</td>\n",
              "    </tr>\n",
              "    <tr>\n",
              "      <th>4</th>\n",
              "      <td>Ho presentato richiesta di rimborso del canone...</td>\n",
              "      <td>0</td>\n",
              "    </tr>\n",
              "  </tbody>\n",
              "</table>\n",
              "</div>\n",
              "    <div class=\"colab-df-buttons\">\n",
              "\n",
              "  <div class=\"colab-df-container\">\n",
              "    <button class=\"colab-df-convert\" onclick=\"convertToInteractive('df-6c8c8b51-1311-4efe-a01a-789cd416b9c3')\"\n",
              "            title=\"Convert this dataframe to an interactive table.\"\n",
              "            style=\"display:none;\">\n",
              "\n",
              "  <svg xmlns=\"http://www.w3.org/2000/svg\" height=\"24px\" viewBox=\"0 -960 960 960\">\n",
              "    <path d=\"M120-120v-720h720v720H120Zm60-500h600v-160H180v160Zm220 220h160v-160H400v160Zm0 220h160v-160H400v160ZM180-400h160v-160H180v160Zm440 0h160v-160H620v160ZM180-180h160v-160H180v160Zm440 0h160v-160H620v160Z\"/>\n",
              "  </svg>\n",
              "    </button>\n",
              "\n",
              "  <style>\n",
              "    .colab-df-container {\n",
              "      display:flex;\n",
              "      gap: 12px;\n",
              "    }\n",
              "\n",
              "    .colab-df-convert {\n",
              "      background-color: #E8F0FE;\n",
              "      border: none;\n",
              "      border-radius: 50%;\n",
              "      cursor: pointer;\n",
              "      display: none;\n",
              "      fill: #1967D2;\n",
              "      height: 32px;\n",
              "      padding: 0 0 0 0;\n",
              "      width: 32px;\n",
              "    }\n",
              "\n",
              "    .colab-df-convert:hover {\n",
              "      background-color: #E2EBFA;\n",
              "      box-shadow: 0px 1px 2px rgba(60, 64, 67, 0.3), 0px 1px 3px 1px rgba(60, 64, 67, 0.15);\n",
              "      fill: #174EA6;\n",
              "    }\n",
              "\n",
              "    .colab-df-buttons div {\n",
              "      margin-bottom: 4px;\n",
              "    }\n",
              "\n",
              "    [theme=dark] .colab-df-convert {\n",
              "      background-color: #3B4455;\n",
              "      fill: #D2E3FC;\n",
              "    }\n",
              "\n",
              "    [theme=dark] .colab-df-convert:hover {\n",
              "      background-color: #434B5C;\n",
              "      box-shadow: 0px 1px 3px 1px rgba(0, 0, 0, 0.15);\n",
              "      filter: drop-shadow(0px 1px 2px rgba(0, 0, 0, 0.3));\n",
              "      fill: #FFFFFF;\n",
              "    }\n",
              "  </style>\n",
              "\n",
              "    <script>\n",
              "      const buttonEl =\n",
              "        document.querySelector('#df-6c8c8b51-1311-4efe-a01a-789cd416b9c3 button.colab-df-convert');\n",
              "      buttonEl.style.display =\n",
              "        google.colab.kernel.accessAllowed ? 'block' : 'none';\n",
              "\n",
              "      async function convertToInteractive(key) {\n",
              "        const element = document.querySelector('#df-6c8c8b51-1311-4efe-a01a-789cd416b9c3');\n",
              "        const dataTable =\n",
              "          await google.colab.kernel.invokeFunction('convertToInteractive',\n",
              "                                                    [key], {});\n",
              "        if (!dataTable) return;\n",
              "\n",
              "        const docLinkHtml = 'Like what you see? Visit the ' +\n",
              "          '<a target=\"_blank\" href=https://colab.research.google.com/notebooks/data_table.ipynb>data table notebook</a>'\n",
              "          + ' to learn more about interactive tables.';\n",
              "        element.innerHTML = '';\n",
              "        dataTable['output_type'] = 'display_data';\n",
              "        await google.colab.output.renderOutput(dataTable, element);\n",
              "        const docLink = document.createElement('div');\n",
              "        docLink.innerHTML = docLinkHtml;\n",
              "        element.appendChild(docLink);\n",
              "      }\n",
              "    </script>\n",
              "  </div>\n",
              "\n",
              "\n",
              "<div id=\"df-5bb467ee-5b89-49ca-b557-4690e9c69af8\">\n",
              "  <button class=\"colab-df-quickchart\" onclick=\"quickchart('df-5bb467ee-5b89-49ca-b557-4690e9c69af8')\"\n",
              "            title=\"Suggest charts\"\n",
              "            style=\"display:none;\">\n",
              "\n",
              "<svg xmlns=\"http://www.w3.org/2000/svg\" height=\"24px\"viewBox=\"0 0 24 24\"\n",
              "     width=\"24px\">\n",
              "    <g>\n",
              "        <path d=\"M19 3H5c-1.1 0-2 .9-2 2v14c0 1.1.9 2 2 2h14c1.1 0 2-.9 2-2V5c0-1.1-.9-2-2-2zM9 17H7v-7h2v7zm4 0h-2V7h2v10zm4 0h-2v-4h2v4z\"/>\n",
              "    </g>\n",
              "</svg>\n",
              "  </button>\n",
              "\n",
              "<style>\n",
              "  .colab-df-quickchart {\n",
              "      --bg-color: #E8F0FE;\n",
              "      --fill-color: #1967D2;\n",
              "      --hover-bg-color: #E2EBFA;\n",
              "      --hover-fill-color: #174EA6;\n",
              "      --disabled-fill-color: #AAA;\n",
              "      --disabled-bg-color: #DDD;\n",
              "  }\n",
              "\n",
              "  [theme=dark] .colab-df-quickchart {\n",
              "      --bg-color: #3B4455;\n",
              "      --fill-color: #D2E3FC;\n",
              "      --hover-bg-color: #434B5C;\n",
              "      --hover-fill-color: #FFFFFF;\n",
              "      --disabled-bg-color: #3B4455;\n",
              "      --disabled-fill-color: #666;\n",
              "  }\n",
              "\n",
              "  .colab-df-quickchart {\n",
              "    background-color: var(--bg-color);\n",
              "    border: none;\n",
              "    border-radius: 50%;\n",
              "    cursor: pointer;\n",
              "    display: none;\n",
              "    fill: var(--fill-color);\n",
              "    height: 32px;\n",
              "    padding: 0;\n",
              "    width: 32px;\n",
              "  }\n",
              "\n",
              "  .colab-df-quickchart:hover {\n",
              "    background-color: var(--hover-bg-color);\n",
              "    box-shadow: 0 1px 2px rgba(60, 64, 67, 0.3), 0 1px 3px 1px rgba(60, 64, 67, 0.15);\n",
              "    fill: var(--button-hover-fill-color);\n",
              "  }\n",
              "\n",
              "  .colab-df-quickchart-complete:disabled,\n",
              "  .colab-df-quickchart-complete:disabled:hover {\n",
              "    background-color: var(--disabled-bg-color);\n",
              "    fill: var(--disabled-fill-color);\n",
              "    box-shadow: none;\n",
              "  }\n",
              "\n",
              "  .colab-df-spinner {\n",
              "    border: 2px solid var(--fill-color);\n",
              "    border-color: transparent;\n",
              "    border-bottom-color: var(--fill-color);\n",
              "    animation:\n",
              "      spin 1s steps(1) infinite;\n",
              "  }\n",
              "\n",
              "  @keyframes spin {\n",
              "    0% {\n",
              "      border-color: transparent;\n",
              "      border-bottom-color: var(--fill-color);\n",
              "      border-left-color: var(--fill-color);\n",
              "    }\n",
              "    20% {\n",
              "      border-color: transparent;\n",
              "      border-left-color: var(--fill-color);\n",
              "      border-top-color: var(--fill-color);\n",
              "    }\n",
              "    30% {\n",
              "      border-color: transparent;\n",
              "      border-left-color: var(--fill-color);\n",
              "      border-top-color: var(--fill-color);\n",
              "      border-right-color: var(--fill-color);\n",
              "    }\n",
              "    40% {\n",
              "      border-color: transparent;\n",
              "      border-right-color: var(--fill-color);\n",
              "      border-top-color: var(--fill-color);\n",
              "    }\n",
              "    60% {\n",
              "      border-color: transparent;\n",
              "      border-right-color: var(--fill-color);\n",
              "    }\n",
              "    80% {\n",
              "      border-color: transparent;\n",
              "      border-right-color: var(--fill-color);\n",
              "      border-bottom-color: var(--fill-color);\n",
              "    }\n",
              "    90% {\n",
              "      border-color: transparent;\n",
              "      border-bottom-color: var(--fill-color);\n",
              "    }\n",
              "  }\n",
              "</style>\n",
              "\n",
              "  <script>\n",
              "    async function quickchart(key) {\n",
              "      const quickchartButtonEl =\n",
              "        document.querySelector('#' + key + ' button');\n",
              "      quickchartButtonEl.disabled = true;  // To prevent multiple clicks.\n",
              "      quickchartButtonEl.classList.add('colab-df-spinner');\n",
              "      try {\n",
              "        const charts = await google.colab.kernel.invokeFunction(\n",
              "            'suggestCharts', [key], {});\n",
              "      } catch (error) {\n",
              "        console.error('Error during call to suggestCharts:', error);\n",
              "      }\n",
              "      quickchartButtonEl.classList.remove('colab-df-spinner');\n",
              "      quickchartButtonEl.classList.add('colab-df-quickchart-complete');\n",
              "    }\n",
              "    (() => {\n",
              "      let quickchartButtonEl =\n",
              "        document.querySelector('#df-5bb467ee-5b89-49ca-b557-4690e9c69af8 button');\n",
              "      quickchartButtonEl.style.display =\n",
              "        google.colab.kernel.accessAllowed ? 'block' : 'none';\n",
              "    })();\n",
              "  </script>\n",
              "</div>\n",
              "\n",
              "    </div>\n",
              "  </div>\n"
            ],
            "application/vnd.google.colaboratory.intrinsic+json": {
              "type": "dataframe",
              "variable_name": "df_italian",
              "summary": "{\n  \"name\": \"df_italian\",\n  \"rows\": 432,\n  \"fields\": [\n    {\n      \"column\": \"text_input\",\n      \"properties\": {\n        \"dtype\": \"string\",\n        \"num_unique_values\": 432,\n        \"samples\": [\n          \"E' possibile cancellare la mia prenotazione? Ci sono sanzioni? Baster\\u00e0 rispondere alla email di conferma chiedendo la cancellazione. Non ci sono sanzioni.\",\n          \"\\u00c8 utile per eliminare gli odori di pesce dalla tappezzeria del bagagliaio? Consigliamo il prodotto Deterjet per pulire ed eliminare i cattivi odori\",\n          \"\\u00c8 previsto il coinvolgimento attivo degli amministratori di condominio? S\\u00cc. Abbiamo contattato le associazioni degli amministratori di condominio. C'\\u00e8 anche la possibilit\\u00e0 per i condomini di avere una Carta Smeraldo per chi si occupa delle pulizie condominiali.\"\n        ],\n        \"semantic_type\": \"\",\n        \"description\": \"\"\n      }\n    },\n    {\n      \"column\": \"label\",\n      \"properties\": {\n        \"dtype\": \"number\",\n        \"std\": 0,\n        \"min\": 0,\n        \"max\": 2,\n        \"num_unique_values\": 3,\n        \"samples\": [\n          1,\n          0,\n          2\n        ],\n        \"semantic_type\": \"\",\n        \"description\": \"\"\n      }\n    }\n  ]\n}"
            }
          },
          "metadata": {},
          "execution_count": 34
        }
      ],
      "source": [
        "df_italian.head()"
      ]
    },
    {
      "cell_type": "code",
      "execution_count": null,
      "metadata": {
        "colab": {
          "base_uri": "https://localhost:8080/"
        },
        "outputId": "65026897-5ace-4393-c277-b706f7aa2ecd",
        "id": "SbbMaDM9QfGJ"
      },
      "outputs": [
        {
          "output_type": "stream",
          "name": "stdout",
          "text": [
            "Original:  Devo avvisare il mio attuale fornitore e annullare? Edison si occuperà di inoltrare per tuo conto la comunicazione di recesso al tuo precedente fornitore.\n",
            "Token IDs: tensor([     0, 136050,    185,   1824,   1046,    211,  11732,      6, 109972,\n",
            "        135410,    107,     28,   3398,  20446,    107,     32,  17156,   1681,\n",
            "            78,      6, 182425,   1298,     45,     23,  30526,  40043,    117,\n",
            "          3860,  27107,     21,  67087,     45, 179661,     31,    144,   3860,\n",
            "         65031, 135410,    107,      5,      2,      1,      1,      1,      1,\n",
            "             1,      1,      1,      1,      1,      1,      1,      1,      1,\n",
            "             1,      1,      1,      1,      1,      1,      1,      1,      1,\n",
            "             1])\n"
          ]
        }
      ],
      "source": [
        "italian_input_ids, italian_attention_masks, italian_labels = create_tensors_and_text(df_italian, False)\n",
        "italian_texts = df_italian.text_input.values\n",
        "\n",
        "seed_everything()\n",
        "\n",
        "total = len(df_italian)\n",
        "\n",
        "italian_test_set = [(italian_input_ids[i], italian_attention_masks[i], italian_labels[i]) for i in range(total)]\n",
        "\n",
        "italian_test_text = [italian_labels[i] for i in range(total)]"
      ]
    },
    {
      "cell_type": "code",
      "source": [
        "# function to get validation f1 score - returns f1_score, validation_accuracy\n",
        "from sklearn.metrics import f1_score\n",
        "from sklearn.metrics import precision_recall_fscore_support\n",
        "\n",
        "def get_validation_performance_part2(val_set):\n",
        "    # Put the model in evaluation mode\n",
        "    model.eval()\n",
        "\n",
        "    # Tracking variables\n",
        "    total_eval_accuracy = 0\n",
        "    total_eval_loss = 0\n",
        "\n",
        "    num_batches = int(len(val_set)/batch_size) + 1\n",
        "\n",
        "    total_correct = 0\n",
        "    # These lists will store all the predictions and true labels across batches\n",
        "    all_predictions = []\n",
        "    all_labels = []\n",
        "\n",
        "    for i in range(num_batches):\n",
        "\n",
        "      end_index = min(batch_size * (i+1), len(val_set))\n",
        "\n",
        "      batch = val_set[i*batch_size:end_index]\n",
        "\n",
        "      if len(batch) == 0: continue\n",
        "\n",
        "      input_id_tensors = torch.stack([data[0] for data in batch])\n",
        "      input_mask_tensors = torch.stack([data[1] for data in batch])\n",
        "      label_tensors = torch.stack([data[2] for data in batch])\n",
        "\n",
        "      # Move tensors to the GPU\n",
        "      b_input_ids = input_id_tensors.to(device)\n",
        "      b_input_mask = input_mask_tensors.to(device)\n",
        "      b_labels = label_tensors.to(device)\n",
        "\n",
        "      # Tell pytorch not to bother with constructing the compute graph during\n",
        "      # the forward pass, since this is only needed for backprop (training).\n",
        "      with torch.no_grad():\n",
        "\n",
        "        # Forward pass, calculate logit predictions.\n",
        "        # Note: this line of code might need to change depending on the model\n",
        "        # the current line will work for bert-base-uncased\n",
        "        # please refer to huggingface documentation for other models\n",
        "        outputs = model(b_input_ids,\n",
        "                                token_type_ids=None,\n",
        "                                attention_mask=b_input_mask,\n",
        "                                labels=b_labels)\n",
        "        loss = outputs.loss\n",
        "        logits = outputs.logits\n",
        "\n",
        "        # Accumulate the validation loss.\n",
        "        total_eval_loss += loss.item()\n",
        "\n",
        "        # Move logits and labels to CPU\n",
        "        logits = (logits).detach().cpu().numpy()\n",
        "        label_ids = b_labels.to('cpu').numpy()\n",
        "\n",
        "\n",
        "        # Calculate the number of correctly labeled examples in batch\n",
        "        pred_flat = np.argmax(logits, axis=1).flatten()\n",
        "        labels_flat = np.argmax(label_ids, axis=1).flatten()\n",
        "\n",
        "        all_predictions.extend(pred_flat)\n",
        "        all_labels.extend(labels_flat)\n",
        "\n",
        "        num_correct = np.sum(pred_flat == labels_flat)\n",
        "        total_correct += num_correct\n",
        "\n",
        "    # Report the final accuracy for this validation run.\n",
        "    print(\"Num of correct predictions =\", total_correct)\n",
        "    avg_val_accuracy = total_correct / len(val_set)\n",
        "    # f1 = f1_score(all_labels, all_predictions, average='weighted')\n",
        "    precision, recall, f1, _ = precision_recall_fscore_support(all_labels, all_predictions, average='weighted')\n",
        "\n",
        "    return f1, avg_val_accuracy, precision, recall"
      ],
      "metadata": {
        "id": "6e1LbMOJs-oO"
      },
      "execution_count": null,
      "outputs": []
    },
    {
      "cell_type": "code",
      "execution_count": null,
      "metadata": {
        "colab": {
          "base_uri": "https://localhost:8080/"
        },
        "outputId": "10eba591-fc86-4ac9-d10f-df7528733d50",
        "id": "6k-g3ZoRQfGJ"
      },
      "outputs": [
        {
          "output_type": "stream",
          "name": "stdout",
          "text": [
            "Num of correct predictions = 241\n"
          ]
        },
        {
          "output_type": "stream",
          "name": "stderr",
          "text": [
            "/usr/local/lib/python3.10/dist-packages/sklearn/metrics/_classification.py:1344: UndefinedMetricWarning: Precision and F-score are ill-defined and being set to 0.0 in labels with no predicted samples. Use `zero_division` parameter to control this behavior.\n",
            "  _warn_prf(average, modifier, msg_start, len(result))\n"
          ]
        },
        {
          "output_type": "execute_result",
          "data": {
            "text/plain": [
              "(0.39954460403940345,\n",
              " 0.5578703703703703,\n",
              " 0.3112193501371742,\n",
              " 0.5578703703703703)"
            ]
          },
          "metadata": {},
          "execution_count": 76
        }
      ],
      "source": [
        "seed_everything()\n",
        "get_validation_performance_part2(italian_test_set)"
      ]
    },
    {
      "cell_type": "markdown",
      "source": [
        "\n",
        "\n",
        "```\n",
        "# This is formatted as code\n",
        "```\n",
        "\n",
        "<ul>\n",
        "<li>Precision: 0.3112193501371742</li>\n",
        "<li>Recall: 0.5578703703703703</li>\n",
        "<li>F1-Score: 0.39954460403940345</li>\n",
        "<li>Accuracy: 0.5578703703703703</li>\n",
        "</ul>"
      ],
      "metadata": {
        "id": "ejJ3-eyjuCXH"
      }
    },
    {
      "cell_type": "markdown",
      "source": [
        "## Recreating Experiment 5.2 Fine-Tuning with the New Language"
      ],
      "metadata": {
        "id": "B5kgOAZWxxNT"
      }
    },
    {
      "cell_type": "markdown",
      "source": [
        "### Setting up the model, optimizer and training function"
      ],
      "metadata": {
        "id": "JK17CYwdx4ti"
      }
    },
    {
      "cell_type": "code",
      "source": [
        "from transformers import XLMRobertaForSequenceClassification, Trainer, TrainingArguments\n",
        "\n",
        "model = XLMRobertaForSequenceClassification.from_pretrained('xlm-roberta-base', num_labels=3)\n",
        "model.cuda()"
      ],
      "metadata": {
        "id": "AR-tyzTZyGHd",
        "colab": {
          "base_uri": "https://localhost:8080/"
        },
        "outputId": "6a26bd91-8ea1-4952-f3e0-509841f439df"
      },
      "execution_count": null,
      "outputs": [
        {
          "output_type": "stream",
          "name": "stderr",
          "text": [
            "Some weights of XLMRobertaForSequenceClassification were not initialized from the model checkpoint at xlm-roberta-base and are newly initialized: ['classifier.dense.bias', 'classifier.dense.weight', 'classifier.out_proj.bias', 'classifier.out_proj.weight']\n",
            "You should probably TRAIN this model on a down-stream task to be able to use it for predictions and inference.\n"
          ]
        },
        {
          "output_type": "execute_result",
          "data": {
            "text/plain": [
              "XLMRobertaForSequenceClassification(\n",
              "  (roberta): XLMRobertaModel(\n",
              "    (embeddings): XLMRobertaEmbeddings(\n",
              "      (word_embeddings): Embedding(250002, 768, padding_idx=1)\n",
              "      (position_embeddings): Embedding(514, 768, padding_idx=1)\n",
              "      (token_type_embeddings): Embedding(1, 768)\n",
              "      (LayerNorm): LayerNorm((768,), eps=1e-05, elementwise_affine=True)\n",
              "      (dropout): Dropout(p=0.1, inplace=False)\n",
              "    )\n",
              "    (encoder): XLMRobertaEncoder(\n",
              "      (layer): ModuleList(\n",
              "        (0-11): 12 x XLMRobertaLayer(\n",
              "          (attention): XLMRobertaAttention(\n",
              "            (self): XLMRobertaSelfAttention(\n",
              "              (query): Linear(in_features=768, out_features=768, bias=True)\n",
              "              (key): Linear(in_features=768, out_features=768, bias=True)\n",
              "              (value): Linear(in_features=768, out_features=768, bias=True)\n",
              "              (dropout): Dropout(p=0.1, inplace=False)\n",
              "            )\n",
              "            (output): XLMRobertaSelfOutput(\n",
              "              (dense): Linear(in_features=768, out_features=768, bias=True)\n",
              "              (LayerNorm): LayerNorm((768,), eps=1e-05, elementwise_affine=True)\n",
              "              (dropout): Dropout(p=0.1, inplace=False)\n",
              "            )\n",
              "          )\n",
              "          (intermediate): XLMRobertaIntermediate(\n",
              "            (dense): Linear(in_features=768, out_features=3072, bias=True)\n",
              "            (intermediate_act_fn): GELUActivation()\n",
              "          )\n",
              "          (output): XLMRobertaOutput(\n",
              "            (dense): Linear(in_features=3072, out_features=768, bias=True)\n",
              "            (LayerNorm): LayerNorm((768,), eps=1e-05, elementwise_affine=True)\n",
              "            (dropout): Dropout(p=0.1, inplace=False)\n",
              "          )\n",
              "        )\n",
              "      )\n",
              "    )\n",
              "  )\n",
              "  (classifier): XLMRobertaClassificationHead(\n",
              "    (dense): Linear(in_features=768, out_features=768, bias=True)\n",
              "    (dropout): Dropout(p=0.1, inplace=False)\n",
              "    (out_proj): Linear(in_features=768, out_features=3, bias=True)\n",
              "  )\n",
              ")"
            ]
          },
          "metadata": {},
          "execution_count": 47
        }
      ]
    },
    {
      "cell_type": "code",
      "source": [
        "from torch.optim import AdamW\n",
        "\n",
        "batch_size = 16\n",
        "optimizer = torch.optim.AdamW(model.parameters(), lr=2e-5, weight_decay=1e-2)\n",
        "epochs = 30\n",
        "\n",
        "# 0.0003"
      ],
      "metadata": {
        "id": "vIkivsO7yKS3"
      },
      "execution_count": null,
      "outputs": []
    },
    {
      "cell_type": "code",
      "source": [
        "import random\n",
        "import torch\n",
        "\n",
        "def run_training_loops_new_strategy(train_set_english, train_set_other_language, val_set, epochs, alpha):\n",
        "    # Assuming train_set_english and train_set_other_language are lists of tuples (input_id, attention_mask, label)\n",
        "    # and alpha is the reduction factor for the other_language dataset size after each epoch.\n",
        "\n",
        "    val_acc = 0  # Initialize validation accuracy\n",
        "\n",
        "    for epoch_i in range(epochs):\n",
        "        print(f\"\\n======== Epoch {epoch_i + 1} / {epochs} ========\")\n",
        "        print(\"Training...\")\n",
        "\n",
        "        # Concatenate English data with a subset of other_language data\n",
        "        # Reduce the other_language dataset by alpha after each epoch\n",
        "        other_language_data_size = int(len(train_set_other_language) * (alpha ** epoch_i))\n",
        "        current_train_set = train_set_english + random.sample(train_set_other_language, other_language_data_size)\n",
        "\n",
        "        total_train_loss = 0  # Reset total loss for this epoch\n",
        "\n",
        "        model.train()  # Put the model into training mode\n",
        "\n",
        "        num_batches = len(current_train_set) // batch_size + (len(current_train_set) % batch_size != 0)\n",
        "\n",
        "        for i in range(num_batches):\n",
        "            batch = current_train_set[i * batch_size:(i + 1) * batch_size]\n",
        "            if not batch:\n",
        "                continue\n",
        "\n",
        "            b_input_ids, b_input_mask, b_labels = zip(*batch)  # Unpack batch data\n",
        "\n",
        "            # Convert lists to tensors and move them to the device (GPU/CPU)\n",
        "            b_input_ids = torch.stack(b_input_ids).to(device)\n",
        "            b_input_mask = torch.stack(b_input_mask).to(device)\n",
        "            b_labels = torch.stack(b_labels).to(device)\n",
        "\n",
        "            optimizer.zero_grad()\n",
        "\n",
        "            outputs = model(b_input_ids, token_type_ids=None, attention_mask=b_input_mask, labels=b_labels)\n",
        "            loss = outputs.loss\n",
        "            total_train_loss += loss.item()\n",
        "\n",
        "            loss.backward()  # Calculate gradients\n",
        "            optimizer.step()  # Update parameters\n",
        "\n",
        "        print(f\"Total loss: {total_train_loss}\")\n",
        "        f1,val_acc = get_validation_performance(val_set)  # Evaluate on validation set\n",
        "        print(f\"Validation accuracy: {val_acc}\")\n",
        "\n",
        "    print(\"\\nTraining complete!\")\n",
        "    return val_acc\n",
        "\n",
        "# Note: You would need to define `get_validation_performance`, `batch_size`, `model`, `optimizer`, and ensure that `device` is set correctly (e.g., to 'cuda' or 'cpu').\n",
        "# Also, ensure that your model, optimizer, and data are correctly transferred to the GPU if you're using one.\n",
        "\n",
        "# Lastly, saving the model after training is completed is essential for later use or further training.\n",
        "# The placeholder for saving the model is already in your script, so don't forget to use it with your model's and training's specifics."
      ],
      "metadata": {
        "id": "icNxDBVhyTwf"
      },
      "execution_count": null,
      "outputs": []
    },
    {
      "cell_type": "markdown",
      "source": [
        "### Italian Dataset"
      ],
      "metadata": {
        "id": "ZuDnp7ypx--a"
      }
    },
    {
      "cell_type": "code",
      "source": [
        "df_italian_test = pd.read_csv(f'{FILE_PATH}/data/test_dataset/italian_test_dataset.csv')\n",
        "df_italian_test = create_file(df_italian_test)\n",
        "\n",
        "df_italian_val = pd.read_csv(f'{FILE_PATH}/data/test_dataset/italian_val_dataset.csv')\n",
        "df_italian_val = create_file(df_italian_val)\n",
        "\n",
        "df_italian_train = pd.read_csv(f'{FILE_PATH}/data/train_dataset/italian_train_dataset.csv')\n",
        "df_italian_train = create_file(df_italian_train)\n",
        "\n",
        "\n",
        "\n",
        "\n",
        "# df_italian_train = pd.concat([df_italian_train_yes, df_italian_train_no])"
      ],
      "metadata": {
        "id": "jgCbvKLLyf-x"
      },
      "execution_count": null,
      "outputs": []
    },
    {
      "cell_type": "code",
      "source": [
        "df_italian_combined = pd.concat([df_italian_test, df_italian_val, df_italian_train])"
      ],
      "metadata": {
        "id": "EdXC7-q4ysvV"
      },
      "execution_count": null,
      "outputs": []
    },
    {
      "cell_type": "code",
      "source": [
        "italian_input_ids, italian_attention_masks, italian_labels = create_tensors_and_text(df_italian_combined, False)\n",
        "italian_texts = df_italian_combined.text_input.values\n",
        "\n",
        "seed_everything()\n",
        "\n",
        "len_test = len(df_italian_test)\n",
        "len_val = len(df_italian_val)\n",
        "len_train = len(df_italian_train)\n",
        "\n",
        "italian_test_set = [(italian_input_ids[i], italian_attention_masks[i], italian_labels[i]) for i in range(len_test)]\n",
        "italian_test_text = [italian_labels[i] for i in range(len_test)]\n",
        "\n",
        "italian_val_set = [(italian_input_ids[i], italian_attention_masks[i], italian_labels[i]) for i in range(len_test,len_test + len_val)]\n",
        "italian_val_text = [italian_labels[i] for i in range(len_test,len_test + len_val)]\n",
        "\n",
        "italian_train_set = [(italian_input_ids[i], italian_attention_masks[i], italian_labels[i]) for i in range(len_test + len_val, len(df_italian_combined))]\n",
        "italian_train_text = [italian_labels[i] for i in range(len_test + len_val, len(df_italian_combined))]"
      ],
      "metadata": {
        "id": "j1gm140Qy1nN",
        "colab": {
          "base_uri": "https://localhost:8080/"
        },
        "outputId": "08a594e6-b5ce-4f06-a217-f719461d62c0"
      },
      "execution_count": null,
      "outputs": [
        {
          "output_type": "stream",
          "name": "stdout",
          "text": [
            "Original:  Devo avvisare il mio attuale fornitore e annullare? Edison si occuperà di inoltrare per tuo conto la comunicazione di recesso al tuo precedente fornitore.\n",
            "Token IDs: tensor([     0, 136050,    185,   1824,   1046,    211,  11732,      6, 109972,\n",
            "        135410,    107,     28,   3398,  20446,    107,     32,  17156,   1681,\n",
            "            78,      6, 182425,   1298,     45,     23,  30526,  40043,    117,\n",
            "          3860,  27107,     21,  67087,     45, 179661,     31,    144,   3860,\n",
            "         65031, 135410,    107,      5,      2,      1,      1,      1,      1,\n",
            "             1,      1,      1,      1,      1,      1,      1,      1,      1,\n",
            "             1,      1,      1,      1,      1,      1,      1,      1,      1,\n",
            "             1])\n"
          ]
        }
      ]
    },
    {
      "cell_type": "code",
      "source": [
        "len(italian_train_set)"
      ],
      "metadata": {
        "id": "DZ_a7igSy6gj",
        "colab": {
          "base_uri": "https://localhost:8080/"
        },
        "outputId": "d8aa3ed3-1f9e-483a-fcd0-7d4a47ceea90"
      },
      "execution_count": null,
      "outputs": [
        {
          "output_type": "execute_result",
          "data": {
            "text/plain": [
              "10295"
            ]
          },
          "metadata": {},
          "execution_count": 43
        }
      ]
    },
    {
      "cell_type": "code",
      "source": [
        "batch_size = 16\n",
        "optimizer = torch.optim.AdamW(model.parameters(), lr=2e-5, weight_decay=1e-2)\n",
        "epochs = 10\n",
        "# experiment with alpha = 0.5 since other datasets have followed those alpha values\n",
        "run_training_loops_new_strategy(english_train_set, italian_train_set, italian_val_set, epochs=epochs, alpha=0.5)"
      ],
      "metadata": {
        "id": "1llmeTnszEib",
        "colab": {
          "base_uri": "https://localhost:8080/"
        },
        "outputId": "e326d67a-d2fc-4110-adc6-27b0918defc1"
      },
      "execution_count": null,
      "outputs": [
        {
          "output_type": "stream",
          "name": "stdout",
          "text": [
            "\n",
            "======== Epoch 1 / 10 ========\n",
            "Training...\n",
            "Total loss: 687.3031094644846\n",
            "Num of correct predictions = 63\n",
            "Validation accuracy: 0.7159090909090909\n",
            "\n",
            "======== Epoch 2 / 10 ========\n",
            "Training...\n",
            "Total loss: 436.7717891939452\n",
            "Num of correct predictions = 69\n",
            "Validation accuracy: 0.7840909090909091\n",
            "\n",
            "======== Epoch 3 / 10 ========\n",
            "Training...\n",
            "Total loss: 317.70328448243464\n",
            "Num of correct predictions = 67\n",
            "Validation accuracy: 0.7613636363636364\n",
            "\n",
            "======== Epoch 4 / 10 ========\n",
            "Training...\n",
            "Total loss: 240.3812177013768\n",
            "Num of correct predictions = 66\n",
            "Validation accuracy: 0.75\n",
            "\n",
            "======== Epoch 5 / 10 ========\n",
            "Training...\n",
            "Total loss: 189.8104708837637\n",
            "Num of correct predictions = 69\n",
            "Validation accuracy: 0.7840909090909091\n",
            "\n",
            "======== Epoch 6 / 10 ========\n",
            "Training...\n",
            "Total loss: 157.50637988545597\n",
            "Num of correct predictions = 67\n",
            "Validation accuracy: 0.7613636363636364\n",
            "\n",
            "======== Epoch 7 / 10 ========\n",
            "Training...\n",
            "Total loss: 131.29358100977726\n",
            "Num of correct predictions = 68\n",
            "Validation accuracy: 0.7727272727272727\n",
            "\n",
            "======== Epoch 8 / 10 ========\n",
            "Training...\n",
            "Total loss: 112.01902213570844\n",
            "Num of correct predictions = 62\n",
            "Validation accuracy: 0.7045454545454546\n",
            "\n",
            "======== Epoch 9 / 10 ========\n",
            "Training...\n",
            "Total loss: 103.6053922806021\n",
            "Num of correct predictions = 63\n",
            "Validation accuracy: 0.7159090909090909\n",
            "\n",
            "======== Epoch 10 / 10 ========\n",
            "Training...\n",
            "Total loss: 90.55054352559853\n",
            "Num of correct predictions = 68\n",
            "Validation accuracy: 0.7727272727272727\n",
            "\n",
            "Training complete!\n"
          ]
        },
        {
          "output_type": "execute_result",
          "data": {
            "text/plain": [
              "0.7727272727272727"
            ]
          },
          "metadata": {},
          "execution_count": 44
        }
      ]
    },
    {
      "cell_type": "code",
      "source": [
        "seed_everything()\n",
        "get_validation_performance_part2(italian_test_set)"
      ],
      "metadata": {
        "id": "7XEBqmzVzHxy",
        "colab": {
          "base_uri": "https://localhost:8080/"
        },
        "outputId": "553b9162-39b0-4ed9-c782-35fab92b3652"
      },
      "execution_count": null,
      "outputs": [
        {
          "output_type": "stream",
          "name": "stdout",
          "text": [
            "Num of correct predictions = 315\n"
          ]
        },
        {
          "output_type": "execute_result",
          "data": {
            "text/plain": [
              "(0.6848831632058171,\n",
              " 0.7291666666666666,\n",
              " 0.7000570776255707,\n",
              " 0.7291666666666666)"
            ]
          },
          "metadata": {},
          "execution_count": 45
        }
      ]
    },
    {
      "cell_type": "code",
      "source": [
        "batch_size = 16\n",
        "optimizer = torch.optim.AdamW(model.parameters(), lr=2e-5, weight_decay=1e-2)\n",
        "epochs = 10\n",
        "# experiment with alpha = 0.2 since other datasets have followed those alpha values\n",
        "run_training_loops_new_strategy(english_train_set, italian_train_set, italian_val_set, epochs=epochs, alpha=0.2)"
      ],
      "metadata": {
        "colab": {
          "base_uri": "https://localhost:8080/"
        },
        "id": "UKyaWZSMKion",
        "outputId": "31d600b3-7e06-40e9-a782-c7b63fa1d34e"
      },
      "execution_count": null,
      "outputs": [
        {
          "output_type": "stream",
          "name": "stdout",
          "text": [
            "\n",
            "======== Epoch 1 / 10 ========\n",
            "Training...\n",
            "Total loss: 704.0663472740159\n",
            "Num of correct predictions = 61\n",
            "Validation accuracy: 0.6931818181818182\n",
            "\n",
            "======== Epoch 2 / 10 ========\n",
            "Training...\n",
            "Total loss: 406.59625383572313\n",
            "Num of correct predictions = 60\n",
            "Validation accuracy: 0.6818181818181818\n",
            "\n",
            "======== Epoch 3 / 10 ========\n",
            "Training...\n",
            "Total loss: 293.236926727516\n",
            "Num of correct predictions = 60\n",
            "Validation accuracy: 0.6818181818181818\n",
            "\n",
            "======== Epoch 4 / 10 ========\n",
            "Training...\n",
            "Total loss: 227.48010686391746\n",
            "Num of correct predictions = 61\n",
            "Validation accuracy: 0.6931818181818182\n",
            "\n",
            "======== Epoch 5 / 10 ========\n",
            "Training...\n",
            "Total loss: 182.82855796801076\n",
            "Num of correct predictions = 62\n",
            "Validation accuracy: 0.7045454545454546\n",
            "\n",
            "======== Epoch 6 / 10 ========\n",
            "Training...\n",
            "Total loss: 154.60432929826518\n",
            "Num of correct predictions = 61\n",
            "Validation accuracy: 0.6931818181818182\n",
            "\n",
            "======== Epoch 7 / 10 ========\n",
            "Training...\n",
            "Total loss: 133.86001635452178\n",
            "Num of correct predictions = 58\n",
            "Validation accuracy: 0.6590909090909091\n",
            "\n",
            "======== Epoch 8 / 10 ========\n",
            "Training...\n",
            "Total loss: 113.76377282605819\n",
            "Num of correct predictions = 61\n",
            "Validation accuracy: 0.6931818181818182\n",
            "\n",
            "======== Epoch 9 / 10 ========\n",
            "Training...\n",
            "Total loss: 100.89281179796635\n",
            "Num of correct predictions = 58\n",
            "Validation accuracy: 0.6590909090909091\n",
            "\n",
            "======== Epoch 10 / 10 ========\n",
            "Training...\n",
            "Total loss: 91.11569399997508\n",
            "Num of correct predictions = 60\n",
            "Validation accuracy: 0.6818181818181818\n",
            "\n",
            "Training complete!\n"
          ]
        },
        {
          "output_type": "execute_result",
          "data": {
            "text/plain": [
              "0.6818181818181818"
            ]
          },
          "metadata": {},
          "execution_count": 48
        }
      ]
    },
    {
      "cell_type": "code",
      "source": [
        "seed_everything()\n",
        "get_validation_performance_part2(italian_test_set)"
      ],
      "metadata": {
        "colab": {
          "base_uri": "https://localhost:8080/"
        },
        "id": "wnqbePwUKqWX",
        "outputId": "222876f2-c43f-40d4-8c8b-a06aa3646ff9"
      },
      "execution_count": null,
      "outputs": [
        {
          "output_type": "stream",
          "name": "stdout",
          "text": [
            "Num of correct predictions = 316\n"
          ]
        },
        {
          "output_type": "execute_result",
          "data": {
            "text/plain": [
              "(0.6783882417875224,\n",
              " 0.7314814814814815,\n",
              " 0.6445027265908492,\n",
              " 0.7314814814814815)"
            ]
          },
          "metadata": {},
          "execution_count": 49
        }
      ]
    },
    {
      "cell_type": "code",
      "source": [
        "from transformers import XLMRobertaForSequenceClassification, Trainer, TrainingArguments\n",
        "\n",
        "model = XLMRobertaForSequenceClassification.from_pretrained('xlm-roberta-base', num_labels=3)\n",
        "model.cuda()"
      ],
      "metadata": {
        "colab": {
          "base_uri": "https://localhost:8080/"
        },
        "id": "irp7hcQ3yqqY",
        "outputId": "c699e489-510c-4c72-cf1b-260c3455254f"
      },
      "execution_count": null,
      "outputs": [
        {
          "output_type": "stream",
          "name": "stderr",
          "text": [
            "Some weights of XLMRobertaForSequenceClassification were not initialized from the model checkpoint at xlm-roberta-base and are newly initialized: ['classifier.dense.bias', 'classifier.dense.weight', 'classifier.out_proj.bias', 'classifier.out_proj.weight']\n",
            "You should probably TRAIN this model on a down-stream task to be able to use it for predictions and inference.\n"
          ]
        },
        {
          "output_type": "execute_result",
          "data": {
            "text/plain": [
              "XLMRobertaForSequenceClassification(\n",
              "  (roberta): XLMRobertaModel(\n",
              "    (embeddings): XLMRobertaEmbeddings(\n",
              "      (word_embeddings): Embedding(250002, 768, padding_idx=1)\n",
              "      (position_embeddings): Embedding(514, 768, padding_idx=1)\n",
              "      (token_type_embeddings): Embedding(1, 768)\n",
              "      (LayerNorm): LayerNorm((768,), eps=1e-05, elementwise_affine=True)\n",
              "      (dropout): Dropout(p=0.1, inplace=False)\n",
              "    )\n",
              "    (encoder): XLMRobertaEncoder(\n",
              "      (layer): ModuleList(\n",
              "        (0-11): 12 x XLMRobertaLayer(\n",
              "          (attention): XLMRobertaAttention(\n",
              "            (self): XLMRobertaSelfAttention(\n",
              "              (query): Linear(in_features=768, out_features=768, bias=True)\n",
              "              (key): Linear(in_features=768, out_features=768, bias=True)\n",
              "              (value): Linear(in_features=768, out_features=768, bias=True)\n",
              "              (dropout): Dropout(p=0.1, inplace=False)\n",
              "            )\n",
              "            (output): XLMRobertaSelfOutput(\n",
              "              (dense): Linear(in_features=768, out_features=768, bias=True)\n",
              "              (LayerNorm): LayerNorm((768,), eps=1e-05, elementwise_affine=True)\n",
              "              (dropout): Dropout(p=0.1, inplace=False)\n",
              "            )\n",
              "          )\n",
              "          (intermediate): XLMRobertaIntermediate(\n",
              "            (dense): Linear(in_features=768, out_features=3072, bias=True)\n",
              "            (intermediate_act_fn): GELUActivation()\n",
              "          )\n",
              "          (output): XLMRobertaOutput(\n",
              "            (dense): Linear(in_features=3072, out_features=768, bias=True)\n",
              "            (LayerNorm): LayerNorm((768,), eps=1e-05, elementwise_affine=True)\n",
              "            (dropout): Dropout(p=0.1, inplace=False)\n",
              "          )\n",
              "        )\n",
              "      )\n",
              "    )\n",
              "  )\n",
              "  (classifier): XLMRobertaClassificationHead(\n",
              "    (dense): Linear(in_features=768, out_features=768, bias=True)\n",
              "    (dropout): Dropout(p=0.1, inplace=False)\n",
              "    (out_proj): Linear(in_features=768, out_features=3, bias=True)\n",
              "  )\n",
              ")"
            ]
          },
          "metadata": {},
          "execution_count": 50
        }
      ]
    },
    {
      "cell_type": "code",
      "source": [
        "batch_size = 16\n",
        "optimizer = torch.optim.AdamW(model.parameters(), lr=2e-5, weight_decay=1e-2)\n",
        "epochs = 10\n",
        "# experiment with alpha = 0.7 since other datasets have followed those alpha values\n",
        "run_training_loops_new_strategy(english_train_set, italian_train_set, italian_val_set, epochs=epochs, alpha=0.7)"
      ],
      "metadata": {
        "colab": {
          "base_uri": "https://localhost:8080/"
        },
        "id": "nvHWyk8IH4Oj",
        "outputId": "6a3c82de-8c8d-456f-ac8f-b96affa12ba2"
      },
      "execution_count": null,
      "outputs": [
        {
          "output_type": "stream",
          "name": "stdout",
          "text": [
            "\n",
            "======== Epoch 1 / 10 ========\n",
            "Training...\n",
            "Total loss: 687.3031094644846\n",
            "Num of correct predictions = 63\n",
            "Validation accuracy: 0.7159090909090909\n",
            "\n",
            "======== Epoch 2 / 10 ========\n",
            "Training...\n",
            "Total loss: 458.2696431106674\n",
            "Num of correct predictions = 66\n",
            "Validation accuracy: 0.75\n",
            "\n",
            "======== Epoch 3 / 10 ========\n",
            "Training...\n",
            "Total loss: 350.6193439068285\n",
            "Num of correct predictions = 59\n",
            "Validation accuracy: 0.6704545454545454\n",
            "\n",
            "======== Epoch 4 / 10 ========\n",
            "Training...\n",
            "Total loss: 271.75570336004955\n",
            "Num of correct predictions = 63\n",
            "Validation accuracy: 0.7159090909090909\n",
            "\n",
            "======== Epoch 5 / 10 ========\n",
            "Training...\n",
            "Total loss: 212.15438039603222\n",
            "Num of correct predictions = 66\n",
            "Validation accuracy: 0.75\n",
            "\n",
            "======== Epoch 6 / 10 ========\n",
            "Training...\n",
            "Total loss: 171.37777516594477\n",
            "Num of correct predictions = 60\n",
            "Validation accuracy: 0.6818181818181818\n",
            "\n",
            "======== Epoch 7 / 10 ========\n",
            "Training...\n",
            "Total loss: 148.68010661055894\n",
            "Num of correct predictions = 62\n",
            "Validation accuracy: 0.7045454545454546\n",
            "\n",
            "======== Epoch 8 / 10 ========\n",
            "Training...\n",
            "Total loss: 123.68057370730116\n",
            "Num of correct predictions = 68\n",
            "Validation accuracy: 0.7727272727272727\n",
            "\n",
            "======== Epoch 9 / 10 ========\n",
            "Training...\n",
            "Total loss: 109.65107625891523\n",
            "Num of correct predictions = 59\n",
            "Validation accuracy: 0.6704545454545454\n",
            "\n",
            "======== Epoch 10 / 10 ========\n",
            "Training...\n",
            "Total loss: 92.59365220703565\n",
            "Num of correct predictions = 64\n",
            "Validation accuracy: 0.7272727272727273\n",
            "\n",
            "Training complete!\n"
          ]
        },
        {
          "output_type": "execute_result",
          "data": {
            "text/plain": [
              "0.7272727272727273"
            ]
          },
          "metadata": {},
          "execution_count": 51
        }
      ]
    },
    {
      "cell_type": "code",
      "source": [
        "seed_everything()\n",
        "get_validation_performance_part2(italian_test_set)"
      ],
      "metadata": {
        "colab": {
          "base_uri": "https://localhost:8080/"
        },
        "id": "hIOlfxIbH6l1",
        "outputId": "813a34d0-7f23-45db-9efd-52af44ff39ef"
      },
      "execution_count": null,
      "outputs": [
        {
          "output_type": "stream",
          "name": "stdout",
          "text": [
            "Num of correct predictions = 309\n"
          ]
        },
        {
          "output_type": "execute_result",
          "data": {
            "text/plain": [
              "(0.6887147408119368,\n",
              " 0.7152777777777778,\n",
              " 0.6816828119152419,\n",
              " 0.7152777777777778)"
            ]
          },
          "metadata": {},
          "execution_count": 52
        }
      ]
    },
    {
      "cell_type": "markdown",
      "source": [
        "## Recreating Experiment 5.3 Fine-Tuning with Several Languages"
      ],
      "metadata": {
        "id": "MYYy0AKmApqk"
      }
    },
    {
      "cell_type": "markdown",
      "source": [
        "#### Italian data loading"
      ],
      "metadata": {
        "id": "Tbh0BXQBAs39"
      }
    },
    {
      "cell_type": "code",
      "source": [
        "df_italian_test = pd.read_csv(f'{FILE_PATH}/data/test_dataset/italian_test_dataset.csv')\n",
        "df_italian_test = create_file(df_italian_test)\n",
        "\n",
        "df_italian_val = pd.read_csv(f'{FILE_PATH}/data/test_dataset/italian_val_dataset.csv')\n",
        "df_italian_val = create_file(df_italian_val)"
      ],
      "metadata": {
        "id": "4qrRWKsnBXuN"
      },
      "execution_count": null,
      "outputs": []
    },
    {
      "cell_type": "code",
      "source": [
        "df_italian_train = pd.read_csv(f'{FILE_PATH}/data/train_dataset/italian_train_dataset.csv')\n",
        "df_italian_train = create_file(df_italian_train)\n"
      ],
      "metadata": {
        "id": "Iz8sIiUQBbiH"
      },
      "execution_count": null,
      "outputs": []
    },
    {
      "cell_type": "markdown",
      "source": [
        "Expeimenting with English + Italian same as 5.2  + Hindi/Korean/Chinese/Turkish/Spanish\n",
        "\n",
        "Load other language data from section Experiment 5.2 -> Data Loading"
      ],
      "metadata": {
        "id": "fUSuybChA-4s"
      }
    },
    {
      "cell_type": "code",
      "source": [
        "# df_italian_super_train = pd.concat([df_italian_train, df_hindi_train])"
      ],
      "metadata": {
        "id": "OXgpedXFA4Vj"
      },
      "execution_count": null,
      "outputs": []
    },
    {
      "cell_type": "code",
      "source": [
        "# df_italian_super_train = pd.concat([df_italian_train, df_korean_train])"
      ],
      "metadata": {
        "id": "wIbFyPpZCPFQ"
      },
      "execution_count": null,
      "outputs": []
    },
    {
      "cell_type": "code",
      "source": [
        "# df_italian_super_train = pd.concat([df_italian_train, df_chinese_train])"
      ],
      "metadata": {
        "id": "__JTSJ-GPVCv"
      },
      "execution_count": null,
      "outputs": []
    },
    {
      "cell_type": "code",
      "source": [
        "# df_italian_super_train = pd.concat([df_italian_train, df_turkish_train])"
      ],
      "metadata": {
        "id": "Dt1XcVpiWEpW"
      },
      "execution_count": null,
      "outputs": []
    },
    {
      "cell_type": "code",
      "source": [
        "df_italian_super_train = pd.concat([df_italian_train, df_spanish_train])"
      ],
      "metadata": {
        "id": "BZ2nNOMjcHv5"
      },
      "execution_count": null,
      "outputs": []
    },
    {
      "cell_type": "code",
      "source": [
        "df_italian_combined = pd.concat([df_italian_test, df_italian_val, df_italian_super_train])"
      ],
      "metadata": {
        "id": "bq5qRA_tBIkz"
      },
      "execution_count": null,
      "outputs": []
    },
    {
      "cell_type": "code",
      "source": [
        "italian_input_ids, italian_attention_masks, italian_labels = create_tensors_and_text(df_italian_combined, False)\n",
        "italian_texts = df_italian_combined.text_input.values\n",
        "\n",
        "seed_everything()\n",
        "\n",
        "len_test = len(df_italian_test)\n",
        "len_val = len(df_italian_val)\n",
        "len_train = len(df_italian_super_train)\n",
        "\n",
        "italian_test_set = [(italian_input_ids[i], italian_attention_masks[i], italian_labels[i]) for i in range(len_test)]\n",
        "italian_test_text = [italian_labels[i] for i in range(len_test)]\n",
        "\n",
        "italian_val_set = [(italian_input_ids[i], italian_attention_masks[i], italian_labels[i]) for i in range(len_test,len_test + len_val)]\n",
        "italian_val_text = [italian_labels[i] for i in range(len_test,len_test + len_val)]\n",
        "\n",
        "italian_train_set = [(italian_input_ids[i], italian_attention_masks[i], italian_labels[i]) for i in range(len_test + len_val, len(df_italian_combined))]\n",
        "italian_train_text = [italian_labels[i] for i in range(len_test + len_val, len(df_italian_combined))]"
      ],
      "metadata": {
        "colab": {
          "base_uri": "https://localhost:8080/"
        },
        "id": "B0PWUFG_BLyg",
        "outputId": "cb3bad14-2ce8-4351-a1c9-e9be6d4167e7"
      },
      "execution_count": null,
      "outputs": [
        {
          "output_type": "stream",
          "name": "stdout",
          "text": [
            "Original:  Devo avvisare il mio attuale fornitore e annullare? Edison si occuperà di inoltrare per tuo conto la comunicazione di recesso al tuo precedente fornitore.\n",
            "Token IDs: tensor([     0, 136050,    185,   1824,   1046,    211,  11732,      6, 109972,\n",
            "        135410,    107,     28,   3398,  20446,    107,     32,  17156,   1681,\n",
            "            78,      6, 182425,   1298,     45,     23,  30526,  40043,    117,\n",
            "          3860,  27107,     21,  67087,     45, 179661,     31,    144,   3860,\n",
            "         65031, 135410,    107,      5,      2,      1,      1,      1,      1,\n",
            "             1,      1,      1,      1,      1,      1,      1,      1,      1,\n",
            "             1,      1,      1,      1,      1,      1,      1,      1,      1,\n",
            "             1])\n"
          ]
        }
      ]
    },
    {
      "cell_type": "markdown",
      "source": [
        "make sure to start with a new model everytime."
      ],
      "metadata": {
        "id": "EvNQ5fE1HG6-"
      }
    },
    {
      "cell_type": "code",
      "source": [
        "from transformers import XLMRobertaForSequenceClassification, Trainer, TrainingArguments\n",
        "\n",
        "model = XLMRobertaForSequenceClassification.from_pretrained('xlm-roberta-base', num_labels=3)\n",
        "model.cuda()"
      ],
      "metadata": {
        "colab": {
          "base_uri": "https://localhost:8080/"
        },
        "id": "lGBT6ncAHGNB",
        "outputId": "72f59ac2-58a0-437f-9b67-099fdce525b9"
      },
      "execution_count": null,
      "outputs": [
        {
          "output_type": "stream",
          "name": "stderr",
          "text": [
            "Some weights of XLMRobertaForSequenceClassification were not initialized from the model checkpoint at xlm-roberta-base and are newly initialized: ['classifier.dense.bias', 'classifier.dense.weight', 'classifier.out_proj.bias', 'classifier.out_proj.weight']\n",
            "You should probably TRAIN this model on a down-stream task to be able to use it for predictions and inference.\n"
          ]
        },
        {
          "output_type": "execute_result",
          "data": {
            "text/plain": [
              "XLMRobertaForSequenceClassification(\n",
              "  (roberta): XLMRobertaModel(\n",
              "    (embeddings): XLMRobertaEmbeddings(\n",
              "      (word_embeddings): Embedding(250002, 768, padding_idx=1)\n",
              "      (position_embeddings): Embedding(514, 768, padding_idx=1)\n",
              "      (token_type_embeddings): Embedding(1, 768)\n",
              "      (LayerNorm): LayerNorm((768,), eps=1e-05, elementwise_affine=True)\n",
              "      (dropout): Dropout(p=0.1, inplace=False)\n",
              "    )\n",
              "    (encoder): XLMRobertaEncoder(\n",
              "      (layer): ModuleList(\n",
              "        (0-11): 12 x XLMRobertaLayer(\n",
              "          (attention): XLMRobertaAttention(\n",
              "            (self): XLMRobertaSelfAttention(\n",
              "              (query): Linear(in_features=768, out_features=768, bias=True)\n",
              "              (key): Linear(in_features=768, out_features=768, bias=True)\n",
              "              (value): Linear(in_features=768, out_features=768, bias=True)\n",
              "              (dropout): Dropout(p=0.1, inplace=False)\n",
              "            )\n",
              "            (output): XLMRobertaSelfOutput(\n",
              "              (dense): Linear(in_features=768, out_features=768, bias=True)\n",
              "              (LayerNorm): LayerNorm((768,), eps=1e-05, elementwise_affine=True)\n",
              "              (dropout): Dropout(p=0.1, inplace=False)\n",
              "            )\n",
              "          )\n",
              "          (intermediate): XLMRobertaIntermediate(\n",
              "            (dense): Linear(in_features=768, out_features=3072, bias=True)\n",
              "            (intermediate_act_fn): GELUActivation()\n",
              "          )\n",
              "          (output): XLMRobertaOutput(\n",
              "            (dense): Linear(in_features=3072, out_features=768, bias=True)\n",
              "            (LayerNorm): LayerNorm((768,), eps=1e-05, elementwise_affine=True)\n",
              "            (dropout): Dropout(p=0.1, inplace=False)\n",
              "          )\n",
              "        )\n",
              "      )\n",
              "    )\n",
              "  )\n",
              "  (classifier): XLMRobertaClassificationHead(\n",
              "    (dense): Linear(in_features=768, out_features=768, bias=True)\n",
              "    (dropout): Dropout(p=0.1, inplace=False)\n",
              "    (out_proj): Linear(in_features=768, out_features=3, bias=True)\n",
              "  )\n",
              ")"
            ]
          },
          "metadata": {},
          "execution_count": 47
        }
      ]
    },
    {
      "cell_type": "markdown",
      "source": [
        "Average Alpha value across all languages = 0.6, Starting with it. May change later on if needed."
      ],
      "metadata": {
        "id": "ZqFtDDxcECzl"
      }
    },
    {
      "cell_type": "code",
      "source": [
        "batch_size = 16\n",
        "optimizer = torch.optim.AdamW(model.parameters(), lr=2e-5, weight_decay=1e-2)\n",
        "epochs = 2\n",
        "\n",
        "run_training_loops_new_strategy(english_train_set, italian_train_set, italian_val_set, epochs=epochs, alpha=0.6)"
      ],
      "metadata": {
        "colab": {
          "base_uri": "https://localhost:8080/"
        },
        "id": "YStsklq0BPVp",
        "outputId": "2bb45393-62eb-4ad4-cda4-45e34c637189"
      },
      "execution_count": null,
      "outputs": [
        {
          "output_type": "stream",
          "name": "stdout",
          "text": [
            "\n",
            "======== Epoch 1 / 2 ========\n",
            "Training...\n",
            "Total loss: 708.5264374488153\n",
            "Num of correct predictions = 60\n",
            "Validation accuracy: 0.6818181818181818\n",
            "\n",
            "======== Epoch 2 / 2 ========\n",
            "Training...\n",
            "Total loss: 457.6106108869317\n",
            "Num of correct predictions = 68\n",
            "Validation accuracy: 0.7727272727272727\n",
            "\n",
            "Training complete!\n"
          ]
        },
        {
          "output_type": "execute_result",
          "data": {
            "text/plain": [
              "0.7727272727272727"
            ]
          },
          "metadata": {},
          "execution_count": 69
        }
      ]
    },
    {
      "cell_type": "code",
      "source": [
        "seed_everything()\n",
        "get_validation_performance(italian_test_set)"
      ],
      "metadata": {
        "colab": {
          "base_uri": "https://localhost:8080/"
        },
        "id": "J82mtmLQBSFM",
        "outputId": "dc3c1ede-d7e7-4555-bc98-579abaf163c3"
      },
      "execution_count": null,
      "outputs": [
        {
          "output_type": "stream",
          "name": "stdout",
          "text": [
            "Num of correct predictions = 309\n"
          ]
        },
        {
          "output_type": "execute_result",
          "data": {
            "text/plain": [
              "(0.682303774589022, 0.7152777777777778)"
            ]
          },
          "metadata": {},
          "execution_count": 70
        }
      ]
    },
    {
      "cell_type": "markdown",
      "source": [
        "## Combining the best performing test datasets -> Spanish and Turkish"
      ],
      "metadata": {
        "id": "92qskFS7qpKJ"
      }
    },
    {
      "cell_type": "markdown",
      "source": [
        "Turkish datasets."
      ],
      "metadata": {
        "id": "cc-9r3ilq42-"
      }
    },
    {
      "cell_type": "code",
      "source": [
        "df_turkish_test = pd.read_csv(f'{FILE_PATH}/data/test_dataset/turkish_test_dataset.csv')\n",
        "df_turkish_test = create_file(df_turkish_test)\n",
        "\n",
        "df_turkish_val = pd.read_csv(f'{FILE_PATH}/data/test_dataset/turkish_dev_dataset.csv')\n",
        "df_turkish_val = create_file(df_turkish_val)"
      ],
      "metadata": {
        "id": "seI7KiAGq42_"
      },
      "execution_count": null,
      "outputs": []
    },
    {
      "cell_type": "code",
      "source": [
        "df_turkish_train_yes = pd.read_csv(f'{FILE_PATH}/data/train_dataset/turkish_cqa_yes_answer.csv')\n",
        "df_turkish_train_yes = create_file(df_turkish_train_yes)\n",
        "\n",
        "df_turkish_train_no = pd.read_csv(f'{FILE_PATH}/data/train_dataset/turkish_cqa_no_answer.csv')\n",
        "df_turkish_train_no = create_file(df_turkish_train_no)\n",
        "\n",
        "df_turkish_train = pd.concat([df_turkish_train_yes, df_turkish_train_no])"
      ],
      "metadata": {
        "id": "4G0xvnsUq43A"
      },
      "execution_count": null,
      "outputs": []
    },
    {
      "cell_type": "markdown",
      "source": [
        "Spanish datasets."
      ],
      "metadata": {
        "id": "f6GueRSGq_3E"
      }
    },
    {
      "cell_type": "code",
      "source": [
        "df_spanish_test = pd.read_csv(f'{FILE_PATH}/data/test_dataset/spanish_test_dataset.csv')\n",
        "df_spanish_test = create_file(df_spanish_test)\n",
        "\n",
        "df_spanish_val = pd.read_csv(f'{FILE_PATH}/data/test_dataset/spanish_dev_dataset.csv')\n",
        "df_spanish_val = create_file(df_spanish_val)"
      ],
      "metadata": {
        "id": "Dq9lrzVrq_3F"
      },
      "execution_count": null,
      "outputs": []
    },
    {
      "cell_type": "code",
      "source": [
        "df_spanish_train_yes = pd.read_csv(f'{FILE_PATH}/data/train_dataset/spanish_yes_answer.csv')\n",
        "df_spanish_train_yes['label'] = 'y'\n",
        "df_spanish_train_yes = create_file(df_spanish_train_yes)\n",
        "\n",
        "df_spanish_train_no = pd.read_csv(f'{FILE_PATH}/data/train_dataset/spanish_no_answer.csv')\n",
        "df_spanish_train_no['label'] = 'n'\n",
        "df_spanish_train_no = create_file(df_spanish_train_no)\n",
        "\n",
        "df_spanish_train = pd.concat([df_spanish_train_yes, df_spanish_train_no])"
      ],
      "metadata": {
        "id": "UgVd1iYtq_3F"
      },
      "execution_count": null,
      "outputs": []
    },
    {
      "cell_type": "code",
      "source": [],
      "metadata": {
        "id": "-YycGXwxqmnd"
      },
      "execution_count": null,
      "outputs": []
    },
    {
      "cell_type": "code",
      "execution_count": null,
      "metadata": {
        "id": "L_9YtmImrLmg"
      },
      "outputs": [],
      "source": [
        "# Combination of the main language's train data (Italian) and the other languages in the blend (Turkish & Spanish)\n",
        "df_italian_super_train = pd.concat([df_italian_train, df_turkish_train, df_spanish_train])"
      ]
    },
    {
      "cell_type": "code",
      "execution_count": null,
      "metadata": {
        "id": "3nCuN4qDrLmh"
      },
      "outputs": [],
      "source": [
        "df_italian_combined = pd.concat([df_italian_test, df_italian_val, df_italian_super_train])"
      ]
    },
    {
      "cell_type": "code",
      "execution_count": null,
      "metadata": {
        "colab": {
          "base_uri": "https://localhost:8080/"
        },
        "outputId": "abe4b866-9649-4f18-e44a-39e37f967532",
        "id": "30ScAtfMrLmh"
      },
      "outputs": [
        {
          "output_type": "stream",
          "name": "stdout",
          "text": [
            "Original:  Devo avvisare il mio attuale fornitore e annullare? Edison si occuperà di inoltrare per tuo conto la comunicazione di recesso al tuo precedente fornitore.\n",
            "Token IDs: tensor([     0, 136050,    185,   1824,   1046,    211,  11732,      6, 109972,\n",
            "        135410,    107,     28,   3398,  20446,    107,     32,  17156,   1681,\n",
            "            78,      6, 182425,   1298,     45,     23,  30526,  40043,    117,\n",
            "          3860,  27107,     21,  67087,     45, 179661,     31,    144,   3860,\n",
            "         65031, 135410,    107,      5,      2,      1,      1,      1,      1,\n",
            "             1,      1,      1,      1,      1,      1,      1,      1,      1,\n",
            "             1,      1,      1,      1,      1,      1,      1,      1,      1,\n",
            "             1])\n"
          ]
        }
      ],
      "source": [
        "italian_input_ids, italian_attention_masks, italian_labels = create_tensors_and_text(df_italian_combined, False)\n",
        "italian_texts = df_italian_combined.text_input.values\n",
        "\n",
        "seed_everything()\n",
        "\n",
        "len_test = len(df_italian_test)\n",
        "len_val = len(df_italian_val)\n",
        "len_train = len(df_italian_super_train)\n",
        "\n",
        "italian_test_set = [(italian_input_ids[i], italian_attention_masks[i], italian_labels[i]) for i in range(len_test)]\n",
        "italian_test_text = [italian_labels[i] for i in range(len_test)]\n",
        "\n",
        "italian_val_set = [(italian_input_ids[i], italian_attention_masks[i], italian_labels[i]) for i in range(len_test,len_test + len_val)]\n",
        "italian_val_text = [italian_labels[i] for i in range(len_test,len_test + len_val)]\n",
        "\n",
        "italian_train_set = [(italian_input_ids[i], italian_attention_masks[i], italian_labels[i]) for i in range(len_test + len_val, len(df_italian_combined))]\n",
        "italian_train_text = [italian_labels[i] for i in range(len_test + len_val, len(df_italian_combined))]"
      ]
    },
    {
      "cell_type": "code",
      "source": [
        "from transformers import XLMRobertaForSequenceClassification, Trainer, TrainingArguments\n",
        "\n",
        "model = XLMRobertaForSequenceClassification.from_pretrained('xlm-roberta-base', num_labels=3)\n",
        "model.cuda()"
      ],
      "metadata": {
        "colab": {
          "base_uri": "https://localhost:8080/",
          "height": 891,
          "referenced_widgets": [
            "9fb2468b1d104c8ba9e6c303a756e374",
            "dbfe774b86774a279b3a21723cb0d0d8",
            "5812e24aab584a66be088361687a5bb1",
            "96d7953e4c0a4475aa61d8fb76261e45",
            "894c0dbe56164ace99fba21b30635ff6",
            "9c66a22411564ab79b1553004272e7da",
            "d0f50849c8d34c0981cbb2cc1a481eed",
            "99920d2ae3a84b66b0182e219135e092",
            "afcd5292d6344ae49e7d984350462515",
            "1c7ab25bc9994c6badd0b6547d30ec67",
            "650341267ff74db796638f9060ff0a9d"
          ]
        },
        "id": "hqDgzIUJsn3i",
        "outputId": "1aa65b7e-7920-47f7-ef37-708348602ea6"
      },
      "execution_count": null,
      "outputs": [
        {
          "output_type": "display_data",
          "data": {
            "text/plain": [
              "model.safetensors:   0%|          | 0.00/1.12G [00:00<?, ?B/s]"
            ],
            "application/vnd.jupyter.widget-view+json": {
              "version_major": 2,
              "version_minor": 0,
              "model_id": "9fb2468b1d104c8ba9e6c303a756e374"
            }
          },
          "metadata": {}
        },
        {
          "output_type": "stream",
          "name": "stderr",
          "text": [
            "Some weights of XLMRobertaForSequenceClassification were not initialized from the model checkpoint at xlm-roberta-base and are newly initialized: ['classifier.dense.bias', 'classifier.dense.weight', 'classifier.out_proj.bias', 'classifier.out_proj.weight']\n",
            "You should probably TRAIN this model on a down-stream task to be able to use it for predictions and inference.\n"
          ]
        },
        {
          "output_type": "execute_result",
          "data": {
            "text/plain": [
              "XLMRobertaForSequenceClassification(\n",
              "  (roberta): XLMRobertaModel(\n",
              "    (embeddings): XLMRobertaEmbeddings(\n",
              "      (word_embeddings): Embedding(250002, 768, padding_idx=1)\n",
              "      (position_embeddings): Embedding(514, 768, padding_idx=1)\n",
              "      (token_type_embeddings): Embedding(1, 768)\n",
              "      (LayerNorm): LayerNorm((768,), eps=1e-05, elementwise_affine=True)\n",
              "      (dropout): Dropout(p=0.1, inplace=False)\n",
              "    )\n",
              "    (encoder): XLMRobertaEncoder(\n",
              "      (layer): ModuleList(\n",
              "        (0-11): 12 x XLMRobertaLayer(\n",
              "          (attention): XLMRobertaAttention(\n",
              "            (self): XLMRobertaSelfAttention(\n",
              "              (query): Linear(in_features=768, out_features=768, bias=True)\n",
              "              (key): Linear(in_features=768, out_features=768, bias=True)\n",
              "              (value): Linear(in_features=768, out_features=768, bias=True)\n",
              "              (dropout): Dropout(p=0.1, inplace=False)\n",
              "            )\n",
              "            (output): XLMRobertaSelfOutput(\n",
              "              (dense): Linear(in_features=768, out_features=768, bias=True)\n",
              "              (LayerNorm): LayerNorm((768,), eps=1e-05, elementwise_affine=True)\n",
              "              (dropout): Dropout(p=0.1, inplace=False)\n",
              "            )\n",
              "          )\n",
              "          (intermediate): XLMRobertaIntermediate(\n",
              "            (dense): Linear(in_features=768, out_features=3072, bias=True)\n",
              "            (intermediate_act_fn): GELUActivation()\n",
              "          )\n",
              "          (output): XLMRobertaOutput(\n",
              "            (dense): Linear(in_features=3072, out_features=768, bias=True)\n",
              "            (LayerNorm): LayerNorm((768,), eps=1e-05, elementwise_affine=True)\n",
              "            (dropout): Dropout(p=0.1, inplace=False)\n",
              "          )\n",
              "        )\n",
              "      )\n",
              "    )\n",
              "  )\n",
              "  (classifier): XLMRobertaClassificationHead(\n",
              "    (dense): Linear(in_features=768, out_features=768, bias=True)\n",
              "    (dropout): Dropout(p=0.1, inplace=False)\n",
              "    (out_proj): Linear(in_features=768, out_features=3, bias=True)\n",
              "  )\n",
              ")"
            ]
          },
          "metadata": {},
          "execution_count": 59
        }
      ]
    },
    {
      "cell_type": "code",
      "execution_count": null,
      "metadata": {
        "colab": {
          "base_uri": "https://localhost:8080/"
        },
        "outputId": "a5f81a53-c824-40e4-bfdb-ef1bc0003fbd",
        "id": "6SHwDUc2rLmh"
      },
      "outputs": [
        {
          "output_type": "stream",
          "name": "stdout",
          "text": [
            "\n",
            "======== Epoch 1 / 10 ========\n",
            "Training...\n",
            "Total loss: 495.783784269743\n",
            "Num of correct predictions = 70\n",
            "Validation accuracy: 0.7954545454545454\n",
            "\n",
            "======== Epoch 2 / 10 ========\n",
            "Training...\n",
            "Total loss: 387.5526420896866\n",
            "Num of correct predictions = 62\n",
            "Validation accuracy: 0.7045454545454546\n",
            "\n",
            "======== Epoch 3 / 10 ========\n",
            "Training...\n",
            "Total loss: 279.6871939501417\n",
            "Num of correct predictions = 58\n",
            "Validation accuracy: 0.6590909090909091\n",
            "\n",
            "======== Epoch 4 / 10 ========\n",
            "Training...\n",
            "Total loss: 222.59738003184734\n",
            "Num of correct predictions = 66\n",
            "Validation accuracy: 0.75\n",
            "\n",
            "======== Epoch 5 / 10 ========\n",
            "Training...\n",
            "Total loss: 173.91212884893932\n",
            "Num of correct predictions = 67\n",
            "Validation accuracy: 0.7613636363636364\n",
            "\n",
            "======== Epoch 6 / 10 ========\n",
            "Training...\n",
            "Total loss: 144.84041487348833\n",
            "Num of correct predictions = 62\n",
            "Validation accuracy: 0.7045454545454546\n",
            "\n",
            "======== Epoch 7 / 10 ========\n",
            "Training...\n",
            "Total loss: 117.47472755148497\n",
            "Num of correct predictions = 63\n",
            "Validation accuracy: 0.7159090909090909\n",
            "\n",
            "======== Epoch 8 / 10 ========\n",
            "Training...\n",
            "Total loss: 103.82279940535605\n",
            "Num of correct predictions = 61\n",
            "Validation accuracy: 0.6931818181818182\n",
            "\n",
            "======== Epoch 9 / 10 ========\n",
            "Training...\n",
            "Total loss: 87.33131091200092\n",
            "Num of correct predictions = 64\n",
            "Validation accuracy: 0.7272727272727273\n",
            "\n",
            "======== Epoch 10 / 10 ========\n",
            "Training...\n",
            "Total loss: 80.20948643622695\n",
            "Num of correct predictions = 63\n",
            "Validation accuracy: 0.7159090909090909\n",
            "\n",
            "Training complete!\n"
          ]
        },
        {
          "output_type": "execute_result",
          "data": {
            "text/plain": [
              "0.7159090909090909"
            ]
          },
          "metadata": {},
          "execution_count": 71
        }
      ],
      "source": [
        "batch_size = 16\n",
        "optimizer = torch.optim.AdamW(model.parameters(), lr=2e-5, weight_decay=1e-2)\n",
        "epochs = 10\n",
        "run_training_loops_new_strategy(english_train_set, italian_train_set, italian_val_set, epochs=epochs, alpha=0.67)"
      ]
    },
    {
      "cell_type": "code",
      "execution_count": null,
      "metadata": {
        "colab": {
          "base_uri": "https://localhost:8080/"
        },
        "outputId": "84dfc605-a1b9-468b-916e-e834d4cd8349",
        "id": "EfQ0dgY-rLmh"
      },
      "outputs": [
        {
          "output_type": "stream",
          "name": "stdout",
          "text": [
            "Num of correct predictions = 303\n"
          ]
        },
        {
          "output_type": "execute_result",
          "data": {
            "text/plain": [
              "(0.654741332897673, 0.7013888888888888, 0.6984411272483598, 0.7013888888888888)"
            ]
          },
          "metadata": {},
          "execution_count": 72
        }
      ],
      "source": [
        "seed_everything()\n",
        "get_validation_performance_part2(italian_test_set)"
      ]
    },
    {
      "cell_type": "markdown",
      "source": [
        "\n",
        "\n",
        "```\n",
        "# This is formatted as code\n",
        "```\n",
        "\n",
        "<ul>\n",
        "<li>Precision: 0.6984411272483598</li>\n",
        "<li>Recall: 0.7013888888888888</li>\n",
        "<li>F1-Score: 0.654741332897673</li>\n",
        "<li>Accuracy: 0.7013888888888888</li>\n",
        "</ul>"
      ],
      "metadata": {
        "id": "5H80vCTPQpoZ"
      }
    },
    {
      "cell_type": "markdown",
      "source": [
        "## Combining Italian with Hindi Spanish and Turkish"
      ],
      "metadata": {
        "id": "xB4hMUBQl_H2"
      }
    },
    {
      "cell_type": "markdown",
      "source": [
        "Load Italian, Spanish, Turkish and Hindi data from above section."
      ],
      "metadata": {
        "id": "YrxzFh8mmnYd"
      }
    },
    {
      "cell_type": "code",
      "source": [
        "# Combination of the main language's train data (Italian) and the other languages in the blend (Turkish & Spanish)\n",
        "df_italian_super_train = pd.concat([df_italian_train, df_turkish_train, df_spanish_train, df_hindi_train])"
      ],
      "metadata": {
        "id": "c1Y8atI5mg8x"
      },
      "execution_count": null,
      "outputs": []
    },
    {
      "cell_type": "code",
      "source": [
        "df_italian_combined = pd.concat([df_italian_test, df_italian_val, df_italian_super_train])"
      ],
      "metadata": {
        "id": "jjQbyaBEmjnz"
      },
      "execution_count": null,
      "outputs": []
    },
    {
      "cell_type": "code",
      "source": [
        "italian_input_ids, italian_attention_masks, italian_labels = create_tensors_and_text(df_italian_combined, False)\n",
        "italian_texts = df_italian_combined.text_input.values\n",
        "\n",
        "seed_everything()\n",
        "\n",
        "len_test = len(df_italian_test)\n",
        "len_val = len(df_italian_val)\n",
        "len_train = len(df_italian_super_train)\n",
        "\n",
        "italian_test_set = [(italian_input_ids[i], italian_attention_masks[i], italian_labels[i]) for i in range(len_test)]\n",
        "italian_test_text = [italian_labels[i] for i in range(len_test)]\n",
        "\n",
        "italian_val_set = [(italian_input_ids[i], italian_attention_masks[i], italian_labels[i]) for i in range(len_test,len_test + len_val)]\n",
        "italian_val_text = [italian_labels[i] for i in range(len_test,len_test + len_val)]\n",
        "\n",
        "italian_train_set = [(italian_input_ids[i], italian_attention_masks[i], italian_labels[i]) for i in range(len_test + len_val, len(df_italian_combined))]\n",
        "italian_train_text = [italian_labels[i] for i in range(len_test + len_val, len(df_italian_combined))]"
      ],
      "metadata": {
        "colab": {
          "base_uri": "https://localhost:8080/"
        },
        "id": "TkgiV_Y9mmnx",
        "outputId": "8ba4f381-cde6-4e39-f2d5-8e6b30bec961"
      },
      "execution_count": null,
      "outputs": [
        {
          "output_type": "stream",
          "name": "stdout",
          "text": [
            "Original:  Devo avvisare il mio attuale fornitore e annullare? Edison si occuperà di inoltrare per tuo conto la comunicazione di recesso al tuo precedente fornitore.\n",
            "Token IDs: tensor([     0, 136050,    185,   1824,   1046,    211,  11732,      6, 109972,\n",
            "        135410,    107,     28,   3398,  20446,    107,     32,  17156,   1681,\n",
            "            78,      6, 182425,   1298,     45,     23,  30526,  40043,    117,\n",
            "          3860,  27107,     21,  67087,     45, 179661,     31,    144,   3860,\n",
            "         65031, 135410,    107,      5,      2,      1,      1,      1,      1,\n",
            "             1,      1,      1,      1,      1,      1,      1,      1,      1,\n",
            "             1,      1,      1,      1,      1,      1,      1,      1,      1,\n",
            "             1])\n"
          ]
        }
      ]
    },
    {
      "cell_type": "code",
      "source": [
        "from transformers import XLMRobertaForSequenceClassification, Trainer, TrainingArguments\n",
        "\n",
        "model = XLMRobertaForSequenceClassification.from_pretrained('xlm-roberta-base', num_labels=3)\n",
        "model.cuda()"
      ],
      "metadata": {
        "colab": {
          "base_uri": "https://localhost:8080/"
        },
        "id": "lJ2LxCvombAK",
        "outputId": "12c984a6-b245-43e2-eff6-cdd35b7a0b85"
      },
      "execution_count": null,
      "outputs": [
        {
          "output_type": "stream",
          "name": "stderr",
          "text": [
            "Some weights of XLMRobertaForSequenceClassification were not initialized from the model checkpoint at xlm-roberta-base and are newly initialized: ['classifier.dense.bias', 'classifier.dense.weight', 'classifier.out_proj.bias', 'classifier.out_proj.weight']\n",
            "You should probably TRAIN this model on a down-stream task to be able to use it for predictions and inference.\n"
          ]
        },
        {
          "output_type": "execute_result",
          "data": {
            "text/plain": [
              "XLMRobertaForSequenceClassification(\n",
              "  (roberta): XLMRobertaModel(\n",
              "    (embeddings): XLMRobertaEmbeddings(\n",
              "      (word_embeddings): Embedding(250002, 768, padding_idx=1)\n",
              "      (position_embeddings): Embedding(514, 768, padding_idx=1)\n",
              "      (token_type_embeddings): Embedding(1, 768)\n",
              "      (LayerNorm): LayerNorm((768,), eps=1e-05, elementwise_affine=True)\n",
              "      (dropout): Dropout(p=0.1, inplace=False)\n",
              "    )\n",
              "    (encoder): XLMRobertaEncoder(\n",
              "      (layer): ModuleList(\n",
              "        (0-11): 12 x XLMRobertaLayer(\n",
              "          (attention): XLMRobertaAttention(\n",
              "            (self): XLMRobertaSelfAttention(\n",
              "              (query): Linear(in_features=768, out_features=768, bias=True)\n",
              "              (key): Linear(in_features=768, out_features=768, bias=True)\n",
              "              (value): Linear(in_features=768, out_features=768, bias=True)\n",
              "              (dropout): Dropout(p=0.1, inplace=False)\n",
              "            )\n",
              "            (output): XLMRobertaSelfOutput(\n",
              "              (dense): Linear(in_features=768, out_features=768, bias=True)\n",
              "              (LayerNorm): LayerNorm((768,), eps=1e-05, elementwise_affine=True)\n",
              "              (dropout): Dropout(p=0.1, inplace=False)\n",
              "            )\n",
              "          )\n",
              "          (intermediate): XLMRobertaIntermediate(\n",
              "            (dense): Linear(in_features=768, out_features=3072, bias=True)\n",
              "            (intermediate_act_fn): GELUActivation()\n",
              "          )\n",
              "          (output): XLMRobertaOutput(\n",
              "            (dense): Linear(in_features=3072, out_features=768, bias=True)\n",
              "            (LayerNorm): LayerNorm((768,), eps=1e-05, elementwise_affine=True)\n",
              "            (dropout): Dropout(p=0.1, inplace=False)\n",
              "          )\n",
              "        )\n",
              "      )\n",
              "    )\n",
              "  )\n",
              "  (classifier): XLMRobertaClassificationHead(\n",
              "    (dense): Linear(in_features=768, out_features=768, bias=True)\n",
              "    (dropout): Dropout(p=0.1, inplace=False)\n",
              "    (out_proj): Linear(in_features=768, out_features=3, bias=True)\n",
              "  )\n",
              ")"
            ]
          },
          "metadata": {},
          "execution_count": 61
        }
      ]
    },
    {
      "cell_type": "code",
      "source": [
        "batch_size = 16\n",
        "optimizer = torch.optim.AdamW(model.parameters(), lr=2e-5, weight_decay=1e-2)\n",
        "epochs = 10\n",
        "run_training_loops_new_strategy(english_train_set, italian_train_set, italian_val_set, epochs=epochs, alpha=0.55)"
      ],
      "metadata": {
        "colab": {
          "base_uri": "https://localhost:8080/"
        },
        "id": "DVUMYllMmKBG",
        "outputId": "9b0ef792-dc13-4d90-bd9f-13d59884dbdf"
      },
      "execution_count": null,
      "outputs": [
        {
          "output_type": "stream",
          "name": "stdout",
          "text": [
            "\n",
            "======== Epoch 1 / 10 ========\n",
            "Training...\n",
            "Total loss: 736.0551724255761\n",
            "Num of correct predictions = 63\n",
            "Validation accuracy: 0.7159090909090909\n",
            "\n",
            "======== Epoch 2 / 10 ========\n",
            "Training...\n",
            "Total loss: 461.2943953840061\n",
            "Num of correct predictions = 60\n",
            "Validation accuracy: 0.6818181818181818\n",
            "\n",
            "======== Epoch 3 / 10 ========\n",
            "Training...\n",
            "Total loss: 327.30085352668976\n",
            "Num of correct predictions = 56\n",
            "Validation accuracy: 0.6363636363636364\n",
            "\n",
            "======== Epoch 4 / 10 ========\n",
            "Training...\n",
            "Total loss: 240.44291594510136\n",
            "Num of correct predictions = 61\n",
            "Validation accuracy: 0.6931818181818182\n",
            "\n",
            "======== Epoch 5 / 10 ========\n",
            "Training...\n",
            "Total loss: 191.66592819505993\n",
            "Num of correct predictions = 60\n",
            "Validation accuracy: 0.6818181818181818\n",
            "\n",
            "======== Epoch 6 / 10 ========\n",
            "Training...\n",
            "Total loss: 150.82711035208163\n",
            "Num of correct predictions = 60\n",
            "Validation accuracy: 0.6818181818181818\n",
            "\n",
            "======== Epoch 7 / 10 ========\n",
            "Training...\n",
            "Total loss: 124.54516204335873\n",
            "Num of correct predictions = 64\n",
            "Validation accuracy: 0.7272727272727273\n",
            "\n",
            "======== Epoch 8 / 10 ========\n",
            "Training...\n",
            "Total loss: 106.05553788399907\n",
            "Num of correct predictions = 61\n",
            "Validation accuracy: 0.6931818181818182\n",
            "\n",
            "======== Epoch 9 / 10 ========\n",
            "Training...\n",
            "Total loss: 95.24765262053705\n",
            "Num of correct predictions = 54\n",
            "Validation accuracy: 0.6136363636363636\n",
            "\n",
            "======== Epoch 10 / 10 ========\n",
            "Training...\n",
            "Total loss: 82.8874709340604\n",
            "Num of correct predictions = 58\n",
            "Validation accuracy: 0.6590909090909091\n",
            "\n",
            "Training complete!\n"
          ]
        },
        {
          "output_type": "execute_result",
          "data": {
            "text/plain": [
              "0.6590909090909091"
            ]
          },
          "metadata": {},
          "execution_count": 65
        }
      ]
    },
    {
      "cell_type": "code",
      "source": [
        "seed_everything()\n",
        "get_validation_performance_part2(italian_test_set)"
      ],
      "metadata": {
        "colab": {
          "base_uri": "https://localhost:8080/"
        },
        "id": "qGA5iKVqmHYv",
        "outputId": "7855270c-c3cf-4138-b8d4-baac02708d43"
      },
      "execution_count": null,
      "outputs": [
        {
          "output_type": "stream",
          "name": "stdout",
          "text": [
            "Num of correct predictions = 294\n"
          ]
        },
        {
          "output_type": "execute_result",
          "data": {
            "text/plain": [
              "(0.6605096177008567,\n",
              " 0.6805555555555556,\n",
              " 0.6797769238063954,\n",
              " 0.6805555555555556)"
            ]
          },
          "metadata": {},
          "execution_count": 66
        }
      ]
    },
    {
      "cell_type": "markdown",
      "source": [
        "## Combining Italian with Hindi and Turkish"
      ],
      "metadata": {
        "id": "u1LSUeGiVCyK"
      }
    },
    {
      "cell_type": "code",
      "source": [
        "df_italian_super_train = pd.concat([df_italian_train, df_turkish_train, df_hindi_train])"
      ],
      "metadata": {
        "id": "cexmp39kVNDD"
      },
      "execution_count": null,
      "outputs": []
    },
    {
      "cell_type": "code",
      "source": [
        "df_italian_combined = pd.concat([df_italian_test, df_italian_val, df_italian_super_train])"
      ],
      "metadata": {
        "id": "5ogxlg0uVPs2"
      },
      "execution_count": null,
      "outputs": []
    },
    {
      "cell_type": "code",
      "source": [
        "italian_input_ids, italian_attention_masks, italian_labels = create_tensors_and_text(df_italian_combined, False)\n",
        "italian_texts = df_italian_combined.text_input.values\n",
        "\n",
        "seed_everything()\n",
        "\n",
        "len_test = len(df_italian_test)\n",
        "len_val = len(df_italian_val)\n",
        "len_train = len(df_italian_super_train)\n",
        "\n",
        "italian_test_set = [(italian_input_ids[i], italian_attention_masks[i], italian_labels[i]) for i in range(len_test)]\n",
        "italian_test_text = [italian_labels[i] for i in range(len_test)]\n",
        "\n",
        "italian_val_set = [(italian_input_ids[i], italian_attention_masks[i], italian_labels[i]) for i in range(len_test,len_test + len_val)]\n",
        "italian_val_text = [italian_labels[i] for i in range(len_test,len_test + len_val)]\n",
        "\n",
        "italian_train_set = [(italian_input_ids[i], italian_attention_masks[i], italian_labels[i]) for i in range(len_test + len_val, len(df_italian_combined))]\n",
        "italian_train_text = [italian_labels[i] for i in range(len_test + len_val, len(df_italian_combined))]"
      ],
      "metadata": {
        "colab": {
          "base_uri": "https://localhost:8080/"
        },
        "id": "FrTarTPTVVRD",
        "outputId": "4678e36c-bdae-4349-e67e-c7733c1a7b13"
      },
      "execution_count": null,
      "outputs": [
        {
          "output_type": "stream",
          "name": "stdout",
          "text": [
            "Original:  Devo avvisare il mio attuale fornitore e annullare? Edison si occuperà di inoltrare per tuo conto la comunicazione di recesso al tuo precedente fornitore.\n",
            "Token IDs: tensor([     0, 136050,    185,   1824,   1046,    211,  11732,      6, 109972,\n",
            "        135410,    107,     28,   3398,  20446,    107,     32,  17156,   1681,\n",
            "            78,      6, 182425,   1298,     45,     23,  30526,  40043,    117,\n",
            "          3860,  27107,     21,  67087,     45, 179661,     31,    144,   3860,\n",
            "         65031, 135410,    107,      5,      2,      1,      1,      1,      1,\n",
            "             1,      1,      1,      1,      1,      1,      1,      1,      1,\n",
            "             1,      1,      1,      1,      1,      1,      1,      1,      1,\n",
            "             1])\n"
          ]
        }
      ]
    },
    {
      "cell_type": "code",
      "source": [
        "from transformers import XLMRobertaForSequenceClassification, Trainer, TrainingArguments\n",
        "\n",
        "model = XLMRobertaForSequenceClassification.from_pretrained('xlm-roberta-base', num_labels=3)\n",
        "model.cuda()"
      ],
      "metadata": {
        "colab": {
          "base_uri": "https://localhost:8080/"
        },
        "id": "nluhvI5ZVX64",
        "outputId": "0576ef50-38d4-48dc-f29d-a9b8a225d304"
      },
      "execution_count": null,
      "outputs": [
        {
          "output_type": "stream",
          "name": "stderr",
          "text": [
            "Some weights of XLMRobertaForSequenceClassification were not initialized from the model checkpoint at xlm-roberta-base and are newly initialized: ['classifier.dense.bias', 'classifier.dense.weight', 'classifier.out_proj.bias', 'classifier.out_proj.weight']\n",
            "You should probably TRAIN this model on a down-stream task to be able to use it for predictions and inference.\n"
          ]
        },
        {
          "output_type": "execute_result",
          "data": {
            "text/plain": [
              "XLMRobertaForSequenceClassification(\n",
              "  (roberta): XLMRobertaModel(\n",
              "    (embeddings): XLMRobertaEmbeddings(\n",
              "      (word_embeddings): Embedding(250002, 768, padding_idx=1)\n",
              "      (position_embeddings): Embedding(514, 768, padding_idx=1)\n",
              "      (token_type_embeddings): Embedding(1, 768)\n",
              "      (LayerNorm): LayerNorm((768,), eps=1e-05, elementwise_affine=True)\n",
              "      (dropout): Dropout(p=0.1, inplace=False)\n",
              "    )\n",
              "    (encoder): XLMRobertaEncoder(\n",
              "      (layer): ModuleList(\n",
              "        (0-11): 12 x XLMRobertaLayer(\n",
              "          (attention): XLMRobertaAttention(\n",
              "            (self): XLMRobertaSelfAttention(\n",
              "              (query): Linear(in_features=768, out_features=768, bias=True)\n",
              "              (key): Linear(in_features=768, out_features=768, bias=True)\n",
              "              (value): Linear(in_features=768, out_features=768, bias=True)\n",
              "              (dropout): Dropout(p=0.1, inplace=False)\n",
              "            )\n",
              "            (output): XLMRobertaSelfOutput(\n",
              "              (dense): Linear(in_features=768, out_features=768, bias=True)\n",
              "              (LayerNorm): LayerNorm((768,), eps=1e-05, elementwise_affine=True)\n",
              "              (dropout): Dropout(p=0.1, inplace=False)\n",
              "            )\n",
              "          )\n",
              "          (intermediate): XLMRobertaIntermediate(\n",
              "            (dense): Linear(in_features=768, out_features=3072, bias=True)\n",
              "            (intermediate_act_fn): GELUActivation()\n",
              "          )\n",
              "          (output): XLMRobertaOutput(\n",
              "            (dense): Linear(in_features=3072, out_features=768, bias=True)\n",
              "            (LayerNorm): LayerNorm((768,), eps=1e-05, elementwise_affine=True)\n",
              "            (dropout): Dropout(p=0.1, inplace=False)\n",
              "          )\n",
              "        )\n",
              "      )\n",
              "    )\n",
              "  )\n",
              "  (classifier): XLMRobertaClassificationHead(\n",
              "    (dense): Linear(in_features=768, out_features=768, bias=True)\n",
              "    (dropout): Dropout(p=0.1, inplace=False)\n",
              "    (out_proj): Linear(in_features=768, out_features=3, bias=True)\n",
              "  )\n",
              ")"
            ]
          },
          "metadata": {},
          "execution_count": 70
        }
      ]
    },
    {
      "cell_type": "code",
      "source": [
        "batch_size = 16\n",
        "optimizer = torch.optim.AdamW(model.parameters(), lr=2e-5, weight_decay=1e-2)\n",
        "epochs = 15\n",
        "run_training_loops_new_strategy(english_train_set, italian_train_set, italian_val_set, epochs=epochs, alpha=0.65)"
      ],
      "metadata": {
        "colab": {
          "base_uri": "https://localhost:8080/"
        },
        "id": "5bHd7L2aVanY",
        "outputId": "66563497-40fe-4adf-a392-610d0bf4dd65"
      },
      "execution_count": null,
      "outputs": [
        {
          "output_type": "stream",
          "name": "stdout",
          "text": [
            "\n",
            "======== Epoch 1 / 15 ========\n",
            "Training...\n",
            "Total loss: 722.2427578741002\n",
            "Num of correct predictions = 62\n",
            "Validation accuracy: 0.7045454545454546\n",
            "\n",
            "======== Epoch 2 / 15 ========\n",
            "Training...\n",
            "Total loss: 1020.1513112558983\n",
            "Num of correct predictions = 48\n",
            "Validation accuracy: 0.5454545454545454\n",
            "\n",
            "======== Epoch 3 / 15 ========\n",
            "Training...\n",
            "Total loss: 1060.5511754831916\n",
            "Num of correct predictions = 48\n",
            "Validation accuracy: 0.5454545454545454\n",
            "\n",
            "======== Epoch 4 / 15 ========\n",
            "Training...\n",
            "Total loss: 990.9297882368952\n",
            "Num of correct predictions = 48\n",
            "Validation accuracy: 0.5454545454545454\n",
            "\n",
            "======== Epoch 5 / 15 ========\n",
            "Training...\n",
            "Total loss: 945.9335395788597\n",
            "Num of correct predictions = 48\n",
            "Validation accuracy: 0.5454545454545454\n",
            "\n",
            "======== Epoch 6 / 15 ========\n",
            "Training...\n",
            "Total loss: 916.4615296619188\n",
            "Num of correct predictions = 48\n",
            "Validation accuracy: 0.5454545454545454\n",
            "\n",
            "======== Epoch 7 / 15 ========\n",
            "Training...\n",
            "Total loss: 896.6617550620605\n",
            "Num of correct predictions = 48\n",
            "Validation accuracy: 0.5454545454545454\n",
            "\n",
            "======== Epoch 8 / 15 ========\n",
            "Training...\n",
            "Total loss: 883.573222042065\n",
            "Num of correct predictions = 48\n",
            "Validation accuracy: 0.5454545454545454\n",
            "\n",
            "======== Epoch 9 / 15 ========\n",
            "Training...\n",
            "Total loss: 876.2426464343431\n",
            "Num of correct predictions = 48\n",
            "Validation accuracy: 0.5454545454545454\n",
            "\n",
            "======== Epoch 10 / 15 ========\n",
            "Training...\n",
            "Total loss: 870.6547993406438\n",
            "Num of correct predictions = 48\n",
            "Validation accuracy: 0.5454545454545454\n",
            "\n",
            "======== Epoch 11 / 15 ========\n",
            "Training...\n",
            "Total loss: 867.7972596910387\n",
            "Num of correct predictions = 48\n",
            "Validation accuracy: 0.5454545454545454\n",
            "\n",
            "======== Epoch 12 / 15 ========\n",
            "Training...\n",
            "Total loss: 864.3320628278702\n",
            "Num of correct predictions = 48\n",
            "Validation accuracy: 0.5454545454545454\n",
            "\n",
            "======== Epoch 13 / 15 ========\n",
            "Training...\n",
            "Total loss: 863.5318920968277\n",
            "Num of correct predictions = 48\n",
            "Validation accuracy: 0.5454545454545454\n",
            "\n",
            "======== Epoch 14 / 15 ========\n",
            "Training...\n",
            "Total loss: 862.0771192002403\n",
            "Num of correct predictions = 48\n",
            "Validation accuracy: 0.5454545454545454\n",
            "\n",
            "======== Epoch 15 / 15 ========\n",
            "Training...\n",
            "Total loss: 861.7391610915005\n",
            "Num of correct predictions = 48\n",
            "Validation accuracy: 0.5454545454545454\n",
            "\n",
            "Training complete!\n"
          ]
        },
        {
          "output_type": "execute_result",
          "data": {
            "text/plain": [
              "0.5454545454545454"
            ]
          },
          "metadata": {},
          "execution_count": 71
        }
      ]
    },
    {
      "cell_type": "code",
      "source": [
        "seed_everything()\n",
        "get_validation_performance_part2(italian_test_set)"
      ],
      "metadata": {
        "id": "Lgz5Rb-IVdzv"
      },
      "execution_count": null,
      "outputs": []
    },
    {
      "cell_type": "markdown",
      "source": [
        "## Combining Italian Spanish only"
      ],
      "metadata": {
        "id": "X0eA5UQZN2Xo"
      }
    },
    {
      "cell_type": "code",
      "source": [
        "# Combination of the main language's train data (Italian) and the other languages in the blend (Turkish & Spanish)\n",
        "df_italian_super_train = pd.concat([df_italian_train, df_spanish_train])"
      ],
      "metadata": {
        "id": "Ik3t0fwbN5AU"
      },
      "execution_count": null,
      "outputs": []
    },
    {
      "cell_type": "code",
      "source": [
        "df_italian_combined = pd.concat([df_italian_test, df_italian_val, df_italian_super_train])"
      ],
      "metadata": {
        "id": "9TeEpXHaOzev"
      },
      "execution_count": null,
      "outputs": []
    },
    {
      "cell_type": "code",
      "source": [
        "italian_input_ids, italian_attention_masks, italian_labels = create_tensors_and_text(df_italian_combined, False)\n",
        "italian_texts = df_italian_combined.text_input.values\n",
        "\n",
        "seed_everything()\n",
        "\n",
        "len_test = len(df_italian_test)\n",
        "len_val = len(df_italian_val)\n",
        "len_train = len(df_italian_super_train)\n",
        "\n",
        "italian_test_set = [(italian_input_ids[i], italian_attention_masks[i], italian_labels[i]) for i in range(len_test)]\n",
        "italian_test_text = [italian_labels[i] for i in range(len_test)]\n",
        "\n",
        "italian_val_set = [(italian_input_ids[i], italian_attention_masks[i], italian_labels[i]) for i in range(len_test,len_test + len_val)]\n",
        "italian_val_text = [italian_labels[i] for i in range(len_test,len_test + len_val)]\n",
        "\n",
        "italian_train_set = [(italian_input_ids[i], italian_attention_masks[i], italian_labels[i]) for i in range(len_test + len_val, len(df_italian_combined))]\n",
        "italian_train_text = [italian_labels[i] for i in range(len_test + len_val, len(df_italian_combined))]"
      ],
      "metadata": {
        "colab": {
          "base_uri": "https://localhost:8080/"
        },
        "id": "xvN6r1XLO3RX",
        "outputId": "366f4119-2862-4026-d508-384a54401d3e"
      },
      "execution_count": null,
      "outputs": [
        {
          "output_type": "stream",
          "name": "stdout",
          "text": [
            "Original:  Devo avvisare il mio attuale fornitore e annullare? Edison si occuperà di inoltrare per tuo conto la comunicazione di recesso al tuo precedente fornitore.\n",
            "Token IDs: tensor([     0, 136050,    185,   1824,   1046,    211,  11732,      6, 109972,\n",
            "        135410,    107,     28,   3398,  20446,    107,     32,  17156,   1681,\n",
            "            78,      6, 182425,   1298,     45,     23,  30526,  40043,    117,\n",
            "          3860,  27107,     21,  67087,     45, 179661,     31,    144,   3860,\n",
            "         65031, 135410,    107,      5,      2,      1,      1,      1,      1,\n",
            "             1,      1,      1,      1,      1,      1,      1,      1,      1,\n",
            "             1,      1,      1,      1,      1,      1,      1,      1,      1,\n",
            "             1])\n"
          ]
        }
      ]
    },
    {
      "cell_type": "code",
      "source": [
        "from transformers import XLMRobertaForSequenceClassification, Trainer, TrainingArguments\n",
        "\n",
        "model = XLMRobertaForSequenceClassification.from_pretrained('xlm-roberta-base', num_labels=3)\n",
        "model.cuda()"
      ],
      "metadata": {
        "colab": {
          "base_uri": "https://localhost:8080/",
          "height": 891,
          "referenced_widgets": [
            "0f03cb66e621423fb50805fdd2107a46",
            "29297d950edc4034a807280508b59475",
            "042cddc3b74040d78fedeb2d03907522",
            "ddba9cc366f540a9a9c88662ce213087",
            "32bccf29927247c592ed8c7d4c165fb7",
            "73064cc7ced14d0ca92f1c35037dc020",
            "830209071b0e4d78934251bcb1c7832c",
            "398975d26d4b4fd4b15eceafe308b43d",
            "23ee0610c6c547ada6ae2742539fe0e2",
            "213e0b4c3a5946b0944986e98195152d",
            "45f4584907474cd29c6aecf1a573dbc0"
          ]
        },
        "id": "r_saBK1OO6jO",
        "outputId": "04efeff9-2603-4693-de4e-2f4b4d50d6c9"
      },
      "execution_count": null,
      "outputs": [
        {
          "output_type": "display_data",
          "data": {
            "text/plain": [
              "model.safetensors:   0%|          | 0.00/1.12G [00:00<?, ?B/s]"
            ],
            "application/vnd.jupyter.widget-view+json": {
              "version_major": 2,
              "version_minor": 0,
              "model_id": "0f03cb66e621423fb50805fdd2107a46"
            }
          },
          "metadata": {}
        },
        {
          "output_type": "stream",
          "name": "stderr",
          "text": [
            "Some weights of XLMRobertaForSequenceClassification were not initialized from the model checkpoint at xlm-roberta-base and are newly initialized: ['classifier.dense.bias', 'classifier.dense.weight', 'classifier.out_proj.bias', 'classifier.out_proj.weight']\n",
            "You should probably TRAIN this model on a down-stream task to be able to use it for predictions and inference.\n"
          ]
        },
        {
          "output_type": "execute_result",
          "data": {
            "text/plain": [
              "XLMRobertaForSequenceClassification(\n",
              "  (roberta): XLMRobertaModel(\n",
              "    (embeddings): XLMRobertaEmbeddings(\n",
              "      (word_embeddings): Embedding(250002, 768, padding_idx=1)\n",
              "      (position_embeddings): Embedding(514, 768, padding_idx=1)\n",
              "      (token_type_embeddings): Embedding(1, 768)\n",
              "      (LayerNorm): LayerNorm((768,), eps=1e-05, elementwise_affine=True)\n",
              "      (dropout): Dropout(p=0.1, inplace=False)\n",
              "    )\n",
              "    (encoder): XLMRobertaEncoder(\n",
              "      (layer): ModuleList(\n",
              "        (0-11): 12 x XLMRobertaLayer(\n",
              "          (attention): XLMRobertaAttention(\n",
              "            (self): XLMRobertaSelfAttention(\n",
              "              (query): Linear(in_features=768, out_features=768, bias=True)\n",
              "              (key): Linear(in_features=768, out_features=768, bias=True)\n",
              "              (value): Linear(in_features=768, out_features=768, bias=True)\n",
              "              (dropout): Dropout(p=0.1, inplace=False)\n",
              "            )\n",
              "            (output): XLMRobertaSelfOutput(\n",
              "              (dense): Linear(in_features=768, out_features=768, bias=True)\n",
              "              (LayerNorm): LayerNorm((768,), eps=1e-05, elementwise_affine=True)\n",
              "              (dropout): Dropout(p=0.1, inplace=False)\n",
              "            )\n",
              "          )\n",
              "          (intermediate): XLMRobertaIntermediate(\n",
              "            (dense): Linear(in_features=768, out_features=3072, bias=True)\n",
              "            (intermediate_act_fn): GELUActivation()\n",
              "          )\n",
              "          (output): XLMRobertaOutput(\n",
              "            (dense): Linear(in_features=3072, out_features=768, bias=True)\n",
              "            (LayerNorm): LayerNorm((768,), eps=1e-05, elementwise_affine=True)\n",
              "            (dropout): Dropout(p=0.1, inplace=False)\n",
              "          )\n",
              "        )\n",
              "      )\n",
              "    )\n",
              "  )\n",
              "  (classifier): XLMRobertaClassificationHead(\n",
              "    (dense): Linear(in_features=768, out_features=768, bias=True)\n",
              "    (dropout): Dropout(p=0.1, inplace=False)\n",
              "    (out_proj): Linear(in_features=768, out_features=3, bias=True)\n",
              "  )\n",
              ")"
            ]
          },
          "metadata": {},
          "execution_count": 36
        }
      ]
    },
    {
      "cell_type": "code",
      "source": [
        "batch_size = 16\n",
        "optimizer = torch.optim.AdamW(model.parameters(), lr=2e-5, weight_decay=1e-2)\n",
        "epochs = 10\n",
        "run_training_loops_new_strategy(english_train_set, italian_train_set, italian_val_set, epochs=epochs, alpha=0.67)"
      ],
      "metadata": {
        "colab": {
          "base_uri": "https://localhost:8080/"
        },
        "id": "XZyi-Pv4O9hD",
        "outputId": "5f3c7012-f00e-4a75-a31a-cb63fb44c397"
      },
      "execution_count": null,
      "outputs": [
        {
          "output_type": "stream",
          "name": "stdout",
          "text": [
            "\n",
            "======== Epoch 1 / 10 ========\n",
            "Training...\n",
            "Total loss: 708.5264374488153\n",
            "Num of correct predictions = 60\n",
            "Validation accuracy: 0.6818181818181818\n",
            "\n",
            "======== Epoch 2 / 10 ========\n",
            "Training...\n",
            "Total loss: 466.29275638512354\n",
            "Num of correct predictions = 59\n",
            "Validation accuracy: 0.6704545454545454\n",
            "\n",
            "======== Epoch 3 / 10 ========\n",
            "Training...\n",
            "Total loss: 339.8728498727689\n",
            "Num of correct predictions = 64\n",
            "Validation accuracy: 0.7272727272727273\n",
            "\n",
            "======== Epoch 4 / 10 ========\n",
            "Training...\n",
            "Total loss: 259.94089165461617\n",
            "Num of correct predictions = 63\n",
            "Validation accuracy: 0.7159090909090909\n",
            "\n",
            "======== Epoch 5 / 10 ========\n",
            "Training...\n",
            "Total loss: 200.02676292121703\n",
            "Num of correct predictions = 64\n",
            "Validation accuracy: 0.7272727272727273\n",
            "\n",
            "======== Epoch 6 / 10 ========\n",
            "Training...\n",
            "Total loss: 160.9176664675914\n",
            "Num of correct predictions = 63\n",
            "Validation accuracy: 0.7159090909090909\n",
            "\n",
            "======== Epoch 7 / 10 ========\n",
            "Training...\n",
            "Total loss: 139.45328597854527\n",
            "Num of correct predictions = 61\n",
            "Validation accuracy: 0.6931818181818182\n",
            "\n",
            "======== Epoch 8 / 10 ========\n",
            "Training...\n",
            "Total loss: 113.82552458448012\n",
            "Num of correct predictions = 66\n",
            "Validation accuracy: 0.75\n",
            "\n",
            "======== Epoch 9 / 10 ========\n",
            "Training...\n",
            "Total loss: 100.8704125628368\n",
            "Num of correct predictions = 62\n",
            "Validation accuracy: 0.7045454545454546\n",
            "\n",
            "======== Epoch 10 / 10 ========\n",
            "Training...\n",
            "Total loss: 86.3007308832913\n",
            "Num of correct predictions = 60\n",
            "Validation accuracy: 0.6818181818181818\n",
            "\n",
            "Training complete!\n"
          ]
        },
        {
          "output_type": "execute_result",
          "data": {
            "text/plain": [
              "0.6818181818181818"
            ]
          },
          "metadata": {},
          "execution_count": 39
        }
      ]
    },
    {
      "cell_type": "code",
      "source": [
        "seed_everything()\n",
        "get_validation_performance_part2(italian_test_set)"
      ],
      "metadata": {
        "colab": {
          "base_uri": "https://localhost:8080/"
        },
        "id": "PyEyrWWKPDS1",
        "outputId": "24e8670b-6511-4c46-ecc4-b26b80dca237"
      },
      "execution_count": null,
      "outputs": [
        {
          "output_type": "stream",
          "name": "stdout",
          "text": [
            "Num of correct predictions = 295\n"
          ]
        },
        {
          "output_type": "execute_result",
          "data": {
            "text/plain": [
              "(0.6292668611148218,\n",
              " 0.6828703703703703,\n",
              " 0.6427027022913776,\n",
              " 0.6828703703703703)"
            ]
          },
          "metadata": {},
          "execution_count": 42
        }
      ]
    },
    {
      "cell_type": "markdown",
      "source": [
        "\n",
        "\n",
        "```\n",
        "# This is formatted as code\n",
        "```\n",
        "\n",
        "<ul>\n",
        "<li>Precision: 0.6427027022913776</li>\n",
        "<li>Recall: 0.6427027022913776</li>\n",
        "<li>F1-Score: 0.6292668611148218</li>\n",
        "<li>Accuracy: 0.6828703703703703</li>\n",
        "</ul>"
      ],
      "metadata": {
        "id": "ncmP5RMxwZoj"
      }
    },
    {
      "cell_type": "markdown",
      "source": [
        "## Combining Italian Turkish only"
      ],
      "metadata": {
        "id": "2YMPvC7LxKQf"
      }
    },
    {
      "cell_type": "code",
      "source": [
        "# Combination of the main language's train data (Italian) and the other languages in the blend (Turkish & Spanish)\n",
        "df_italian_super_train = pd.concat([df_italian_train, df_turkish_train])"
      ],
      "metadata": {
        "id": "VY8f0GPHxKQf"
      },
      "execution_count": null,
      "outputs": []
    },
    {
      "cell_type": "code",
      "source": [
        "df_italian_combined = pd.concat([df_italian_test, df_italian_val, df_italian_super_train])"
      ],
      "metadata": {
        "id": "q_2RF1l2xKQg"
      },
      "execution_count": null,
      "outputs": []
    },
    {
      "cell_type": "code",
      "source": [
        "italian_input_ids, italian_attention_masks, italian_labels = create_tensors_and_text(df_italian_combined, False)\n",
        "italian_texts = df_italian_combined.text_input.values\n",
        "\n",
        "seed_everything()\n",
        "\n",
        "len_test = len(df_italian_test)\n",
        "len_val = len(df_italian_val)\n",
        "len_train = len(df_italian_super_train)\n",
        "\n",
        "italian_test_set = [(italian_input_ids[i], italian_attention_masks[i], italian_labels[i]) for i in range(len_test)]\n",
        "italian_test_text = [italian_labels[i] for i in range(len_test)]\n",
        "\n",
        "italian_val_set = [(italian_input_ids[i], italian_attention_masks[i], italian_labels[i]) for i in range(len_test,len_test + len_val)]\n",
        "italian_val_text = [italian_labels[i] for i in range(len_test,len_test + len_val)]\n",
        "\n",
        "italian_train_set = [(italian_input_ids[i], italian_attention_masks[i], italian_labels[i]) for i in range(len_test + len_val, len(df_italian_combined))]\n",
        "italian_train_text = [italian_labels[i] for i in range(len_test + len_val, len(df_italian_combined))]"
      ],
      "metadata": {
        "colab": {
          "base_uri": "https://localhost:8080/"
        },
        "outputId": "211488f9-aa2b-4fd7-9a0b-3b72520b25f9",
        "id": "YfrM5clRxKQg"
      },
      "execution_count": null,
      "outputs": [
        {
          "output_type": "stream",
          "name": "stdout",
          "text": [
            "Original:  Devo avvisare il mio attuale fornitore e annullare? Edison si occuperà di inoltrare per tuo conto la comunicazione di recesso al tuo precedente fornitore.\n",
            "Token IDs: tensor([     0, 136050,    185,   1824,   1046,    211,  11732,      6, 109972,\n",
            "        135410,    107,     28,   3398,  20446,    107,     32,  17156,   1681,\n",
            "            78,      6, 182425,   1298,     45,     23,  30526,  40043,    117,\n",
            "          3860,  27107,     21,  67087,     45, 179661,     31,    144,   3860,\n",
            "         65031, 135410,    107,      5,      2,      1,      1,      1,      1,\n",
            "             1,      1,      1,      1,      1,      1,      1,      1,      1,\n",
            "             1,      1,      1,      1,      1,      1,      1,      1,      1,\n",
            "             1])\n"
          ]
        }
      ]
    },
    {
      "cell_type": "code",
      "source": [
        "from transformers import XLMRobertaForSequenceClassification, Trainer, TrainingArguments\n",
        "\n",
        "model = XLMRobertaForSequenceClassification.from_pretrained('xlm-roberta-base', num_labels=3)\n",
        "model.cuda()"
      ],
      "metadata": {
        "colab": {
          "base_uri": "https://localhost:8080/"
        },
        "outputId": "cd28d817-c7d8-4488-97d7-d6940db8e1ce",
        "id": "0J_wNB7KxKQg"
      },
      "execution_count": null,
      "outputs": [
        {
          "output_type": "stream",
          "name": "stderr",
          "text": [
            "Some weights of XLMRobertaForSequenceClassification were not initialized from the model checkpoint at xlm-roberta-base and are newly initialized: ['classifier.dense.bias', 'classifier.dense.weight', 'classifier.out_proj.bias', 'classifier.out_proj.weight']\n",
            "You should probably TRAIN this model on a down-stream task to be able to use it for predictions and inference.\n"
          ]
        },
        {
          "output_type": "execute_result",
          "data": {
            "text/plain": [
              "XLMRobertaForSequenceClassification(\n",
              "  (roberta): XLMRobertaModel(\n",
              "    (embeddings): XLMRobertaEmbeddings(\n",
              "      (word_embeddings): Embedding(250002, 768, padding_idx=1)\n",
              "      (position_embeddings): Embedding(514, 768, padding_idx=1)\n",
              "      (token_type_embeddings): Embedding(1, 768)\n",
              "      (LayerNorm): LayerNorm((768,), eps=1e-05, elementwise_affine=True)\n",
              "      (dropout): Dropout(p=0.1, inplace=False)\n",
              "    )\n",
              "    (encoder): XLMRobertaEncoder(\n",
              "      (layer): ModuleList(\n",
              "        (0-11): 12 x XLMRobertaLayer(\n",
              "          (attention): XLMRobertaAttention(\n",
              "            (self): XLMRobertaSelfAttention(\n",
              "              (query): Linear(in_features=768, out_features=768, bias=True)\n",
              "              (key): Linear(in_features=768, out_features=768, bias=True)\n",
              "              (value): Linear(in_features=768, out_features=768, bias=True)\n",
              "              (dropout): Dropout(p=0.1, inplace=False)\n",
              "            )\n",
              "            (output): XLMRobertaSelfOutput(\n",
              "              (dense): Linear(in_features=768, out_features=768, bias=True)\n",
              "              (LayerNorm): LayerNorm((768,), eps=1e-05, elementwise_affine=True)\n",
              "              (dropout): Dropout(p=0.1, inplace=False)\n",
              "            )\n",
              "          )\n",
              "          (intermediate): XLMRobertaIntermediate(\n",
              "            (dense): Linear(in_features=768, out_features=3072, bias=True)\n",
              "            (intermediate_act_fn): GELUActivation()\n",
              "          )\n",
              "          (output): XLMRobertaOutput(\n",
              "            (dense): Linear(in_features=3072, out_features=768, bias=True)\n",
              "            (LayerNorm): LayerNorm((768,), eps=1e-05, elementwise_affine=True)\n",
              "            (dropout): Dropout(p=0.1, inplace=False)\n",
              "          )\n",
              "        )\n",
              "      )\n",
              "    )\n",
              "  )\n",
              "  (classifier): XLMRobertaClassificationHead(\n",
              "    (dense): Linear(in_features=768, out_features=768, bias=True)\n",
              "    (dropout): Dropout(p=0.1, inplace=False)\n",
              "    (out_proj): Linear(in_features=768, out_features=3, bias=True)\n",
              "  )\n",
              ")"
            ]
          },
          "metadata": {},
          "execution_count": 51
        }
      ]
    },
    {
      "cell_type": "code",
      "source": [
        "batch_size = 16\n",
        "optimizer = torch.optim.AdamW(model.parameters(), lr=2e-5, weight_decay=1e-2)\n",
        "epochs = 10\n",
        "run_training_loops_new_strategy(english_train_set, italian_train_set, italian_val_set, epochs=epochs, alpha=0.67)"
      ],
      "metadata": {
        "colab": {
          "base_uri": "https://localhost:8080/"
        },
        "outputId": "d8ea7942-3d39-475c-b336-fad458290b06",
        "id": "O196uWp5xKQh"
      },
      "execution_count": null,
      "outputs": [
        {
          "output_type": "stream",
          "name": "stdout",
          "text": [
            "\n",
            "======== Epoch 1 / 10 ========\n",
            "Training...\n",
            "Total loss: 691.7345715165208\n",
            "Num of correct predictions = 66\n",
            "Validation accuracy: 0.75\n",
            "\n",
            "======== Epoch 2 / 10 ========\n",
            "Training...\n",
            "Total loss: 459.69406177431523\n",
            "Num of correct predictions = 66\n",
            "Validation accuracy: 0.75\n",
            "\n",
            "======== Epoch 3 / 10 ========\n",
            "Training...\n",
            "Total loss: 336.760415601166\n",
            "Num of correct predictions = 65\n",
            "Validation accuracy: 0.7386363636363636\n",
            "\n",
            "======== Epoch 4 / 10 ========\n",
            "Training...\n",
            "Total loss: 260.86051168869653\n",
            "Num of correct predictions = 62\n",
            "Validation accuracy: 0.7045454545454546\n",
            "\n",
            "======== Epoch 5 / 10 ========\n",
            "Training...\n",
            "Total loss: 206.27363083142956\n",
            "Num of correct predictions = 64\n",
            "Validation accuracy: 0.7272727272727273\n",
            "\n",
            "======== Epoch 6 / 10 ========\n",
            "Training...\n",
            "Total loss: 162.34053858731338\n",
            "Num of correct predictions = 65\n",
            "Validation accuracy: 0.7386363636363636\n",
            "\n",
            "======== Epoch 7 / 10 ========\n",
            "Training...\n",
            "Total loss: 140.23365641313896\n",
            "Num of correct predictions = 64\n",
            "Validation accuracy: 0.7272727272727273\n",
            "\n",
            "======== Epoch 8 / 10 ========\n",
            "Training...\n",
            "Total loss: 116.43145295794035\n",
            "Num of correct predictions = 66\n",
            "Validation accuracy: 0.75\n",
            "\n",
            "======== Epoch 9 / 10 ========\n",
            "Training...\n",
            "Total loss: 104.4550484299631\n",
            "Num of correct predictions = 65\n",
            "Validation accuracy: 0.7386363636363636\n",
            "\n",
            "======== Epoch 10 / 10 ========\n",
            "Training...\n",
            "Total loss: 88.74146721145148\n",
            "Num of correct predictions = 61\n",
            "Validation accuracy: 0.6931818181818182\n",
            "\n",
            "Training complete!\n"
          ]
        },
        {
          "output_type": "execute_result",
          "data": {
            "text/plain": [
              "0.6931818181818182"
            ]
          },
          "metadata": {},
          "execution_count": 52
        }
      ]
    },
    {
      "cell_type": "code",
      "source": [
        "# saving the model here to load it later on and perform error analysis.\n",
        "torch.save(model, '/content/Italian_Model_Multilingual_Trained.pt')"
      ],
      "metadata": {
        "id": "mETFyqYhheju"
      },
      "execution_count": null,
      "outputs": []
    },
    {
      "cell_type": "code",
      "source": [
        "seed_everything()\n",
        "get_validation_performance_part2(italian_test_set)"
      ],
      "metadata": {
        "colab": {
          "base_uri": "https://localhost:8080/"
        },
        "outputId": "55af3333-4805-48da-f2b4-de065326ae54",
        "id": "LGH9Irh9xKQh"
      },
      "execution_count": null,
      "outputs": [
        {
          "output_type": "stream",
          "name": "stdout",
          "text": [
            "Num of correct predictions = 300\n"
          ]
        },
        {
          "output_type": "execute_result",
          "data": {
            "text/plain": [
              "(0.6853297686581499,\n",
              " 0.6944444444444444,\n",
              " 0.6835561513097745,\n",
              " 0.6944444444444444)"
            ]
          },
          "metadata": {},
          "execution_count": 54
        }
      ]
    },
    {
      "cell_type": "markdown",
      "source": [
        "\n",
        "\n",
        "```\n",
        "# This is formatted as code\n",
        "```\n",
        "\n",
        "<ul>\n",
        "<li>Precision: 0.6835561513097745</li>\n",
        "<li>Recall: 0.6944444444444444</li>\n",
        "<li>F1-Score: 0.6853297686581499</li>\n",
        "<li>Accuracy: 0.6944444444444444</li>\n",
        "</ul>"
      ],
      "metadata": {
        "id": "upRh4bMwxKQh"
      }
    },
    {
      "cell_type": "markdown",
      "source": [
        "## Error analysis using the best performing combination on Italian data."
      ],
      "metadata": {
        "id": "jNBQBRh-grff"
      }
    },
    {
      "cell_type": "code",
      "source": [
        "from transformers import XLMRobertaTokenizer\n",
        "\n",
        "seed_everything()\n",
        "torch.cuda.empty_cache()\n",
        "\n",
        "# loading the model we saved earlier from experiment 5.3 with Hindi dataset\n",
        "model = torch.load('/content/Italian_Model_Multilingual_Trained.pt')\n",
        "model.eval()\n",
        "\n",
        "val_set = italian_test_set\n",
        "\n",
        "# Tracking variables\n",
        "total_eval_accuracy = 0\n",
        "total_eval_loss = 0\n",
        "\n",
        "num_batches = int(len(val_set)/batch_size) + 1\n",
        "tokenizer = XLMRobertaTokenizer.from_pretrained('xlm-roberta-base')\n",
        "\n",
        "total_correct = 0\n",
        "incorrect_predictions = []  # List to store incorrect predictions\n",
        "\n",
        "for i in range(num_batches):\n",
        "\n",
        "  end_index = min(batch_size * (i+1), len(val_set))\n",
        "  batch = val_set[i*batch_size:end_index]\n",
        "\n",
        "  if len(batch) == 0: continue\n",
        "\n",
        "  input_id_tensors = torch.stack([data[0] for data in batch])\n",
        "  input_mask_tensors = torch.stack([data[1] for data in batch])\n",
        "  label_tensors = torch.stack([data[2] for data in batch])\n",
        "\n",
        "  # Move tensors to the GPU\n",
        "  b_input_ids = input_id_tensors.to(device)\n",
        "  b_input_mask = input_mask_tensors.to(device)\n",
        "  b_labels = label_tensors.to(device)\n",
        "\n",
        "  # Tell pytorch not to bother with constructing the compute graph\n",
        "  # during the forward pass\n",
        "  with torch.no_grad():\n",
        "    # Forward pass, calculate logit predictions.\n",
        "    outputs = model(b_input_ids,\n",
        "                      token_type_ids=None,\n",
        "                      attention_mask=b_input_mask,\n",
        "                      labels=b_labels)\n",
        "    # loss = outputs.loss\n",
        "    logits = outputs.logits\n",
        "\n",
        "    # Accumulate the validation loss.\n",
        "    # total_eval_loss += loss.item()\n",
        "\n",
        "    # Move logits and labels to CPU\n",
        "    logits = (logits).detach().cpu().numpy()\n",
        "    label_ids = b_labels.to('cpu').numpy()\n",
        "\n",
        "    # Calculate the number of correctly labeled examples in batch\n",
        "    pred_flat = np.argmax(logits, axis=1).flatten()\n",
        "    labels_flat = np.argmax(label_ids, axis=1).flatten()\n",
        "\n",
        "    # num_correct = np.sum(pred_flat == labels_flat)\n",
        "    # total_correct += num_correct\n",
        "\n",
        "    # Analyze incorrect predictions\n",
        "    incorrect_indices = np.where(pred_flat != labels_flat)[0]\n",
        "    for idx in incorrect_indices:\n",
        "      # Access corresponding data and predicted label\n",
        "      incorrect_data = batch[idx]\n",
        "      question=tokenizer.decode(incorrect_data[0], skip_special_tokens=True)\n",
        "      # Split data into question and answer\n",
        "      index = question.find(\"?\")\n",
        "      if index != -1:\n",
        "        answer = question[index+1:]\n",
        "        question= question[:index+1]\n",
        "      else:\n",
        "        answer=\" \"\n",
        "      predicted_label = label_mapping[pred_flat[idx]]\n",
        "      true_label = label_mapping[labels_flat[idx]]\n",
        "\n",
        "      # Append data to incorrect predictions list\n",
        "      incorrect_predictions.append((question, answer, predicted_label, true_label))\n",
        "\n",
        "\n",
        "\n",
        "# printing the data\n",
        "for question,answer, predicted_label, true_label in incorrect_predictions[41:80]:\n",
        "  if predicted_label == 0 : predicted_label = \"Yes\"\n",
        "  elif predicted_label == 1 : predicted_label = \"No\"\n",
        "  elif predicted_label == 2 : predicted_label = \"Middle\"\n",
        "\n",
        "  if true_label == 0 : true_label = \"Yes\"\n",
        "  elif true_label == 1 : true_label = \"No\"\n",
        "  elif true_label == 2 : true_label = \"Middle\"\n",
        "\n",
        "  print(f\"Data: {question}\")\n",
        "  print(f\"Answer: {answer}\")\n",
        "  print(f\"Incorrect prediction: Predicted: {predicted_label}, True: {true_label}\")\n",
        "  print(\"-------------------------------------------------------------------------------\")\n",
        "\n"
      ],
      "metadata": {
        "colab": {
          "base_uri": "https://localhost:8080/"
        },
        "id": "L0N4bMo-g7VK",
        "outputId": "b5289d5e-ac27-435c-87f3-e5845c7949f3"
      },
      "execution_count": null,
      "outputs": [
        {
          "output_type": "stream",
          "name": "stdout",
          "text": [
            "Data: I biglietti per musical ed eventi sportivi vengono acquistati direttamente presso di voi?\n",
            "Answer:  Grazie al nostro sito verrai messo in contatto con la loro piattaforma di rivendita biglietti con la quale potrai completare l'acquisto.\n",
            "Incorrect prediction: Predicted: Yes, True: No\n",
            "-------------------------------------------------------------------------------\n",
            "Data: L'escursione è disponibile tutti i giorni?\n",
            "Answer:  è disponibile nei seguenti giorni: lunedì/giovedì/sabato.\n",
            "Incorrect prediction: Predicted: Yes, True: No\n",
            "-------------------------------------------------------------------------------\n",
            "Data: La partenza del tour è garantita?\n",
            "Answer:  tour sono soggetti ad un numero minimo che varia in base al tour scelto. In caso di\\ncancellazione, ti invieremo un avviso entro 24 ore prima dell'inizio del tour via email o cellulare.\n",
            "Incorrect prediction: Predicted: Middle, True: No\n",
            "-------------------------------------------------------------------------------\n",
            "Data: È possibile prenotare la navetta per Bronx/Queens/Brooklyn/New Jersey?\n",
            "Answer:  la navetta è disponibile solo per hotel e appartamenti a Manhattan.\n",
            "Incorrect prediction: Predicted: Middle, True: No\n",
            "-------------------------------------------------------------------------------\n",
            "Data: Posso saltare tutte le righe?\n",
            "Answer:  sei il presidente?\n",
            "Incorrect prediction: Predicted: Middle, True: No\n",
            "-------------------------------------------------------------------------------\n",
            "Data: Pranzo e cena sono inclusi?\n",
            "Answer:  offriamo opzioni per pranzare o cenare da soli.\n",
            "Incorrect prediction: Predicted: Yes, True: Middle\n",
            "-------------------------------------------------------------------------------\n",
            "Data: Se acquisto più servizi ho diritto ad uno sconto?\n",
            "Answer:  I nostri prezzi sono i più competitivi\\sul mercato.\n",
            "Incorrect prediction: Predicted: Middle, True: No\n",
            "-------------------------------------------------------------------------------\n",
            "Data: Se voglio fare acquisti più a lungo, posso prendere un autobus più tardi?\n",
            "Answer:  deve essere prenotato in anticipo poiché i posti a sedere sono privati e il prezzo è di $ 3 a persona.\n",
            "Incorrect prediction: Predicted: Yes, True: Middle\n",
            "-------------------------------------------------------------------------------\n",
            "Data: Utilizzi autobus scoperti?\n",
            "Answer:  i nostri autobus sono coperti.\n",
            "Incorrect prediction: Predicted: Yes, True: No\n",
            "-------------------------------------------------------------------------------\n",
            "Data: Accettate tutti i tipi di carte di credito per l'ADSL?\n",
            "Answer:  solo Visa e Mastercard.\n",
            "Incorrect prediction: Predicted: Yes, True: No\n",
            "-------------------------------------------------------------------------------\n",
            "Data: Devo necessariamente avere il PC acceso per poter telefonare?\n",
            "Answer:  se hai un dispositivo come il nostro FRITZ! puoi collegare un normale telefono ed utilizzarlo anche con il PC spento.\n",
            "Incorrect prediction: Predicted: Yes, True: No\n",
            "-------------------------------------------------------------------------------\n",
            "Data: Dovrò cambiare il mio numero di telefono?\n",
            "Answer:  Se possiedi i requisiti richiesti puoi utilizzare il nostro servizio di portabilità del numero e mantenere il tuo vecchio numero di telefono.\n",
            "Incorrect prediction: Predicted: No, True: Middle\n",
            "-------------------------------------------------------------------------------\n",
            "Data: Ho limiti al traffico dati?\n",
            "Answer:  Illimitato\n",
            "Incorrect prediction: Predicted: Yes, True: No\n",
            "-------------------------------------------------------------------------------\n",
            "Data: I numeri VoIP compaiono nella rubrica telefonica?\n",
            "Answer:  Normalmente no, ma può essere richiesto il servizio di inserimento nell'elenco telefonico\n",
            "Incorrect prediction: Predicted: No, True: Middle\n",
            "-------------------------------------------------------------------------------\n",
            "Data: Per l'ADSL è disponibile l'opzione FAST?\n",
            "Answer:  Di default le ADSL (escluso 4Game) sono attivate in interleaved, ma su richiesta possono essere cambiate in FAST.\n",
            "Incorrect prediction: Predicted: No, True: Yes\n",
            "-------------------------------------------------------------------------------\n",
            "Data: Posso inviare fax ai prefissi italiani 199, 840, 841, 847, 848?\n",
            "Answer:  il servizio è disponibile sui numeri fissi e mobili italiani e sui numeri verdi con prefisso 800.\n",
            "Incorrect prediction: Predicted: Yes, True: No\n",
            "-------------------------------------------------------------------------------\n",
            "Data: Posso inviare fax se utilizzo MAC?\n",
            "Answer:  Scegli semplicemente il formato Base64 come codifica per qualsiasi allegato.\n",
            "Incorrect prediction: Predicted: No, True: Yes\n",
            "-------------------------------------------------------------------------------\n",
            "Data: Posso utilizzare il fax con il FRITZ!Box?\n",
            "Answer:  consigliamo il servizio fax virtuale.\n",
            "Incorrect prediction: Predicted: Yes, True: No\n",
            "-------------------------------------------------------------------------------\n",
            "Data: Se il dominio è scaduto posso trasferire il dominio?\n",
            "Answer:  deve prima essere rinnovato presso l'attuale fornitore e successivamente può essere trasferito a noi.\n",
            "Incorrect prediction: Predicted: No, True: Middle\n",
            "-------------------------------------------------------------------------------\n",
            "Data: Se si verificano problemi, posso accedere al server?\n",
            "Answer:  La manutenzione del server deve essere eseguita, per quanto possibile, da remoto.\n",
            "Incorrect prediction: Predicted: Yes, True: Middle\n",
            "-------------------------------------------------------------------------------\n",
            "Data: Se sono cliente Fastweb posso attivare i servizi VoIP?\n",
            "Answer:  Il servizio è attivabile ma non è garantito il corretto funzionamento in quanto Fastweb utilizza una particolare infrastruttura di rete non perfettamente compatibile con i servizi VoIP.\n",
            "Incorrect prediction: Predicted: No, True: Yes\n",
            "-------------------------------------------------------------------------------\n",
            "Data: Devo portare con me la Emerald Card per il conferimento dei piccoli rifiuti ingombranti?\n",
            "Answer:  Un nome è tutto ciò di cui abbiamo bisogno\n",
            "Incorrect prediction: Predicted: Yes, True: No\n",
            "-------------------------------------------------------------------------------\n",
            "Data: Dovresti toccare il cestino con le mani?\n",
            "Answer:  Basta avvicinare la Emerald Card e il cassetto si aprirà automaticamente. Per chiuderlo è necessario premere il pedale.\n",
            "Incorrect prediction: Predicted: Yes, True: No\n",
            "-------------------------------------------------------------------------------\n",
            "Data: CI SARÀ UN SERVIZIO DI ASSISTENZA?\n",
            "Answer:  Il servizio è stato pensato sia per le persone già esperte che per quelle meno esperte. Ci sarà un percorso settimanale ricco di informazioni che ti serviranno per capire come migliorare la tua forma fisica e mentale. Il nostro team sarà a tua disposizione\n",
            "Incorrect prediction: Predicted: Middle, True: Yes\n",
            "-------------------------------------------------------------------------------\n",
            "Data: Il latte va bene?\n",
            "Answer:  se non hai problemi con il lattosio\n",
            "Incorrect prediction: Predicted: Yes, True: Middle\n",
            "-------------------------------------------------------------------------------\n",
            "Data: Posso aggiungere il mio allenamento al programma?\n",
            "Answer:  Idealmente è meglio seguire il programma che hai scelto, questo dovrebbe essere il tuo allenamento :)\n",
            "Incorrect prediction: Predicted: Yes, True: No\n",
            "-------------------------------------------------------------------------------\n",
            "Data: Posso usare le farine?\n",
            "Answer:  Meglio meno possibile, e sì farine di legumi o di avena, non altri tipi di farine; diciamo non più di due volte a settimana, bisogna calcolare la farina come percentuale di carboidrati secchi, quindi come i cereali\n",
            "Incorrect prediction: Predicted: No, True: Middle\n",
            "-------------------------------------------------------------------------------\n",
            "Data: SE ANNULLO IL MIO ABBONAMENTO AVRÒ ANCORA ACCESSO AI CONTENUTI?\n",
            "Answer:  Immagina CoachingOne come Netflix. È un servizio di contenuti quindi finché il tuo abbonamento è attivo hai accesso a tutti i contenuti pubblicati su CoachingOne, mentre una volta\n",
            "Incorrect prediction: Predicted: Yes, True: No\n",
            "-------------------------------------------------------------------------------\n",
            "Data: Va bene qualsiasi tipo di yogurt?\n",
            "Answer:  Ideali Soyasun, bianco total zero, bianco skyr, tutti gli yogurt che contengano più di 5 g di proteine, meno di 3 g di grassi e meno di 5 g di carboidrati per 100 g\n",
            "Incorrect prediction: Predicted: Yes, True: No\n",
            "-------------------------------------------------------------------------------\n",
            "Data: È necessario avere una firma digitale?\n",
            "Answer:  La fattura verrà firmata direttamente tramite il software e successivamente inviata e collocata in archivio sostitutivo.\n",
            "Incorrect prediction: Predicted: Yes, True: No\n",
            "-------------------------------------------------------------------------------\n",
            "Data: Durante l'anno supero il limite dei documenti: posso passare alla licenza superiore?\n",
            "Answer:  Nella sezione Licenza e piani, premi il pulsante TRASFORMA GRATUITA.\n",
            "Incorrect prediction: Predicted: Middle, True: Yes\n",
            "-------------------------------------------------------------------------------\n",
            "Data: Sono obbligato a comunicare il mio codice destinatario all'agenzia delle entrate?\n",
            "Answer:  Non è obbligatorio comunicare il codice destinatario all'agenzia delle entrate ma consigliamo vivamente di farlo in modo che se un fornitore invia la fattura senza codice destinatario, questa viene comunque intercettata\n",
            "Incorrect prediction: Predicted: Middle, True: No\n",
            "-------------------------------------------------------------------------------\n",
            "Data: Il bouldering è pericoloso?\n",
            "Answer:  Come in tutte le attività sportive e non, il pericolo principale per l’uomo è l’uomo stesso.\n",
            "Incorrect prediction: Predicted: Yes, True: Middle\n",
            "-------------------------------------------------------------------------------\n",
            "Data: Siete aperti nei fine settimana?\n",
            "Answer:  siamo aperti dal lunedì al venerdì dalle 10:00 alle 23:00. Sabato dalle 10:00 alle 18:00.\n",
            "Incorrect prediction: Predicted: Yes, True: Middle\n",
            "-------------------------------------------------------------------------------\n",
            "Data: SONO ALL'ESTERO, POSSO ACQUISTARE I VOSTRI PRODOTTI?\n",
            "Answer:  Al momento Di Caro Pasquale Shop vende esclusivamente in Italia.\n",
            "Incorrect prediction: Predicted: Yes, True: No\n",
            "-------------------------------------------------------------------------------\n",
            "Data: È POSSIBILE ANNULLARE UN ORDINE GIA' EFFETTUATO?\n",
            "Answer:  L'ordine può essere annullato solo dai Clienti Consumatori prima della spedizione.\n",
            "Incorrect prediction: Predicted: Middle, True: Yes\n",
            "-------------------------------------------------------------------------------\n",
            "Data: Posso vincere più concorsi?\n",
            "Answer:  una volta che avrai vinto un Concorso o avrai ricevuto 2 o più Menzioni Speciali, ti sarà preclusa la partecipazione ai Concorsi Standard.\n",
            "Incorrect prediction: Predicted: Yes, True: No\n",
            "-------------------------------------------------------------------------------\n",
            "Data: Il corriere può lasciare il pacco fuori dal cancello se non sono a casa al momento della consegna?\n",
            "Answer:  In caso di assenza, il corriere verrà il giorno successivo o ti contatterà per riprogrammare la spedizione.\n",
            "Incorrect prediction: Predicted: Yes, True: No\n",
            "-------------------------------------------------------------------------------\n",
            "Data: È disponibile la consegna a domicilio della spesa?\n",
            "Answer:  Dipende dai singoli Comuni.\n",
            "Incorrect prediction: Predicted: Yes, True: Middle\n",
            "-------------------------------------------------------------------------------\n"
          ]
        }
      ]
    },
    {
      "cell_type": "markdown",
      "source": [
        "## Correct predictions using the best performing combination on Italian data."
      ],
      "metadata": {
        "id": "PILx8jXfDZnJ"
      }
    },
    {
      "cell_type": "markdown",
      "source": [
        "This uses the same code as incorrect predictions. Only change needed is changing pred_flat != labels_flat to pred_flat == labels_flat"
      ],
      "metadata": {
        "id": "FlXgGIOU2i_E"
      }
    },
    {
      "cell_type": "code",
      "source": [
        "from transformers import XLMRobertaTokenizer\n",
        "\n",
        "seed_everything()\n",
        "torch.cuda.empty_cache()\n",
        "\n",
        "model.eval()\n",
        "\n",
        "val_set = italian_test_set\n",
        "\n",
        "# Tracking variables\n",
        "total_eval_accuracy = 0\n",
        "total_eval_loss = 0\n",
        "\n",
        "num_batches = int(len(val_set)/batch_size) + 1\n",
        "tokenizer = XLMRobertaTokenizer.from_pretrained('xlm-roberta-base')\n",
        "\n",
        "total_correct = 0\n",
        "correct_predictions = []  # List to store correct predictions\n",
        "\n",
        "for i in range(num_batches):\n",
        "\n",
        "  end_index = min(batch_size * (i+1), len(val_set))\n",
        "  batch = val_set[i*batch_size:end_index]\n",
        "\n",
        "  if len(batch) == 0: continue\n",
        "\n",
        "  input_id_tensors = torch.stack([data[0] for data in batch])\n",
        "  input_mask_tensors = torch.stack([data[1] for data in batch])\n",
        "  label_tensors = torch.stack([data[2] for data in batch])\n",
        "\n",
        "  # Move tensors to the GPU\n",
        "  b_input_ids = input_id_tensors.to(device)\n",
        "  b_input_mask = input_mask_tensors.to(device)\n",
        "  b_labels = label_tensors.to(device)\n",
        "\n",
        "  # Tell pytorch not to bother with constructing the compute graph\n",
        "  # during the forward pass\n",
        "  with torch.no_grad():\n",
        "    # Forward pass, calculate logit predictions.\n",
        "    outputs = model(b_input_ids,\n",
        "                      token_type_ids=None,\n",
        "                      attention_mask=b_input_mask,\n",
        "                      labels=b_labels)\n",
        "    # loss = outputs.loss\n",
        "    logits = outputs.logits\n",
        "\n",
        "    # Accumulate the validation loss.\n",
        "    # total_eval_loss += loss.item()\n",
        "\n",
        "    # Move logits and labels to CPU\n",
        "    logits = (logits).detach().cpu().numpy()\n",
        "    label_ids = b_labels.to('cpu').numpy()\n",
        "\n",
        "    # Calculate the number of correctly labeled examples in batch\n",
        "    pred_flat = np.argmax(logits, axis=1).flatten()\n",
        "    labels_flat = np.argmax(label_ids, axis=1).flatten()\n",
        "\n",
        "    # num_correct = np.sum(pred_flat == labels_flat)\n",
        "    # total_correct += num_correct\n",
        "\n",
        "    # Analyze incorrect predictions\n",
        "    incorrect_indices = np.where(pred_flat == labels_flat)[0]\n",
        "    for idx in incorrect_indices:\n",
        "      # Access corresponding data and predicted label\n",
        "      incorrect_data = batch[idx]\n",
        "      question=tokenizer.decode(incorrect_data[0], skip_special_tokens=True)\n",
        "      # Split data into question and answer\n",
        "      index = question.find(\"?\")\n",
        "      if index != -1:\n",
        "        answer = question[index+1:]\n",
        "        question= question[:index+1]\n",
        "      else:\n",
        "        answer=\" \"\n",
        "      predicted_label = label_mapping[pred_flat[idx]]\n",
        "      true_label = label_mapping[labels_flat[idx]]\n",
        "\n",
        "      # Append data to incorrect predictions list\n",
        "      correct_predictions.append((question, answer, predicted_label, true_label))\n",
        "\n",
        "\n",
        "\n",
        "# printing the data\n",
        "for question,answer, predicted_label, true_label in correct_predictions[41:80]:\n",
        "  if predicted_label == 0 : predicted_label = \"Yes\"\n",
        "  elif predicted_label == 1 : predicted_label = \"No\"\n",
        "  elif predicted_label == 2 : predicted_label = \"Middle\"\n",
        "\n",
        "  if true_label == 0 : true_label = \"Yes\"\n",
        "  elif true_label == 1 : true_label = \"No\"\n",
        "  elif true_label == 2 : true_label = \"Middle\"\n",
        "\n",
        "  print(f\"Data: {question}\")\n",
        "  print(f\"Answer: {answer}\")\n",
        "  print(f\"Correct prediction: Predicted: {predicted_label}, True: {true_label}\")\n",
        "  print(\"-------------------------------------------------------------------------------\")\n",
        "\n"
      ],
      "metadata": {
        "colab": {
          "base_uri": "https://localhost:8080/"
        },
        "outputId": "2e48a71d-af75-45e7-f11f-5ac617d9c58a",
        "id": "4d4pQI33DZnL"
      },
      "execution_count": null,
      "outputs": [
        {
          "output_type": "stream",
          "name": "stdout",
          "text": [
            "Data: Salve, è possibile utilizzare questo prodotto con bombolette spray ricaricabili?\n",
            "Answer:  Il prodotto va spruzzato con il classico flacone spray e grilletto, non va in bomboletta\n",
            "Correct prediction: Predicted: No, True: No\n",
            "-------------------------------------------------------------------------------\n",
            "Data: Può essere utilizzato per rimuovere i residui di colla dagli adesivi per bici?\n",
            "Answer:  il prodotto è adatto\n",
            "Correct prediction: Predicted: Yes, True: Yes\n",
            "-------------------------------------------------------------------------------\n",
            "Data: Si può applicare la sera prima per il mattino successivo così da evitare completamente la formazione di ghiaccio?\n",
            "Answer:  Not Ice Spray è uno sbrinante istantaneo, non necessita dell'applicazione la sera prima\n",
            "Correct prediction: Predicted: No, True: No\n",
            "-------------------------------------------------------------------------------\n",
            "Data: Si può spruzzare direttamente sul vetro asciutto o, meglio ancora, bagnare con acqua pulita per eliminare la polvere in eccesso?\n",
            "Answer:  Spruzzare il prodotto direttamente sul vetro sporco\n",
            "Correct prediction: Predicted: Yes, True: Yes\n",
            "-------------------------------------------------------------------------------\n",
            "Data: Si può utilizzare su moto con verniciatura opaca e satinata?\n",
            "Answer:  Il prodotto è adatto a qualsiasi tipo di vernice\n",
            "Correct prediction: Predicted: Yes, True: Yes\n",
            "-------------------------------------------------------------------------------\n",
            "Data: Si può utilizzare su tappezzerie scure?\n",
            "Answer:  Il prodotto può essere utilizzato su tessuti di qualsiasi colore\n",
            "Correct prediction: Predicted: Yes, True: Yes\n",
            "-------------------------------------------------------------------------------\n",
            "Data: Può essere utilizzato con vaporizzatori elettrici?\n",
            "Answer:  Il prodotto Killvir deve essere atomizzato non vaporizzato, sono procedure diverse\n",
            "Correct prediction: Predicted: No, True: No\n",
            "-------------------------------------------------------------------------------\n",
            "Data: Si può usare per pulire i divani?\n",
            "Answer:  Il prodotto è indicato per la pulizia dei divani in tessuto\n",
            "Correct prediction: Predicted: Yes, True: Yes\n",
            "-------------------------------------------------------------------------------\n",
            "Data: Sì, può essere utilizzato su carrozzeria bianca, giusto?\n",
            "Answer:  è un guanto in microfibra adatto al lavaggio di qualsiasi tipo di carrozzeria\n",
            "Correct prediction: Predicted: Yes, True: Yes\n",
            "-------------------------------------------------------------------------------\n",
            "Data: È adatto per i classici cruscotti \"morbidi\" BMW/VW/Audi?\n",
            "Answer:  Il prodotto è adatto a tutti i tipi di pelle, ma se i cruscotti sono in plastica è possibile utilizzare il Trattamento Cruscotti 3in1\n",
            "Correct prediction: Predicted: Middle, True: Middle\n",
            "-------------------------------------------------------------------------------\n",
            "Data: È adatto per i tappetini dell'auto?\n",
            "Answer:  eccellente\n",
            "Correct prediction: Predicted: Yes, True: Yes\n",
            "-------------------------------------------------------------------------------\n",
            "Data: Va bene per un cruscotto BMW?\n",
            "Answer:  Il materiale sembra plastica morbida con una trama in pelle.. Il prodotto è idoneo anche per le plastiche dei cruscotti\n",
            "Correct prediction: Predicted: Yes, True: Yes\n",
            "-------------------------------------------------------------------------------\n",
            "Data: Va bene per il plexiglass del parabrezza dello scooter?\n",
            "Answer:  va bene per il plexiglass\n",
            "Correct prediction: Predicted: Yes, True: Yes\n",
            "-------------------------------------------------------------------------------\n",
            "Data: È utile per pulire i misuratori di flusso d'aria dell'auto?\n",
            "Answer:  Il prodotto è specifico per la pulizia di qualsiasi parte del gruppo frenante di un veicolo o, in generale, di macchinari e catene\n",
            "Correct prediction: Predicted: Yes, True: Yes\n",
            "-------------------------------------------------------------------------------\n",
            "Data: È utile per pulire e idratare il volante in pelle?\n",
            "Answer:  il prodotto inoltre pulisce, idrata e protegge la pelle del volante\n",
            "Correct prediction: Predicted: Yes, True: Yes\n",
            "-------------------------------------------------------------------------------\n",
            "Data: Si adatta ai sedili in tessuto di una Captur?\n",
            "Answer:  Il prodotto Trattamento Tessuti 3in1 è specifico per la pulizia di tutti i tessuti interni dell'auto\n",
            "Correct prediction: Predicted: Yes, True: Yes\n",
            "-------------------------------------------------------------------------------\n",
            "Data: Si può usare su vernice nera metallizzata?\n",
            "Answer:  Si assolutamente\n",
            "Correct prediction: Predicted: Yes, True: Yes\n",
            "-------------------------------------------------------------------------------\n",
            "Data: È ideale per pulire il tessuto Alcântara della mia auto?\n",
            "Answer:  Il trattamento tessuti 3in1 è adatto anche per i tessuti Alcantara\n",
            "Correct prediction: Predicted: Yes, True: Yes\n",
            "-------------------------------------------------------------------------------\n",
            "Data: È impermeabile?\n",
            "Answer:  Il guanto non è impermeabile\n",
            "Correct prediction: Predicted: No, True: No\n",
            "-------------------------------------------------------------------------------\n",
            "Data: È senza profumo?\n",
            "Answer:  Si... dà una sensazione di pulito, ottimo prodotto\n",
            "Correct prediction: Predicted: Yes, True: Yes\n",
            "-------------------------------------------------------------------------------\n",
            "Data: Posso visualizzare in tempo reale i movimenti appena effettuati con la mia carta?\n",
            "Answer:  ti basterà entrare nella sezione dedicata alla carta, cliccare su “ultime transazioni” e potrai visualizzare le transazioni appena effettuate, prima ancora che vengano contabilizzate.\n",
            "Correct prediction: Predicted: Yes, True: Yes\n",
            "-------------------------------------------------------------------------------\n",
            "Data: Ci sono restrizioni sull'utilizzo del bonus?\n",
            "Answer:  Puoi utilizzare il bonus come preferisci\n",
            "Correct prediction: Predicted: No, True: No\n",
            "-------------------------------------------------------------------------------\n",
            "Data: Devo aspettare l'arrivo della carta di debito per ottenere il bonus?\n",
            "Answer:  L'accredito del bonus non è condizionato al ricevimento della carta di debito. Lo riceverai entro 15 giorni lavorativi dall'effettiva apertura del conto.\n",
            "Correct prediction: Predicted: No, True: No\n",
            "-------------------------------------------------------------------------------\n",
            "Data: Ho aperto il conto buddybank senza inserire alcun codice di invito. Posso inserirlo successivamente per ricevere il bonus?\n",
            "Answer:  è possibile inserire il codice solo all'apertura del conto corrente buddybank.\n",
            "Correct prediction: Predicted: Middle, True: Middle\n",
            "-------------------------------------------------------------------------------\n",
            "Data: Ho perso il documento, mi hanno dato un foglio provvisorio, posso usarlo per aprire il conto?\n",
            "Answer:  Possiamo accettare solo fotografie di documenti originali\n",
            "Correct prediction: Predicted: No, True: No\n",
            "-------------------------------------------------------------------------------\n",
            "Data: La commissione per la carta di credito \"buddybank Credit\" è inclusa nel modulo Love?\n",
            "Answer:  la tariffa di 29,90€ annui è disponibile anche con il modulo Amore attivo.\n",
            "Correct prediction: Predicted: Yes, True: Yes\n",
            "-------------------------------------------------------------------------------\n",
            "Data: La carta è rimasta nella cassetta della posta?\n",
            "Answer:  si tratta di una consegna personale, quindi è prevista la presenza di qualcuno al momento della consegna.\n",
            "Correct prediction: Predicted: No, True: No\n",
            "-------------------------------------------------------------------------------\n",
            "Data: Posso abilitare la mia carta per pagare con Apple Pay/Google Pay?\n",
            "Answer:  tutte le nostre carte possono essere abilitate al pagamento con Apple Pay/Google Pay.\n",
            "Correct prediction: Predicted: Yes, True: Yes\n",
            "-------------------------------------------------------------------------------\n",
            "Data: Posso addebitare la fattura direttamente sul mio conto?\n",
            "Answer:  puoi addebitare ordini di pagamento ricorrenti sul tuo conto buddybank senza commissioni.\n",
            "Correct prediction: Predicted: Yes, True: Yes\n",
            "-------------------------------------------------------------------------------\n",
            "Data: Posso cambiare il PIN della mia carta?\n",
            "Answer:  puoi modificare gratuitamente il PIN della tua carta presso tutti gli ATM evoluti UniCredit.\n",
            "Correct prediction: Predicted: Yes, True: Yes\n",
            "-------------------------------------------------------------------------------\n",
            "Data: Posso estinguere anticipatamente il prestito?\n",
            "Answer:  potrai estinguere il prestito quando vuoi direttamente in app, nella sezione dedicata.\n",
            "Correct prediction: Predicted: Yes, True: Yes\n",
            "-------------------------------------------------------------------------------\n",
            "Data: Posso impostare un bonifico periodico?\n",
            "Answer:  basta entrare nella sezione “Paga” all'interno dell'app, premere sulla voce “Bonifico SEPA” e una volta inseriti i dati del bonifico scegliere “Periodico”.\n",
            "Correct prediction: Predicted: Yes, True: Yes\n",
            "-------------------------------------------------------------------------------\n",
            "Data: Posso inserire un commento su una transazione sul conto?\n",
            "Answer:  basta entrare nella lista dei movimenti a destra del saldo e cliccare sul movimento che si vuole commentare, qui troverete la voce \"Commenta\".\n",
            "Correct prediction: Predicted: Yes, True: Yes\n",
            "-------------------------------------------------------------------------------\n",
            "Data: Posso pagare per un modello F24?\n",
            "Answer:  All'interno dell'app è possibile pagare i modelli F24 semplificati, i moduli F24 ordinari possono essere pagati presso gli ATM UniCredit abilitati.\n",
            "Correct prediction: Predicted: Yes, True: Yes\n",
            "-------------------------------------------------------------------------------\n",
            "Data: Posso scaricare l'app buddybank su più dispositivi?\n",
            "Answer:  L'app buddybank può essere attivata solo su un dispositivo.\n",
            "Correct prediction: Predicted: No, True: No\n",
            "-------------------------------------------------------------------------------\n",
            "Data: Posso monitorare la spedizione della carta?\n",
            "Answer:  Puoi controllare la spedizione direttamente sul sito del corriere DHL.\n",
            "Correct prediction: Predicted: Yes, True: Yes\n",
            "-------------------------------------------------------------------------------\n",
            "Data: Posso depositare contanti presso gli ATM UniCredit utilizzando la mia carta di debito?\n",
            "Answer:  Ti basterà recarti presso uno sportello ATM UniCredit abilitato e seguire la procedura guidata.\n",
            "Correct prediction: Predicted: Yes, True: Yes\n",
            "-------------------------------------------------------------------------------\n",
            "Data: Sono un dipendente del Gruppo UniCredit, posso aprire un conto corrente buddybank e partecipare all'iniziativa?\n",
            "Answer:  Tutti i dipendenti del Gruppo UniCredit potranno effettuare inviti ed essere invitati ad aprire il conto corrente buddybank utilizzando il codice invito,\n",
            "Correct prediction: Predicted: Yes, True: Yes\n",
            "-------------------------------------------------------------------------------\n",
            "Data: C'è differenza tra i tour del martedì e della domenica?\n",
            "Answer:  il tour del martedì si svolge nella zona di Midtown, mentre il tour della domenica si svolge ad Harlem.\n",
            "Correct prediction: Predicted: Yes, True: Yes\n",
            "-------------------------------------------------------------------------------\n"
          ]
        }
      ]
    },
    {
      "cell_type": "markdown",
      "source": [
        "## Testing the model trained on Italian data on other languages"
      ],
      "metadata": {
        "id": "B8lRGbfp8PVH"
      }
    },
    {
      "cell_type": "code",
      "source": [
        "model = torch.load('/content/Italian_Model_Multilingual_Trained.pt')\n",
        "model.eval()"
      ],
      "metadata": {
        "colab": {
          "base_uri": "https://localhost:8080/"
        },
        "id": "TH5lsIWWAXQ0",
        "outputId": "9f4ea282-4351-4432-802c-e181dcfb2a06"
      },
      "execution_count": null,
      "outputs": [
        {
          "output_type": "execute_result",
          "data": {
            "text/plain": [
              "XLMRobertaForSequenceClassification(\n",
              "  (roberta): XLMRobertaModel(\n",
              "    (embeddings): XLMRobertaEmbeddings(\n",
              "      (word_embeddings): Embedding(250002, 768, padding_idx=1)\n",
              "      (position_embeddings): Embedding(514, 768, padding_idx=1)\n",
              "      (token_type_embeddings): Embedding(1, 768)\n",
              "      (LayerNorm): LayerNorm((768,), eps=1e-05, elementwise_affine=True)\n",
              "      (dropout): Dropout(p=0.1, inplace=False)\n",
              "    )\n",
              "    (encoder): XLMRobertaEncoder(\n",
              "      (layer): ModuleList(\n",
              "        (0-11): 12 x XLMRobertaLayer(\n",
              "          (attention): XLMRobertaAttention(\n",
              "            (self): XLMRobertaSelfAttention(\n",
              "              (query): Linear(in_features=768, out_features=768, bias=True)\n",
              "              (key): Linear(in_features=768, out_features=768, bias=True)\n",
              "              (value): Linear(in_features=768, out_features=768, bias=True)\n",
              "              (dropout): Dropout(p=0.1, inplace=False)\n",
              "            )\n",
              "            (output): XLMRobertaSelfOutput(\n",
              "              (dense): Linear(in_features=768, out_features=768, bias=True)\n",
              "              (LayerNorm): LayerNorm((768,), eps=1e-05, elementwise_affine=True)\n",
              "              (dropout): Dropout(p=0.1, inplace=False)\n",
              "            )\n",
              "          )\n",
              "          (intermediate): XLMRobertaIntermediate(\n",
              "            (dense): Linear(in_features=768, out_features=3072, bias=True)\n",
              "            (intermediate_act_fn): GELUActivation()\n",
              "          )\n",
              "          (output): XLMRobertaOutput(\n",
              "            (dense): Linear(in_features=3072, out_features=768, bias=True)\n",
              "            (LayerNorm): LayerNorm((768,), eps=1e-05, elementwise_affine=True)\n",
              "            (dropout): Dropout(p=0.1, inplace=False)\n",
              "          )\n",
              "        )\n",
              "      )\n",
              "    )\n",
              "  )\n",
              "  (classifier): XLMRobertaClassificationHead(\n",
              "    (dense): Linear(in_features=768, out_features=768, bias=True)\n",
              "    (dropout): Dropout(p=0.1, inplace=False)\n",
              "    (out_proj): Linear(in_features=768, out_features=3, bias=True)\n",
              "  )\n",
              ")"
            ]
          },
          "metadata": {},
          "execution_count": 56
        }
      ]
    },
    {
      "cell_type": "markdown",
      "source": [
        "### Hindi"
      ],
      "metadata": {
        "id": "IIHyA-O38kcO"
      }
    },
    {
      "cell_type": "code",
      "execution_count": null,
      "metadata": {
        "id": "OKzhPhel8kcO"
      },
      "outputs": [],
      "source": [
        "df_hindi = pd.read_csv(f'{FILE_PATH}/data/test_dataset/hindi_test_dataset.csv')\n",
        "df_hindi = create_file(df_hindi)"
      ]
    },
    {
      "cell_type": "code",
      "execution_count": null,
      "metadata": {
        "colab": {
          "base_uri": "https://localhost:8080/",
          "height": 206
        },
        "outputId": "93632afd-e05d-4d46-cd3d-80c383bbed65",
        "id": "zHJsnKL28kcO"
      },
      "outputs": [
        {
          "output_type": "execute_result",
          "data": {
            "text/plain": [
              "                                          text_input  label\n",
              "0  सलमान_खान की अगली फ़िल्म \"कभी ईद कभी दिवाली” आ...      0\n",
              "1  क्या आप सब तैयार हैं लॉकडाउन की अवधि बढ़ाने को...      1\n",
              "2  सिंघु बॉर्डर पर एक युवक का पहले हाथ काटा गया फ...      1\n",
              "3  सरकार को \"आरक्षण\" ही खत्म कर देना चाहिए क्या आ...      1\n",
              "4  सुप्रीम कोर्ट ने नियम को ताक पर रखकर दो लोगों ...      1"
            ],
            "text/html": [
              "\n",
              "  <div id=\"df-4cf0cc47-caa8-40b3-8bd3-73f519f4c277\" class=\"colab-df-container\">\n",
              "    <div>\n",
              "<style scoped>\n",
              "    .dataframe tbody tr th:only-of-type {\n",
              "        vertical-align: middle;\n",
              "    }\n",
              "\n",
              "    .dataframe tbody tr th {\n",
              "        vertical-align: top;\n",
              "    }\n",
              "\n",
              "    .dataframe thead th {\n",
              "        text-align: right;\n",
              "    }\n",
              "</style>\n",
              "<table border=\"1\" class=\"dataframe\">\n",
              "  <thead>\n",
              "    <tr style=\"text-align: right;\">\n",
              "      <th></th>\n",
              "      <th>text_input</th>\n",
              "      <th>label</th>\n",
              "    </tr>\n",
              "  </thead>\n",
              "  <tbody>\n",
              "    <tr>\n",
              "      <th>0</th>\n",
              "      <td>सलमान_खान की अगली फ़िल्म \"कभी ईद कभी दिवाली” आ...</td>\n",
              "      <td>0</td>\n",
              "    </tr>\n",
              "    <tr>\n",
              "      <th>1</th>\n",
              "      <td>क्या आप सब तैयार हैं लॉकडाउन की अवधि बढ़ाने को...</td>\n",
              "      <td>1</td>\n",
              "    </tr>\n",
              "    <tr>\n",
              "      <th>2</th>\n",
              "      <td>सिंघु बॉर्डर पर एक युवक का पहले हाथ काटा गया फ...</td>\n",
              "      <td>1</td>\n",
              "    </tr>\n",
              "    <tr>\n",
              "      <th>3</th>\n",
              "      <td>सरकार को \"आरक्षण\" ही खत्म कर देना चाहिए क्या आ...</td>\n",
              "      <td>1</td>\n",
              "    </tr>\n",
              "    <tr>\n",
              "      <th>4</th>\n",
              "      <td>सुप्रीम कोर्ट ने नियम को ताक पर रखकर दो लोगों ...</td>\n",
              "      <td>1</td>\n",
              "    </tr>\n",
              "  </tbody>\n",
              "</table>\n",
              "</div>\n",
              "    <div class=\"colab-df-buttons\">\n",
              "\n",
              "  <div class=\"colab-df-container\">\n",
              "    <button class=\"colab-df-convert\" onclick=\"convertToInteractive('df-4cf0cc47-caa8-40b3-8bd3-73f519f4c277')\"\n",
              "            title=\"Convert this dataframe to an interactive table.\"\n",
              "            style=\"display:none;\">\n",
              "\n",
              "  <svg xmlns=\"http://www.w3.org/2000/svg\" height=\"24px\" viewBox=\"0 -960 960 960\">\n",
              "    <path d=\"M120-120v-720h720v720H120Zm60-500h600v-160H180v160Zm220 220h160v-160H400v160Zm0 220h160v-160H400v160ZM180-400h160v-160H180v160Zm440 0h160v-160H620v160ZM180-180h160v-160H180v160Zm440 0h160v-160H620v160Z\"/>\n",
              "  </svg>\n",
              "    </button>\n",
              "\n",
              "  <style>\n",
              "    .colab-df-container {\n",
              "      display:flex;\n",
              "      gap: 12px;\n",
              "    }\n",
              "\n",
              "    .colab-df-convert {\n",
              "      background-color: #E8F0FE;\n",
              "      border: none;\n",
              "      border-radius: 50%;\n",
              "      cursor: pointer;\n",
              "      display: none;\n",
              "      fill: #1967D2;\n",
              "      height: 32px;\n",
              "      padding: 0 0 0 0;\n",
              "      width: 32px;\n",
              "    }\n",
              "\n",
              "    .colab-df-convert:hover {\n",
              "      background-color: #E2EBFA;\n",
              "      box-shadow: 0px 1px 2px rgba(60, 64, 67, 0.3), 0px 1px 3px 1px rgba(60, 64, 67, 0.15);\n",
              "      fill: #174EA6;\n",
              "    }\n",
              "\n",
              "    .colab-df-buttons div {\n",
              "      margin-bottom: 4px;\n",
              "    }\n",
              "\n",
              "    [theme=dark] .colab-df-convert {\n",
              "      background-color: #3B4455;\n",
              "      fill: #D2E3FC;\n",
              "    }\n",
              "\n",
              "    [theme=dark] .colab-df-convert:hover {\n",
              "      background-color: #434B5C;\n",
              "      box-shadow: 0px 1px 3px 1px rgba(0, 0, 0, 0.15);\n",
              "      filter: drop-shadow(0px 1px 2px rgba(0, 0, 0, 0.3));\n",
              "      fill: #FFFFFF;\n",
              "    }\n",
              "  </style>\n",
              "\n",
              "    <script>\n",
              "      const buttonEl =\n",
              "        document.querySelector('#df-4cf0cc47-caa8-40b3-8bd3-73f519f4c277 button.colab-df-convert');\n",
              "      buttonEl.style.display =\n",
              "        google.colab.kernel.accessAllowed ? 'block' : 'none';\n",
              "\n",
              "      async function convertToInteractive(key) {\n",
              "        const element = document.querySelector('#df-4cf0cc47-caa8-40b3-8bd3-73f519f4c277');\n",
              "        const dataTable =\n",
              "          await google.colab.kernel.invokeFunction('convertToInteractive',\n",
              "                                                    [key], {});\n",
              "        if (!dataTable) return;\n",
              "\n",
              "        const docLinkHtml = 'Like what you see? Visit the ' +\n",
              "          '<a target=\"_blank\" href=https://colab.research.google.com/notebooks/data_table.ipynb>data table notebook</a>'\n",
              "          + ' to learn more about interactive tables.';\n",
              "        element.innerHTML = '';\n",
              "        dataTable['output_type'] = 'display_data';\n",
              "        await google.colab.output.renderOutput(dataTable, element);\n",
              "        const docLink = document.createElement('div');\n",
              "        docLink.innerHTML = docLinkHtml;\n",
              "        element.appendChild(docLink);\n",
              "      }\n",
              "    </script>\n",
              "  </div>\n",
              "\n",
              "\n",
              "<div id=\"df-9c4de9c3-0327-4db5-a826-a192cca98fc0\">\n",
              "  <button class=\"colab-df-quickchart\" onclick=\"quickchart('df-9c4de9c3-0327-4db5-a826-a192cca98fc0')\"\n",
              "            title=\"Suggest charts\"\n",
              "            style=\"display:none;\">\n",
              "\n",
              "<svg xmlns=\"http://www.w3.org/2000/svg\" height=\"24px\"viewBox=\"0 0 24 24\"\n",
              "     width=\"24px\">\n",
              "    <g>\n",
              "        <path d=\"M19 3H5c-1.1 0-2 .9-2 2v14c0 1.1.9 2 2 2h14c1.1 0 2-.9 2-2V5c0-1.1-.9-2-2-2zM9 17H7v-7h2v7zm4 0h-2V7h2v10zm4 0h-2v-4h2v4z\"/>\n",
              "    </g>\n",
              "</svg>\n",
              "  </button>\n",
              "\n",
              "<style>\n",
              "  .colab-df-quickchart {\n",
              "      --bg-color: #E8F0FE;\n",
              "      --fill-color: #1967D2;\n",
              "      --hover-bg-color: #E2EBFA;\n",
              "      --hover-fill-color: #174EA6;\n",
              "      --disabled-fill-color: #AAA;\n",
              "      --disabled-bg-color: #DDD;\n",
              "  }\n",
              "\n",
              "  [theme=dark] .colab-df-quickchart {\n",
              "      --bg-color: #3B4455;\n",
              "      --fill-color: #D2E3FC;\n",
              "      --hover-bg-color: #434B5C;\n",
              "      --hover-fill-color: #FFFFFF;\n",
              "      --disabled-bg-color: #3B4455;\n",
              "      --disabled-fill-color: #666;\n",
              "  }\n",
              "\n",
              "  .colab-df-quickchart {\n",
              "    background-color: var(--bg-color);\n",
              "    border: none;\n",
              "    border-radius: 50%;\n",
              "    cursor: pointer;\n",
              "    display: none;\n",
              "    fill: var(--fill-color);\n",
              "    height: 32px;\n",
              "    padding: 0;\n",
              "    width: 32px;\n",
              "  }\n",
              "\n",
              "  .colab-df-quickchart:hover {\n",
              "    background-color: var(--hover-bg-color);\n",
              "    box-shadow: 0 1px 2px rgba(60, 64, 67, 0.3), 0 1px 3px 1px rgba(60, 64, 67, 0.15);\n",
              "    fill: var(--button-hover-fill-color);\n",
              "  }\n",
              "\n",
              "  .colab-df-quickchart-complete:disabled,\n",
              "  .colab-df-quickchart-complete:disabled:hover {\n",
              "    background-color: var(--disabled-bg-color);\n",
              "    fill: var(--disabled-fill-color);\n",
              "    box-shadow: none;\n",
              "  }\n",
              "\n",
              "  .colab-df-spinner {\n",
              "    border: 2px solid var(--fill-color);\n",
              "    border-color: transparent;\n",
              "    border-bottom-color: var(--fill-color);\n",
              "    animation:\n",
              "      spin 1s steps(1) infinite;\n",
              "  }\n",
              "\n",
              "  @keyframes spin {\n",
              "    0% {\n",
              "      border-color: transparent;\n",
              "      border-bottom-color: var(--fill-color);\n",
              "      border-left-color: var(--fill-color);\n",
              "    }\n",
              "    20% {\n",
              "      border-color: transparent;\n",
              "      border-left-color: var(--fill-color);\n",
              "      border-top-color: var(--fill-color);\n",
              "    }\n",
              "    30% {\n",
              "      border-color: transparent;\n",
              "      border-left-color: var(--fill-color);\n",
              "      border-top-color: var(--fill-color);\n",
              "      border-right-color: var(--fill-color);\n",
              "    }\n",
              "    40% {\n",
              "      border-color: transparent;\n",
              "      border-right-color: var(--fill-color);\n",
              "      border-top-color: var(--fill-color);\n",
              "    }\n",
              "    60% {\n",
              "      border-color: transparent;\n",
              "      border-right-color: var(--fill-color);\n",
              "    }\n",
              "    80% {\n",
              "      border-color: transparent;\n",
              "      border-right-color: var(--fill-color);\n",
              "      border-bottom-color: var(--fill-color);\n",
              "    }\n",
              "    90% {\n",
              "      border-color: transparent;\n",
              "      border-bottom-color: var(--fill-color);\n",
              "    }\n",
              "  }\n",
              "</style>\n",
              "\n",
              "  <script>\n",
              "    async function quickchart(key) {\n",
              "      const quickchartButtonEl =\n",
              "        document.querySelector('#' + key + ' button');\n",
              "      quickchartButtonEl.disabled = true;  // To prevent multiple clicks.\n",
              "      quickchartButtonEl.classList.add('colab-df-spinner');\n",
              "      try {\n",
              "        const charts = await google.colab.kernel.invokeFunction(\n",
              "            'suggestCharts', [key], {});\n",
              "      } catch (error) {\n",
              "        console.error('Error during call to suggestCharts:', error);\n",
              "      }\n",
              "      quickchartButtonEl.classList.remove('colab-df-spinner');\n",
              "      quickchartButtonEl.classList.add('colab-df-quickchart-complete');\n",
              "    }\n",
              "    (() => {\n",
              "      let quickchartButtonEl =\n",
              "        document.querySelector('#df-9c4de9c3-0327-4db5-a826-a192cca98fc0 button');\n",
              "      quickchartButtonEl.style.display =\n",
              "        google.colab.kernel.accessAllowed ? 'block' : 'none';\n",
              "    })();\n",
              "  </script>\n",
              "</div>\n",
              "\n",
              "    </div>\n",
              "  </div>\n"
            ],
            "application/vnd.google.colaboratory.intrinsic+json": {
              "type": "dataframe",
              "variable_name": "df_hindi",
              "summary": "{\n  \"name\": \"df_hindi\",\n  \"rows\": 240,\n  \"fields\": [\n    {\n      \"column\": \"text_input\",\n      \"properties\": {\n        \"dtype\": \"string\",\n        \"num_unique_values\": 240,\n        \"samples\": [\n          \"\\u0938\\u094d\\u092e\\u0943\\u0924\\u093f \\u0908\\u0930\\u093e\\u0928\\u0940, \\u0915\\u094d\\u092f\\u093e \\u0906\\u092a \\u0915\\u0941\\u091b \\u0915\\u0939\\u0947\\u0902\\u0917\\u0940 \\u092e\\u0941\\u0938\\u094d\\u0932\\u093f\\u092e \\u092e\\u0939\\u093f\\u0932\\u093e\\u0913\\u0902 \\u0915\\u0940 \\u0928\\u0940\\u0932\\u093e\\u092e\\u0940 \\u0935\\u093e\\u0932\\u0947 \\u092a\\u094d\\u0930\\u0915\\u0930\\u0923 \\u092e\\u0947\\u0902? \\u0938\\u092c\\u0915\\u093e \\u0938\\u093e\\u0925 \\u0938\\u092c\\u0915\\u093e \\u0935\\u093f\\u0915\\u093e\\u0938 \\u092e\\u093e\\u0908\\u0928\\u0938 \\u0938\\u0930\\u0915\\u093e\\u0930 \\u0938\\u0947 \\u0938\\u0935\\u093e\\u0932 \\u092a\\u0942\\u091b\\u0928\\u0947 \\u0935\\u093e\\u0932\\u0947\\u0964\",\n          \"\\u092f\\u0939 \\u0939\\u094b \\u0938\\u0915\\u0924\\u093e \\u0939\\u0948 \\u0915\\u093f \\u0909\\u0924\\u094d\\u0924\\u0930\\u093e\\u0916\\u0902\\u0921 \\u0915\\u0940 \\u0936\\u093f\\u0915\\u094d\\u0937\\u093f\\u0915\\u093e \\u0915\\u094b \\u0905\\u0928\\u0941\\u092a\\u0938\\u094d\\u0925\\u093f\\u0924\\u093f \\u0915\\u0947 \\u0915\\u093e\\u0930\\u0923 \\u092a\\u0939\\u0932\\u0947 \\u092d\\u0940 \\u0926\\u094b \\u092c\\u093e\\u0930 \\u0928\\u093f\\u0932\\u0902\\u092c\\u093f\\u0924 \\u0915\\u093f\\u092f\\u093e \\u0917\\u092f\\u093e \\u0939\\u094b\\u0964 \\u0932\\u0947\\u0915\\u093f\\u0928 \\u0909\\u0928\\u0938\\u0947 \\u0926\\u0941\\u0930\\u094d\\u0935\\u094d\\u092f\\u0935\\u0939\\u093e\\u0930 \\u0915\\u0930\\u0924\\u0947 \\u0938\\u092e\\u092f \\u0915\\u094d\\u092f\\u093e \\u092e\\u0941\\u0916\\u094d\\u092f\\u092e\\u0902\\u0924\\u094d\\u0930\\u0940 \\u0915\\u094b \\u0907\\u0938\\u0915\\u0940 \\u091c\\u093e\\u0928\\u0915\\u093e\\u0930\\u0940 \\u0925\\u0940? \\u092c\\u0921\\u093c\\u0947 \\u092d\\u0907\\u092f\\u093e,\\n\\u092a\\u0942\\u0930\\u094d\\u0923 \\u0930\\u0941\\u092a \\u0938\\u0947 \\u0938\\u0939\\u092e\\u0924\\n\\u0938\\u093e\\u0926\\u0930,\",\n          \"\\u0915\\u094d\\u092f\\u093e \\u0906\\u092a \\u0938\\u092c \\u0924\\u0948\\u092f\\u093e\\u0930 \\u0939\\u0948\\u0902 \\u0932\\u0949\\u0915\\u0921\\u093e\\u0909\\u0928 \\u0915\\u0940 \\u0905\\u0935\\u0927\\u093f \\u092c\\u0922\\u093c\\u093e\\u0928\\u0947 \\u0915\\u094b \\u0932\\u0947\\u0915\\u0930? \\u0915\\u094d\\u092f\\u093e \\u0906\\u092a \\u0938\\u092d\\u0940 \\u0928\\u094d\\u092f\\u0942\\u091c\\u093c \\u090f\\u0902\\u0915\\u0930 \\u0924\\u0948\\u092f\\u093e\\u0930 \\u0939\\u0948\\u0902 \\u0932\\u0949\\u0915\\u0921\\u093e\\u0909\\u0928 \\u0915\\u0940 \\u0905\\u0935\\u0927\\u093f \\u092c\\u0922\\u093c\\u093e\\u0928\\u0947 \\u0915\\u094b \\u0932\\u0947\\u0915\\u0930\\n\\u0939\\u093f\\u0902\\u0926\\u0942-\\u092e\\u0941\\u0938\\u094d\\u0932\\u093f\\u092e \\u0915\\u0930\\u0928\\u0947 \\u0915\\u0947 \\u0932\\u093f\\u090f\"\n        ],\n        \"semantic_type\": \"\",\n        \"description\": \"\"\n      }\n    },\n    {\n      \"column\": \"label\",\n      \"properties\": {\n        \"dtype\": \"number\",\n        \"std\": 0,\n        \"min\": 0,\n        \"max\": 2,\n        \"num_unique_values\": 3,\n        \"samples\": [\n          0,\n          1,\n          2\n        ],\n        \"semantic_type\": \"\",\n        \"description\": \"\"\n      }\n    }\n  ]\n}"
            }
          },
          "metadata": {},
          "execution_count": 58
        }
      ],
      "source": [
        "df_hindi.head()"
      ]
    },
    {
      "cell_type": "code",
      "execution_count": null,
      "metadata": {
        "colab": {
          "base_uri": "https://localhost:8080/"
        },
        "outputId": "1dab278d-2ea5-4c75-a830-c80ab3e81976",
        "id": "bFw8t2yb8kcO"
      },
      "outputs": [
        {
          "output_type": "stream",
          "name": "stdout",
          "text": [
            "Original:  सलमान_खान की अगली फ़िल्म \"कभी ईद कभी दिवाली” आ रही है, क्या आप बहिष्कार करेंगे? सुशांत सिंह राजपूत के साथ सलमान ने जो किया उससे पूरे बिहार नाराज़ है\n",
            "Token IDs: tensor([     0,  66464,    454,  14983,    998,    471,  77884,   2416, 187529,\n",
            "            44,   1223,  50308,  17139,   3044,  28656,  14177,   3097,   2416,\n",
            "            63,   2220,   8906,    460,      4,   6004,   4322, 148640,  24269,\n",
            "          7186,  58898,     32,   5224,   4037,  23649,  15652,  11990,  51886,\n",
            "           996,    287,   3765,  66464,   1142,   4993,   4029, 137524,  94173,\n",
            "         55423, 159026,  18600,    460,      2,      1,      1,      1,      1,\n",
            "             1,      1,      1,      1,      1,      1,      1,      1,      1,\n",
            "             1])\n"
          ]
        }
      ],
      "source": [
        "hindi_input_ids, hindi_attention_masks, hindi_labels = create_tensors_and_text(df_hindi, False)\n",
        "hindi_texts = df_hindi.text_input.values\n",
        "\n",
        "seed_everything()\n",
        "\n",
        "total = len(df_hindi)\n",
        "\n",
        "hindi_test_set = [(hindi_input_ids[i], hindi_attention_masks[i], hindi_labels[i]) for i in range(total)]\n",
        "\n",
        "hindi_test_text = [hindi_labels[i] for i in range(total)]"
      ]
    },
    {
      "cell_type": "code",
      "execution_count": null,
      "metadata": {
        "colab": {
          "base_uri": "https://localhost:8080/"
        },
        "outputId": "b4076e76-52cd-4b9e-e581-dc251c900d79",
        "id": "Fj__vlhf8kcO"
      },
      "outputs": [
        {
          "output_type": "stream",
          "name": "stdout",
          "text": [
            "Num of correct predictions = 111\n"
          ]
        },
        {
          "output_type": "execute_result",
          "data": {
            "text/plain": [
              "0.43768158683523267"
            ]
          },
          "metadata": {},
          "execution_count": 60
        }
      ],
      "source": [
        "seed_everything()\n",
        "get_validation_performance(hindi_test_set)[0]"
      ]
    },
    {
      "cell_type": "markdown",
      "source": [
        "### Korean"
      ],
      "metadata": {
        "id": "Af0E433Z8kcO"
      }
    },
    {
      "cell_type": "code",
      "execution_count": null,
      "metadata": {
        "colab": {
          "base_uri": "https://localhost:8080/"
        },
        "outputId": "7743c496-823e-4c76-8fec-6309ce0f5c59",
        "id": "4h0_Bf6C8kcO"
      },
      "outputs": [
        {
          "output_type": "stream",
          "name": "stdout",
          "text": [
            "Original:  메뉴판 어딨어요? 여기 있어요? 여기 있습니다\n",
            "Token IDs: tensor([     0, 125543,  19641,  14327, 249084,  38736,     32,  81205, 106597,\n",
            "            32,  81205,   3292,      2,      1,      1,      1,      1,      1,\n",
            "             1,      1,      1,      1,      1,      1,      1,      1,      1,\n",
            "             1,      1,      1,      1,      1,      1,      1,      1,      1,\n",
            "             1,      1,      1,      1,      1,      1,      1,      1,      1,\n",
            "             1,      1,      1,      1,      1,      1,      1,      1,      1,\n",
            "             1,      1,      1,      1,      1,      1,      1,      1,      1,\n",
            "             1])\n"
          ]
        }
      ],
      "source": [
        "# Korean\n",
        "\n",
        "df_korean = pd.read_csv(f'{FILE_PATH}/data/test_dataset/korean_test_dataset.csv')\n",
        "df_korean = create_file(df_korean)\n",
        "\n",
        "korean_input_ids, korean_attention_masks, korean_labels = create_tensors_and_text(df_korean, False)\n",
        "korean_texts = df_korean.text_input.values\n",
        "\n",
        "seed_everything()\n",
        "\n",
        "total = len(df_korean)\n",
        "\n",
        "korean_test_set = [(korean_input_ids[i], korean_attention_masks[i], korean_labels[i]) for i in range(total)]\n",
        "\n",
        "korean_test_text = [korean_labels[i] for i in range(total)]\n",
        "\n"
      ]
    },
    {
      "cell_type": "code",
      "source": [
        "seed_everything()\n",
        "get_validation_performance(korean_test_set)[0]"
      ],
      "metadata": {
        "colab": {
          "base_uri": "https://localhost:8080/"
        },
        "id": "TlgCfn_rAwLP",
        "outputId": "b6b65ef4-1906-4bb0-8513-b21da9859ddc"
      },
      "execution_count": null,
      "outputs": [
        {
          "output_type": "stream",
          "name": "stdout",
          "text": [
            "Num of correct predictions = 152\n"
          ]
        },
        {
          "output_type": "execute_result",
          "data": {
            "text/plain": [
              "0.5998121593853301"
            ]
          },
          "metadata": {},
          "execution_count": 63
        }
      ]
    },
    {
      "cell_type": "markdown",
      "source": [
        "### Chinese"
      ],
      "metadata": {
        "id": "eIA5Dp5Z8kcP"
      }
    },
    {
      "cell_type": "code",
      "execution_count": null,
      "metadata": {
        "colab": {
          "base_uri": "https://localhost:8080/"
        },
        "outputId": "a7d2dd41-bdfe-47aa-f6ab-3bdc2372dc51",
        "id": "459XHRYr8kcP"
      },
      "outputs": [
        {
          "output_type": "stream",
          "name": "stdout",
          "text": [
            "Original:  车里没有矿泉水瓶吗？ 还是用罐头瓶吧\n",
            "Token IDs: tensor([     0,      6,   3715,   2008,   3029,  54391,  41318,   1553,  32696,\n",
            "          9131,     32,      6,   5169,   1173, 112110,   3878,  32696,   4502,\n",
            "             2,      1,      1,      1,      1,      1,      1,      1,      1,\n",
            "             1,      1,      1,      1,      1,      1,      1,      1,      1,\n",
            "             1,      1,      1,      1,      1,      1,      1,      1,      1,\n",
            "             1,      1,      1,      1,      1,      1,      1,      1,      1,\n",
            "             1,      1,      1,      1,      1,      1,      1,      1,      1,\n",
            "             1])\n"
          ]
        }
      ],
      "source": [
        "# chinese\n",
        "\n",
        "df_chinese = pd.read_csv(f'{FILE_PATH}/data/test_dataset/chinese_test_dataset.csv')\n",
        "df_chinese = create_file(df_chinese)\n",
        "\n",
        "chinese_input_ids, chinese_attention_masks, chinese_labels = create_tensors_and_text(df_chinese, False)\n",
        "chinese_texts = df_chinese.text_input.values\n",
        "\n",
        "seed_everything()\n",
        "\n",
        "total = len(df_chinese)\n",
        "\n",
        "chinese_test_set = [(chinese_input_ids[i], chinese_attention_masks[i], chinese_labels[i]) for i in range(total)]\n",
        "\n",
        "chinese_test_text = [chinese_labels[i] for i in range(total)]\n"
      ]
    },
    {
      "cell_type": "code",
      "source": [
        "seed_everything()\n",
        "get_validation_performance(chinese_test_set)[0]"
      ],
      "metadata": {
        "colab": {
          "base_uri": "https://localhost:8080/"
        },
        "id": "277Fnbs5AzkU",
        "outputId": "66c168a8-1d4a-44b8-deab-1f6ab8ca0337"
      },
      "execution_count": null,
      "outputs": [
        {
          "output_type": "stream",
          "name": "stdout",
          "text": [
            "Num of correct predictions = 271\n"
          ]
        },
        {
          "output_type": "execute_result",
          "data": {
            "text/plain": [
              "0.5413707230486485"
            ]
          },
          "metadata": {},
          "execution_count": 65
        }
      ]
    },
    {
      "cell_type": "markdown",
      "source": [
        "### Bangla"
      ],
      "metadata": {
        "id": "5FfZ9g_m8kcP"
      }
    },
    {
      "cell_type": "code",
      "execution_count": null,
      "metadata": {
        "colab": {
          "base_uri": "https://localhost:8080/"
        },
        "outputId": "8df2ccfd-6c8c-40f5-87c4-129ccccc98b5",
        "id": "AVfKcwIp8kcP"
      },
      "outputs": [
        {
          "output_type": "stream",
          "name": "stdout",
          "text": [
            "Original:  তোর কাছে কি ভাংতি টাকা আছে? আমার কাছে শুধু একটা ১০০০ হাজার টাকার নোট আছে ।\n",
            "Token IDs: tensor([     0,  44201,    999,  72237,  14403,  43875,  17031,  15541,  41315,\n",
            "         33338,     32,  29388,  72237, 124805,  71896,      6, 231013,  54112,\n",
            "        180638,      6,  32568,   5780,  33338,    207,      2,      1,      1,\n",
            "             1,      1,      1,      1,      1,      1,      1,      1,      1,\n",
            "             1,      1,      1,      1,      1,      1,      1,      1,      1,\n",
            "             1,      1,      1,      1,      1,      1,      1,      1,      1,\n",
            "             1,      1,      1,      1,      1,      1,      1,      1,      1,\n",
            "             1])\n"
          ]
        }
      ],
      "source": [
        "# bangla\n",
        "\n",
        "df_bangla = pd.read_csv(f'{FILE_PATH}/data/test_dataset/bangla_test_dataset.csv')\n",
        "df_bangla = create_file(df_bangla)\n",
        "\n",
        "bangla_input_ids, bangla_attention_masks, bangla_labels = create_tensors_and_text(df_bangla, False)\n",
        "bangla_texts = df_bangla.text_input.values\n",
        "\n",
        "seed_everything()\n",
        "\n",
        "total = len(df_bangla)\n",
        "\n",
        "bangla_test_set = [(bangla_input_ids[i], bangla_attention_masks[i], bangla_labels[i]) for i in range(total)]\n",
        "\n",
        "bangla_test_text = [bangla_labels[i] for i in range(total)]\n"
      ]
    },
    {
      "cell_type": "code",
      "source": [
        "seed_everything()\n",
        "get_validation_performance(bangla_test_set)[0]"
      ],
      "metadata": {
        "colab": {
          "base_uri": "https://localhost:8080/"
        },
        "id": "orjt1rWIA38F",
        "outputId": "59466492-bd2a-4d5d-8222-dcea9db475d7"
      },
      "execution_count": null,
      "outputs": [
        {
          "output_type": "stream",
          "name": "stdout",
          "text": [
            "Num of correct predictions = 115\n"
          ]
        },
        {
          "output_type": "execute_result",
          "data": {
            "text/plain": [
              "0.459241908442209"
            ]
          },
          "metadata": {},
          "execution_count": 67
        }
      ]
    },
    {
      "cell_type": "markdown",
      "source": [
        "### Turkish"
      ],
      "metadata": {
        "id": "iOdd3S5G8kcP"
      }
    },
    {
      "cell_type": "code",
      "execution_count": null,
      "metadata": {
        "colab": {
          "base_uri": "https://localhost:8080/"
        },
        "outputId": "d2da6881-66ae-4ef8-f4a2-6e4cf6e92b32",
        "id": "3lDVP9tF8kcP"
      },
      "outputs": [
        {
          "output_type": "stream",
          "name": "stdout",
          "text": [
            "Original:  aranızda kuzey güney dizisini izleyen var mı? hem tv de çıktığı tarihte hem de nette 2 defa izledim\n",
            "Token IDs: tensor([     0,   5689,  64628, 188982, 200498, 200277,     93,    445,  39970,\n",
            "           285,  22685,     32,   2360,   5044,      8, 172334,  44989,     67,\n",
            "          2360,      8,      6,  60765,    116,  75295,  35151,   5771,      2,\n",
            "             1,      1,      1,      1,      1,      1,      1,      1,      1,\n",
            "             1,      1,      1,      1,      1,      1,      1,      1,      1,\n",
            "             1,      1,      1,      1,      1,      1,      1,      1,      1,\n",
            "             1,      1,      1,      1,      1,      1,      1,      1,      1,\n",
            "             1])\n"
          ]
        }
      ],
      "source": [
        "# turkish\n",
        "\n",
        "df_turkish = pd.read_csv(f'{FILE_PATH}/data/test_dataset/turkish_test_dataset.csv')\n",
        "df_turkish = create_file(df_turkish)\n",
        "\n",
        "turkish_input_ids, turkish_attention_masks, turkish_labels = create_tensors_and_text(df_turkish, False)\n",
        "turkish_texts = df_turkish.text_input.values\n",
        "\n",
        "seed_everything()\n",
        "\n",
        "total = len(df_turkish)\n",
        "\n",
        "turkish_test_set = [(turkish_input_ids[i], turkish_attention_masks[i], turkish_labels[i]) for i in range(total)]\n",
        "\n",
        "turkish_test_text = [turkish_labels[i] for i in range(total)]\n"
      ]
    },
    {
      "cell_type": "code",
      "source": [
        "seed_everything()\n",
        "get_validation_performance(turkish_test_set)[0]"
      ],
      "metadata": {
        "colab": {
          "base_uri": "https://localhost:8080/"
        },
        "id": "0BJg_lqjA5rI",
        "outputId": "3c31146f-37d4-48cf-ec47-da195e501472"
      },
      "execution_count": null,
      "outputs": [
        {
          "output_type": "stream",
          "name": "stdout",
          "text": [
            "Num of correct predictions = 279\n"
          ]
        },
        {
          "output_type": "execute_result",
          "data": {
            "text/plain": [
              "0.5349793956043956"
            ]
          },
          "metadata": {},
          "execution_count": 69
        }
      ]
    },
    {
      "cell_type": "markdown",
      "source": [
        "### Spanish"
      ],
      "metadata": {
        "id": "LFrWo3_D8kcP"
      }
    },
    {
      "cell_type": "code",
      "execution_count": null,
      "metadata": {
        "colab": {
          "base_uri": "https://localhost:8080/"
        },
        "outputId": "bb14c6e3-58fb-4d3e-afba-7e2e021cf1ed",
        "id": "zGBiu0fB8kcP"
      },
      "outputs": [
        {
          "output_type": "stream",
          "name": "stdout",
          "text": [
            "Original:  0  . \u0015\u0015 ya? \u0015\u0015 ya. \u0015\u0015\n",
            "Token IDs: tensor([  0, 757,   6,   5, 151,  32, 151,   5,   2,   1,   1,   1,   1,   1,\n",
            "          1,   1,   1,   1,   1,   1,   1,   1,   1,   1,   1,   1,   1,   1,\n",
            "          1,   1,   1,   1,   1,   1,   1,   1,   1,   1,   1,   1,   1,   1,\n",
            "          1,   1,   1,   1,   1,   1,   1,   1,   1,   1,   1,   1,   1,   1,\n",
            "          1,   1,   1,   1,   1,   1,   1,   1])\n"
          ]
        }
      ],
      "source": [
        "# spanish\n",
        "\n",
        "df_spanish = pd.read_csv(f'{FILE_PATH}/data/test_dataset/spanish_test_dataset.csv')\n",
        "df_spanish = create_file(df_spanish)\n",
        "\n",
        "spanish_input_ids, spanish_attention_masks, spanish_labels = create_tensors_and_text(df_spanish, False)\n",
        "spanish_texts = df_spanish.text_input.values\n",
        "\n",
        "seed_everything()\n",
        "\n",
        "total = len(df_spanish)\n",
        "\n",
        "spanish_test_set = [(spanish_input_ids[i], spanish_attention_masks[i], spanish_labels[i]) for i in range(total)]\n",
        "\n",
        "spanish_test_text = [spanish_labels[i] for i in range(total)]\n",
        "\n"
      ]
    },
    {
      "cell_type": "code",
      "source": [
        "seed_everything()\n",
        "get_validation_performance(spanish_test_set)[0]"
      ],
      "metadata": {
        "colab": {
          "base_uri": "https://localhost:8080/"
        },
        "id": "UD4PeA52A77h",
        "outputId": "c1c1a80b-7207-4873-d211-ec75eef7c835"
      },
      "execution_count": null,
      "outputs": [
        {
          "output_type": "stream",
          "name": "stdout",
          "text": [
            "Num of correct predictions = 124\n"
          ]
        },
        {
          "output_type": "execute_result",
          "data": {
            "text/plain": [
              "0.5387374316755517"
            ]
          },
          "metadata": {},
          "execution_count": 71
        }
      ]
    },
    {
      "cell_type": "markdown",
      "source": [
        "### Nepali"
      ],
      "metadata": {
        "id": "IDz_aMud8kcP"
      }
    },
    {
      "cell_type": "code",
      "execution_count": null,
      "metadata": {
        "colab": {
          "base_uri": "https://localhost:8080/"
        },
        "outputId": "9e54edad-a837-4696-d068-b5fd4d44292c",
        "id": "QtWvpKsn8kcP"
      },
      "outputs": [
        {
          "output_type": "stream",
          "name": "stdout",
          "text": [
            "Original:  आगामी दिनमा यी दुई नेताबीच सहज सहकार्य होला ? नीतिमा आधारित भएर राष्ट्रको नेतृत्व गर्नुपर्छ भन्ने एमालेको दृष्टिकोण नै सहकार्यलाई सफल पार्ने आधार हो । एमाले राष्ट्रिय राजनीतिको ध्रुवीकरण, विकास समृद्धिलाई केन्द्रमा राखेर बहस गर्दै आएको पार्टी हो । माओवादी पंक्तिभित्र चाहिँ कांग्रेससँगको सहकार्य दीर्घकालीन हितका लागि र वामपन्थी मुद्दाका लागि उचित रहेन भन्ने महसुस गरेको देखिन्छ । त्यस अर्थमा आउने दिनमा सहकार्य कसिलो बन्ने नीतिगत आधार विद्यमान छन् । अर्कोतिर मुलुकमा जति धेरै अस्थिरता भयो, गठबन्धनमा भएका नयाँ पार्टी उति नै असफल हुने खतरा छ । त्यसैले उनीहरूले जे मौका पाएका छन्, काम गरेर देखाउनुपर्ने बाध्यता छ । यद्यपि नेपालमा अस्थिरता चाहने शक्तिहरू हाबी छन्, त्यसबाट जोगिनुपर्छ । अहिलेको गठबन्धन सफल/असफल हुनुमा दलहरूको आफ्नो स्वार्थ पनि निर्भर रहन्छ ।\n",
            "Token IDs: tensor([     0,  52678, 135384,  31849,  12869,  15579,  36548,  55905, 128809,\n",
            "         60246,    705,  30111,    411, 115380,  62199,  20823,    356,  52598,\n",
            "        116897,  12907,  33490,    356, 211322,   6425, 128809,   1385,  42921,\n",
            "        194570,  31218,   1253,    207,  33490,  19618,  52845,    356, 229640,\n",
            "         28265,      4,   9623,  95885,   1385,  26199,    411, 148008, 152623,\n",
            "         11890,  24640,  11247,   1253,    207,  37807, 240787,  48675,      6,\n",
            "        181527,  12042,   9142,    356, 128809, 156773, 114225,  97592,    656,\n",
            "             2])\n"
          ]
        }
      ],
      "source": [
        "# nepali\n",
        "\n",
        "df_nepali = pd.read_csv(f'{FILE_PATH}/data/test_dataset/nepali_test_dataset.csv')\n",
        "df_nepali = create_file(df_nepali)\n",
        "\n",
        "nepali_input_ids, nepali_attention_masks, nepali_labels = create_tensors_and_text(df_nepali, False)\n",
        "nepali_texts = df_nepali.text_input.values\n",
        "\n",
        "seed_everything()\n",
        "\n",
        "total = len(df_nepali)\n",
        "\n",
        "nepali_test_set = [(nepali_input_ids[i], nepali_attention_masks[i], nepali_labels[i]) for i in range(total)]\n",
        "\n",
        "nepali_test_text = [nepali_labels[i] for i in range(total)]\n",
        "\n"
      ]
    },
    {
      "cell_type": "code",
      "source": [
        "seed_everything()\n",
        "get_validation_performance(nepali_test_set)[0]"
      ],
      "metadata": {
        "colab": {
          "base_uri": "https://localhost:8080/"
        },
        "id": "ZEXu_nkUA9by",
        "outputId": "037d81f1-1e6f-4bb6-8784-0b52565914a5"
      },
      "execution_count": null,
      "outputs": [
        {
          "output_type": "stream",
          "name": "stdout",
          "text": [
            "Num of correct predictions = 136\n"
          ]
        },
        {
          "output_type": "execute_result",
          "data": {
            "text/plain": [
              "0.5652199621570483"
            ]
          },
          "metadata": {},
          "execution_count": 73
        }
      ]
    },
    {
      "cell_type": "markdown",
      "source": [
        "### Persian"
      ],
      "metadata": {
        "id": "P6p-UkOq8kcP"
      }
    },
    {
      "cell_type": "code",
      "execution_count": null,
      "metadata": {
        "colab": {
          "base_uri": "https://localhost:8080/"
        },
        "outputId": "06d7b3f6-5932-4ea3-bbe5-1ce2cc4bd1bc",
        "id": "BVHNtXrl8kcQ"
      },
      "outputs": [
        {
          "output_type": "stream",
          "name": "stdout",
          "text": [
            "Original:  حالت خوبه ؟   خوبم ، تو خوبی ؟ \n",
            "Token IDs: tensor([    0, 16413, 14109,   176,  9446, 14109,   376,   725,  1241, 35256,\n",
            "         9446,     2,     1,     1,     1,     1,     1,     1,     1,     1,\n",
            "            1,     1,     1,     1,     1,     1,     1,     1,     1,     1,\n",
            "            1,     1,     1,     1,     1,     1,     1,     1,     1,     1,\n",
            "            1,     1,     1,     1,     1,     1,     1,     1,     1,     1,\n",
            "            1,     1,     1,     1,     1,     1,     1,     1,     1,     1,\n",
            "            1,     1,     1,     1])\n"
          ]
        }
      ],
      "source": [
        "# persian\n",
        "\n",
        "df_persian = pd.read_csv(f'{FILE_PATH}/data/test_dataset/persian_test_dataset.csv')\n",
        "df_persian = create_file(df_persian)\n",
        "\n",
        "persian_input_ids, persian_attention_masks, persian_labels = create_tensors_and_text(df_persian, False)\n",
        "persian_texts = df_persian.text_input.values\n",
        "\n",
        "seed_everything()\n",
        "\n",
        "total = len(df_persian)\n",
        "\n",
        "persian_test_set = [(persian_input_ids[i], persian_attention_masks[i], persian_labels[i]) for i in range(total)]\n",
        "\n",
        "persian_test_text = [persian_labels[i] for i in range(total)]\n",
        "\n"
      ]
    },
    {
      "cell_type": "code",
      "source": [
        "seed_everything()\n",
        "get_validation_performance(persian_test_set)[0]"
      ],
      "metadata": {
        "colab": {
          "base_uri": "https://localhost:8080/"
        },
        "id": "DsDtmg8QAJ0Y",
        "outputId": "6e1d828d-c7dc-4de3-9a52-fe4e4f458e0e"
      },
      "execution_count": null,
      "outputs": [
        {
          "output_type": "stream",
          "name": "stdout",
          "text": [
            "Num of correct predictions = 129\n"
          ]
        },
        {
          "output_type": "execute_result",
          "data": {
            "text/plain": [
              "0.5270512820512822"
            ]
          },
          "metadata": {},
          "execution_count": 75
        }
      ]
    }
  ],
  "metadata": {
    "accelerator": "GPU",
    "colab": {
      "gpuType": "T4",
      "provenance": [],
      "toc_visible": true
    },
    "kernelspec": {
      "display_name": "Python 3",
      "name": "python3"
    },
    "language_info": {
      "name": "python"
    },
    "widgets": {
      "application/vnd.jupyter.widget-state+json": {
        "02c062adb170438c8160d509a438ad60": {
          "model_module": "@jupyter-widgets/controls",
          "model_module_version": "1.5.0",
          "model_name": "DescriptionStyleModel",
          "state": {
            "_model_module": "@jupyter-widgets/controls",
            "_model_module_version": "1.5.0",
            "_model_name": "DescriptionStyleModel",
            "_view_count": null,
            "_view_module": "@jupyter-widgets/base",
            "_view_module_version": "1.2.0",
            "_view_name": "StyleView",
            "description_width": ""
          }
        },
        "0362d569965d4687bb9124a023711909": {
          "model_module": "@jupyter-widgets/controls",
          "model_module_version": "1.5.0",
          "model_name": "HTMLModel",
          "state": {
            "_dom_classes": [],
            "_model_module": "@jupyter-widgets/controls",
            "_model_module_version": "1.5.0",
            "_model_name": "HTMLModel",
            "_view_count": null,
            "_view_module": "@jupyter-widgets/controls",
            "_view_module_version": "1.5.0",
            "_view_name": "HTMLView",
            "description": "",
            "description_tooltip": null,
            "layout": "IPY_MODEL_87d04a1fa57646c5a35153e88032f56d",
            "placeholder": "​",
            "style": "IPY_MODEL_450b002e9be34823ab5380ea7cf825f0",
            "value": "tokenizer_config.json: 100%"
          }
        },
        "0d14458faf8640c19a0cd7ff874c6729": {
          "model_module": "@jupyter-widgets/controls",
          "model_module_version": "1.5.0",
          "model_name": "ProgressStyleModel",
          "state": {
            "_model_module": "@jupyter-widgets/controls",
            "_model_module_version": "1.5.0",
            "_model_name": "ProgressStyleModel",
            "_view_count": null,
            "_view_module": "@jupyter-widgets/base",
            "_view_module_version": "1.2.0",
            "_view_name": "StyleView",
            "bar_color": null,
            "description_width": ""
          }
        },
        "12449b95a66844f1b1c9b4819ed74662": {
          "model_module": "@jupyter-widgets/controls",
          "model_module_version": "1.5.0",
          "model_name": "DescriptionStyleModel",
          "state": {
            "_model_module": "@jupyter-widgets/controls",
            "_model_module_version": "1.5.0",
            "_model_name": "DescriptionStyleModel",
            "_view_count": null,
            "_view_module": "@jupyter-widgets/base",
            "_view_module_version": "1.2.0",
            "_view_name": "StyleView",
            "description_width": ""
          }
        },
        "196ce8f01f0a4025be396aa63eaa14e9": {
          "model_module": "@jupyter-widgets/base",
          "model_module_version": "1.2.0",
          "model_name": "LayoutModel",
          "state": {
            "_model_module": "@jupyter-widgets/base",
            "_model_module_version": "1.2.0",
            "_model_name": "LayoutModel",
            "_view_count": null,
            "_view_module": "@jupyter-widgets/base",
            "_view_module_version": "1.2.0",
            "_view_name": "LayoutView",
            "align_content": null,
            "align_items": null,
            "align_self": null,
            "border": null,
            "bottom": null,
            "display": null,
            "flex": null,
            "flex_flow": null,
            "grid_area": null,
            "grid_auto_columns": null,
            "grid_auto_flow": null,
            "grid_auto_rows": null,
            "grid_column": null,
            "grid_gap": null,
            "grid_row": null,
            "grid_template_areas": null,
            "grid_template_columns": null,
            "grid_template_rows": null,
            "height": null,
            "justify_content": null,
            "justify_items": null,
            "left": null,
            "margin": null,
            "max_height": null,
            "max_width": null,
            "min_height": null,
            "min_width": null,
            "object_fit": null,
            "object_position": null,
            "order": null,
            "overflow": null,
            "overflow_x": null,
            "overflow_y": null,
            "padding": null,
            "right": null,
            "top": null,
            "visibility": null,
            "width": null
          }
        },
        "204afa8e848e4f568bed46ef6f879034": {
          "model_module": "@jupyter-widgets/controls",
          "model_module_version": "1.5.0",
          "model_name": "HTMLModel",
          "state": {
            "_dom_classes": [],
            "_model_module": "@jupyter-widgets/controls",
            "_model_module_version": "1.5.0",
            "_model_name": "HTMLModel",
            "_view_count": null,
            "_view_module": "@jupyter-widgets/controls",
            "_view_module_version": "1.5.0",
            "_view_name": "HTMLView",
            "description": "",
            "description_tooltip": null,
            "layout": "IPY_MODEL_9ce03792e8eb4b8b8e09f55a8c392f73",
            "placeholder": "​",
            "style": "IPY_MODEL_261a63d86cd14b4a8a37095b52d9cf28",
            "value": "tokenizer.json: 100%"
          }
        },
        "2339b326dc274c4e9b5d26f544e4a28e": {
          "model_module": "@jupyter-widgets/controls",
          "model_module_version": "1.5.0",
          "model_name": "FloatProgressModel",
          "state": {
            "_dom_classes": [],
            "_model_module": "@jupyter-widgets/controls",
            "_model_module_version": "1.5.0",
            "_model_name": "FloatProgressModel",
            "_view_count": null,
            "_view_module": "@jupyter-widgets/controls",
            "_view_module_version": "1.5.0",
            "_view_name": "ProgressView",
            "bar_style": "success",
            "description": "",
            "description_tooltip": null,
            "layout": "IPY_MODEL_4d1a4841163345d086bdfc2c4ed50c72",
            "max": 9096718,
            "min": 0,
            "orientation": "horizontal",
            "style": "IPY_MODEL_c675f76af25040e98b246e2791810116",
            "value": 9096718
          }
        },
        "261a63d86cd14b4a8a37095b52d9cf28": {
          "model_module": "@jupyter-widgets/controls",
          "model_module_version": "1.5.0",
          "model_name": "DescriptionStyleModel",
          "state": {
            "_model_module": "@jupyter-widgets/controls",
            "_model_module_version": "1.5.0",
            "_model_name": "DescriptionStyleModel",
            "_view_count": null,
            "_view_module": "@jupyter-widgets/base",
            "_view_module_version": "1.2.0",
            "_view_name": "StyleView",
            "description_width": ""
          }
        },
        "2abb1df74a704a5ca22dd46f8f8b81b2": {
          "model_module": "@jupyter-widgets/base",
          "model_module_version": "1.2.0",
          "model_name": "LayoutModel",
          "state": {
            "_model_module": "@jupyter-widgets/base",
            "_model_module_version": "1.2.0",
            "_model_name": "LayoutModel",
            "_view_count": null,
            "_view_module": "@jupyter-widgets/base",
            "_view_module_version": "1.2.0",
            "_view_name": "LayoutView",
            "align_content": null,
            "align_items": null,
            "align_self": null,
            "border": null,
            "bottom": null,
            "display": null,
            "flex": null,
            "flex_flow": null,
            "grid_area": null,
            "grid_auto_columns": null,
            "grid_auto_flow": null,
            "grid_auto_rows": null,
            "grid_column": null,
            "grid_gap": null,
            "grid_row": null,
            "grid_template_areas": null,
            "grid_template_columns": null,
            "grid_template_rows": null,
            "height": null,
            "justify_content": null,
            "justify_items": null,
            "left": null,
            "margin": null,
            "max_height": null,
            "max_width": null,
            "min_height": null,
            "min_width": null,
            "object_fit": null,
            "object_position": null,
            "order": null,
            "overflow": null,
            "overflow_x": null,
            "overflow_y": null,
            "padding": null,
            "right": null,
            "top": null,
            "visibility": null,
            "width": null
          }
        },
        "2e0dd5d8f0114533bcb53d7cb6937c39": {
          "model_module": "@jupyter-widgets/controls",
          "model_module_version": "1.5.0",
          "model_name": "HBoxModel",
          "state": {
            "_dom_classes": [],
            "_model_module": "@jupyter-widgets/controls",
            "_model_module_version": "1.5.0",
            "_model_name": "HBoxModel",
            "_view_count": null,
            "_view_module": "@jupyter-widgets/controls",
            "_view_module_version": "1.5.0",
            "_view_name": "HBoxView",
            "box_style": "",
            "children": [
              "IPY_MODEL_638c4eadb8df4e79936513481ea771c4",
              "IPY_MODEL_a7d565fe05b14f0a8fabbac1ae54cc0b",
              "IPY_MODEL_8af1d003e45549a1bef1d32d2e597b4d"
            ],
            "layout": "IPY_MODEL_dec23dda1d1b4af1a135b5691f46d218"
          }
        },
        "369d8ee9f45f4bb9aaa841b13552389f": {
          "model_module": "@jupyter-widgets/controls",
          "model_module_version": "1.5.0",
          "model_name": "HBoxModel",
          "state": {
            "_dom_classes": [],
            "_model_module": "@jupyter-widgets/controls",
            "_model_module_version": "1.5.0",
            "_model_name": "HBoxModel",
            "_view_count": null,
            "_view_module": "@jupyter-widgets/controls",
            "_view_module_version": "1.5.0",
            "_view_name": "HBoxView",
            "box_style": "",
            "children": [
              "IPY_MODEL_e1c924ebe9e64407b2c826a15a3999b8",
              "IPY_MODEL_faf4ff9d3d5d4c1abae63f09cef7b2ef",
              "IPY_MODEL_530d57464d1048fdb51dd98279741894"
            ],
            "layout": "IPY_MODEL_a079a307a6654ba8916ad0b39b95fb21"
          }
        },
        "3e2fda0732974d6eaaf5c88f3509f08f": {
          "model_module": "@jupyter-widgets/controls",
          "model_module_version": "1.5.0",
          "model_name": "DescriptionStyleModel",
          "state": {
            "_model_module": "@jupyter-widgets/controls",
            "_model_module_version": "1.5.0",
            "_model_name": "DescriptionStyleModel",
            "_view_count": null,
            "_view_module": "@jupyter-widgets/base",
            "_view_module_version": "1.2.0",
            "_view_name": "StyleView",
            "description_width": ""
          }
        },
        "4031ad7882b240e290bbd9ed460164d0": {
          "model_module": "@jupyter-widgets/base",
          "model_module_version": "1.2.0",
          "model_name": "LayoutModel",
          "state": {
            "_model_module": "@jupyter-widgets/base",
            "_model_module_version": "1.2.0",
            "_model_name": "LayoutModel",
            "_view_count": null,
            "_view_module": "@jupyter-widgets/base",
            "_view_module_version": "1.2.0",
            "_view_name": "LayoutView",
            "align_content": null,
            "align_items": null,
            "align_self": null,
            "border": null,
            "bottom": null,
            "display": null,
            "flex": null,
            "flex_flow": null,
            "grid_area": null,
            "grid_auto_columns": null,
            "grid_auto_flow": null,
            "grid_auto_rows": null,
            "grid_column": null,
            "grid_gap": null,
            "grid_row": null,
            "grid_template_areas": null,
            "grid_template_columns": null,
            "grid_template_rows": null,
            "height": null,
            "justify_content": null,
            "justify_items": null,
            "left": null,
            "margin": null,
            "max_height": null,
            "max_width": null,
            "min_height": null,
            "min_width": null,
            "object_fit": null,
            "object_position": null,
            "order": null,
            "overflow": null,
            "overflow_x": null,
            "overflow_y": null,
            "padding": null,
            "right": null,
            "top": null,
            "visibility": null,
            "width": null
          }
        },
        "44201cda3d164c2d94a889b9e1e9da1d": {
          "model_module": "@jupyter-widgets/controls",
          "model_module_version": "1.5.0",
          "model_name": "FloatProgressModel",
          "state": {
            "_dom_classes": [],
            "_model_module": "@jupyter-widgets/controls",
            "_model_module_version": "1.5.0",
            "_model_name": "FloatProgressModel",
            "_view_count": null,
            "_view_module": "@jupyter-widgets/controls",
            "_view_module_version": "1.5.0",
            "_view_name": "ProgressView",
            "bar_style": "success",
            "description": "",
            "description_tooltip": null,
            "layout": "IPY_MODEL_2abb1df74a704a5ca22dd46f8f8b81b2",
            "max": 5069051,
            "min": 0,
            "orientation": "horizontal",
            "style": "IPY_MODEL_0d14458faf8640c19a0cd7ff874c6729",
            "value": 5069051
          }
        },
        "450b002e9be34823ab5380ea7cf825f0": {
          "model_module": "@jupyter-widgets/controls",
          "model_module_version": "1.5.0",
          "model_name": "DescriptionStyleModel",
          "state": {
            "_model_module": "@jupyter-widgets/controls",
            "_model_module_version": "1.5.0",
            "_model_name": "DescriptionStyleModel",
            "_view_count": null,
            "_view_module": "@jupyter-widgets/base",
            "_view_module_version": "1.2.0",
            "_view_name": "StyleView",
            "description_width": ""
          }
        },
        "4787f95d03f5418296b4e93bae4d097b": {
          "model_module": "@jupyter-widgets/controls",
          "model_module_version": "1.5.0",
          "model_name": "DescriptionStyleModel",
          "state": {
            "_model_module": "@jupyter-widgets/controls",
            "_model_module_version": "1.5.0",
            "_model_name": "DescriptionStyleModel",
            "_view_count": null,
            "_view_module": "@jupyter-widgets/base",
            "_view_module_version": "1.2.0",
            "_view_name": "StyleView",
            "description_width": ""
          }
        },
        "4d1a4841163345d086bdfc2c4ed50c72": {
          "model_module": "@jupyter-widgets/base",
          "model_module_version": "1.2.0",
          "model_name": "LayoutModel",
          "state": {
            "_model_module": "@jupyter-widgets/base",
            "_model_module_version": "1.2.0",
            "_model_name": "LayoutModel",
            "_view_count": null,
            "_view_module": "@jupyter-widgets/base",
            "_view_module_version": "1.2.0",
            "_view_name": "LayoutView",
            "align_content": null,
            "align_items": null,
            "align_self": null,
            "border": null,
            "bottom": null,
            "display": null,
            "flex": null,
            "flex_flow": null,
            "grid_area": null,
            "grid_auto_columns": null,
            "grid_auto_flow": null,
            "grid_auto_rows": null,
            "grid_column": null,
            "grid_gap": null,
            "grid_row": null,
            "grid_template_areas": null,
            "grid_template_columns": null,
            "grid_template_rows": null,
            "height": null,
            "justify_content": null,
            "justify_items": null,
            "left": null,
            "margin": null,
            "max_height": null,
            "max_width": null,
            "min_height": null,
            "min_width": null,
            "object_fit": null,
            "object_position": null,
            "order": null,
            "overflow": null,
            "overflow_x": null,
            "overflow_y": null,
            "padding": null,
            "right": null,
            "top": null,
            "visibility": null,
            "width": null
          }
        },
        "4d346cf196a94485ab2de6296ea2d7d2": {
          "model_module": "@jupyter-widgets/base",
          "model_module_version": "1.2.0",
          "model_name": "LayoutModel",
          "state": {
            "_model_module": "@jupyter-widgets/base",
            "_model_module_version": "1.2.0",
            "_model_name": "LayoutModel",
            "_view_count": null,
            "_view_module": "@jupyter-widgets/base",
            "_view_module_version": "1.2.0",
            "_view_name": "LayoutView",
            "align_content": null,
            "align_items": null,
            "align_self": null,
            "border": null,
            "bottom": null,
            "display": null,
            "flex": null,
            "flex_flow": null,
            "grid_area": null,
            "grid_auto_columns": null,
            "grid_auto_flow": null,
            "grid_auto_rows": null,
            "grid_column": null,
            "grid_gap": null,
            "grid_row": null,
            "grid_template_areas": null,
            "grid_template_columns": null,
            "grid_template_rows": null,
            "height": null,
            "justify_content": null,
            "justify_items": null,
            "left": null,
            "margin": null,
            "max_height": null,
            "max_width": null,
            "min_height": null,
            "min_width": null,
            "object_fit": null,
            "object_position": null,
            "order": null,
            "overflow": null,
            "overflow_x": null,
            "overflow_y": null,
            "padding": null,
            "right": null,
            "top": null,
            "visibility": null,
            "width": null
          }
        },
        "508808ac9b2143d38d2382835642b769": {
          "model_module": "@jupyter-widgets/controls",
          "model_module_version": "1.5.0",
          "model_name": "HTMLModel",
          "state": {
            "_dom_classes": [],
            "_model_module": "@jupyter-widgets/controls",
            "_model_module_version": "1.5.0",
            "_model_name": "HTMLModel",
            "_view_count": null,
            "_view_module": "@jupyter-widgets/controls",
            "_view_module_version": "1.5.0",
            "_view_name": "HTMLView",
            "description": "",
            "description_tooltip": null,
            "layout": "IPY_MODEL_4031ad7882b240e290bbd9ed460164d0",
            "placeholder": "​",
            "style": "IPY_MODEL_12449b95a66844f1b1c9b4819ed74662",
            "value": " 5.07M/5.07M [00:00&lt;00:00, 32.6MB/s]"
          }
        },
        "530d57464d1048fdb51dd98279741894": {
          "model_module": "@jupyter-widgets/controls",
          "model_module_version": "1.5.0",
          "model_name": "HTMLModel",
          "state": {
            "_dom_classes": [],
            "_model_module": "@jupyter-widgets/controls",
            "_model_module_version": "1.5.0",
            "_model_name": "HTMLModel",
            "_view_count": null,
            "_view_module": "@jupyter-widgets/controls",
            "_view_module_version": "1.5.0",
            "_view_name": "HTMLView",
            "description": "",
            "description_tooltip": null,
            "layout": "IPY_MODEL_4d346cf196a94485ab2de6296ea2d7d2",
            "placeholder": "​",
            "style": "IPY_MODEL_02c062adb170438c8160d509a438ad60",
            "value": " 9.10M/9.10M [00:00&lt;00:00, 26.8MB/s]"
          }
        },
        "57ea1d9a6ee64e63bb5e14c9f6f58354": {
          "model_module": "@jupyter-widgets/base",
          "model_module_version": "1.2.0",
          "model_name": "LayoutModel",
          "state": {
            "_model_module": "@jupyter-widgets/base",
            "_model_module_version": "1.2.0",
            "_model_name": "LayoutModel",
            "_view_count": null,
            "_view_module": "@jupyter-widgets/base",
            "_view_module_version": "1.2.0",
            "_view_name": "LayoutView",
            "align_content": null,
            "align_items": null,
            "align_self": null,
            "border": null,
            "bottom": null,
            "display": null,
            "flex": null,
            "flex_flow": null,
            "grid_area": null,
            "grid_auto_columns": null,
            "grid_auto_flow": null,
            "grid_auto_rows": null,
            "grid_column": null,
            "grid_gap": null,
            "grid_row": null,
            "grid_template_areas": null,
            "grid_template_columns": null,
            "grid_template_rows": null,
            "height": null,
            "justify_content": null,
            "justify_items": null,
            "left": null,
            "margin": null,
            "max_height": null,
            "max_width": null,
            "min_height": null,
            "min_width": null,
            "object_fit": null,
            "object_position": null,
            "order": null,
            "overflow": null,
            "overflow_x": null,
            "overflow_y": null,
            "padding": null,
            "right": null,
            "top": null,
            "visibility": null,
            "width": null
          }
        },
        "5a5b584763a64741b5ca0e91d1890f34": {
          "model_module": "@jupyter-widgets/controls",
          "model_module_version": "1.5.0",
          "model_name": "HBoxModel",
          "state": {
            "_dom_classes": [],
            "_model_module": "@jupyter-widgets/controls",
            "_model_module_version": "1.5.0",
            "_model_name": "HBoxModel",
            "_view_count": null,
            "_view_module": "@jupyter-widgets/controls",
            "_view_module_version": "1.5.0",
            "_view_name": "HBoxView",
            "box_style": "",
            "children": [
              "IPY_MODEL_204afa8e848e4f568bed46ef6f879034",
              "IPY_MODEL_2339b326dc274c4e9b5d26f544e4a28e",
              "IPY_MODEL_bce78b571edd4a12a6819daa3c3e86de"
            ],
            "layout": "IPY_MODEL_f4dcbde9b2374e878b4ebc1d87331d8a"
          }
        },
        "6034820a4d92474dbf33df8a218edbb8": {
          "model_module": "@jupyter-widgets/base",
          "model_module_version": "1.2.0",
          "model_name": "LayoutModel",
          "state": {
            "_model_module": "@jupyter-widgets/base",
            "_model_module_version": "1.2.0",
            "_model_name": "LayoutModel",
            "_view_count": null,
            "_view_module": "@jupyter-widgets/base",
            "_view_module_version": "1.2.0",
            "_view_name": "LayoutView",
            "align_content": null,
            "align_items": null,
            "align_self": null,
            "border": null,
            "bottom": null,
            "display": null,
            "flex": null,
            "flex_flow": null,
            "grid_area": null,
            "grid_auto_columns": null,
            "grid_auto_flow": null,
            "grid_auto_rows": null,
            "grid_column": null,
            "grid_gap": null,
            "grid_row": null,
            "grid_template_areas": null,
            "grid_template_columns": null,
            "grid_template_rows": null,
            "height": null,
            "justify_content": null,
            "justify_items": null,
            "left": null,
            "margin": null,
            "max_height": null,
            "max_width": null,
            "min_height": null,
            "min_width": null,
            "object_fit": null,
            "object_position": null,
            "order": null,
            "overflow": null,
            "overflow_x": null,
            "overflow_y": null,
            "padding": null,
            "right": null,
            "top": null,
            "visibility": null,
            "width": null
          }
        },
        "638c4eadb8df4e79936513481ea771c4": {
          "model_module": "@jupyter-widgets/controls",
          "model_module_version": "1.5.0",
          "model_name": "HTMLModel",
          "state": {
            "_dom_classes": [],
            "_model_module": "@jupyter-widgets/controls",
            "_model_module_version": "1.5.0",
            "_model_name": "HTMLModel",
            "_view_count": null,
            "_view_module": "@jupyter-widgets/controls",
            "_view_module_version": "1.5.0",
            "_view_name": "HTMLView",
            "description": "",
            "description_tooltip": null,
            "layout": "IPY_MODEL_67f975fab2a24c269d4504af6dd7f7ca",
            "placeholder": "​",
            "style": "IPY_MODEL_98b78b51be194dba99915c0015d1d86d",
            "value": "tokenizer_config.json: 100%"
          }
        },
        "67f975fab2a24c269d4504af6dd7f7ca": {
          "model_module": "@jupyter-widgets/base",
          "model_module_version": "1.2.0",
          "model_name": "LayoutModel",
          "state": {
            "_model_module": "@jupyter-widgets/base",
            "_model_module_version": "1.2.0",
            "_model_name": "LayoutModel",
            "_view_count": null,
            "_view_module": "@jupyter-widgets/base",
            "_view_module_version": "1.2.0",
            "_view_name": "LayoutView",
            "align_content": null,
            "align_items": null,
            "align_self": null,
            "border": null,
            "bottom": null,
            "display": null,
            "flex": null,
            "flex_flow": null,
            "grid_area": null,
            "grid_auto_columns": null,
            "grid_auto_flow": null,
            "grid_auto_rows": null,
            "grid_column": null,
            "grid_gap": null,
            "grid_row": null,
            "grid_template_areas": null,
            "grid_template_columns": null,
            "grid_template_rows": null,
            "height": null,
            "justify_content": null,
            "justify_items": null,
            "left": null,
            "margin": null,
            "max_height": null,
            "max_width": null,
            "min_height": null,
            "min_width": null,
            "object_fit": null,
            "object_position": null,
            "order": null,
            "overflow": null,
            "overflow_x": null,
            "overflow_y": null,
            "padding": null,
            "right": null,
            "top": null,
            "visibility": null,
            "width": null
          }
        },
        "697c810b486142048e6fd7879b55e4ec": {
          "model_module": "@jupyter-widgets/controls",
          "model_module_version": "1.5.0",
          "model_name": "HTMLModel",
          "state": {
            "_dom_classes": [],
            "_model_module": "@jupyter-widgets/controls",
            "_model_module_version": "1.5.0",
            "_model_name": "HTMLModel",
            "_view_count": null,
            "_view_module": "@jupyter-widgets/controls",
            "_view_module_version": "1.5.0",
            "_view_name": "HTMLView",
            "description": "",
            "description_tooltip": null,
            "layout": "IPY_MODEL_e2085766312c4280b23882d604cf0b60",
            "placeholder": "​",
            "style": "IPY_MODEL_e5bf6e9dd2b74edfb9d970e99310da74",
            "value": " 25.0/25.0 [00:00&lt;00:00, 576B/s]"
          }
        },
        "71aa8c91265e456aa9af8cdd25251442": {
          "model_module": "@jupyter-widgets/controls",
          "model_module_version": "1.5.0",
          "model_name": "DescriptionStyleModel",
          "state": {
            "_model_module": "@jupyter-widgets/controls",
            "_model_module_version": "1.5.0",
            "_model_name": "DescriptionStyleModel",
            "_view_count": null,
            "_view_module": "@jupyter-widgets/base",
            "_view_module_version": "1.2.0",
            "_view_name": "StyleView",
            "description_width": ""
          }
        },
        "77f63d7e4c604424b08735fca7759177": {
          "model_module": "@jupyter-widgets/controls",
          "model_module_version": "1.5.0",
          "model_name": "HBoxModel",
          "state": {
            "_dom_classes": [],
            "_model_module": "@jupyter-widgets/controls",
            "_model_module_version": "1.5.0",
            "_model_name": "HBoxModel",
            "_view_count": null,
            "_view_module": "@jupyter-widgets/controls",
            "_view_module_version": "1.5.0",
            "_view_name": "HBoxView",
            "box_style": "",
            "children": [
              "IPY_MODEL_ac89aa42702645d180475e8bd2ae9049",
              "IPY_MODEL_44201cda3d164c2d94a889b9e1e9da1d",
              "IPY_MODEL_9800ce759164447dac26f489611342f4"
            ],
            "layout": "IPY_MODEL_196ce8f01f0a4025be396aa63eaa14e9"
          }
        },
        "7d2176e3f17d4dfaa5608de7dcf601a4": {
          "model_module": "@jupyter-widgets/controls",
          "model_module_version": "1.5.0",
          "model_name": "ProgressStyleModel",
          "state": {
            "_model_module": "@jupyter-widgets/controls",
            "_model_module_version": "1.5.0",
            "_model_name": "ProgressStyleModel",
            "_view_count": null,
            "_view_module": "@jupyter-widgets/base",
            "_view_module_version": "1.2.0",
            "_view_name": "StyleView",
            "bar_color": null,
            "description_width": ""
          }
        },
        "823a6bacc89c4cd28fa67348074e5f6e": {
          "model_module": "@jupyter-widgets/controls",
          "model_module_version": "1.5.0",
          "model_name": "HTMLModel",
          "state": {
            "_dom_classes": [],
            "_model_module": "@jupyter-widgets/controls",
            "_model_module_version": "1.5.0",
            "_model_name": "HTMLModel",
            "_view_count": null,
            "_view_module": "@jupyter-widgets/controls",
            "_view_module_version": "1.5.0",
            "_view_name": "HTMLView",
            "description": "",
            "description_tooltip": null,
            "layout": "IPY_MODEL_862f5b39c78e4513a61afe6544046318",
            "placeholder": "​",
            "style": "IPY_MODEL_71aa8c91265e456aa9af8cdd25251442",
            "value": "sentencepiece.bpe.model: 100%"
          }
        },
        "862f5b39c78e4513a61afe6544046318": {
          "model_module": "@jupyter-widgets/base",
          "model_module_version": "1.2.0",
          "model_name": "LayoutModel",
          "state": {
            "_model_module": "@jupyter-widgets/base",
            "_model_module_version": "1.2.0",
            "_model_name": "LayoutModel",
            "_view_count": null,
            "_view_module": "@jupyter-widgets/base",
            "_view_module_version": "1.2.0",
            "_view_name": "LayoutView",
            "align_content": null,
            "align_items": null,
            "align_self": null,
            "border": null,
            "bottom": null,
            "display": null,
            "flex": null,
            "flex_flow": null,
            "grid_area": null,
            "grid_auto_columns": null,
            "grid_auto_flow": null,
            "grid_auto_rows": null,
            "grid_column": null,
            "grid_gap": null,
            "grid_row": null,
            "grid_template_areas": null,
            "grid_template_columns": null,
            "grid_template_rows": null,
            "height": null,
            "justify_content": null,
            "justify_items": null,
            "left": null,
            "margin": null,
            "max_height": null,
            "max_width": null,
            "min_height": null,
            "min_width": null,
            "object_fit": null,
            "object_position": null,
            "order": null,
            "overflow": null,
            "overflow_x": null,
            "overflow_y": null,
            "padding": null,
            "right": null,
            "top": null,
            "visibility": null,
            "width": null
          }
        },
        "87d04a1fa57646c5a35153e88032f56d": {
          "model_module": "@jupyter-widgets/base",
          "model_module_version": "1.2.0",
          "model_name": "LayoutModel",
          "state": {
            "_model_module": "@jupyter-widgets/base",
            "_model_module_version": "1.2.0",
            "_model_name": "LayoutModel",
            "_view_count": null,
            "_view_module": "@jupyter-widgets/base",
            "_view_module_version": "1.2.0",
            "_view_name": "LayoutView",
            "align_content": null,
            "align_items": null,
            "align_self": null,
            "border": null,
            "bottom": null,
            "display": null,
            "flex": null,
            "flex_flow": null,
            "grid_area": null,
            "grid_auto_columns": null,
            "grid_auto_flow": null,
            "grid_auto_rows": null,
            "grid_column": null,
            "grid_gap": null,
            "grid_row": null,
            "grid_template_areas": null,
            "grid_template_columns": null,
            "grid_template_rows": null,
            "height": null,
            "justify_content": null,
            "justify_items": null,
            "left": null,
            "margin": null,
            "max_height": null,
            "max_width": null,
            "min_height": null,
            "min_width": null,
            "object_fit": null,
            "object_position": null,
            "order": null,
            "overflow": null,
            "overflow_x": null,
            "overflow_y": null,
            "padding": null,
            "right": null,
            "top": null,
            "visibility": null,
            "width": null
          }
        },
        "8928cc93de2b4a68b67b41bb1f3f6e45": {
          "model_module": "@jupyter-widgets/controls",
          "model_module_version": "1.5.0",
          "model_name": "DescriptionStyleModel",
          "state": {
            "_model_module": "@jupyter-widgets/controls",
            "_model_module_version": "1.5.0",
            "_model_name": "DescriptionStyleModel",
            "_view_count": null,
            "_view_module": "@jupyter-widgets/base",
            "_view_module_version": "1.2.0",
            "_view_name": "StyleView",
            "description_width": ""
          }
        },
        "8af1d003e45549a1bef1d32d2e597b4d": {
          "model_module": "@jupyter-widgets/controls",
          "model_module_version": "1.5.0",
          "model_name": "HTMLModel",
          "state": {
            "_dom_classes": [],
            "_model_module": "@jupyter-widgets/controls",
            "_model_module_version": "1.5.0",
            "_model_name": "HTMLModel",
            "_view_count": null,
            "_view_module": "@jupyter-widgets/controls",
            "_view_module_version": "1.5.0",
            "_view_name": "HTMLView",
            "description": "",
            "description_tooltip": null,
            "layout": "IPY_MODEL_bc5e08fa82704fe3ac808c1ac668ca6e",
            "placeholder": "​",
            "style": "IPY_MODEL_3e2fda0732974d6eaaf5c88f3509f08f",
            "value": " 25.0/25.0 [00:00&lt;00:00, 1.28kB/s]"
          }
        },
        "9800ce759164447dac26f489611342f4": {
          "model_module": "@jupyter-widgets/controls",
          "model_module_version": "1.5.0",
          "model_name": "HTMLModel",
          "state": {
            "_dom_classes": [],
            "_model_module": "@jupyter-widgets/controls",
            "_model_module_version": "1.5.0",
            "_model_name": "HTMLModel",
            "_view_count": null,
            "_view_module": "@jupyter-widgets/controls",
            "_view_module_version": "1.5.0",
            "_view_name": "HTMLView",
            "description": "",
            "description_tooltip": null,
            "layout": "IPY_MODEL_a7bcb9511311472988bf78194f8516eb",
            "placeholder": "​",
            "style": "IPY_MODEL_4787f95d03f5418296b4e93bae4d097b",
            "value": " 5.07M/5.07M [00:00&lt;00:00, 18.7MB/s]"
          }
        },
        "98b78b51be194dba99915c0015d1d86d": {
          "model_module": "@jupyter-widgets/controls",
          "model_module_version": "1.5.0",
          "model_name": "DescriptionStyleModel",
          "state": {
            "_model_module": "@jupyter-widgets/controls",
            "_model_module_version": "1.5.0",
            "_model_name": "DescriptionStyleModel",
            "_view_count": null,
            "_view_module": "@jupyter-widgets/base",
            "_view_module_version": "1.2.0",
            "_view_name": "StyleView",
            "description_width": ""
          }
        },
        "9c874fedff5b45198898a50e2d8d8bf3": {
          "model_module": "@jupyter-widgets/controls",
          "model_module_version": "1.5.0",
          "model_name": "ProgressStyleModel",
          "state": {
            "_model_module": "@jupyter-widgets/controls",
            "_model_module_version": "1.5.0",
            "_model_name": "ProgressStyleModel",
            "_view_count": null,
            "_view_module": "@jupyter-widgets/base",
            "_view_module_version": "1.2.0",
            "_view_name": "StyleView",
            "bar_color": null,
            "description_width": ""
          }
        },
        "9ce03792e8eb4b8b8e09f55a8c392f73": {
          "model_module": "@jupyter-widgets/base",
          "model_module_version": "1.2.0",
          "model_name": "LayoutModel",
          "state": {
            "_model_module": "@jupyter-widgets/base",
            "_model_module_version": "1.2.0",
            "_model_name": "LayoutModel",
            "_view_count": null,
            "_view_module": "@jupyter-widgets/base",
            "_view_module_version": "1.2.0",
            "_view_name": "LayoutView",
            "align_content": null,
            "align_items": null,
            "align_self": null,
            "border": null,
            "bottom": null,
            "display": null,
            "flex": null,
            "flex_flow": null,
            "grid_area": null,
            "grid_auto_columns": null,
            "grid_auto_flow": null,
            "grid_auto_rows": null,
            "grid_column": null,
            "grid_gap": null,
            "grid_row": null,
            "grid_template_areas": null,
            "grid_template_columns": null,
            "grid_template_rows": null,
            "height": null,
            "justify_content": null,
            "justify_items": null,
            "left": null,
            "margin": null,
            "max_height": null,
            "max_width": null,
            "min_height": null,
            "min_width": null,
            "object_fit": null,
            "object_position": null,
            "order": null,
            "overflow": null,
            "overflow_x": null,
            "overflow_y": null,
            "padding": null,
            "right": null,
            "top": null,
            "visibility": null,
            "width": null
          }
        },
        "9fe776ae208a4e089b9ead0d9f1e61b3": {
          "model_module": "@jupyter-widgets/base",
          "model_module_version": "1.2.0",
          "model_name": "LayoutModel",
          "state": {
            "_model_module": "@jupyter-widgets/base",
            "_model_module_version": "1.2.0",
            "_model_name": "LayoutModel",
            "_view_count": null,
            "_view_module": "@jupyter-widgets/base",
            "_view_module_version": "1.2.0",
            "_view_name": "LayoutView",
            "align_content": null,
            "align_items": null,
            "align_self": null,
            "border": null,
            "bottom": null,
            "display": null,
            "flex": null,
            "flex_flow": null,
            "grid_area": null,
            "grid_auto_columns": null,
            "grid_auto_flow": null,
            "grid_auto_rows": null,
            "grid_column": null,
            "grid_gap": null,
            "grid_row": null,
            "grid_template_areas": null,
            "grid_template_columns": null,
            "grid_template_rows": null,
            "height": null,
            "justify_content": null,
            "justify_items": null,
            "left": null,
            "margin": null,
            "max_height": null,
            "max_width": null,
            "min_height": null,
            "min_width": null,
            "object_fit": null,
            "object_position": null,
            "order": null,
            "overflow": null,
            "overflow_x": null,
            "overflow_y": null,
            "padding": null,
            "right": null,
            "top": null,
            "visibility": null,
            "width": null
          }
        },
        "a079a307a6654ba8916ad0b39b95fb21": {
          "model_module": "@jupyter-widgets/base",
          "model_module_version": "1.2.0",
          "model_name": "LayoutModel",
          "state": {
            "_model_module": "@jupyter-widgets/base",
            "_model_module_version": "1.2.0",
            "_model_name": "LayoutModel",
            "_view_count": null,
            "_view_module": "@jupyter-widgets/base",
            "_view_module_version": "1.2.0",
            "_view_name": "LayoutView",
            "align_content": null,
            "align_items": null,
            "align_self": null,
            "border": null,
            "bottom": null,
            "display": null,
            "flex": null,
            "flex_flow": null,
            "grid_area": null,
            "grid_auto_columns": null,
            "grid_auto_flow": null,
            "grid_auto_rows": null,
            "grid_column": null,
            "grid_gap": null,
            "grid_row": null,
            "grid_template_areas": null,
            "grid_template_columns": null,
            "grid_template_rows": null,
            "height": null,
            "justify_content": null,
            "justify_items": null,
            "left": null,
            "margin": null,
            "max_height": null,
            "max_width": null,
            "min_height": null,
            "min_width": null,
            "object_fit": null,
            "object_position": null,
            "order": null,
            "overflow": null,
            "overflow_x": null,
            "overflow_y": null,
            "padding": null,
            "right": null,
            "top": null,
            "visibility": null,
            "width": null
          }
        },
        "a7bcb9511311472988bf78194f8516eb": {
          "model_module": "@jupyter-widgets/base",
          "model_module_version": "1.2.0",
          "model_name": "LayoutModel",
          "state": {
            "_model_module": "@jupyter-widgets/base",
            "_model_module_version": "1.2.0",
            "_model_name": "LayoutModel",
            "_view_count": null,
            "_view_module": "@jupyter-widgets/base",
            "_view_module_version": "1.2.0",
            "_view_name": "LayoutView",
            "align_content": null,
            "align_items": null,
            "align_self": null,
            "border": null,
            "bottom": null,
            "display": null,
            "flex": null,
            "flex_flow": null,
            "grid_area": null,
            "grid_auto_columns": null,
            "grid_auto_flow": null,
            "grid_auto_rows": null,
            "grid_column": null,
            "grid_gap": null,
            "grid_row": null,
            "grid_template_areas": null,
            "grid_template_columns": null,
            "grid_template_rows": null,
            "height": null,
            "justify_content": null,
            "justify_items": null,
            "left": null,
            "margin": null,
            "max_height": null,
            "max_width": null,
            "min_height": null,
            "min_width": null,
            "object_fit": null,
            "object_position": null,
            "order": null,
            "overflow": null,
            "overflow_x": null,
            "overflow_y": null,
            "padding": null,
            "right": null,
            "top": null,
            "visibility": null,
            "width": null
          }
        },
        "a7d565fe05b14f0a8fabbac1ae54cc0b": {
          "model_module": "@jupyter-widgets/controls",
          "model_module_version": "1.5.0",
          "model_name": "FloatProgressModel",
          "state": {
            "_dom_classes": [],
            "_model_module": "@jupyter-widgets/controls",
            "_model_module_version": "1.5.0",
            "_model_name": "FloatProgressModel",
            "_view_count": null,
            "_view_module": "@jupyter-widgets/controls",
            "_view_module_version": "1.5.0",
            "_view_name": "ProgressView",
            "bar_style": "success",
            "description": "",
            "description_tooltip": null,
            "layout": "IPY_MODEL_aba525bc26ac4948a1bfbd830b0e8180",
            "max": 25,
            "min": 0,
            "orientation": "horizontal",
            "style": "IPY_MODEL_f2771cb7b0db4b778e603a3486c3c14b",
            "value": 25
          }
        },
        "aba525bc26ac4948a1bfbd830b0e8180": {
          "model_module": "@jupyter-widgets/base",
          "model_module_version": "1.2.0",
          "model_name": "LayoutModel",
          "state": {
            "_model_module": "@jupyter-widgets/base",
            "_model_module_version": "1.2.0",
            "_model_name": "LayoutModel",
            "_view_count": null,
            "_view_module": "@jupyter-widgets/base",
            "_view_module_version": "1.2.0",
            "_view_name": "LayoutView",
            "align_content": null,
            "align_items": null,
            "align_self": null,
            "border": null,
            "bottom": null,
            "display": null,
            "flex": null,
            "flex_flow": null,
            "grid_area": null,
            "grid_auto_columns": null,
            "grid_auto_flow": null,
            "grid_auto_rows": null,
            "grid_column": null,
            "grid_gap": null,
            "grid_row": null,
            "grid_template_areas": null,
            "grid_template_columns": null,
            "grid_template_rows": null,
            "height": null,
            "justify_content": null,
            "justify_items": null,
            "left": null,
            "margin": null,
            "max_height": null,
            "max_width": null,
            "min_height": null,
            "min_width": null,
            "object_fit": null,
            "object_position": null,
            "order": null,
            "overflow": null,
            "overflow_x": null,
            "overflow_y": null,
            "padding": null,
            "right": null,
            "top": null,
            "visibility": null,
            "width": null
          }
        },
        "ac89aa42702645d180475e8bd2ae9049": {
          "model_module": "@jupyter-widgets/controls",
          "model_module_version": "1.5.0",
          "model_name": "HTMLModel",
          "state": {
            "_dom_classes": [],
            "_model_module": "@jupyter-widgets/controls",
            "_model_module_version": "1.5.0",
            "_model_name": "HTMLModel",
            "_view_count": null,
            "_view_module": "@jupyter-widgets/controls",
            "_view_module_version": "1.5.0",
            "_view_name": "HTMLView",
            "description": "",
            "description_tooltip": null,
            "layout": "IPY_MODEL_57ea1d9a6ee64e63bb5e14c9f6f58354",
            "placeholder": "​",
            "style": "IPY_MODEL_8928cc93de2b4a68b67b41bb1f3f6e45",
            "value": "sentencepiece.bpe.model: 100%"
          }
        },
        "ada6a0646d0d415eb383b5f0e9d44d1c": {
          "model_module": "@jupyter-widgets/controls",
          "model_module_version": "1.5.0",
          "model_name": "ProgressStyleModel",
          "state": {
            "_model_module": "@jupyter-widgets/controls",
            "_model_module_version": "1.5.0",
            "_model_name": "ProgressStyleModel",
            "_view_count": null,
            "_view_module": "@jupyter-widgets/base",
            "_view_module_version": "1.2.0",
            "_view_name": "StyleView",
            "bar_color": null,
            "description_width": ""
          }
        },
        "b1f485d71bb940ac9349e5b4496e9567": {
          "model_module": "@jupyter-widgets/controls",
          "model_module_version": "1.5.0",
          "model_name": "FloatProgressModel",
          "state": {
            "_dom_classes": [],
            "_model_module": "@jupyter-widgets/controls",
            "_model_module_version": "1.5.0",
            "_model_name": "FloatProgressModel",
            "_view_count": null,
            "_view_module": "@jupyter-widgets/controls",
            "_view_module_version": "1.5.0",
            "_view_name": "ProgressView",
            "bar_style": "success",
            "description": "",
            "description_tooltip": null,
            "layout": "IPY_MODEL_6034820a4d92474dbf33df8a218edbb8",
            "max": 25,
            "min": 0,
            "orientation": "horizontal",
            "style": "IPY_MODEL_ada6a0646d0d415eb383b5f0e9d44d1c",
            "value": 25
          }
        },
        "baf6ecde11534009be07826ae2bf937a": {
          "model_module": "@jupyter-widgets/controls",
          "model_module_version": "1.5.0",
          "model_name": "HBoxModel",
          "state": {
            "_dom_classes": [],
            "_model_module": "@jupyter-widgets/controls",
            "_model_module_version": "1.5.0",
            "_model_name": "HBoxModel",
            "_view_count": null,
            "_view_module": "@jupyter-widgets/controls",
            "_view_module_version": "1.5.0",
            "_view_name": "HBoxView",
            "box_style": "",
            "children": [
              "IPY_MODEL_0362d569965d4687bb9124a023711909",
              "IPY_MODEL_b1f485d71bb940ac9349e5b4496e9567",
              "IPY_MODEL_697c810b486142048e6fd7879b55e4ec"
            ],
            "layout": "IPY_MODEL_dc6cf56d538b40aca801fef2916f1d3d"
          }
        },
        "bc5e08fa82704fe3ac808c1ac668ca6e": {
          "model_module": "@jupyter-widgets/base",
          "model_module_version": "1.2.0",
          "model_name": "LayoutModel",
          "state": {
            "_model_module": "@jupyter-widgets/base",
            "_model_module_version": "1.2.0",
            "_model_name": "LayoutModel",
            "_view_count": null,
            "_view_module": "@jupyter-widgets/base",
            "_view_module_version": "1.2.0",
            "_view_name": "LayoutView",
            "align_content": null,
            "align_items": null,
            "align_self": null,
            "border": null,
            "bottom": null,
            "display": null,
            "flex": null,
            "flex_flow": null,
            "grid_area": null,
            "grid_auto_columns": null,
            "grid_auto_flow": null,
            "grid_auto_rows": null,
            "grid_column": null,
            "grid_gap": null,
            "grid_row": null,
            "grid_template_areas": null,
            "grid_template_columns": null,
            "grid_template_rows": null,
            "height": null,
            "justify_content": null,
            "justify_items": null,
            "left": null,
            "margin": null,
            "max_height": null,
            "max_width": null,
            "min_height": null,
            "min_width": null,
            "object_fit": null,
            "object_position": null,
            "order": null,
            "overflow": null,
            "overflow_x": null,
            "overflow_y": null,
            "padding": null,
            "right": null,
            "top": null,
            "visibility": null,
            "width": null
          }
        },
        "bce78b571edd4a12a6819daa3c3e86de": {
          "model_module": "@jupyter-widgets/controls",
          "model_module_version": "1.5.0",
          "model_name": "HTMLModel",
          "state": {
            "_dom_classes": [],
            "_model_module": "@jupyter-widgets/controls",
            "_model_module_version": "1.5.0",
            "_model_name": "HTMLModel",
            "_view_count": null,
            "_view_module": "@jupyter-widgets/controls",
            "_view_module_version": "1.5.0",
            "_view_name": "HTMLView",
            "description": "",
            "description_tooltip": null,
            "layout": "IPY_MODEL_9fe776ae208a4e089b9ead0d9f1e61b3",
            "placeholder": "​",
            "style": "IPY_MODEL_fde72d7e9f494558b8fdcced824b5dca",
            "value": " 9.10M/9.10M [00:00&lt;00:00, 30.6MB/s]"
          }
        },
        "c675f76af25040e98b246e2791810116": {
          "model_module": "@jupyter-widgets/controls",
          "model_module_version": "1.5.0",
          "model_name": "ProgressStyleModel",
          "state": {
            "_model_module": "@jupyter-widgets/controls",
            "_model_module_version": "1.5.0",
            "_model_name": "ProgressStyleModel",
            "_view_count": null,
            "_view_module": "@jupyter-widgets/base",
            "_view_module_version": "1.2.0",
            "_view_name": "StyleView",
            "bar_color": null,
            "description_width": ""
          }
        },
        "cb665994565e4cd7945afdae841b20e2": {
          "model_module": "@jupyter-widgets/base",
          "model_module_version": "1.2.0",
          "model_name": "LayoutModel",
          "state": {
            "_model_module": "@jupyter-widgets/base",
            "_model_module_version": "1.2.0",
            "_model_name": "LayoutModel",
            "_view_count": null,
            "_view_module": "@jupyter-widgets/base",
            "_view_module_version": "1.2.0",
            "_view_name": "LayoutView",
            "align_content": null,
            "align_items": null,
            "align_self": null,
            "border": null,
            "bottom": null,
            "display": null,
            "flex": null,
            "flex_flow": null,
            "grid_area": null,
            "grid_auto_columns": null,
            "grid_auto_flow": null,
            "grid_auto_rows": null,
            "grid_column": null,
            "grid_gap": null,
            "grid_row": null,
            "grid_template_areas": null,
            "grid_template_columns": null,
            "grid_template_rows": null,
            "height": null,
            "justify_content": null,
            "justify_items": null,
            "left": null,
            "margin": null,
            "max_height": null,
            "max_width": null,
            "min_height": null,
            "min_width": null,
            "object_fit": null,
            "object_position": null,
            "order": null,
            "overflow": null,
            "overflow_x": null,
            "overflow_y": null,
            "padding": null,
            "right": null,
            "top": null,
            "visibility": null,
            "width": null
          }
        },
        "d73d29e762024f4d9c2358025be83868": {
          "model_module": "@jupyter-widgets/base",
          "model_module_version": "1.2.0",
          "model_name": "LayoutModel",
          "state": {
            "_model_module": "@jupyter-widgets/base",
            "_model_module_version": "1.2.0",
            "_model_name": "LayoutModel",
            "_view_count": null,
            "_view_module": "@jupyter-widgets/base",
            "_view_module_version": "1.2.0",
            "_view_name": "LayoutView",
            "align_content": null,
            "align_items": null,
            "align_self": null,
            "border": null,
            "bottom": null,
            "display": null,
            "flex": null,
            "flex_flow": null,
            "grid_area": null,
            "grid_auto_columns": null,
            "grid_auto_flow": null,
            "grid_auto_rows": null,
            "grid_column": null,
            "grid_gap": null,
            "grid_row": null,
            "grid_template_areas": null,
            "grid_template_columns": null,
            "grid_template_rows": null,
            "height": null,
            "justify_content": null,
            "justify_items": null,
            "left": null,
            "margin": null,
            "max_height": null,
            "max_width": null,
            "min_height": null,
            "min_width": null,
            "object_fit": null,
            "object_position": null,
            "order": null,
            "overflow": null,
            "overflow_x": null,
            "overflow_y": null,
            "padding": null,
            "right": null,
            "top": null,
            "visibility": null,
            "width": null
          }
        },
        "dc6cf56d538b40aca801fef2916f1d3d": {
          "model_module": "@jupyter-widgets/base",
          "model_module_version": "1.2.0",
          "model_name": "LayoutModel",
          "state": {
            "_model_module": "@jupyter-widgets/base",
            "_model_module_version": "1.2.0",
            "_model_name": "LayoutModel",
            "_view_count": null,
            "_view_module": "@jupyter-widgets/base",
            "_view_module_version": "1.2.0",
            "_view_name": "LayoutView",
            "align_content": null,
            "align_items": null,
            "align_self": null,
            "border": null,
            "bottom": null,
            "display": null,
            "flex": null,
            "flex_flow": null,
            "grid_area": null,
            "grid_auto_columns": null,
            "grid_auto_flow": null,
            "grid_auto_rows": null,
            "grid_column": null,
            "grid_gap": null,
            "grid_row": null,
            "grid_template_areas": null,
            "grid_template_columns": null,
            "grid_template_rows": null,
            "height": null,
            "justify_content": null,
            "justify_items": null,
            "left": null,
            "margin": null,
            "max_height": null,
            "max_width": null,
            "min_height": null,
            "min_width": null,
            "object_fit": null,
            "object_position": null,
            "order": null,
            "overflow": null,
            "overflow_x": null,
            "overflow_y": null,
            "padding": null,
            "right": null,
            "top": null,
            "visibility": null,
            "width": null
          }
        },
        "dec23dda1d1b4af1a135b5691f46d218": {
          "model_module": "@jupyter-widgets/base",
          "model_module_version": "1.2.0",
          "model_name": "LayoutModel",
          "state": {
            "_model_module": "@jupyter-widgets/base",
            "_model_module_version": "1.2.0",
            "_model_name": "LayoutModel",
            "_view_count": null,
            "_view_module": "@jupyter-widgets/base",
            "_view_module_version": "1.2.0",
            "_view_name": "LayoutView",
            "align_content": null,
            "align_items": null,
            "align_self": null,
            "border": null,
            "bottom": null,
            "display": null,
            "flex": null,
            "flex_flow": null,
            "grid_area": null,
            "grid_auto_columns": null,
            "grid_auto_flow": null,
            "grid_auto_rows": null,
            "grid_column": null,
            "grid_gap": null,
            "grid_row": null,
            "grid_template_areas": null,
            "grid_template_columns": null,
            "grid_template_rows": null,
            "height": null,
            "justify_content": null,
            "justify_items": null,
            "left": null,
            "margin": null,
            "max_height": null,
            "max_width": null,
            "min_height": null,
            "min_width": null,
            "object_fit": null,
            "object_position": null,
            "order": null,
            "overflow": null,
            "overflow_x": null,
            "overflow_y": null,
            "padding": null,
            "right": null,
            "top": null,
            "visibility": null,
            "width": null
          }
        },
        "df8bbd0ec9194f39a8d91f43cd2572d1": {
          "model_module": "@jupyter-widgets/controls",
          "model_module_version": "1.5.0",
          "model_name": "HBoxModel",
          "state": {
            "_dom_classes": [],
            "_model_module": "@jupyter-widgets/controls",
            "_model_module_version": "1.5.0",
            "_model_name": "HBoxModel",
            "_view_count": null,
            "_view_module": "@jupyter-widgets/controls",
            "_view_module_version": "1.5.0",
            "_view_name": "HBoxView",
            "box_style": "",
            "children": [
              "IPY_MODEL_823a6bacc89c4cd28fa67348074e5f6e",
              "IPY_MODEL_e50cf44e1d174bc8b3f9c3d4796d7d14",
              "IPY_MODEL_508808ac9b2143d38d2382835642b769"
            ],
            "layout": "IPY_MODEL_d73d29e762024f4d9c2358025be83868"
          }
        },
        "e1c924ebe9e64407b2c826a15a3999b8": {
          "model_module": "@jupyter-widgets/controls",
          "model_module_version": "1.5.0",
          "model_name": "HTMLModel",
          "state": {
            "_dom_classes": [],
            "_model_module": "@jupyter-widgets/controls",
            "_model_module_version": "1.5.0",
            "_model_name": "HTMLModel",
            "_view_count": null,
            "_view_module": "@jupyter-widgets/controls",
            "_view_module_version": "1.5.0",
            "_view_name": "HTMLView",
            "description": "",
            "description_tooltip": null,
            "layout": "IPY_MODEL_eb28da13420f4dcb84aef9340367984c",
            "placeholder": "​",
            "style": "IPY_MODEL_f77346dc6f404cf9b430e20901961cd3",
            "value": "tokenizer.json: 100%"
          }
        },
        "e2085766312c4280b23882d604cf0b60": {
          "model_module": "@jupyter-widgets/base",
          "model_module_version": "1.2.0",
          "model_name": "LayoutModel",
          "state": {
            "_model_module": "@jupyter-widgets/base",
            "_model_module_version": "1.2.0",
            "_model_name": "LayoutModel",
            "_view_count": null,
            "_view_module": "@jupyter-widgets/base",
            "_view_module_version": "1.2.0",
            "_view_name": "LayoutView",
            "align_content": null,
            "align_items": null,
            "align_self": null,
            "border": null,
            "bottom": null,
            "display": null,
            "flex": null,
            "flex_flow": null,
            "grid_area": null,
            "grid_auto_columns": null,
            "grid_auto_flow": null,
            "grid_auto_rows": null,
            "grid_column": null,
            "grid_gap": null,
            "grid_row": null,
            "grid_template_areas": null,
            "grid_template_columns": null,
            "grid_template_rows": null,
            "height": null,
            "justify_content": null,
            "justify_items": null,
            "left": null,
            "margin": null,
            "max_height": null,
            "max_width": null,
            "min_height": null,
            "min_width": null,
            "object_fit": null,
            "object_position": null,
            "order": null,
            "overflow": null,
            "overflow_x": null,
            "overflow_y": null,
            "padding": null,
            "right": null,
            "top": null,
            "visibility": null,
            "width": null
          }
        },
        "e50cf44e1d174bc8b3f9c3d4796d7d14": {
          "model_module": "@jupyter-widgets/controls",
          "model_module_version": "1.5.0",
          "model_name": "FloatProgressModel",
          "state": {
            "_dom_classes": [],
            "_model_module": "@jupyter-widgets/controls",
            "_model_module_version": "1.5.0",
            "_model_name": "FloatProgressModel",
            "_view_count": null,
            "_view_module": "@jupyter-widgets/controls",
            "_view_module_version": "1.5.0",
            "_view_name": "ProgressView",
            "bar_style": "success",
            "description": "",
            "description_tooltip": null,
            "layout": "IPY_MODEL_f2788a6e8f074f719f7d78df59c50f8a",
            "max": 5069051,
            "min": 0,
            "orientation": "horizontal",
            "style": "IPY_MODEL_9c874fedff5b45198898a50e2d8d8bf3",
            "value": 5069051
          }
        },
        "e5bf6e9dd2b74edfb9d970e99310da74": {
          "model_module": "@jupyter-widgets/controls",
          "model_module_version": "1.5.0",
          "model_name": "DescriptionStyleModel",
          "state": {
            "_model_module": "@jupyter-widgets/controls",
            "_model_module_version": "1.5.0",
            "_model_name": "DescriptionStyleModel",
            "_view_count": null,
            "_view_module": "@jupyter-widgets/base",
            "_view_module_version": "1.2.0",
            "_view_name": "StyleView",
            "description_width": ""
          }
        },
        "eb28da13420f4dcb84aef9340367984c": {
          "model_module": "@jupyter-widgets/base",
          "model_module_version": "1.2.0",
          "model_name": "LayoutModel",
          "state": {
            "_model_module": "@jupyter-widgets/base",
            "_model_module_version": "1.2.0",
            "_model_name": "LayoutModel",
            "_view_count": null,
            "_view_module": "@jupyter-widgets/base",
            "_view_module_version": "1.2.0",
            "_view_name": "LayoutView",
            "align_content": null,
            "align_items": null,
            "align_self": null,
            "border": null,
            "bottom": null,
            "display": null,
            "flex": null,
            "flex_flow": null,
            "grid_area": null,
            "grid_auto_columns": null,
            "grid_auto_flow": null,
            "grid_auto_rows": null,
            "grid_column": null,
            "grid_gap": null,
            "grid_row": null,
            "grid_template_areas": null,
            "grid_template_columns": null,
            "grid_template_rows": null,
            "height": null,
            "justify_content": null,
            "justify_items": null,
            "left": null,
            "margin": null,
            "max_height": null,
            "max_width": null,
            "min_height": null,
            "min_width": null,
            "object_fit": null,
            "object_position": null,
            "order": null,
            "overflow": null,
            "overflow_x": null,
            "overflow_y": null,
            "padding": null,
            "right": null,
            "top": null,
            "visibility": null,
            "width": null
          }
        },
        "f2771cb7b0db4b778e603a3486c3c14b": {
          "model_module": "@jupyter-widgets/controls",
          "model_module_version": "1.5.0",
          "model_name": "ProgressStyleModel",
          "state": {
            "_model_module": "@jupyter-widgets/controls",
            "_model_module_version": "1.5.0",
            "_model_name": "ProgressStyleModel",
            "_view_count": null,
            "_view_module": "@jupyter-widgets/base",
            "_view_module_version": "1.2.0",
            "_view_name": "StyleView",
            "bar_color": null,
            "description_width": ""
          }
        },
        "f2788a6e8f074f719f7d78df59c50f8a": {
          "model_module": "@jupyter-widgets/base",
          "model_module_version": "1.2.0",
          "model_name": "LayoutModel",
          "state": {
            "_model_module": "@jupyter-widgets/base",
            "_model_module_version": "1.2.0",
            "_model_name": "LayoutModel",
            "_view_count": null,
            "_view_module": "@jupyter-widgets/base",
            "_view_module_version": "1.2.0",
            "_view_name": "LayoutView",
            "align_content": null,
            "align_items": null,
            "align_self": null,
            "border": null,
            "bottom": null,
            "display": null,
            "flex": null,
            "flex_flow": null,
            "grid_area": null,
            "grid_auto_columns": null,
            "grid_auto_flow": null,
            "grid_auto_rows": null,
            "grid_column": null,
            "grid_gap": null,
            "grid_row": null,
            "grid_template_areas": null,
            "grid_template_columns": null,
            "grid_template_rows": null,
            "height": null,
            "justify_content": null,
            "justify_items": null,
            "left": null,
            "margin": null,
            "max_height": null,
            "max_width": null,
            "min_height": null,
            "min_width": null,
            "object_fit": null,
            "object_position": null,
            "order": null,
            "overflow": null,
            "overflow_x": null,
            "overflow_y": null,
            "padding": null,
            "right": null,
            "top": null,
            "visibility": null,
            "width": null
          }
        },
        "f4dcbde9b2374e878b4ebc1d87331d8a": {
          "model_module": "@jupyter-widgets/base",
          "model_module_version": "1.2.0",
          "model_name": "LayoutModel",
          "state": {
            "_model_module": "@jupyter-widgets/base",
            "_model_module_version": "1.2.0",
            "_model_name": "LayoutModel",
            "_view_count": null,
            "_view_module": "@jupyter-widgets/base",
            "_view_module_version": "1.2.0",
            "_view_name": "LayoutView",
            "align_content": null,
            "align_items": null,
            "align_self": null,
            "border": null,
            "bottom": null,
            "display": null,
            "flex": null,
            "flex_flow": null,
            "grid_area": null,
            "grid_auto_columns": null,
            "grid_auto_flow": null,
            "grid_auto_rows": null,
            "grid_column": null,
            "grid_gap": null,
            "grid_row": null,
            "grid_template_areas": null,
            "grid_template_columns": null,
            "grid_template_rows": null,
            "height": null,
            "justify_content": null,
            "justify_items": null,
            "left": null,
            "margin": null,
            "max_height": null,
            "max_width": null,
            "min_height": null,
            "min_width": null,
            "object_fit": null,
            "object_position": null,
            "order": null,
            "overflow": null,
            "overflow_x": null,
            "overflow_y": null,
            "padding": null,
            "right": null,
            "top": null,
            "visibility": null,
            "width": null
          }
        },
        "f77346dc6f404cf9b430e20901961cd3": {
          "model_module": "@jupyter-widgets/controls",
          "model_module_version": "1.5.0",
          "model_name": "DescriptionStyleModel",
          "state": {
            "_model_module": "@jupyter-widgets/controls",
            "_model_module_version": "1.5.0",
            "_model_name": "DescriptionStyleModel",
            "_view_count": null,
            "_view_module": "@jupyter-widgets/base",
            "_view_module_version": "1.2.0",
            "_view_name": "StyleView",
            "description_width": ""
          }
        },
        "faf4ff9d3d5d4c1abae63f09cef7b2ef": {
          "model_module": "@jupyter-widgets/controls",
          "model_module_version": "1.5.0",
          "model_name": "FloatProgressModel",
          "state": {
            "_dom_classes": [],
            "_model_module": "@jupyter-widgets/controls",
            "_model_module_version": "1.5.0",
            "_model_name": "FloatProgressModel",
            "_view_count": null,
            "_view_module": "@jupyter-widgets/controls",
            "_view_module_version": "1.5.0",
            "_view_name": "ProgressView",
            "bar_style": "success",
            "description": "",
            "description_tooltip": null,
            "layout": "IPY_MODEL_cb665994565e4cd7945afdae841b20e2",
            "max": 9096718,
            "min": 0,
            "orientation": "horizontal",
            "style": "IPY_MODEL_7d2176e3f17d4dfaa5608de7dcf601a4",
            "value": 9096718
          }
        },
        "fde72d7e9f494558b8fdcced824b5dca": {
          "model_module": "@jupyter-widgets/controls",
          "model_module_version": "1.5.0",
          "model_name": "DescriptionStyleModel",
          "state": {
            "_model_module": "@jupyter-widgets/controls",
            "_model_module_version": "1.5.0",
            "_model_name": "DescriptionStyleModel",
            "_view_count": null,
            "_view_module": "@jupyter-widgets/base",
            "_view_module_version": "1.2.0",
            "_view_name": "StyleView",
            "description_width": ""
          }
        },
        "292da2e0afa24d1a8dda96baf76c349e": {
          "model_module": "@jupyter-widgets/controls",
          "model_name": "HBoxModel",
          "model_module_version": "1.5.0",
          "state": {
            "_dom_classes": [],
            "_model_module": "@jupyter-widgets/controls",
            "_model_module_version": "1.5.0",
            "_model_name": "HBoxModel",
            "_view_count": null,
            "_view_module": "@jupyter-widgets/controls",
            "_view_module_version": "1.5.0",
            "_view_name": "HBoxView",
            "box_style": "",
            "children": [
              "IPY_MODEL_d470e418f0224ac8930dcda097de6b0a",
              "IPY_MODEL_2bfe4455f8f4434ca54c3215c2459dc0",
              "IPY_MODEL_c38742f9750847ea85c6dad82ddf7289"
            ],
            "layout": "IPY_MODEL_c56cc2292cac47eea334b729ecd691a1"
          }
        },
        "d470e418f0224ac8930dcda097de6b0a": {
          "model_module": "@jupyter-widgets/controls",
          "model_name": "HTMLModel",
          "model_module_version": "1.5.0",
          "state": {
            "_dom_classes": [],
            "_model_module": "@jupyter-widgets/controls",
            "_model_module_version": "1.5.0",
            "_model_name": "HTMLModel",
            "_view_count": null,
            "_view_module": "@jupyter-widgets/controls",
            "_view_module_version": "1.5.0",
            "_view_name": "HTMLView",
            "description": "",
            "description_tooltip": null,
            "layout": "IPY_MODEL_0e9f9fe702c0408f9d5977cead054fe6",
            "placeholder": "​",
            "style": "IPY_MODEL_67add741620548d2ac259d1ad259467d",
            "value": "model.safetensors: 100%"
          }
        },
        "2bfe4455f8f4434ca54c3215c2459dc0": {
          "model_module": "@jupyter-widgets/controls",
          "model_name": "FloatProgressModel",
          "model_module_version": "1.5.0",
          "state": {
            "_dom_classes": [],
            "_model_module": "@jupyter-widgets/controls",
            "_model_module_version": "1.5.0",
            "_model_name": "FloatProgressModel",
            "_view_count": null,
            "_view_module": "@jupyter-widgets/controls",
            "_view_module_version": "1.5.0",
            "_view_name": "ProgressView",
            "bar_style": "success",
            "description": "",
            "description_tooltip": null,
            "layout": "IPY_MODEL_1217e8e4943f431a91c86a0133a5ce58",
            "max": 1115567652,
            "min": 0,
            "orientation": "horizontal",
            "style": "IPY_MODEL_38cca25dab624da5b0de11c65e484115",
            "value": 1115567652
          }
        },
        "c38742f9750847ea85c6dad82ddf7289": {
          "model_module": "@jupyter-widgets/controls",
          "model_name": "HTMLModel",
          "model_module_version": "1.5.0",
          "state": {
            "_dom_classes": [],
            "_model_module": "@jupyter-widgets/controls",
            "_model_module_version": "1.5.0",
            "_model_name": "HTMLModel",
            "_view_count": null,
            "_view_module": "@jupyter-widgets/controls",
            "_view_module_version": "1.5.0",
            "_view_name": "HTMLView",
            "description": "",
            "description_tooltip": null,
            "layout": "IPY_MODEL_ae34f386b36f4747866892f08e1a8765",
            "placeholder": "​",
            "style": "IPY_MODEL_fd47deedc28d4dae982a237a378ffa2d",
            "value": " 1.12G/1.12G [00:11&lt;00:00, 190MB/s]"
          }
        },
        "c56cc2292cac47eea334b729ecd691a1": {
          "model_module": "@jupyter-widgets/base",
          "model_name": "LayoutModel",
          "model_module_version": "1.2.0",
          "state": {
            "_model_module": "@jupyter-widgets/base",
            "_model_module_version": "1.2.0",
            "_model_name": "LayoutModel",
            "_view_count": null,
            "_view_module": "@jupyter-widgets/base",
            "_view_module_version": "1.2.0",
            "_view_name": "LayoutView",
            "align_content": null,
            "align_items": null,
            "align_self": null,
            "border": null,
            "bottom": null,
            "display": null,
            "flex": null,
            "flex_flow": null,
            "grid_area": null,
            "grid_auto_columns": null,
            "grid_auto_flow": null,
            "grid_auto_rows": null,
            "grid_column": null,
            "grid_gap": null,
            "grid_row": null,
            "grid_template_areas": null,
            "grid_template_columns": null,
            "grid_template_rows": null,
            "height": null,
            "justify_content": null,
            "justify_items": null,
            "left": null,
            "margin": null,
            "max_height": null,
            "max_width": null,
            "min_height": null,
            "min_width": null,
            "object_fit": null,
            "object_position": null,
            "order": null,
            "overflow": null,
            "overflow_x": null,
            "overflow_y": null,
            "padding": null,
            "right": null,
            "top": null,
            "visibility": null,
            "width": null
          }
        },
        "0e9f9fe702c0408f9d5977cead054fe6": {
          "model_module": "@jupyter-widgets/base",
          "model_name": "LayoutModel",
          "model_module_version": "1.2.0",
          "state": {
            "_model_module": "@jupyter-widgets/base",
            "_model_module_version": "1.2.0",
            "_model_name": "LayoutModel",
            "_view_count": null,
            "_view_module": "@jupyter-widgets/base",
            "_view_module_version": "1.2.0",
            "_view_name": "LayoutView",
            "align_content": null,
            "align_items": null,
            "align_self": null,
            "border": null,
            "bottom": null,
            "display": null,
            "flex": null,
            "flex_flow": null,
            "grid_area": null,
            "grid_auto_columns": null,
            "grid_auto_flow": null,
            "grid_auto_rows": null,
            "grid_column": null,
            "grid_gap": null,
            "grid_row": null,
            "grid_template_areas": null,
            "grid_template_columns": null,
            "grid_template_rows": null,
            "height": null,
            "justify_content": null,
            "justify_items": null,
            "left": null,
            "margin": null,
            "max_height": null,
            "max_width": null,
            "min_height": null,
            "min_width": null,
            "object_fit": null,
            "object_position": null,
            "order": null,
            "overflow": null,
            "overflow_x": null,
            "overflow_y": null,
            "padding": null,
            "right": null,
            "top": null,
            "visibility": null,
            "width": null
          }
        },
        "67add741620548d2ac259d1ad259467d": {
          "model_module": "@jupyter-widgets/controls",
          "model_name": "DescriptionStyleModel",
          "model_module_version": "1.5.0",
          "state": {
            "_model_module": "@jupyter-widgets/controls",
            "_model_module_version": "1.5.0",
            "_model_name": "DescriptionStyleModel",
            "_view_count": null,
            "_view_module": "@jupyter-widgets/base",
            "_view_module_version": "1.2.0",
            "_view_name": "StyleView",
            "description_width": ""
          }
        },
        "1217e8e4943f431a91c86a0133a5ce58": {
          "model_module": "@jupyter-widgets/base",
          "model_name": "LayoutModel",
          "model_module_version": "1.2.0",
          "state": {
            "_model_module": "@jupyter-widgets/base",
            "_model_module_version": "1.2.0",
            "_model_name": "LayoutModel",
            "_view_count": null,
            "_view_module": "@jupyter-widgets/base",
            "_view_module_version": "1.2.0",
            "_view_name": "LayoutView",
            "align_content": null,
            "align_items": null,
            "align_self": null,
            "border": null,
            "bottom": null,
            "display": null,
            "flex": null,
            "flex_flow": null,
            "grid_area": null,
            "grid_auto_columns": null,
            "grid_auto_flow": null,
            "grid_auto_rows": null,
            "grid_column": null,
            "grid_gap": null,
            "grid_row": null,
            "grid_template_areas": null,
            "grid_template_columns": null,
            "grid_template_rows": null,
            "height": null,
            "justify_content": null,
            "justify_items": null,
            "left": null,
            "margin": null,
            "max_height": null,
            "max_width": null,
            "min_height": null,
            "min_width": null,
            "object_fit": null,
            "object_position": null,
            "order": null,
            "overflow": null,
            "overflow_x": null,
            "overflow_y": null,
            "padding": null,
            "right": null,
            "top": null,
            "visibility": null,
            "width": null
          }
        },
        "38cca25dab624da5b0de11c65e484115": {
          "model_module": "@jupyter-widgets/controls",
          "model_name": "ProgressStyleModel",
          "model_module_version": "1.5.0",
          "state": {
            "_model_module": "@jupyter-widgets/controls",
            "_model_module_version": "1.5.0",
            "_model_name": "ProgressStyleModel",
            "_view_count": null,
            "_view_module": "@jupyter-widgets/base",
            "_view_module_version": "1.2.0",
            "_view_name": "StyleView",
            "bar_color": null,
            "description_width": ""
          }
        },
        "ae34f386b36f4747866892f08e1a8765": {
          "model_module": "@jupyter-widgets/base",
          "model_name": "LayoutModel",
          "model_module_version": "1.2.0",
          "state": {
            "_model_module": "@jupyter-widgets/base",
            "_model_module_version": "1.2.0",
            "_model_name": "LayoutModel",
            "_view_count": null,
            "_view_module": "@jupyter-widgets/base",
            "_view_module_version": "1.2.0",
            "_view_name": "LayoutView",
            "align_content": null,
            "align_items": null,
            "align_self": null,
            "border": null,
            "bottom": null,
            "display": null,
            "flex": null,
            "flex_flow": null,
            "grid_area": null,
            "grid_auto_columns": null,
            "grid_auto_flow": null,
            "grid_auto_rows": null,
            "grid_column": null,
            "grid_gap": null,
            "grid_row": null,
            "grid_template_areas": null,
            "grid_template_columns": null,
            "grid_template_rows": null,
            "height": null,
            "justify_content": null,
            "justify_items": null,
            "left": null,
            "margin": null,
            "max_height": null,
            "max_width": null,
            "min_height": null,
            "min_width": null,
            "object_fit": null,
            "object_position": null,
            "order": null,
            "overflow": null,
            "overflow_x": null,
            "overflow_y": null,
            "padding": null,
            "right": null,
            "top": null,
            "visibility": null,
            "width": null
          }
        },
        "fd47deedc28d4dae982a237a378ffa2d": {
          "model_module": "@jupyter-widgets/controls",
          "model_name": "DescriptionStyleModel",
          "model_module_version": "1.5.0",
          "state": {
            "_model_module": "@jupyter-widgets/controls",
            "_model_module_version": "1.5.0",
            "_model_name": "DescriptionStyleModel",
            "_view_count": null,
            "_view_module": "@jupyter-widgets/base",
            "_view_module_version": "1.2.0",
            "_view_name": "StyleView",
            "description_width": ""
          }
        },
        "9fb2468b1d104c8ba9e6c303a756e374": {
          "model_module": "@jupyter-widgets/controls",
          "model_name": "HBoxModel",
          "model_module_version": "1.5.0",
          "state": {
            "_dom_classes": [],
            "_model_module": "@jupyter-widgets/controls",
            "_model_module_version": "1.5.0",
            "_model_name": "HBoxModel",
            "_view_count": null,
            "_view_module": "@jupyter-widgets/controls",
            "_view_module_version": "1.5.0",
            "_view_name": "HBoxView",
            "box_style": "",
            "children": [
              "IPY_MODEL_dbfe774b86774a279b3a21723cb0d0d8",
              "IPY_MODEL_5812e24aab584a66be088361687a5bb1",
              "IPY_MODEL_96d7953e4c0a4475aa61d8fb76261e45"
            ],
            "layout": "IPY_MODEL_894c0dbe56164ace99fba21b30635ff6"
          }
        },
        "dbfe774b86774a279b3a21723cb0d0d8": {
          "model_module": "@jupyter-widgets/controls",
          "model_name": "HTMLModel",
          "model_module_version": "1.5.0",
          "state": {
            "_dom_classes": [],
            "_model_module": "@jupyter-widgets/controls",
            "_model_module_version": "1.5.0",
            "_model_name": "HTMLModel",
            "_view_count": null,
            "_view_module": "@jupyter-widgets/controls",
            "_view_module_version": "1.5.0",
            "_view_name": "HTMLView",
            "description": "",
            "description_tooltip": null,
            "layout": "IPY_MODEL_9c66a22411564ab79b1553004272e7da",
            "placeholder": "​",
            "style": "IPY_MODEL_d0f50849c8d34c0981cbb2cc1a481eed",
            "value": "model.safetensors: 100%"
          }
        },
        "5812e24aab584a66be088361687a5bb1": {
          "model_module": "@jupyter-widgets/controls",
          "model_name": "FloatProgressModel",
          "model_module_version": "1.5.0",
          "state": {
            "_dom_classes": [],
            "_model_module": "@jupyter-widgets/controls",
            "_model_module_version": "1.5.0",
            "_model_name": "FloatProgressModel",
            "_view_count": null,
            "_view_module": "@jupyter-widgets/controls",
            "_view_module_version": "1.5.0",
            "_view_name": "ProgressView",
            "bar_style": "success",
            "description": "",
            "description_tooltip": null,
            "layout": "IPY_MODEL_99920d2ae3a84b66b0182e219135e092",
            "max": 1115567652,
            "min": 0,
            "orientation": "horizontal",
            "style": "IPY_MODEL_afcd5292d6344ae49e7d984350462515",
            "value": 1115567652
          }
        },
        "96d7953e4c0a4475aa61d8fb76261e45": {
          "model_module": "@jupyter-widgets/controls",
          "model_name": "HTMLModel",
          "model_module_version": "1.5.0",
          "state": {
            "_dom_classes": [],
            "_model_module": "@jupyter-widgets/controls",
            "_model_module_version": "1.5.0",
            "_model_name": "HTMLModel",
            "_view_count": null,
            "_view_module": "@jupyter-widgets/controls",
            "_view_module_version": "1.5.0",
            "_view_name": "HTMLView",
            "description": "",
            "description_tooltip": null,
            "layout": "IPY_MODEL_1c7ab25bc9994c6badd0b6547d30ec67",
            "placeholder": "​",
            "style": "IPY_MODEL_650341267ff74db796638f9060ff0a9d",
            "value": " 1.12G/1.12G [00:10&lt;00:00, 49.3MB/s]"
          }
        },
        "894c0dbe56164ace99fba21b30635ff6": {
          "model_module": "@jupyter-widgets/base",
          "model_name": "LayoutModel",
          "model_module_version": "1.2.0",
          "state": {
            "_model_module": "@jupyter-widgets/base",
            "_model_module_version": "1.2.0",
            "_model_name": "LayoutModel",
            "_view_count": null,
            "_view_module": "@jupyter-widgets/base",
            "_view_module_version": "1.2.0",
            "_view_name": "LayoutView",
            "align_content": null,
            "align_items": null,
            "align_self": null,
            "border": null,
            "bottom": null,
            "display": null,
            "flex": null,
            "flex_flow": null,
            "grid_area": null,
            "grid_auto_columns": null,
            "grid_auto_flow": null,
            "grid_auto_rows": null,
            "grid_column": null,
            "grid_gap": null,
            "grid_row": null,
            "grid_template_areas": null,
            "grid_template_columns": null,
            "grid_template_rows": null,
            "height": null,
            "justify_content": null,
            "justify_items": null,
            "left": null,
            "margin": null,
            "max_height": null,
            "max_width": null,
            "min_height": null,
            "min_width": null,
            "object_fit": null,
            "object_position": null,
            "order": null,
            "overflow": null,
            "overflow_x": null,
            "overflow_y": null,
            "padding": null,
            "right": null,
            "top": null,
            "visibility": null,
            "width": null
          }
        },
        "9c66a22411564ab79b1553004272e7da": {
          "model_module": "@jupyter-widgets/base",
          "model_name": "LayoutModel",
          "model_module_version": "1.2.0",
          "state": {
            "_model_module": "@jupyter-widgets/base",
            "_model_module_version": "1.2.0",
            "_model_name": "LayoutModel",
            "_view_count": null,
            "_view_module": "@jupyter-widgets/base",
            "_view_module_version": "1.2.0",
            "_view_name": "LayoutView",
            "align_content": null,
            "align_items": null,
            "align_self": null,
            "border": null,
            "bottom": null,
            "display": null,
            "flex": null,
            "flex_flow": null,
            "grid_area": null,
            "grid_auto_columns": null,
            "grid_auto_flow": null,
            "grid_auto_rows": null,
            "grid_column": null,
            "grid_gap": null,
            "grid_row": null,
            "grid_template_areas": null,
            "grid_template_columns": null,
            "grid_template_rows": null,
            "height": null,
            "justify_content": null,
            "justify_items": null,
            "left": null,
            "margin": null,
            "max_height": null,
            "max_width": null,
            "min_height": null,
            "min_width": null,
            "object_fit": null,
            "object_position": null,
            "order": null,
            "overflow": null,
            "overflow_x": null,
            "overflow_y": null,
            "padding": null,
            "right": null,
            "top": null,
            "visibility": null,
            "width": null
          }
        },
        "d0f50849c8d34c0981cbb2cc1a481eed": {
          "model_module": "@jupyter-widgets/controls",
          "model_name": "DescriptionStyleModel",
          "model_module_version": "1.5.0",
          "state": {
            "_model_module": "@jupyter-widgets/controls",
            "_model_module_version": "1.5.0",
            "_model_name": "DescriptionStyleModel",
            "_view_count": null,
            "_view_module": "@jupyter-widgets/base",
            "_view_module_version": "1.2.0",
            "_view_name": "StyleView",
            "description_width": ""
          }
        },
        "99920d2ae3a84b66b0182e219135e092": {
          "model_module": "@jupyter-widgets/base",
          "model_name": "LayoutModel",
          "model_module_version": "1.2.0",
          "state": {
            "_model_module": "@jupyter-widgets/base",
            "_model_module_version": "1.2.0",
            "_model_name": "LayoutModel",
            "_view_count": null,
            "_view_module": "@jupyter-widgets/base",
            "_view_module_version": "1.2.0",
            "_view_name": "LayoutView",
            "align_content": null,
            "align_items": null,
            "align_self": null,
            "border": null,
            "bottom": null,
            "display": null,
            "flex": null,
            "flex_flow": null,
            "grid_area": null,
            "grid_auto_columns": null,
            "grid_auto_flow": null,
            "grid_auto_rows": null,
            "grid_column": null,
            "grid_gap": null,
            "grid_row": null,
            "grid_template_areas": null,
            "grid_template_columns": null,
            "grid_template_rows": null,
            "height": null,
            "justify_content": null,
            "justify_items": null,
            "left": null,
            "margin": null,
            "max_height": null,
            "max_width": null,
            "min_height": null,
            "min_width": null,
            "object_fit": null,
            "object_position": null,
            "order": null,
            "overflow": null,
            "overflow_x": null,
            "overflow_y": null,
            "padding": null,
            "right": null,
            "top": null,
            "visibility": null,
            "width": null
          }
        },
        "afcd5292d6344ae49e7d984350462515": {
          "model_module": "@jupyter-widgets/controls",
          "model_name": "ProgressStyleModel",
          "model_module_version": "1.5.0",
          "state": {
            "_model_module": "@jupyter-widgets/controls",
            "_model_module_version": "1.5.0",
            "_model_name": "ProgressStyleModel",
            "_view_count": null,
            "_view_module": "@jupyter-widgets/base",
            "_view_module_version": "1.2.0",
            "_view_name": "StyleView",
            "bar_color": null,
            "description_width": ""
          }
        },
        "1c7ab25bc9994c6badd0b6547d30ec67": {
          "model_module": "@jupyter-widgets/base",
          "model_name": "LayoutModel",
          "model_module_version": "1.2.0",
          "state": {
            "_model_module": "@jupyter-widgets/base",
            "_model_module_version": "1.2.0",
            "_model_name": "LayoutModel",
            "_view_count": null,
            "_view_module": "@jupyter-widgets/base",
            "_view_module_version": "1.2.0",
            "_view_name": "LayoutView",
            "align_content": null,
            "align_items": null,
            "align_self": null,
            "border": null,
            "bottom": null,
            "display": null,
            "flex": null,
            "flex_flow": null,
            "grid_area": null,
            "grid_auto_columns": null,
            "grid_auto_flow": null,
            "grid_auto_rows": null,
            "grid_column": null,
            "grid_gap": null,
            "grid_row": null,
            "grid_template_areas": null,
            "grid_template_columns": null,
            "grid_template_rows": null,
            "height": null,
            "justify_content": null,
            "justify_items": null,
            "left": null,
            "margin": null,
            "max_height": null,
            "max_width": null,
            "min_height": null,
            "min_width": null,
            "object_fit": null,
            "object_position": null,
            "order": null,
            "overflow": null,
            "overflow_x": null,
            "overflow_y": null,
            "padding": null,
            "right": null,
            "top": null,
            "visibility": null,
            "width": null
          }
        },
        "650341267ff74db796638f9060ff0a9d": {
          "model_module": "@jupyter-widgets/controls",
          "model_name": "DescriptionStyleModel",
          "model_module_version": "1.5.0",
          "state": {
            "_model_module": "@jupyter-widgets/controls",
            "_model_module_version": "1.5.0",
            "_model_name": "DescriptionStyleModel",
            "_view_count": null,
            "_view_module": "@jupyter-widgets/base",
            "_view_module_version": "1.2.0",
            "_view_name": "StyleView",
            "description_width": ""
          }
        },
        "0b2b1fc7f7b549c1a3a3e82dd9bb2476": {
          "model_module": "@jupyter-widgets/controls",
          "model_name": "HBoxModel",
          "model_module_version": "1.5.0",
          "state": {
            "_dom_classes": [],
            "_model_module": "@jupyter-widgets/controls",
            "_model_module_version": "1.5.0",
            "_model_name": "HBoxModel",
            "_view_count": null,
            "_view_module": "@jupyter-widgets/controls",
            "_view_module_version": "1.5.0",
            "_view_name": "HBoxView",
            "box_style": "",
            "children": [
              "IPY_MODEL_bcebb9d9bc0d47cc8c8d7c68a0eaf6f6",
              "IPY_MODEL_ba7daf4c50204d139907fe08c2161683",
              "IPY_MODEL_4ce9eba2dde945b29900339eb8413e15"
            ],
            "layout": "IPY_MODEL_5c6947280c5148f6b2b013e008dbe0a4"
          }
        },
        "bcebb9d9bc0d47cc8c8d7c68a0eaf6f6": {
          "model_module": "@jupyter-widgets/controls",
          "model_name": "HTMLModel",
          "model_module_version": "1.5.0",
          "state": {
            "_dom_classes": [],
            "_model_module": "@jupyter-widgets/controls",
            "_model_module_version": "1.5.0",
            "_model_name": "HTMLModel",
            "_view_count": null,
            "_view_module": "@jupyter-widgets/controls",
            "_view_module_version": "1.5.0",
            "_view_name": "HTMLView",
            "description": "",
            "description_tooltip": null,
            "layout": "IPY_MODEL_e43a7dec328a40c4a78db588a0c252d2",
            "placeholder": "​",
            "style": "IPY_MODEL_319ab054db724c3999716fdfbeb7cdbb",
            "value": "tokenizer_config.json: 100%"
          }
        },
        "ba7daf4c50204d139907fe08c2161683": {
          "model_module": "@jupyter-widgets/controls",
          "model_name": "FloatProgressModel",
          "model_module_version": "1.5.0",
          "state": {
            "_dom_classes": [],
            "_model_module": "@jupyter-widgets/controls",
            "_model_module_version": "1.5.0",
            "_model_name": "FloatProgressModel",
            "_view_count": null,
            "_view_module": "@jupyter-widgets/controls",
            "_view_module_version": "1.5.0",
            "_view_name": "ProgressView",
            "bar_style": "success",
            "description": "",
            "description_tooltip": null,
            "layout": "IPY_MODEL_53a26e9116ad4c85a729e7d12e164cd0",
            "max": 25,
            "min": 0,
            "orientation": "horizontal",
            "style": "IPY_MODEL_2eb19e0e54524104b1e160a87d59f439",
            "value": 25
          }
        },
        "4ce9eba2dde945b29900339eb8413e15": {
          "model_module": "@jupyter-widgets/controls",
          "model_name": "HTMLModel",
          "model_module_version": "1.5.0",
          "state": {
            "_dom_classes": [],
            "_model_module": "@jupyter-widgets/controls",
            "_model_module_version": "1.5.0",
            "_model_name": "HTMLModel",
            "_view_count": null,
            "_view_module": "@jupyter-widgets/controls",
            "_view_module_version": "1.5.0",
            "_view_name": "HTMLView",
            "description": "",
            "description_tooltip": null,
            "layout": "IPY_MODEL_edbd87210219494d8d66043998c4b2bd",
            "placeholder": "​",
            "style": "IPY_MODEL_b81af0067b0448aaaea9288cb3dc9f75",
            "value": " 25.0/25.0 [00:00&lt;00:00, 1.64kB/s]"
          }
        },
        "5c6947280c5148f6b2b013e008dbe0a4": {
          "model_module": "@jupyter-widgets/base",
          "model_name": "LayoutModel",
          "model_module_version": "1.2.0",
          "state": {
            "_model_module": "@jupyter-widgets/base",
            "_model_module_version": "1.2.0",
            "_model_name": "LayoutModel",
            "_view_count": null,
            "_view_module": "@jupyter-widgets/base",
            "_view_module_version": "1.2.0",
            "_view_name": "LayoutView",
            "align_content": null,
            "align_items": null,
            "align_self": null,
            "border": null,
            "bottom": null,
            "display": null,
            "flex": null,
            "flex_flow": null,
            "grid_area": null,
            "grid_auto_columns": null,
            "grid_auto_flow": null,
            "grid_auto_rows": null,
            "grid_column": null,
            "grid_gap": null,
            "grid_row": null,
            "grid_template_areas": null,
            "grid_template_columns": null,
            "grid_template_rows": null,
            "height": null,
            "justify_content": null,
            "justify_items": null,
            "left": null,
            "margin": null,
            "max_height": null,
            "max_width": null,
            "min_height": null,
            "min_width": null,
            "object_fit": null,
            "object_position": null,
            "order": null,
            "overflow": null,
            "overflow_x": null,
            "overflow_y": null,
            "padding": null,
            "right": null,
            "top": null,
            "visibility": null,
            "width": null
          }
        },
        "e43a7dec328a40c4a78db588a0c252d2": {
          "model_module": "@jupyter-widgets/base",
          "model_name": "LayoutModel",
          "model_module_version": "1.2.0",
          "state": {
            "_model_module": "@jupyter-widgets/base",
            "_model_module_version": "1.2.0",
            "_model_name": "LayoutModel",
            "_view_count": null,
            "_view_module": "@jupyter-widgets/base",
            "_view_module_version": "1.2.0",
            "_view_name": "LayoutView",
            "align_content": null,
            "align_items": null,
            "align_self": null,
            "border": null,
            "bottom": null,
            "display": null,
            "flex": null,
            "flex_flow": null,
            "grid_area": null,
            "grid_auto_columns": null,
            "grid_auto_flow": null,
            "grid_auto_rows": null,
            "grid_column": null,
            "grid_gap": null,
            "grid_row": null,
            "grid_template_areas": null,
            "grid_template_columns": null,
            "grid_template_rows": null,
            "height": null,
            "justify_content": null,
            "justify_items": null,
            "left": null,
            "margin": null,
            "max_height": null,
            "max_width": null,
            "min_height": null,
            "min_width": null,
            "object_fit": null,
            "object_position": null,
            "order": null,
            "overflow": null,
            "overflow_x": null,
            "overflow_y": null,
            "padding": null,
            "right": null,
            "top": null,
            "visibility": null,
            "width": null
          }
        },
        "319ab054db724c3999716fdfbeb7cdbb": {
          "model_module": "@jupyter-widgets/controls",
          "model_name": "DescriptionStyleModel",
          "model_module_version": "1.5.0",
          "state": {
            "_model_module": "@jupyter-widgets/controls",
            "_model_module_version": "1.5.0",
            "_model_name": "DescriptionStyleModel",
            "_view_count": null,
            "_view_module": "@jupyter-widgets/base",
            "_view_module_version": "1.2.0",
            "_view_name": "StyleView",
            "description_width": ""
          }
        },
        "53a26e9116ad4c85a729e7d12e164cd0": {
          "model_module": "@jupyter-widgets/base",
          "model_name": "LayoutModel",
          "model_module_version": "1.2.0",
          "state": {
            "_model_module": "@jupyter-widgets/base",
            "_model_module_version": "1.2.0",
            "_model_name": "LayoutModel",
            "_view_count": null,
            "_view_module": "@jupyter-widgets/base",
            "_view_module_version": "1.2.0",
            "_view_name": "LayoutView",
            "align_content": null,
            "align_items": null,
            "align_self": null,
            "border": null,
            "bottom": null,
            "display": null,
            "flex": null,
            "flex_flow": null,
            "grid_area": null,
            "grid_auto_columns": null,
            "grid_auto_flow": null,
            "grid_auto_rows": null,
            "grid_column": null,
            "grid_gap": null,
            "grid_row": null,
            "grid_template_areas": null,
            "grid_template_columns": null,
            "grid_template_rows": null,
            "height": null,
            "justify_content": null,
            "justify_items": null,
            "left": null,
            "margin": null,
            "max_height": null,
            "max_width": null,
            "min_height": null,
            "min_width": null,
            "object_fit": null,
            "object_position": null,
            "order": null,
            "overflow": null,
            "overflow_x": null,
            "overflow_y": null,
            "padding": null,
            "right": null,
            "top": null,
            "visibility": null,
            "width": null
          }
        },
        "2eb19e0e54524104b1e160a87d59f439": {
          "model_module": "@jupyter-widgets/controls",
          "model_name": "ProgressStyleModel",
          "model_module_version": "1.5.0",
          "state": {
            "_model_module": "@jupyter-widgets/controls",
            "_model_module_version": "1.5.0",
            "_model_name": "ProgressStyleModel",
            "_view_count": null,
            "_view_module": "@jupyter-widgets/base",
            "_view_module_version": "1.2.0",
            "_view_name": "StyleView",
            "bar_color": null,
            "description_width": ""
          }
        },
        "edbd87210219494d8d66043998c4b2bd": {
          "model_module": "@jupyter-widgets/base",
          "model_name": "LayoutModel",
          "model_module_version": "1.2.0",
          "state": {
            "_model_module": "@jupyter-widgets/base",
            "_model_module_version": "1.2.0",
            "_model_name": "LayoutModel",
            "_view_count": null,
            "_view_module": "@jupyter-widgets/base",
            "_view_module_version": "1.2.0",
            "_view_name": "LayoutView",
            "align_content": null,
            "align_items": null,
            "align_self": null,
            "border": null,
            "bottom": null,
            "display": null,
            "flex": null,
            "flex_flow": null,
            "grid_area": null,
            "grid_auto_columns": null,
            "grid_auto_flow": null,
            "grid_auto_rows": null,
            "grid_column": null,
            "grid_gap": null,
            "grid_row": null,
            "grid_template_areas": null,
            "grid_template_columns": null,
            "grid_template_rows": null,
            "height": null,
            "justify_content": null,
            "justify_items": null,
            "left": null,
            "margin": null,
            "max_height": null,
            "max_width": null,
            "min_height": null,
            "min_width": null,
            "object_fit": null,
            "object_position": null,
            "order": null,
            "overflow": null,
            "overflow_x": null,
            "overflow_y": null,
            "padding": null,
            "right": null,
            "top": null,
            "visibility": null,
            "width": null
          }
        },
        "b81af0067b0448aaaea9288cb3dc9f75": {
          "model_module": "@jupyter-widgets/controls",
          "model_name": "DescriptionStyleModel",
          "model_module_version": "1.5.0",
          "state": {
            "_model_module": "@jupyter-widgets/controls",
            "_model_module_version": "1.5.0",
            "_model_name": "DescriptionStyleModel",
            "_view_count": null,
            "_view_module": "@jupyter-widgets/base",
            "_view_module_version": "1.2.0",
            "_view_name": "StyleView",
            "description_width": ""
          }
        },
        "c274b7e86ed54619ac1ce35879a0f818": {
          "model_module": "@jupyter-widgets/controls",
          "model_name": "HBoxModel",
          "model_module_version": "1.5.0",
          "state": {
            "_dom_classes": [],
            "_model_module": "@jupyter-widgets/controls",
            "_model_module_version": "1.5.0",
            "_model_name": "HBoxModel",
            "_view_count": null,
            "_view_module": "@jupyter-widgets/controls",
            "_view_module_version": "1.5.0",
            "_view_name": "HBoxView",
            "box_style": "",
            "children": [
              "IPY_MODEL_f1dc148c87454bbbb6b6d430f8ff010d",
              "IPY_MODEL_6447a19267824848ba5ed2c3881e89fd",
              "IPY_MODEL_c9f99f3d6b3d4754a56394617e7b1335"
            ],
            "layout": "IPY_MODEL_5b296b8b446d4829863b119a0a3f41fc"
          }
        },
        "f1dc148c87454bbbb6b6d430f8ff010d": {
          "model_module": "@jupyter-widgets/controls",
          "model_name": "HTMLModel",
          "model_module_version": "1.5.0",
          "state": {
            "_dom_classes": [],
            "_model_module": "@jupyter-widgets/controls",
            "_model_module_version": "1.5.0",
            "_model_name": "HTMLModel",
            "_view_count": null,
            "_view_module": "@jupyter-widgets/controls",
            "_view_module_version": "1.5.0",
            "_view_name": "HTMLView",
            "description": "",
            "description_tooltip": null,
            "layout": "IPY_MODEL_0af9b7bb5fbe4f99a4fe9401cb036120",
            "placeholder": "​",
            "style": "IPY_MODEL_26bf123d75764c61be5390bfe179950a",
            "value": "sentencepiece.bpe.model: 100%"
          }
        },
        "6447a19267824848ba5ed2c3881e89fd": {
          "model_module": "@jupyter-widgets/controls",
          "model_name": "FloatProgressModel",
          "model_module_version": "1.5.0",
          "state": {
            "_dom_classes": [],
            "_model_module": "@jupyter-widgets/controls",
            "_model_module_version": "1.5.0",
            "_model_name": "FloatProgressModel",
            "_view_count": null,
            "_view_module": "@jupyter-widgets/controls",
            "_view_module_version": "1.5.0",
            "_view_name": "ProgressView",
            "bar_style": "success",
            "description": "",
            "description_tooltip": null,
            "layout": "IPY_MODEL_bb36895625b940d5b4416e61c1b63466",
            "max": 5069051,
            "min": 0,
            "orientation": "horizontal",
            "style": "IPY_MODEL_6f8574ad7d1d4b6ab8596ea1fe202204",
            "value": 5069051
          }
        },
        "c9f99f3d6b3d4754a56394617e7b1335": {
          "model_module": "@jupyter-widgets/controls",
          "model_name": "HTMLModel",
          "model_module_version": "1.5.0",
          "state": {
            "_dom_classes": [],
            "_model_module": "@jupyter-widgets/controls",
            "_model_module_version": "1.5.0",
            "_model_name": "HTMLModel",
            "_view_count": null,
            "_view_module": "@jupyter-widgets/controls",
            "_view_module_version": "1.5.0",
            "_view_name": "HTMLView",
            "description": "",
            "description_tooltip": null,
            "layout": "IPY_MODEL_26200599c4204483b00eabc13c5e9086",
            "placeholder": "​",
            "style": "IPY_MODEL_8d91c1da1cf949cd961069f31202eb67",
            "value": " 5.07M/5.07M [00:00&lt;00:00, 27.2MB/s]"
          }
        },
        "5b296b8b446d4829863b119a0a3f41fc": {
          "model_module": "@jupyter-widgets/base",
          "model_name": "LayoutModel",
          "model_module_version": "1.2.0",
          "state": {
            "_model_module": "@jupyter-widgets/base",
            "_model_module_version": "1.2.0",
            "_model_name": "LayoutModel",
            "_view_count": null,
            "_view_module": "@jupyter-widgets/base",
            "_view_module_version": "1.2.0",
            "_view_name": "LayoutView",
            "align_content": null,
            "align_items": null,
            "align_self": null,
            "border": null,
            "bottom": null,
            "display": null,
            "flex": null,
            "flex_flow": null,
            "grid_area": null,
            "grid_auto_columns": null,
            "grid_auto_flow": null,
            "grid_auto_rows": null,
            "grid_column": null,
            "grid_gap": null,
            "grid_row": null,
            "grid_template_areas": null,
            "grid_template_columns": null,
            "grid_template_rows": null,
            "height": null,
            "justify_content": null,
            "justify_items": null,
            "left": null,
            "margin": null,
            "max_height": null,
            "max_width": null,
            "min_height": null,
            "min_width": null,
            "object_fit": null,
            "object_position": null,
            "order": null,
            "overflow": null,
            "overflow_x": null,
            "overflow_y": null,
            "padding": null,
            "right": null,
            "top": null,
            "visibility": null,
            "width": null
          }
        },
        "0af9b7bb5fbe4f99a4fe9401cb036120": {
          "model_module": "@jupyter-widgets/base",
          "model_name": "LayoutModel",
          "model_module_version": "1.2.0",
          "state": {
            "_model_module": "@jupyter-widgets/base",
            "_model_module_version": "1.2.0",
            "_model_name": "LayoutModel",
            "_view_count": null,
            "_view_module": "@jupyter-widgets/base",
            "_view_module_version": "1.2.0",
            "_view_name": "LayoutView",
            "align_content": null,
            "align_items": null,
            "align_self": null,
            "border": null,
            "bottom": null,
            "display": null,
            "flex": null,
            "flex_flow": null,
            "grid_area": null,
            "grid_auto_columns": null,
            "grid_auto_flow": null,
            "grid_auto_rows": null,
            "grid_column": null,
            "grid_gap": null,
            "grid_row": null,
            "grid_template_areas": null,
            "grid_template_columns": null,
            "grid_template_rows": null,
            "height": null,
            "justify_content": null,
            "justify_items": null,
            "left": null,
            "margin": null,
            "max_height": null,
            "max_width": null,
            "min_height": null,
            "min_width": null,
            "object_fit": null,
            "object_position": null,
            "order": null,
            "overflow": null,
            "overflow_x": null,
            "overflow_y": null,
            "padding": null,
            "right": null,
            "top": null,
            "visibility": null,
            "width": null
          }
        },
        "26bf123d75764c61be5390bfe179950a": {
          "model_module": "@jupyter-widgets/controls",
          "model_name": "DescriptionStyleModel",
          "model_module_version": "1.5.0",
          "state": {
            "_model_module": "@jupyter-widgets/controls",
            "_model_module_version": "1.5.0",
            "_model_name": "DescriptionStyleModel",
            "_view_count": null,
            "_view_module": "@jupyter-widgets/base",
            "_view_module_version": "1.2.0",
            "_view_name": "StyleView",
            "description_width": ""
          }
        },
        "bb36895625b940d5b4416e61c1b63466": {
          "model_module": "@jupyter-widgets/base",
          "model_name": "LayoutModel",
          "model_module_version": "1.2.0",
          "state": {
            "_model_module": "@jupyter-widgets/base",
            "_model_module_version": "1.2.0",
            "_model_name": "LayoutModel",
            "_view_count": null,
            "_view_module": "@jupyter-widgets/base",
            "_view_module_version": "1.2.0",
            "_view_name": "LayoutView",
            "align_content": null,
            "align_items": null,
            "align_self": null,
            "border": null,
            "bottom": null,
            "display": null,
            "flex": null,
            "flex_flow": null,
            "grid_area": null,
            "grid_auto_columns": null,
            "grid_auto_flow": null,
            "grid_auto_rows": null,
            "grid_column": null,
            "grid_gap": null,
            "grid_row": null,
            "grid_template_areas": null,
            "grid_template_columns": null,
            "grid_template_rows": null,
            "height": null,
            "justify_content": null,
            "justify_items": null,
            "left": null,
            "margin": null,
            "max_height": null,
            "max_width": null,
            "min_height": null,
            "min_width": null,
            "object_fit": null,
            "object_position": null,
            "order": null,
            "overflow": null,
            "overflow_x": null,
            "overflow_y": null,
            "padding": null,
            "right": null,
            "top": null,
            "visibility": null,
            "width": null
          }
        },
        "6f8574ad7d1d4b6ab8596ea1fe202204": {
          "model_module": "@jupyter-widgets/controls",
          "model_name": "ProgressStyleModel",
          "model_module_version": "1.5.0",
          "state": {
            "_model_module": "@jupyter-widgets/controls",
            "_model_module_version": "1.5.0",
            "_model_name": "ProgressStyleModel",
            "_view_count": null,
            "_view_module": "@jupyter-widgets/base",
            "_view_module_version": "1.2.0",
            "_view_name": "StyleView",
            "bar_color": null,
            "description_width": ""
          }
        },
        "26200599c4204483b00eabc13c5e9086": {
          "model_module": "@jupyter-widgets/base",
          "model_name": "LayoutModel",
          "model_module_version": "1.2.0",
          "state": {
            "_model_module": "@jupyter-widgets/base",
            "_model_module_version": "1.2.0",
            "_model_name": "LayoutModel",
            "_view_count": null,
            "_view_module": "@jupyter-widgets/base",
            "_view_module_version": "1.2.0",
            "_view_name": "LayoutView",
            "align_content": null,
            "align_items": null,
            "align_self": null,
            "border": null,
            "bottom": null,
            "display": null,
            "flex": null,
            "flex_flow": null,
            "grid_area": null,
            "grid_auto_columns": null,
            "grid_auto_flow": null,
            "grid_auto_rows": null,
            "grid_column": null,
            "grid_gap": null,
            "grid_row": null,
            "grid_template_areas": null,
            "grid_template_columns": null,
            "grid_template_rows": null,
            "height": null,
            "justify_content": null,
            "justify_items": null,
            "left": null,
            "margin": null,
            "max_height": null,
            "max_width": null,
            "min_height": null,
            "min_width": null,
            "object_fit": null,
            "object_position": null,
            "order": null,
            "overflow": null,
            "overflow_x": null,
            "overflow_y": null,
            "padding": null,
            "right": null,
            "top": null,
            "visibility": null,
            "width": null
          }
        },
        "8d91c1da1cf949cd961069f31202eb67": {
          "model_module": "@jupyter-widgets/controls",
          "model_name": "DescriptionStyleModel",
          "model_module_version": "1.5.0",
          "state": {
            "_model_module": "@jupyter-widgets/controls",
            "_model_module_version": "1.5.0",
            "_model_name": "DescriptionStyleModel",
            "_view_count": null,
            "_view_module": "@jupyter-widgets/base",
            "_view_module_version": "1.2.0",
            "_view_name": "StyleView",
            "description_width": ""
          }
        },
        "677b7201bf964651bfa2bf0e11779da3": {
          "model_module": "@jupyter-widgets/controls",
          "model_name": "HBoxModel",
          "model_module_version": "1.5.0",
          "state": {
            "_dom_classes": [],
            "_model_module": "@jupyter-widgets/controls",
            "_model_module_version": "1.5.0",
            "_model_name": "HBoxModel",
            "_view_count": null,
            "_view_module": "@jupyter-widgets/controls",
            "_view_module_version": "1.5.0",
            "_view_name": "HBoxView",
            "box_style": "",
            "children": [
              "IPY_MODEL_087fb7fe1bd04262a6c08b8a1702df0e",
              "IPY_MODEL_f0f653260ecb4b46a2301997e2ea169c",
              "IPY_MODEL_b7828da524d94ac9835bd49047090d95"
            ],
            "layout": "IPY_MODEL_307d85dde5454c71b2886d3133b98824"
          }
        },
        "087fb7fe1bd04262a6c08b8a1702df0e": {
          "model_module": "@jupyter-widgets/controls",
          "model_name": "HTMLModel",
          "model_module_version": "1.5.0",
          "state": {
            "_dom_classes": [],
            "_model_module": "@jupyter-widgets/controls",
            "_model_module_version": "1.5.0",
            "_model_name": "HTMLModel",
            "_view_count": null,
            "_view_module": "@jupyter-widgets/controls",
            "_view_module_version": "1.5.0",
            "_view_name": "HTMLView",
            "description": "",
            "description_tooltip": null,
            "layout": "IPY_MODEL_73933082f3c84ce2851408caf3dbd00f",
            "placeholder": "​",
            "style": "IPY_MODEL_7be310bed669403d8724449579b933dd",
            "value": "tokenizer.json: 100%"
          }
        },
        "f0f653260ecb4b46a2301997e2ea169c": {
          "model_module": "@jupyter-widgets/controls",
          "model_name": "FloatProgressModel",
          "model_module_version": "1.5.0",
          "state": {
            "_dom_classes": [],
            "_model_module": "@jupyter-widgets/controls",
            "_model_module_version": "1.5.0",
            "_model_name": "FloatProgressModel",
            "_view_count": null,
            "_view_module": "@jupyter-widgets/controls",
            "_view_module_version": "1.5.0",
            "_view_name": "ProgressView",
            "bar_style": "success",
            "description": "",
            "description_tooltip": null,
            "layout": "IPY_MODEL_28653291e71e4971a2c56ffc9c60d721",
            "max": 9096718,
            "min": 0,
            "orientation": "horizontal",
            "style": "IPY_MODEL_5bcd6cc14c724f4e9b5dfa14ce1c758c",
            "value": 9096718
          }
        },
        "b7828da524d94ac9835bd49047090d95": {
          "model_module": "@jupyter-widgets/controls",
          "model_name": "HTMLModel",
          "model_module_version": "1.5.0",
          "state": {
            "_dom_classes": [],
            "_model_module": "@jupyter-widgets/controls",
            "_model_module_version": "1.5.0",
            "_model_name": "HTMLModel",
            "_view_count": null,
            "_view_module": "@jupyter-widgets/controls",
            "_view_module_version": "1.5.0",
            "_view_name": "HTMLView",
            "description": "",
            "description_tooltip": null,
            "layout": "IPY_MODEL_46cd1a841a5b4410b515dc907f762a05",
            "placeholder": "​",
            "style": "IPY_MODEL_25936faae8dc43f1a99fa91ab369c03c",
            "value": " 9.10M/9.10M [00:00&lt;00:00, 40.6MB/s]"
          }
        },
        "307d85dde5454c71b2886d3133b98824": {
          "model_module": "@jupyter-widgets/base",
          "model_name": "LayoutModel",
          "model_module_version": "1.2.0",
          "state": {
            "_model_module": "@jupyter-widgets/base",
            "_model_module_version": "1.2.0",
            "_model_name": "LayoutModel",
            "_view_count": null,
            "_view_module": "@jupyter-widgets/base",
            "_view_module_version": "1.2.0",
            "_view_name": "LayoutView",
            "align_content": null,
            "align_items": null,
            "align_self": null,
            "border": null,
            "bottom": null,
            "display": null,
            "flex": null,
            "flex_flow": null,
            "grid_area": null,
            "grid_auto_columns": null,
            "grid_auto_flow": null,
            "grid_auto_rows": null,
            "grid_column": null,
            "grid_gap": null,
            "grid_row": null,
            "grid_template_areas": null,
            "grid_template_columns": null,
            "grid_template_rows": null,
            "height": null,
            "justify_content": null,
            "justify_items": null,
            "left": null,
            "margin": null,
            "max_height": null,
            "max_width": null,
            "min_height": null,
            "min_width": null,
            "object_fit": null,
            "object_position": null,
            "order": null,
            "overflow": null,
            "overflow_x": null,
            "overflow_y": null,
            "padding": null,
            "right": null,
            "top": null,
            "visibility": null,
            "width": null
          }
        },
        "73933082f3c84ce2851408caf3dbd00f": {
          "model_module": "@jupyter-widgets/base",
          "model_name": "LayoutModel",
          "model_module_version": "1.2.0",
          "state": {
            "_model_module": "@jupyter-widgets/base",
            "_model_module_version": "1.2.0",
            "_model_name": "LayoutModel",
            "_view_count": null,
            "_view_module": "@jupyter-widgets/base",
            "_view_module_version": "1.2.0",
            "_view_name": "LayoutView",
            "align_content": null,
            "align_items": null,
            "align_self": null,
            "border": null,
            "bottom": null,
            "display": null,
            "flex": null,
            "flex_flow": null,
            "grid_area": null,
            "grid_auto_columns": null,
            "grid_auto_flow": null,
            "grid_auto_rows": null,
            "grid_column": null,
            "grid_gap": null,
            "grid_row": null,
            "grid_template_areas": null,
            "grid_template_columns": null,
            "grid_template_rows": null,
            "height": null,
            "justify_content": null,
            "justify_items": null,
            "left": null,
            "margin": null,
            "max_height": null,
            "max_width": null,
            "min_height": null,
            "min_width": null,
            "object_fit": null,
            "object_position": null,
            "order": null,
            "overflow": null,
            "overflow_x": null,
            "overflow_y": null,
            "padding": null,
            "right": null,
            "top": null,
            "visibility": null,
            "width": null
          }
        },
        "7be310bed669403d8724449579b933dd": {
          "model_module": "@jupyter-widgets/controls",
          "model_name": "DescriptionStyleModel",
          "model_module_version": "1.5.0",
          "state": {
            "_model_module": "@jupyter-widgets/controls",
            "_model_module_version": "1.5.0",
            "_model_name": "DescriptionStyleModel",
            "_view_count": null,
            "_view_module": "@jupyter-widgets/base",
            "_view_module_version": "1.2.0",
            "_view_name": "StyleView",
            "description_width": ""
          }
        },
        "28653291e71e4971a2c56ffc9c60d721": {
          "model_module": "@jupyter-widgets/base",
          "model_name": "LayoutModel",
          "model_module_version": "1.2.0",
          "state": {
            "_model_module": "@jupyter-widgets/base",
            "_model_module_version": "1.2.0",
            "_model_name": "LayoutModel",
            "_view_count": null,
            "_view_module": "@jupyter-widgets/base",
            "_view_module_version": "1.2.0",
            "_view_name": "LayoutView",
            "align_content": null,
            "align_items": null,
            "align_self": null,
            "border": null,
            "bottom": null,
            "display": null,
            "flex": null,
            "flex_flow": null,
            "grid_area": null,
            "grid_auto_columns": null,
            "grid_auto_flow": null,
            "grid_auto_rows": null,
            "grid_column": null,
            "grid_gap": null,
            "grid_row": null,
            "grid_template_areas": null,
            "grid_template_columns": null,
            "grid_template_rows": null,
            "height": null,
            "justify_content": null,
            "justify_items": null,
            "left": null,
            "margin": null,
            "max_height": null,
            "max_width": null,
            "min_height": null,
            "min_width": null,
            "object_fit": null,
            "object_position": null,
            "order": null,
            "overflow": null,
            "overflow_x": null,
            "overflow_y": null,
            "padding": null,
            "right": null,
            "top": null,
            "visibility": null,
            "width": null
          }
        },
        "5bcd6cc14c724f4e9b5dfa14ce1c758c": {
          "model_module": "@jupyter-widgets/controls",
          "model_name": "ProgressStyleModel",
          "model_module_version": "1.5.0",
          "state": {
            "_model_module": "@jupyter-widgets/controls",
            "_model_module_version": "1.5.0",
            "_model_name": "ProgressStyleModel",
            "_view_count": null,
            "_view_module": "@jupyter-widgets/base",
            "_view_module_version": "1.2.0",
            "_view_name": "StyleView",
            "bar_color": null,
            "description_width": ""
          }
        },
        "46cd1a841a5b4410b515dc907f762a05": {
          "model_module": "@jupyter-widgets/base",
          "model_name": "LayoutModel",
          "model_module_version": "1.2.0",
          "state": {
            "_model_module": "@jupyter-widgets/base",
            "_model_module_version": "1.2.0",
            "_model_name": "LayoutModel",
            "_view_count": null,
            "_view_module": "@jupyter-widgets/base",
            "_view_module_version": "1.2.0",
            "_view_name": "LayoutView",
            "align_content": null,
            "align_items": null,
            "align_self": null,
            "border": null,
            "bottom": null,
            "display": null,
            "flex": null,
            "flex_flow": null,
            "grid_area": null,
            "grid_auto_columns": null,
            "grid_auto_flow": null,
            "grid_auto_rows": null,
            "grid_column": null,
            "grid_gap": null,
            "grid_row": null,
            "grid_template_areas": null,
            "grid_template_columns": null,
            "grid_template_rows": null,
            "height": null,
            "justify_content": null,
            "justify_items": null,
            "left": null,
            "margin": null,
            "max_height": null,
            "max_width": null,
            "min_height": null,
            "min_width": null,
            "object_fit": null,
            "object_position": null,
            "order": null,
            "overflow": null,
            "overflow_x": null,
            "overflow_y": null,
            "padding": null,
            "right": null,
            "top": null,
            "visibility": null,
            "width": null
          }
        },
        "25936faae8dc43f1a99fa91ab369c03c": {
          "model_module": "@jupyter-widgets/controls",
          "model_name": "DescriptionStyleModel",
          "model_module_version": "1.5.0",
          "state": {
            "_model_module": "@jupyter-widgets/controls",
            "_model_module_version": "1.5.0",
            "_model_name": "DescriptionStyleModel",
            "_view_count": null,
            "_view_module": "@jupyter-widgets/base",
            "_view_module_version": "1.2.0",
            "_view_name": "StyleView",
            "description_width": ""
          }
        },
        "299a816709894283bf03a828dfcd4252": {
          "model_module": "@jupyter-widgets/controls",
          "model_name": "HBoxModel",
          "model_module_version": "1.5.0",
          "state": {
            "_dom_classes": [],
            "_model_module": "@jupyter-widgets/controls",
            "_model_module_version": "1.5.0",
            "_model_name": "HBoxModel",
            "_view_count": null,
            "_view_module": "@jupyter-widgets/controls",
            "_view_module_version": "1.5.0",
            "_view_name": "HBoxView",
            "box_style": "",
            "children": [
              "IPY_MODEL_e55c5041669641d0b32911d4f4734f9d",
              "IPY_MODEL_da12135042d244a797dcfc84cef88a99",
              "IPY_MODEL_4f919fdd2d2d41478172acc76d7449e3"
            ],
            "layout": "IPY_MODEL_151f35ed8e5747239042f39e7db20272"
          }
        },
        "e55c5041669641d0b32911d4f4734f9d": {
          "model_module": "@jupyter-widgets/controls",
          "model_name": "HTMLModel",
          "model_module_version": "1.5.0",
          "state": {
            "_dom_classes": [],
            "_model_module": "@jupyter-widgets/controls",
            "_model_module_version": "1.5.0",
            "_model_name": "HTMLModel",
            "_view_count": null,
            "_view_module": "@jupyter-widgets/controls",
            "_view_module_version": "1.5.0",
            "_view_name": "HTMLView",
            "description": "",
            "description_tooltip": null,
            "layout": "IPY_MODEL_c1b40b2ca6284018a4cde283de06e74c",
            "placeholder": "​",
            "style": "IPY_MODEL_798df5e607b64c4f9384d175c2cf83ed",
            "value": "config.json: 100%"
          }
        },
        "da12135042d244a797dcfc84cef88a99": {
          "model_module": "@jupyter-widgets/controls",
          "model_name": "FloatProgressModel",
          "model_module_version": "1.5.0",
          "state": {
            "_dom_classes": [],
            "_model_module": "@jupyter-widgets/controls",
            "_model_module_version": "1.5.0",
            "_model_name": "FloatProgressModel",
            "_view_count": null,
            "_view_module": "@jupyter-widgets/controls",
            "_view_module_version": "1.5.0",
            "_view_name": "ProgressView",
            "bar_style": "success",
            "description": "",
            "description_tooltip": null,
            "layout": "IPY_MODEL_6f9e42c0cbda4fc099e955d426206f64",
            "max": 615,
            "min": 0,
            "orientation": "horizontal",
            "style": "IPY_MODEL_9ee652e12ea4404299b8bfb6a0705cdd",
            "value": 615
          }
        },
        "4f919fdd2d2d41478172acc76d7449e3": {
          "model_module": "@jupyter-widgets/controls",
          "model_name": "HTMLModel",
          "model_module_version": "1.5.0",
          "state": {
            "_dom_classes": [],
            "_model_module": "@jupyter-widgets/controls",
            "_model_module_version": "1.5.0",
            "_model_name": "HTMLModel",
            "_view_count": null,
            "_view_module": "@jupyter-widgets/controls",
            "_view_module_version": "1.5.0",
            "_view_name": "HTMLView",
            "description": "",
            "description_tooltip": null,
            "layout": "IPY_MODEL_517bfff1a49744b4b84b517bb781ead6",
            "placeholder": "​",
            "style": "IPY_MODEL_1c8889525ead4ffe85034e2930e55c5d",
            "value": " 615/615 [00:00&lt;00:00, 42.5kB/s]"
          }
        },
        "151f35ed8e5747239042f39e7db20272": {
          "model_module": "@jupyter-widgets/base",
          "model_name": "LayoutModel",
          "model_module_version": "1.2.0",
          "state": {
            "_model_module": "@jupyter-widgets/base",
            "_model_module_version": "1.2.0",
            "_model_name": "LayoutModel",
            "_view_count": null,
            "_view_module": "@jupyter-widgets/base",
            "_view_module_version": "1.2.0",
            "_view_name": "LayoutView",
            "align_content": null,
            "align_items": null,
            "align_self": null,
            "border": null,
            "bottom": null,
            "display": null,
            "flex": null,
            "flex_flow": null,
            "grid_area": null,
            "grid_auto_columns": null,
            "grid_auto_flow": null,
            "grid_auto_rows": null,
            "grid_column": null,
            "grid_gap": null,
            "grid_row": null,
            "grid_template_areas": null,
            "grid_template_columns": null,
            "grid_template_rows": null,
            "height": null,
            "justify_content": null,
            "justify_items": null,
            "left": null,
            "margin": null,
            "max_height": null,
            "max_width": null,
            "min_height": null,
            "min_width": null,
            "object_fit": null,
            "object_position": null,
            "order": null,
            "overflow": null,
            "overflow_x": null,
            "overflow_y": null,
            "padding": null,
            "right": null,
            "top": null,
            "visibility": null,
            "width": null
          }
        },
        "c1b40b2ca6284018a4cde283de06e74c": {
          "model_module": "@jupyter-widgets/base",
          "model_name": "LayoutModel",
          "model_module_version": "1.2.0",
          "state": {
            "_model_module": "@jupyter-widgets/base",
            "_model_module_version": "1.2.0",
            "_model_name": "LayoutModel",
            "_view_count": null,
            "_view_module": "@jupyter-widgets/base",
            "_view_module_version": "1.2.0",
            "_view_name": "LayoutView",
            "align_content": null,
            "align_items": null,
            "align_self": null,
            "border": null,
            "bottom": null,
            "display": null,
            "flex": null,
            "flex_flow": null,
            "grid_area": null,
            "grid_auto_columns": null,
            "grid_auto_flow": null,
            "grid_auto_rows": null,
            "grid_column": null,
            "grid_gap": null,
            "grid_row": null,
            "grid_template_areas": null,
            "grid_template_columns": null,
            "grid_template_rows": null,
            "height": null,
            "justify_content": null,
            "justify_items": null,
            "left": null,
            "margin": null,
            "max_height": null,
            "max_width": null,
            "min_height": null,
            "min_width": null,
            "object_fit": null,
            "object_position": null,
            "order": null,
            "overflow": null,
            "overflow_x": null,
            "overflow_y": null,
            "padding": null,
            "right": null,
            "top": null,
            "visibility": null,
            "width": null
          }
        },
        "798df5e607b64c4f9384d175c2cf83ed": {
          "model_module": "@jupyter-widgets/controls",
          "model_name": "DescriptionStyleModel",
          "model_module_version": "1.5.0",
          "state": {
            "_model_module": "@jupyter-widgets/controls",
            "_model_module_version": "1.5.0",
            "_model_name": "DescriptionStyleModel",
            "_view_count": null,
            "_view_module": "@jupyter-widgets/base",
            "_view_module_version": "1.2.0",
            "_view_name": "StyleView",
            "description_width": ""
          }
        },
        "6f9e42c0cbda4fc099e955d426206f64": {
          "model_module": "@jupyter-widgets/base",
          "model_name": "LayoutModel",
          "model_module_version": "1.2.0",
          "state": {
            "_model_module": "@jupyter-widgets/base",
            "_model_module_version": "1.2.0",
            "_model_name": "LayoutModel",
            "_view_count": null,
            "_view_module": "@jupyter-widgets/base",
            "_view_module_version": "1.2.0",
            "_view_name": "LayoutView",
            "align_content": null,
            "align_items": null,
            "align_self": null,
            "border": null,
            "bottom": null,
            "display": null,
            "flex": null,
            "flex_flow": null,
            "grid_area": null,
            "grid_auto_columns": null,
            "grid_auto_flow": null,
            "grid_auto_rows": null,
            "grid_column": null,
            "grid_gap": null,
            "grid_row": null,
            "grid_template_areas": null,
            "grid_template_columns": null,
            "grid_template_rows": null,
            "height": null,
            "justify_content": null,
            "justify_items": null,
            "left": null,
            "margin": null,
            "max_height": null,
            "max_width": null,
            "min_height": null,
            "min_width": null,
            "object_fit": null,
            "object_position": null,
            "order": null,
            "overflow": null,
            "overflow_x": null,
            "overflow_y": null,
            "padding": null,
            "right": null,
            "top": null,
            "visibility": null,
            "width": null
          }
        },
        "9ee652e12ea4404299b8bfb6a0705cdd": {
          "model_module": "@jupyter-widgets/controls",
          "model_name": "ProgressStyleModel",
          "model_module_version": "1.5.0",
          "state": {
            "_model_module": "@jupyter-widgets/controls",
            "_model_module_version": "1.5.0",
            "_model_name": "ProgressStyleModel",
            "_view_count": null,
            "_view_module": "@jupyter-widgets/base",
            "_view_module_version": "1.2.0",
            "_view_name": "StyleView",
            "bar_color": null,
            "description_width": ""
          }
        },
        "517bfff1a49744b4b84b517bb781ead6": {
          "model_module": "@jupyter-widgets/base",
          "model_name": "LayoutModel",
          "model_module_version": "1.2.0",
          "state": {
            "_model_module": "@jupyter-widgets/base",
            "_model_module_version": "1.2.0",
            "_model_name": "LayoutModel",
            "_view_count": null,
            "_view_module": "@jupyter-widgets/base",
            "_view_module_version": "1.2.0",
            "_view_name": "LayoutView",
            "align_content": null,
            "align_items": null,
            "align_self": null,
            "border": null,
            "bottom": null,
            "display": null,
            "flex": null,
            "flex_flow": null,
            "grid_area": null,
            "grid_auto_columns": null,
            "grid_auto_flow": null,
            "grid_auto_rows": null,
            "grid_column": null,
            "grid_gap": null,
            "grid_row": null,
            "grid_template_areas": null,
            "grid_template_columns": null,
            "grid_template_rows": null,
            "height": null,
            "justify_content": null,
            "justify_items": null,
            "left": null,
            "margin": null,
            "max_height": null,
            "max_width": null,
            "min_height": null,
            "min_width": null,
            "object_fit": null,
            "object_position": null,
            "order": null,
            "overflow": null,
            "overflow_x": null,
            "overflow_y": null,
            "padding": null,
            "right": null,
            "top": null,
            "visibility": null,
            "width": null
          }
        },
        "1c8889525ead4ffe85034e2930e55c5d": {
          "model_module": "@jupyter-widgets/controls",
          "model_name": "DescriptionStyleModel",
          "model_module_version": "1.5.0",
          "state": {
            "_model_module": "@jupyter-widgets/controls",
            "_model_module_version": "1.5.0",
            "_model_name": "DescriptionStyleModel",
            "_view_count": null,
            "_view_module": "@jupyter-widgets/base",
            "_view_module_version": "1.2.0",
            "_view_name": "StyleView",
            "description_width": ""
          }
        },
        "62a56b2304af452e8040ba41cb132991": {
          "model_module": "@jupyter-widgets/controls",
          "model_name": "HBoxModel",
          "model_module_version": "1.5.0",
          "state": {
            "_dom_classes": [],
            "_model_module": "@jupyter-widgets/controls",
            "_model_module_version": "1.5.0",
            "_model_name": "HBoxModel",
            "_view_count": null,
            "_view_module": "@jupyter-widgets/controls",
            "_view_module_version": "1.5.0",
            "_view_name": "HBoxView",
            "box_style": "",
            "children": [
              "IPY_MODEL_1e54e5a5afd44586b5eec41636936397",
              "IPY_MODEL_bf767bc16f9b431eb2cc90358e150f75",
              "IPY_MODEL_72dc8705e1df4ff9a483de37a069880d"
            ],
            "layout": "IPY_MODEL_528f2166e0fa4539b0e850bc4bdd92cc"
          }
        },
        "1e54e5a5afd44586b5eec41636936397": {
          "model_module": "@jupyter-widgets/controls",
          "model_name": "HTMLModel",
          "model_module_version": "1.5.0",
          "state": {
            "_dom_classes": [],
            "_model_module": "@jupyter-widgets/controls",
            "_model_module_version": "1.5.0",
            "_model_name": "HTMLModel",
            "_view_count": null,
            "_view_module": "@jupyter-widgets/controls",
            "_view_module_version": "1.5.0",
            "_view_name": "HTMLView",
            "description": "",
            "description_tooltip": null,
            "layout": "IPY_MODEL_1b16d46956b74ed9a5e44c476a131dbe",
            "placeholder": "​",
            "style": "IPY_MODEL_db0da3f0949f40f9916ab3cee8fad6cf",
            "value": "model.safetensors: 100%"
          }
        },
        "bf767bc16f9b431eb2cc90358e150f75": {
          "model_module": "@jupyter-widgets/controls",
          "model_name": "FloatProgressModel",
          "model_module_version": "1.5.0",
          "state": {
            "_dom_classes": [],
            "_model_module": "@jupyter-widgets/controls",
            "_model_module_version": "1.5.0",
            "_model_name": "FloatProgressModel",
            "_view_count": null,
            "_view_module": "@jupyter-widgets/controls",
            "_view_module_version": "1.5.0",
            "_view_name": "ProgressView",
            "bar_style": "success",
            "description": "",
            "description_tooltip": null,
            "layout": "IPY_MODEL_19e17cb56578470c95b5efddb3f47d78",
            "max": 1115567652,
            "min": 0,
            "orientation": "horizontal",
            "style": "IPY_MODEL_cf97150590e547419b79b5022c1e2201",
            "value": 1115567652
          }
        },
        "72dc8705e1df4ff9a483de37a069880d": {
          "model_module": "@jupyter-widgets/controls",
          "model_name": "HTMLModel",
          "model_module_version": "1.5.0",
          "state": {
            "_dom_classes": [],
            "_model_module": "@jupyter-widgets/controls",
            "_model_module_version": "1.5.0",
            "_model_name": "HTMLModel",
            "_view_count": null,
            "_view_module": "@jupyter-widgets/controls",
            "_view_module_version": "1.5.0",
            "_view_name": "HTMLView",
            "description": "",
            "description_tooltip": null,
            "layout": "IPY_MODEL_78ed6e0e329342daaa2e369875c2089f",
            "placeholder": "​",
            "style": "IPY_MODEL_1bb1967c15994d2a9663628eadbd0f0c",
            "value": " 1.12G/1.12G [00:09&lt;00:00, 78.3MB/s]"
          }
        },
        "528f2166e0fa4539b0e850bc4bdd92cc": {
          "model_module": "@jupyter-widgets/base",
          "model_name": "LayoutModel",
          "model_module_version": "1.2.0",
          "state": {
            "_model_module": "@jupyter-widgets/base",
            "_model_module_version": "1.2.0",
            "_model_name": "LayoutModel",
            "_view_count": null,
            "_view_module": "@jupyter-widgets/base",
            "_view_module_version": "1.2.0",
            "_view_name": "LayoutView",
            "align_content": null,
            "align_items": null,
            "align_self": null,
            "border": null,
            "bottom": null,
            "display": null,
            "flex": null,
            "flex_flow": null,
            "grid_area": null,
            "grid_auto_columns": null,
            "grid_auto_flow": null,
            "grid_auto_rows": null,
            "grid_column": null,
            "grid_gap": null,
            "grid_row": null,
            "grid_template_areas": null,
            "grid_template_columns": null,
            "grid_template_rows": null,
            "height": null,
            "justify_content": null,
            "justify_items": null,
            "left": null,
            "margin": null,
            "max_height": null,
            "max_width": null,
            "min_height": null,
            "min_width": null,
            "object_fit": null,
            "object_position": null,
            "order": null,
            "overflow": null,
            "overflow_x": null,
            "overflow_y": null,
            "padding": null,
            "right": null,
            "top": null,
            "visibility": null,
            "width": null
          }
        },
        "1b16d46956b74ed9a5e44c476a131dbe": {
          "model_module": "@jupyter-widgets/base",
          "model_name": "LayoutModel",
          "model_module_version": "1.2.0",
          "state": {
            "_model_module": "@jupyter-widgets/base",
            "_model_module_version": "1.2.0",
            "_model_name": "LayoutModel",
            "_view_count": null,
            "_view_module": "@jupyter-widgets/base",
            "_view_module_version": "1.2.0",
            "_view_name": "LayoutView",
            "align_content": null,
            "align_items": null,
            "align_self": null,
            "border": null,
            "bottom": null,
            "display": null,
            "flex": null,
            "flex_flow": null,
            "grid_area": null,
            "grid_auto_columns": null,
            "grid_auto_flow": null,
            "grid_auto_rows": null,
            "grid_column": null,
            "grid_gap": null,
            "grid_row": null,
            "grid_template_areas": null,
            "grid_template_columns": null,
            "grid_template_rows": null,
            "height": null,
            "justify_content": null,
            "justify_items": null,
            "left": null,
            "margin": null,
            "max_height": null,
            "max_width": null,
            "min_height": null,
            "min_width": null,
            "object_fit": null,
            "object_position": null,
            "order": null,
            "overflow": null,
            "overflow_x": null,
            "overflow_y": null,
            "padding": null,
            "right": null,
            "top": null,
            "visibility": null,
            "width": null
          }
        },
        "db0da3f0949f40f9916ab3cee8fad6cf": {
          "model_module": "@jupyter-widgets/controls",
          "model_name": "DescriptionStyleModel",
          "model_module_version": "1.5.0",
          "state": {
            "_model_module": "@jupyter-widgets/controls",
            "_model_module_version": "1.5.0",
            "_model_name": "DescriptionStyleModel",
            "_view_count": null,
            "_view_module": "@jupyter-widgets/base",
            "_view_module_version": "1.2.0",
            "_view_name": "StyleView",
            "description_width": ""
          }
        },
        "19e17cb56578470c95b5efddb3f47d78": {
          "model_module": "@jupyter-widgets/base",
          "model_name": "LayoutModel",
          "model_module_version": "1.2.0",
          "state": {
            "_model_module": "@jupyter-widgets/base",
            "_model_module_version": "1.2.0",
            "_model_name": "LayoutModel",
            "_view_count": null,
            "_view_module": "@jupyter-widgets/base",
            "_view_module_version": "1.2.0",
            "_view_name": "LayoutView",
            "align_content": null,
            "align_items": null,
            "align_self": null,
            "border": null,
            "bottom": null,
            "display": null,
            "flex": null,
            "flex_flow": null,
            "grid_area": null,
            "grid_auto_columns": null,
            "grid_auto_flow": null,
            "grid_auto_rows": null,
            "grid_column": null,
            "grid_gap": null,
            "grid_row": null,
            "grid_template_areas": null,
            "grid_template_columns": null,
            "grid_template_rows": null,
            "height": null,
            "justify_content": null,
            "justify_items": null,
            "left": null,
            "margin": null,
            "max_height": null,
            "max_width": null,
            "min_height": null,
            "min_width": null,
            "object_fit": null,
            "object_position": null,
            "order": null,
            "overflow": null,
            "overflow_x": null,
            "overflow_y": null,
            "padding": null,
            "right": null,
            "top": null,
            "visibility": null,
            "width": null
          }
        },
        "cf97150590e547419b79b5022c1e2201": {
          "model_module": "@jupyter-widgets/controls",
          "model_name": "ProgressStyleModel",
          "model_module_version": "1.5.0",
          "state": {
            "_model_module": "@jupyter-widgets/controls",
            "_model_module_version": "1.5.0",
            "_model_name": "ProgressStyleModel",
            "_view_count": null,
            "_view_module": "@jupyter-widgets/base",
            "_view_module_version": "1.2.0",
            "_view_name": "StyleView",
            "bar_color": null,
            "description_width": ""
          }
        },
        "78ed6e0e329342daaa2e369875c2089f": {
          "model_module": "@jupyter-widgets/base",
          "model_name": "LayoutModel",
          "model_module_version": "1.2.0",
          "state": {
            "_model_module": "@jupyter-widgets/base",
            "_model_module_version": "1.2.0",
            "_model_name": "LayoutModel",
            "_view_count": null,
            "_view_module": "@jupyter-widgets/base",
            "_view_module_version": "1.2.0",
            "_view_name": "LayoutView",
            "align_content": null,
            "align_items": null,
            "align_self": null,
            "border": null,
            "bottom": null,
            "display": null,
            "flex": null,
            "flex_flow": null,
            "grid_area": null,
            "grid_auto_columns": null,
            "grid_auto_flow": null,
            "grid_auto_rows": null,
            "grid_column": null,
            "grid_gap": null,
            "grid_row": null,
            "grid_template_areas": null,
            "grid_template_columns": null,
            "grid_template_rows": null,
            "height": null,
            "justify_content": null,
            "justify_items": null,
            "left": null,
            "margin": null,
            "max_height": null,
            "max_width": null,
            "min_height": null,
            "min_width": null,
            "object_fit": null,
            "object_position": null,
            "order": null,
            "overflow": null,
            "overflow_x": null,
            "overflow_y": null,
            "padding": null,
            "right": null,
            "top": null,
            "visibility": null,
            "width": null
          }
        },
        "1bb1967c15994d2a9663628eadbd0f0c": {
          "model_module": "@jupyter-widgets/controls",
          "model_name": "DescriptionStyleModel",
          "model_module_version": "1.5.0",
          "state": {
            "_model_module": "@jupyter-widgets/controls",
            "_model_module_version": "1.5.0",
            "_model_name": "DescriptionStyleModel",
            "_view_count": null,
            "_view_module": "@jupyter-widgets/base",
            "_view_module_version": "1.2.0",
            "_view_name": "StyleView",
            "description_width": ""
          }
        }
      }
    }
  },
  "nbformat": 4,
  "nbformat_minor": 0
}